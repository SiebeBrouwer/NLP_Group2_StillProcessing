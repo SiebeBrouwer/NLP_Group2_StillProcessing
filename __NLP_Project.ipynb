{
  "cells": [
    {
      "cell_type": "markdown",
      "metadata": {
        "id": "qVhq2sqaY2dQ"
      },
      "source": [
        "# NLP Project: Group 2: Still Processing"
      ],
      "id": "qVhq2sqaY2dQ"
    },
    {
      "cell_type": "markdown",
      "metadata": {
        "id": "Fe_WchBlY_24"
      },
      "source": [
        "## Loading Data and Importing Relevant Libraries"
      ],
      "id": "Fe_WchBlY_24"
    },
    {
      "cell_type": "markdown",
      "metadata": {
        "id": "RFquY7CqYotC"
      },
      "source": [
        "### df (train_data)"
      ],
      "id": "RFquY7CqYotC"
    },
    {
      "cell_type": "code",
      "execution_count": 1,
      "metadata": {
        "colab": {
          "base_uri": "https://localhost:8080/"
        },
        "id": "foTZoqkn_dDN",
        "outputId": "97e6e11d-0c3d-47e4-b086-dd908d216ba9"
      },
      "outputs": [
        {
          "output_type": "stream",
          "name": "stdout",
          "text": [
            "Collecting emoji\n",
            "  Downloading emoji-1.7.0.tar.gz (175 kB)\n",
            "\u001b[?25l\r\u001b[K     |█▉                              | 10 kB 18.0 MB/s eta 0:00:01\r\u001b[K     |███▊                            | 20 kB 8.0 MB/s eta 0:00:01\r\u001b[K     |█████▋                          | 30 kB 11.0 MB/s eta 0:00:01\r\u001b[K     |███████▌                        | 40 kB 13.6 MB/s eta 0:00:01\r\u001b[K     |█████████▍                      | 51 kB 15.9 MB/s eta 0:00:01\r\u001b[K     |███████████▏                    | 61 kB 18.3 MB/s eta 0:00:01\r\u001b[K     |█████████████                   | 71 kB 20.2 MB/s eta 0:00:01\r\u001b[K     |███████████████                 | 81 kB 21.1 MB/s eta 0:00:01\r\u001b[K     |████████████████▉               | 92 kB 22.8 MB/s eta 0:00:01\r\u001b[K     |██████████████████▊             | 102 kB 18.8 MB/s eta 0:00:01\r\u001b[K     |████████████████████▌           | 112 kB 18.8 MB/s eta 0:00:01\r\u001b[K     |██████████████████████▍         | 122 kB 18.8 MB/s eta 0:00:01\r\u001b[K     |████████████████████████▎       | 133 kB 18.8 MB/s eta 0:00:01\r\u001b[K     |██████████████████████████▏     | 143 kB 18.8 MB/s eta 0:00:01\r\u001b[K     |████████████████████████████    | 153 kB 18.8 MB/s eta 0:00:01\r\u001b[K     |█████████████████████████████▉  | 163 kB 18.8 MB/s eta 0:00:01\r\u001b[K     |███████████████████████████████▊| 174 kB 18.8 MB/s eta 0:00:01\r\u001b[K     |████████████████████████████████| 175 kB 18.8 MB/s \n",
            "\u001b[?25hBuilding wheels for collected packages: emoji\n",
            "  Building wheel for emoji (setup.py) ... \u001b[?25l\u001b[?25hdone\n",
            "  Created wheel for emoji: filename=emoji-1.7.0-py3-none-any.whl size=171046 sha256=e334b0cfa65eb3f30db66bf5836eb1b61c81c83f4652213b271bd60f7b4876dc\n",
            "  Stored in directory: /root/.cache/pip/wheels/8a/4e/b6/57b01db010d17ef6ea9b40300af725ef3e210cb1acfb7ac8b6\n",
            "Successfully built emoji\n",
            "Installing collected packages: emoji\n",
            "Successfully installed emoji-1.7.0\n"
          ]
        }
      ],
      "source": [
        "!pip install emoji --upgrade"
      ],
      "id": "foTZoqkn_dDN"
    },
    {
      "cell_type": "code",
      "execution_count": 2,
      "metadata": {
        "colab": {
          "base_uri": "https://localhost:8080/"
        },
        "id": "ec42ae40",
        "outputId": "ef43afbc-e9ca-4aba-d291-e905ab6d67e5"
      },
      "outputs": [
        {
          "output_type": "stream",
          "name": "stdout",
          "text": [
            "1.0.2\n",
            "[nltk_data] Downloading package averaged_perceptron_tagger to\n",
            "[nltk_data]     /root/nltk_data...\n",
            "[nltk_data]   Unzipping taggers/averaged_perceptron_tagger.zip.\n"
          ]
        }
      ],
      "source": [
        "import emoji\n",
        "\n",
        "import random\n",
        "import pandas as pd\n",
        "import numpy as np\n",
        "import matplotlib.pyplot as plt\n",
        "%matplotlib inline\n",
        "import sklearn \n",
        "print(sklearn.__version__)\n",
        "\n",
        "import nltk\n",
        "from nltk import pos_tag\n",
        "from nltk.tokenize import TweetTokenizer\n",
        "nltk.download('averaged_perceptron_tagger')\n",
        "import re\n",
        "\n",
        "np.random.seed(42)\n",
        "random.seed(42)"
      ],
      "id": "ec42ae40"
    },
    {
      "cell_type": "code",
      "execution_count": 3,
      "metadata": {
        "colab": {
          "base_uri": "https://localhost:8080/"
        },
        "id": "DcfrEzoa9edv",
        "outputId": "81811e98-d152-4b7f-a089-809bd43b54ac"
      },
      "outputs": [
        {
          "output_type": "stream",
          "name": "stdout",
          "text": [
            "Mounted at /content/drive\n"
          ]
        }
      ],
      "source": [
        "from google.colab import drive\n",
        "drive.mount('/content/drive')"
      ],
      "id": "DcfrEzoa9edv"
    },
    {
      "cell_type": "code",
      "execution_count": 4,
      "metadata": {
        "colab": {
          "base_uri": "https://localhost:8080/"
        },
        "id": "73IT1ocV9hKP",
        "outputId": "7bd1efd2-3b73-48bb-b3d8-796ebf475897"
      },
      "outputs": [
        {
          "output_type": "stream",
          "name": "stdout",
          "text": [
            "MyDrive\n"
          ]
        }
      ],
      "source": [
        "!ls drive"
      ],
      "id": "73IT1ocV9hKP"
    },
    {
      "cell_type": "code",
      "execution_count": 5,
      "metadata": {
        "id": "eqWN_VYQ9qCI"
      },
      "outputs": [],
      "source": [
        "data_path = 'drive/MyDrive/NLP2022/NLP_Project/olid-training-v1.0.tsv'"
      ],
      "id": "eqWN_VYQ9qCI"
    },
    {
      "cell_type": "code",
      "execution_count": 6,
      "metadata": {
        "id": "6Ekt0YUT9r40"
      },
      "outputs": [],
      "source": [
        "df = pd.read_csv(data_path, sep = \"\\t\", encoding = \"UTF-8\")"
      ],
      "id": "6Ekt0YUT9r40"
    },
    {
      "cell_type": "code",
      "execution_count": 7,
      "metadata": {
        "id": "ikDZUGEaRfAU"
      },
      "outputs": [],
      "source": [
        "df['tweet'] = df[\"tweet\"].str.replace(\"\\r\",\"\")\n",
        "df['tweet'] = df[\"tweet\"].str.replace(\"\\n\",\"\")\n",
        "\n",
        "df['tweet'] = df[\"tweet\"].str.replace(\"â€™\",\"'\")\n",
        "df['tweet'] = df[\"tweet\"].str.replace(\"â€œ\",\"'\")\n",
        "df['tweet'] = df[\"tweet\"].str.replace(\"Ã‰\",\"É\")\n",
        "df['tweet'] = df[\"tweet\"].str.replace(\"Ã‡\",\"Ç\")\n",
        "df['tweet'] = df[\"tweet\"].str.replace(\"Ãƒ\",\"Ã\")\n",
        "df['tweet'] = df[\"tweet\"].str.replace(\"Ã©\",\"é\")\n",
        "df['tweet'] = df[\"tweet\"].str.replace(\"Ã\",\"À\")\n",
        "df['tweet'] = df[\"tweet\"].str.replace(\"Ãº\",\"ú\")\n",
        "df['tweet'] = df[\"tweet\"].str.replace(\"â€¢\",\"-\")\n",
        "df['tweet'] = df[\"tweet\"].str.replace(\"Ã˜\",\"Ø\")\n",
        "df['tweet'] = df[\"tweet\"].str.replace(\"Ãµ\",\"õ\")\n",
        "df['tweet'] = df[\"tweet\"].str.replace(\"Ã\",\"í\")\n",
        "df['tweet'] = df[\"tweet\"].str.replace(\"Ã¢\",\"â\")\n",
        "df['tweet'] = df[\"tweet\"].str.replace(\"Ã£\",\"ã\")\n",
        "df['tweet'] = df[\"tweet\"].str.replace(\"Ãª\",\"ê\")\n",
        "df['tweet'] = df[\"tweet\"].str.replace(\"Ã¡\",\"á\")\n",
        "df['tweet'] = df[\"tweet\"].str.replace(\"Ã©\",\"é\")\n",
        "df['tweet'] = df[\"tweet\"].str.replace(\"Ã³\",\"ó\")\n",
        "df['tweet'] = df[\"tweet\"].str.replace(\"â€“\",\"–\")\n",
        "df['tweet'] = df[\"tweet\"].str.replace(\"Ã§\",\"ç\")\n",
        "df['tweet'] = df[\"tweet\"].str.replace(\"Âª\",\"ª\")\n",
        "df['tweet'] = df[\"tweet\"].str.replace(\"Âº\",\"º\")\n",
        "df['tweet'] = df[\"tweet\"].str.replace(\"Ã\",\"à\")\n",
        "df['tweet'] = df[\"tweet\"].str.replace(\"ãƒ„\",\":tsu:\")\n",
        "df['tweet'] = df[\"tweet\"].str.replace(\"ðŸ‘ŒðŸ½\",\":ok:\")\n",
        "df['tweet'] = df[\"tweet\"].str.replace(\"/s\",\"sarcasm switch\")\n",
        "df['tweet'] = df[\"tweet\"].str.replace(\"/S\",\"sarcasm switch\")\n",
        "df['tweet'] = df[\"tweet\"].str.replace(\"/g\",\"genuine\")\n",
        "df['tweet'] = df[\"tweet\"].str.replace(\"/G\",\"genuine\")\n",
        "\n",
        "\n",
        "df['tweet'] = df[\"tweet\"].str.replace(\"Ã\",\"\")\n",
        "df['tweet'] = df[\"tweet\"].str.replace(\"ã\",\"\")\n",
        "df['tweet'] = df[\"tweet\"].str.replace(\"¢\",\"\")\n",
        "df['tweet'] = df[\"tweet\"].str.replace(\"â€\",\"\")\n",
        "\n",
        "df['tweet'] = df[\"tweet\"].str.replace(\"&quot;\",\"'\")\n",
        "df['tweet'] = df[\"tweet\"].str.replace(\"&apos;\",\"'\")\n",
        "df['tweet'] = df[\"tweet\"].str.replace(\"&nbsp;\",\" \")\n",
        "\n",
        "df['tweet'] = df[\"tweet\"].str.replace(\"&lt;\",\"<\")\n",
        "df['tweet'] = df[\"tweet\"].str.replace(\"&gt;\",\">\")\n",
        "df['tweet'] = df[\"tweet\"].str.replace(\"&le;\",\"≤\")\n",
        "df['tweet'] = df[\"tweet\"].str.replace(\"&ge;\",\"≥\")\n",
        "df['tweet'] = df[\"tweet\"].str.replace(\"&amp;\",\"&\")\n",
        "\n",
        "df['tweet'] = df[\"tweet\"].str.replace(\"&cent;\",\"¢\")\n",
        "df['tweet'] = df[\"tweet\"].str.replace(\"&pound;\",\"£\")\n",
        "df['tweet'] = df[\"tweet\"].str.replace(\"&yen;\",\"¥\")\n",
        "df['tweet'] = df[\"tweet\"].str.replace(\"&euro;\",\"€\")\n",
        "\n",
        "df['tweet'] = df[\"tweet\"].str.replace(\"&reg;\",\"®\")\n",
        "df['tweet'] = df[\"tweet\"].str.replace(\"&copy;\",\"©\")"
      ],
      "id": "ikDZUGEaRfAU"
    },
    {
      "cell_type": "markdown",
      "metadata": {
        "id": "vQdkWcbgYyi5"
      },
      "source": [
        "### df1 (test_data)"
      ],
      "id": "vQdkWcbgYyi5"
    },
    {
      "cell_type": "code",
      "execution_count": 8,
      "metadata": {
        "id": "ZDPVrBjSY5QC"
      },
      "outputs": [],
      "source": [
        "data_path = 'drive/MyDrive/NLP2022/NLP_Project/test_IN.csv'"
      ],
      "id": "ZDPVrBjSY5QC"
    },
    {
      "cell_type": "code",
      "execution_count": 9,
      "metadata": {
        "id": "kO1XN3OdY8Pk"
      },
      "outputs": [],
      "source": [
        "df1 = pd.read_csv(data_path, sep = \",\", encoding = \"UTF-8\")"
      ],
      "id": "kO1XN3OdY8Pk"
    },
    {
      "cell_type": "code",
      "execution_count": 10,
      "metadata": {
        "colab": {
          "base_uri": "https://localhost:8080/",
          "height": 0
        },
        "id": "T0gPsye-Zh_s",
        "outputId": "72826b21-1c63-42c8-c910-24cc6c3603e3"
      },
      "outputs": [
        {
          "output_type": "execute_result",
          "data": {
            "text/plain": [
              "      id                                              tweet\n",
              "0  15923  #WhoIsQ #WheresTheServer #DumpNike #DECLASFISA...\n",
              "1  27014  #ConstitutionDay is revered by Conservatives, ...\n",
              "2  30530  #FOXNews #NRA #MAGA #POTUS #TRUMP #2ndAmendmen...\n",
              "3  13876  #Watching #Boomer getting the news that she is...\n",
              "4  60133  #NoPasaran: Unity demo to oppose the far-right..."
            ],
            "text/html": [
              "\n",
              "  <div id=\"df-75b43a86-bb62-4ab4-aefc-c5f222eb757f\">\n",
              "    <div class=\"colab-df-container\">\n",
              "      <div>\n",
              "<style scoped>\n",
              "    .dataframe tbody tr th:only-of-type {\n",
              "        vertical-align: middle;\n",
              "    }\n",
              "\n",
              "    .dataframe tbody tr th {\n",
              "        vertical-align: top;\n",
              "    }\n",
              "\n",
              "    .dataframe thead th {\n",
              "        text-align: right;\n",
              "    }\n",
              "</style>\n",
              "<table border=\"1\" class=\"dataframe\">\n",
              "  <thead>\n",
              "    <tr style=\"text-align: right;\">\n",
              "      <th></th>\n",
              "      <th>id</th>\n",
              "      <th>tweet</th>\n",
              "    </tr>\n",
              "  </thead>\n",
              "  <tbody>\n",
              "    <tr>\n",
              "      <th>0</th>\n",
              "      <td>15923</td>\n",
              "      <td>#WhoIsQ #WheresTheServer #DumpNike #DECLASFISA...</td>\n",
              "    </tr>\n",
              "    <tr>\n",
              "      <th>1</th>\n",
              "      <td>27014</td>\n",
              "      <td>#ConstitutionDay is revered by Conservatives, ...</td>\n",
              "    </tr>\n",
              "    <tr>\n",
              "      <th>2</th>\n",
              "      <td>30530</td>\n",
              "      <td>#FOXNews #NRA #MAGA #POTUS #TRUMP #2ndAmendmen...</td>\n",
              "    </tr>\n",
              "    <tr>\n",
              "      <th>3</th>\n",
              "      <td>13876</td>\n",
              "      <td>#Watching #Boomer getting the news that she is...</td>\n",
              "    </tr>\n",
              "    <tr>\n",
              "      <th>4</th>\n",
              "      <td>60133</td>\n",
              "      <td>#NoPasaran: Unity demo to oppose the far-right...</td>\n",
              "    </tr>\n",
              "  </tbody>\n",
              "</table>\n",
              "</div>\n",
              "      <button class=\"colab-df-convert\" onclick=\"convertToInteractive('df-75b43a86-bb62-4ab4-aefc-c5f222eb757f')\"\n",
              "              title=\"Convert this dataframe to an interactive table.\"\n",
              "              style=\"display:none;\">\n",
              "        \n",
              "  <svg xmlns=\"http://www.w3.org/2000/svg\" height=\"24px\"viewBox=\"0 0 24 24\"\n",
              "       width=\"24px\">\n",
              "    <path d=\"M0 0h24v24H0V0z\" fill=\"none\"/>\n",
              "    <path d=\"M18.56 5.44l.94 2.06.94-2.06 2.06-.94-2.06-.94-.94-2.06-.94 2.06-2.06.94zm-11 1L8.5 8.5l.94-2.06 2.06-.94-2.06-.94L8.5 2.5l-.94 2.06-2.06.94zm10 10l.94 2.06.94-2.06 2.06-.94-2.06-.94-.94-2.06-.94 2.06-2.06.94z\"/><path d=\"M17.41 7.96l-1.37-1.37c-.4-.4-.92-.59-1.43-.59-.52 0-1.04.2-1.43.59L10.3 9.45l-7.72 7.72c-.78.78-.78 2.05 0 2.83L4 21.41c.39.39.9.59 1.41.59.51 0 1.02-.2 1.41-.59l7.78-7.78 2.81-2.81c.8-.78.8-2.07 0-2.86zM5.41 20L4 18.59l7.72-7.72 1.47 1.35L5.41 20z\"/>\n",
              "  </svg>\n",
              "      </button>\n",
              "      \n",
              "  <style>\n",
              "    .colab-df-container {\n",
              "      display:flex;\n",
              "      flex-wrap:wrap;\n",
              "      gap: 12px;\n",
              "    }\n",
              "\n",
              "    .colab-df-convert {\n",
              "      background-color: #E8F0FE;\n",
              "      border: none;\n",
              "      border-radius: 50%;\n",
              "      cursor: pointer;\n",
              "      display: none;\n",
              "      fill: #1967D2;\n",
              "      height: 32px;\n",
              "      padding: 0 0 0 0;\n",
              "      width: 32px;\n",
              "    }\n",
              "\n",
              "    .colab-df-convert:hover {\n",
              "      background-color: #E2EBFA;\n",
              "      box-shadow: 0px 1px 2px rgba(60, 64, 67, 0.3), 0px 1px 3px 1px rgba(60, 64, 67, 0.15);\n",
              "      fill: #174EA6;\n",
              "    }\n",
              "\n",
              "    [theme=dark] .colab-df-convert {\n",
              "      background-color: #3B4455;\n",
              "      fill: #D2E3FC;\n",
              "    }\n",
              "\n",
              "    [theme=dark] .colab-df-convert:hover {\n",
              "      background-color: #434B5C;\n",
              "      box-shadow: 0px 1px 3px 1px rgba(0, 0, 0, 0.15);\n",
              "      filter: drop-shadow(0px 1px 2px rgba(0, 0, 0, 0.3));\n",
              "      fill: #FFFFFF;\n",
              "    }\n",
              "  </style>\n",
              "\n",
              "      <script>\n",
              "        const buttonEl =\n",
              "          document.querySelector('#df-75b43a86-bb62-4ab4-aefc-c5f222eb757f button.colab-df-convert');\n",
              "        buttonEl.style.display =\n",
              "          google.colab.kernel.accessAllowed ? 'block' : 'none';\n",
              "\n",
              "        async function convertToInteractive(key) {\n",
              "          const element = document.querySelector('#df-75b43a86-bb62-4ab4-aefc-c5f222eb757f');\n",
              "          const dataTable =\n",
              "            await google.colab.kernel.invokeFunction('convertToInteractive',\n",
              "                                                     [key], {});\n",
              "          if (!dataTable) return;\n",
              "\n",
              "          const docLinkHtml = 'Like what you see? Visit the ' +\n",
              "            '<a target=\"_blank\" href=https://colab.research.google.com/notebooks/data_table.ipynb>data table notebook</a>'\n",
              "            + ' to learn more about interactive tables.';\n",
              "          element.innerHTML = '';\n",
              "          dataTable['output_type'] = 'display_data';\n",
              "          await google.colab.output.renderOutput(dataTable, element);\n",
              "          const docLink = document.createElement('div');\n",
              "          docLink.innerHTML = docLinkHtml;\n",
              "          element.appendChild(docLink);\n",
              "        }\n",
              "      </script>\n",
              "    </div>\n",
              "  </div>\n",
              "  "
            ]
          },
          "metadata": {},
          "execution_count": 10
        }
      ],
      "source": [
        "df1.head(5)"
      ],
      "id": "T0gPsye-Zh_s"
    },
    {
      "cell_type": "code",
      "execution_count": 11,
      "metadata": {
        "id": "QDFnM4FORugT"
      },
      "outputs": [],
      "source": [
        "df['tweet'] = df[\"tweet\"].str.replace(\"\\r\",\"\")\n",
        "df['tweet'] = df[\"tweet\"].str.replace(\"\\n\",\"\")\n",
        "\n",
        "df['tweet'] = df[\"tweet\"].str.replace(\"â€™\",\"'\")\n",
        "df['tweet'] = df[\"tweet\"].str.replace(\"â€œ\",\"'\")\n",
        "df['tweet'] = df[\"tweet\"].str.replace(\"Ã‰\",\"É\")\n",
        "df['tweet'] = df[\"tweet\"].str.replace(\"Ã‡\",\"Ç\")\n",
        "df['tweet'] = df[\"tweet\"].str.replace(\"Ãƒ\",\"Ã\")\n",
        "df['tweet'] = df[\"tweet\"].str.replace(\"Ã©\",\"é\")\n",
        "df['tweet'] = df[\"tweet\"].str.replace(\"Ã\",\"À\")\n",
        "df['tweet'] = df[\"tweet\"].str.replace(\"Ãº\",\"ú\")\n",
        "df['tweet'] = df[\"tweet\"].str.replace(\"â€¢\",\"-\")\n",
        "df['tweet'] = df[\"tweet\"].str.replace(\"Ã˜\",\"Ø\")\n",
        "df['tweet'] = df[\"tweet\"].str.replace(\"Ãµ\",\"õ\")\n",
        "df['tweet'] = df[\"tweet\"].str.replace(\"Ã\",\"í\")\n",
        "df['tweet'] = df[\"tweet\"].str.replace(\"Ã¢\",\"â\")\n",
        "df['tweet'] = df[\"tweet\"].str.replace(\"Ã£\",\"ã\")\n",
        "df['tweet'] = df[\"tweet\"].str.replace(\"Ãª\",\"ê\")\n",
        "df['tweet'] = df[\"tweet\"].str.replace(\"Ã¡\",\"á\")\n",
        "df['tweet'] = df[\"tweet\"].str.replace(\"Ã©\",\"é\")\n",
        "df['tweet'] = df[\"tweet\"].str.replace(\"Ã³\",\"ó\")\n",
        "df['tweet'] = df[\"tweet\"].str.replace(\"â€“\",\"–\")\n",
        "df['tweet'] = df[\"tweet\"].str.replace(\"Ã§\",\"ç\")\n",
        "df['tweet'] = df[\"tweet\"].str.replace(\"Âª\",\"ª\")\n",
        "df['tweet'] = df[\"tweet\"].str.replace(\"Âº\",\"º\")\n",
        "df['tweet'] = df[\"tweet\"].str.replace(\"Ã\",\"à\")\n",
        "df['tweet'] = df[\"tweet\"].str.replace(\"ãƒ„\",\":tsu:\")\n",
        "df['tweet'] = df[\"tweet\"].str.replace(\"ðŸ‘ŒðŸ½\",\":ok:\")\n",
        "df['tweet'] = df[\"tweet\"].str.replace(\"/s\",\"sarcasm switch\")\n",
        "df['tweet'] = df[\"tweet\"].str.replace(\"/S\",\"sarcasm switch\")\n",
        "df['tweet'] = df[\"tweet\"].str.replace(\"/g\",\"genuine\")\n",
        "df['tweet'] = df[\"tweet\"].str.replace(\"/G\",\"genuine\")\n",
        "\n",
        "df['tweet'] = df[\"tweet\"].str.replace(\"Ã\",\"\")\n",
        "df['tweet'] = df[\"tweet\"].str.replace(\"ã\",\"\")\n",
        "df['tweet'] = df[\"tweet\"].str.replace(\"¢\",\"\")\n",
        "df['tweet'] = df[\"tweet\"].str.replace(\"â€\",\"\")\n",
        "\n",
        "df['tweet'] = df[\"tweet\"].str.replace(\"&quot;\",\"'\")\n",
        "df['tweet'] = df[\"tweet\"].str.replace(\"&apos;\",\"'\")\n",
        "df['tweet'] = df[\"tweet\"].str.replace(\"&nbsp;\",\" \")\n",
        "\n",
        "df['tweet'] = df[\"tweet\"].str.replace(\"&lt;\",\"<\")\n",
        "df['tweet'] = df[\"tweet\"].str.replace(\"&gt;\",\">\")\n",
        "df['tweet'] = df[\"tweet\"].str.replace(\"&le;\",\"≤\")\n",
        "df['tweet'] = df[\"tweet\"].str.replace(\"&ge;\",\"≥\")\n",
        "df['tweet'] = df[\"tweet\"].str.replace(\"&amp;\",\"&\")\n",
        "\n",
        "df['tweet'] = df[\"tweet\"].str.replace(\"&cent;\",\"¢\")\n",
        "df['tweet'] = df[\"tweet\"].str.replace(\"&pound;\",\"£\")\n",
        "df['tweet'] = df[\"tweet\"].str.replace(\"&yen;\",\"¥\")\n",
        "df['tweet'] = df[\"tweet\"].str.replace(\"&euro;\",\"€\")\n",
        "\n",
        "df['tweet'] = df[\"tweet\"].str.replace(\"&reg;\",\"®\")\n",
        "df['tweet'] = df[\"tweet\"].str.replace(\"&copy;\",\"©\")"
      ],
      "id": "QDFnM4FORugT"
    },
    {
      "cell_type": "markdown",
      "metadata": {
        "id": "0kSQbGLDYywJ"
      },
      "source": [
        "### df2 (test_data)"
      ],
      "id": "0kSQbGLDYywJ"
    },
    {
      "cell_type": "code",
      "execution_count": 12,
      "metadata": {
        "id": "3jkO2k3sY5zy"
      },
      "outputs": [],
      "source": [
        "data_path = 'drive/MyDrive/NLP2022/NLP_Project/test_OUT1.csv'"
      ],
      "id": "3jkO2k3sY5zy"
    },
    {
      "cell_type": "code",
      "execution_count": 13,
      "metadata": {
        "id": "TdNjUnByY8vq"
      },
      "outputs": [],
      "source": [
        "df2 = pd.read_csv(data_path, sep = \",\", encoding = \"UTF-8\")"
      ],
      "id": "TdNjUnByY8vq"
    },
    {
      "cell_type": "code",
      "execution_count": 14,
      "metadata": {
        "colab": {
          "base_uri": "https://localhost:8080/",
          "height": 0
        },
        "id": "SFhwLvw8aH-j",
        "outputId": "f872a1be-6be7-4b02-8d58-c79010e75bd0"
      },
      "outputs": [
        {
          "output_type": "execute_result",
          "data": {
            "text/plain": [
              "    id                                              tweet\n",
              "0   37  Maybe it could have something to do with the r...\n",
              "1  127  Weirdly enough, i think about this fairly freq...\n",
              "2  143  Your idea (while posing a real problem with et...\n",
              "3  146  >it will encourage a part of the people you ba...\n",
              "4  186  If something like this could make someone supp..."
            ],
            "text/html": [
              "\n",
              "  <div id=\"df-b044869e-4dac-4b4e-9b2b-d8689d3fade1\">\n",
              "    <div class=\"colab-df-container\">\n",
              "      <div>\n",
              "<style scoped>\n",
              "    .dataframe tbody tr th:only-of-type {\n",
              "        vertical-align: middle;\n",
              "    }\n",
              "\n",
              "    .dataframe tbody tr th {\n",
              "        vertical-align: top;\n",
              "    }\n",
              "\n",
              "    .dataframe thead th {\n",
              "        text-align: right;\n",
              "    }\n",
              "</style>\n",
              "<table border=\"1\" class=\"dataframe\">\n",
              "  <thead>\n",
              "    <tr style=\"text-align: right;\">\n",
              "      <th></th>\n",
              "      <th>id</th>\n",
              "      <th>tweet</th>\n",
              "    </tr>\n",
              "  </thead>\n",
              "  <tbody>\n",
              "    <tr>\n",
              "      <th>0</th>\n",
              "      <td>37</td>\n",
              "      <td>Maybe it could have something to do with the r...</td>\n",
              "    </tr>\n",
              "    <tr>\n",
              "      <th>1</th>\n",
              "      <td>127</td>\n",
              "      <td>Weirdly enough, i think about this fairly freq...</td>\n",
              "    </tr>\n",
              "    <tr>\n",
              "      <th>2</th>\n",
              "      <td>143</td>\n",
              "      <td>Your idea (while posing a real problem with et...</td>\n",
              "    </tr>\n",
              "    <tr>\n",
              "      <th>3</th>\n",
              "      <td>146</td>\n",
              "      <td>&gt;it will encourage a part of the people you ba...</td>\n",
              "    </tr>\n",
              "    <tr>\n",
              "      <th>4</th>\n",
              "      <td>186</td>\n",
              "      <td>If something like this could make someone supp...</td>\n",
              "    </tr>\n",
              "  </tbody>\n",
              "</table>\n",
              "</div>\n",
              "      <button class=\"colab-df-convert\" onclick=\"convertToInteractive('df-b044869e-4dac-4b4e-9b2b-d8689d3fade1')\"\n",
              "              title=\"Convert this dataframe to an interactive table.\"\n",
              "              style=\"display:none;\">\n",
              "        \n",
              "  <svg xmlns=\"http://www.w3.org/2000/svg\" height=\"24px\"viewBox=\"0 0 24 24\"\n",
              "       width=\"24px\">\n",
              "    <path d=\"M0 0h24v24H0V0z\" fill=\"none\"/>\n",
              "    <path d=\"M18.56 5.44l.94 2.06.94-2.06 2.06-.94-2.06-.94-.94-2.06-.94 2.06-2.06.94zm-11 1L8.5 8.5l.94-2.06 2.06-.94-2.06-.94L8.5 2.5l-.94 2.06-2.06.94zm10 10l.94 2.06.94-2.06 2.06-.94-2.06-.94-.94-2.06-.94 2.06-2.06.94z\"/><path d=\"M17.41 7.96l-1.37-1.37c-.4-.4-.92-.59-1.43-.59-.52 0-1.04.2-1.43.59L10.3 9.45l-7.72 7.72c-.78.78-.78 2.05 0 2.83L4 21.41c.39.39.9.59 1.41.59.51 0 1.02-.2 1.41-.59l7.78-7.78 2.81-2.81c.8-.78.8-2.07 0-2.86zM5.41 20L4 18.59l7.72-7.72 1.47 1.35L5.41 20z\"/>\n",
              "  </svg>\n",
              "      </button>\n",
              "      \n",
              "  <style>\n",
              "    .colab-df-container {\n",
              "      display:flex;\n",
              "      flex-wrap:wrap;\n",
              "      gap: 12px;\n",
              "    }\n",
              "\n",
              "    .colab-df-convert {\n",
              "      background-color: #E8F0FE;\n",
              "      border: none;\n",
              "      border-radius: 50%;\n",
              "      cursor: pointer;\n",
              "      display: none;\n",
              "      fill: #1967D2;\n",
              "      height: 32px;\n",
              "      padding: 0 0 0 0;\n",
              "      width: 32px;\n",
              "    }\n",
              "\n",
              "    .colab-df-convert:hover {\n",
              "      background-color: #E2EBFA;\n",
              "      box-shadow: 0px 1px 2px rgba(60, 64, 67, 0.3), 0px 1px 3px 1px rgba(60, 64, 67, 0.15);\n",
              "      fill: #174EA6;\n",
              "    }\n",
              "\n",
              "    [theme=dark] .colab-df-convert {\n",
              "      background-color: #3B4455;\n",
              "      fill: #D2E3FC;\n",
              "    }\n",
              "\n",
              "    [theme=dark] .colab-df-convert:hover {\n",
              "      background-color: #434B5C;\n",
              "      box-shadow: 0px 1px 3px 1px rgba(0, 0, 0, 0.15);\n",
              "      filter: drop-shadow(0px 1px 2px rgba(0, 0, 0, 0.3));\n",
              "      fill: #FFFFFF;\n",
              "    }\n",
              "  </style>\n",
              "\n",
              "      <script>\n",
              "        const buttonEl =\n",
              "          document.querySelector('#df-b044869e-4dac-4b4e-9b2b-d8689d3fade1 button.colab-df-convert');\n",
              "        buttonEl.style.display =\n",
              "          google.colab.kernel.accessAllowed ? 'block' : 'none';\n",
              "\n",
              "        async function convertToInteractive(key) {\n",
              "          const element = document.querySelector('#df-b044869e-4dac-4b4e-9b2b-d8689d3fade1');\n",
              "          const dataTable =\n",
              "            await google.colab.kernel.invokeFunction('convertToInteractive',\n",
              "                                                     [key], {});\n",
              "          if (!dataTable) return;\n",
              "\n",
              "          const docLinkHtml = 'Like what you see? Visit the ' +\n",
              "            '<a target=\"_blank\" href=https://colab.research.google.com/notebooks/data_table.ipynb>data table notebook</a>'\n",
              "            + ' to learn more about interactive tables.';\n",
              "          element.innerHTML = '';\n",
              "          dataTable['output_type'] = 'display_data';\n",
              "          await google.colab.output.renderOutput(dataTable, element);\n",
              "          const docLink = document.createElement('div');\n",
              "          docLink.innerHTML = docLinkHtml;\n",
              "          element.appendChild(docLink);\n",
              "        }\n",
              "      </script>\n",
              "    </div>\n",
              "  </div>\n",
              "  "
            ]
          },
          "metadata": {},
          "execution_count": 14
        }
      ],
      "source": [
        "df2.head(5)"
      ],
      "id": "SFhwLvw8aH-j"
    },
    {
      "cell_type": "code",
      "execution_count": 15,
      "metadata": {
        "id": "OGDzlo96Q7-4"
      },
      "outputs": [],
      "source": [
        "df['tweet'] = df[\"tweet\"].str.replace(\"\\r\",\"\")\n",
        "df['tweet'] = df[\"tweet\"].str.replace(\"\\n\",\"\")\n",
        "\n",
        "df['tweet'] = df[\"tweet\"].str.replace(\"â€™\",\"'\")\n",
        "df['tweet'] = df[\"tweet\"].str.replace(\"â€œ\",\"'\")\n",
        "df['tweet'] = df[\"tweet\"].str.replace(\"Ã‰\",\"É\")\n",
        "df['tweet'] = df[\"tweet\"].str.replace(\"Ã‡\",\"Ç\")\n",
        "df['tweet'] = df[\"tweet\"].str.replace(\"Ãƒ\",\"Ã\")\n",
        "df['tweet'] = df[\"tweet\"].str.replace(\"Ã©\",\"é\")\n",
        "df['tweet'] = df[\"tweet\"].str.replace(\"Ã\",\"À\")\n",
        "df['tweet'] = df[\"tweet\"].str.replace(\"Ãº\",\"ú\")\n",
        "df['tweet'] = df[\"tweet\"].str.replace(\"â€¢\",\"-\")\n",
        "df['tweet'] = df[\"tweet\"].str.replace(\"Ã˜\",\"Ø\")\n",
        "df['tweet'] = df[\"tweet\"].str.replace(\"Ãµ\",\"õ\")\n",
        "df['tweet'] = df[\"tweet\"].str.replace(\"Ã\",\"í\")\n",
        "df['tweet'] = df[\"tweet\"].str.replace(\"Ã¢\",\"â\")\n",
        "df['tweet'] = df[\"tweet\"].str.replace(\"Ã£\",\"ã\")\n",
        "df['tweet'] = df[\"tweet\"].str.replace(\"Ãª\",\"ê\")\n",
        "df['tweet'] = df[\"tweet\"].str.replace(\"Ã¡\",\"á\")\n",
        "df['tweet'] = df[\"tweet\"].str.replace(\"Ã©\",\"é\")\n",
        "df['tweet'] = df[\"tweet\"].str.replace(\"Ã³\",\"ó\")\n",
        "df['tweet'] = df[\"tweet\"].str.replace(\"â€“\",\"–\")\n",
        "df['tweet'] = df[\"tweet\"].str.replace(\"Ã§\",\"ç\")\n",
        "df['tweet'] = df[\"tweet\"].str.replace(\"Âª\",\"ª\")\n",
        "df['tweet'] = df[\"tweet\"].str.replace(\"Âº\",\"º\")\n",
        "df['tweet'] = df[\"tweet\"].str.replace(\"Ã\",\"à\")\n",
        "df['tweet'] = df[\"tweet\"].str.replace(\"ãƒ„\",\":tsu:\")\n",
        "df['tweet'] = df[\"tweet\"].str.replace(\"ðŸ‘ŒðŸ½\",\":ok:\")\n",
        "df['tweet'] = df[\"tweet\"].str.replace(\"/s\",\"sarcasm switch\")\n",
        "df['tweet'] = df[\"tweet\"].str.replace(\"/S\",\"sarcasm switch\")\n",
        "df['tweet'] = df[\"tweet\"].str.replace(\"/g\",\"genuine\")\n",
        "df['tweet'] = df[\"tweet\"].str.replace(\"/G\",\"genuine\")\n",
        "\n",
        "df['tweet'] = df[\"tweet\"].str.replace(\"Ã\",\"\")\n",
        "df['tweet'] = df[\"tweet\"].str.replace(\"ã\",\"\")\n",
        "df['tweet'] = df[\"tweet\"].str.replace(\"¢\",\"\")\n",
        "df['tweet'] = df[\"tweet\"].str.replace(\"â€\",\"\")\n",
        "\n",
        "df['tweet'] = df[\"tweet\"].str.replace(\"&quot;\",\"'\")\n",
        "df['tweet'] = df[\"tweet\"].str.replace(\"&apos;\",\"'\")\n",
        "df['tweet'] = df[\"tweet\"].str.replace(\"&nbsp;\",\" \")\n",
        "\n",
        "df['tweet'] = df[\"tweet\"].str.replace(\"&lt;\",\"<\")\n",
        "df['tweet'] = df[\"tweet\"].str.replace(\"&gt;\",\">\")\n",
        "df['tweet'] = df[\"tweet\"].str.replace(\"&le;\",\"≤\")\n",
        "df['tweet'] = df[\"tweet\"].str.replace(\"&ge;\",\"≥\")\n",
        "df['tweet'] = df[\"tweet\"].str.replace(\"&amp;\",\"&\")\n",
        "\n",
        "df['tweet'] = df[\"tweet\"].str.replace(\"&cent;\",\"¢\")\n",
        "df['tweet'] = df[\"tweet\"].str.replace(\"&pound;\",\"£\")\n",
        "df['tweet'] = df[\"tweet\"].str.replace(\"&yen;\",\"¥\")\n",
        "df['tweet'] = df[\"tweet\"].str.replace(\"&euro;\",\"€\")\n",
        "\n",
        "df['tweet'] = df[\"tweet\"].str.replace(\"&reg;\",\"®\")\n",
        "df['tweet'] = df[\"tweet\"].str.replace(\"&copy;\",\"©\")"
      ],
      "id": "OGDzlo96Q7-4"
    },
    {
      "cell_type": "markdown",
      "metadata": {
        "id": "Lxbvzl6gYy35"
      },
      "source": [
        "### df3 (test_data)"
      ],
      "id": "Lxbvzl6gYy35"
    },
    {
      "cell_type": "code",
      "execution_count": 16,
      "metadata": {
        "id": "hcbg58GzY6YC"
      },
      "outputs": [],
      "source": [
        "data_path = 'drive/MyDrive/NLP2022/NLP_Project/test_OUT2.csv'"
      ],
      "id": "hcbg58GzY6YC"
    },
    {
      "cell_type": "code",
      "execution_count": 17,
      "metadata": {
        "id": "HxQpRicLY9ay"
      },
      "outputs": [],
      "source": [
        "df3 = pd.read_csv(data_path, sep = \",\", encoding = \"UTF-8\")"
      ],
      "id": "HxQpRicLY9ay"
    },
    {
      "cell_type": "code",
      "execution_count": 18,
      "metadata": {
        "colab": {
          "base_uri": "https://localhost:8080/",
          "height": 0
        },
        "id": "QWBqBF_naPBD",
        "outputId": "8b8991b0-e9c5-4f1f-9989-b1d5031ac163"
      },
      "outputs": [
        {
          "output_type": "execute_result",
          "data": {
            "text/plain": [
              "                 id                                              tweet\n",
              "0  0072b9c3697ab8cc  == Argh == \\r\\n\\r\\n Some random idiot deleted ...\n",
              "1  0081b14d79f54b31  (we hate america and we are going to bomb the ...\n",
              "2  008eb47c4684d190  \" \\r\\n\\r\\n So, on the tenth anniversary of 9/1...\n",
              "3  010c2a979fab2e3f     casualt i fucked your mum and i liked it !!ies\n",
              "4  01680b05bde74236  \"Welcome! \\r\\n\\r\\n Hello, , and welcome to Wik..."
            ],
            "text/html": [
              "\n",
              "  <div id=\"df-3f6c2547-d80d-40a7-9318-3e92fe9cf66e\">\n",
              "    <div class=\"colab-df-container\">\n",
              "      <div>\n",
              "<style scoped>\n",
              "    .dataframe tbody tr th:only-of-type {\n",
              "        vertical-align: middle;\n",
              "    }\n",
              "\n",
              "    .dataframe tbody tr th {\n",
              "        vertical-align: top;\n",
              "    }\n",
              "\n",
              "    .dataframe thead th {\n",
              "        text-align: right;\n",
              "    }\n",
              "</style>\n",
              "<table border=\"1\" class=\"dataframe\">\n",
              "  <thead>\n",
              "    <tr style=\"text-align: right;\">\n",
              "      <th></th>\n",
              "      <th>id</th>\n",
              "      <th>tweet</th>\n",
              "    </tr>\n",
              "  </thead>\n",
              "  <tbody>\n",
              "    <tr>\n",
              "      <th>0</th>\n",
              "      <td>0072b9c3697ab8cc</td>\n",
              "      <td>== Argh == \\r\\n\\r\\n Some random idiot deleted ...</td>\n",
              "    </tr>\n",
              "    <tr>\n",
              "      <th>1</th>\n",
              "      <td>0081b14d79f54b31</td>\n",
              "      <td>(we hate america and we are going to bomb the ...</td>\n",
              "    </tr>\n",
              "    <tr>\n",
              "      <th>2</th>\n",
              "      <td>008eb47c4684d190</td>\n",
              "      <td>\" \\r\\n\\r\\n So, on the tenth anniversary of 9/1...</td>\n",
              "    </tr>\n",
              "    <tr>\n",
              "      <th>3</th>\n",
              "      <td>010c2a979fab2e3f</td>\n",
              "      <td>casualt i fucked your mum and i liked it !!ies</td>\n",
              "    </tr>\n",
              "    <tr>\n",
              "      <th>4</th>\n",
              "      <td>01680b05bde74236</td>\n",
              "      <td>\"Welcome! \\r\\n\\r\\n Hello, , and welcome to Wik...</td>\n",
              "    </tr>\n",
              "  </tbody>\n",
              "</table>\n",
              "</div>\n",
              "      <button class=\"colab-df-convert\" onclick=\"convertToInteractive('df-3f6c2547-d80d-40a7-9318-3e92fe9cf66e')\"\n",
              "              title=\"Convert this dataframe to an interactive table.\"\n",
              "              style=\"display:none;\">\n",
              "        \n",
              "  <svg xmlns=\"http://www.w3.org/2000/svg\" height=\"24px\"viewBox=\"0 0 24 24\"\n",
              "       width=\"24px\">\n",
              "    <path d=\"M0 0h24v24H0V0z\" fill=\"none\"/>\n",
              "    <path d=\"M18.56 5.44l.94 2.06.94-2.06 2.06-.94-2.06-.94-.94-2.06-.94 2.06-2.06.94zm-11 1L8.5 8.5l.94-2.06 2.06-.94-2.06-.94L8.5 2.5l-.94 2.06-2.06.94zm10 10l.94 2.06.94-2.06 2.06-.94-2.06-.94-.94-2.06-.94 2.06-2.06.94z\"/><path d=\"M17.41 7.96l-1.37-1.37c-.4-.4-.92-.59-1.43-.59-.52 0-1.04.2-1.43.59L10.3 9.45l-7.72 7.72c-.78.78-.78 2.05 0 2.83L4 21.41c.39.39.9.59 1.41.59.51 0 1.02-.2 1.41-.59l7.78-7.78 2.81-2.81c.8-.78.8-2.07 0-2.86zM5.41 20L4 18.59l7.72-7.72 1.47 1.35L5.41 20z\"/>\n",
              "  </svg>\n",
              "      </button>\n",
              "      \n",
              "  <style>\n",
              "    .colab-df-container {\n",
              "      display:flex;\n",
              "      flex-wrap:wrap;\n",
              "      gap: 12px;\n",
              "    }\n",
              "\n",
              "    .colab-df-convert {\n",
              "      background-color: #E8F0FE;\n",
              "      border: none;\n",
              "      border-radius: 50%;\n",
              "      cursor: pointer;\n",
              "      display: none;\n",
              "      fill: #1967D2;\n",
              "      height: 32px;\n",
              "      padding: 0 0 0 0;\n",
              "      width: 32px;\n",
              "    }\n",
              "\n",
              "    .colab-df-convert:hover {\n",
              "      background-color: #E2EBFA;\n",
              "      box-shadow: 0px 1px 2px rgba(60, 64, 67, 0.3), 0px 1px 3px 1px rgba(60, 64, 67, 0.15);\n",
              "      fill: #174EA6;\n",
              "    }\n",
              "\n",
              "    [theme=dark] .colab-df-convert {\n",
              "      background-color: #3B4455;\n",
              "      fill: #D2E3FC;\n",
              "    }\n",
              "\n",
              "    [theme=dark] .colab-df-convert:hover {\n",
              "      background-color: #434B5C;\n",
              "      box-shadow: 0px 1px 3px 1px rgba(0, 0, 0, 0.15);\n",
              "      filter: drop-shadow(0px 1px 2px rgba(0, 0, 0, 0.3));\n",
              "      fill: #FFFFFF;\n",
              "    }\n",
              "  </style>\n",
              "\n",
              "      <script>\n",
              "        const buttonEl =\n",
              "          document.querySelector('#df-3f6c2547-d80d-40a7-9318-3e92fe9cf66e button.colab-df-convert');\n",
              "        buttonEl.style.display =\n",
              "          google.colab.kernel.accessAllowed ? 'block' : 'none';\n",
              "\n",
              "        async function convertToInteractive(key) {\n",
              "          const element = document.querySelector('#df-3f6c2547-d80d-40a7-9318-3e92fe9cf66e');\n",
              "          const dataTable =\n",
              "            await google.colab.kernel.invokeFunction('convertToInteractive',\n",
              "                                                     [key], {});\n",
              "          if (!dataTable) return;\n",
              "\n",
              "          const docLinkHtml = 'Like what you see? Visit the ' +\n",
              "            '<a target=\"_blank\" href=https://colab.research.google.com/notebooks/data_table.ipynb>data table notebook</a>'\n",
              "            + ' to learn more about interactive tables.';\n",
              "          element.innerHTML = '';\n",
              "          dataTable['output_type'] = 'display_data';\n",
              "          await google.colab.output.renderOutput(dataTable, element);\n",
              "          const docLink = document.createElement('div');\n",
              "          docLink.innerHTML = docLinkHtml;\n",
              "          element.appendChild(docLink);\n",
              "        }\n",
              "      </script>\n",
              "    </div>\n",
              "  </div>\n",
              "  "
            ]
          },
          "metadata": {},
          "execution_count": 18
        }
      ],
      "source": [
        "df3.head(5)"
      ],
      "id": "QWBqBF_naPBD"
    },
    {
      "cell_type": "code",
      "execution_count": 19,
      "metadata": {
        "id": "4to0xvSOQxeZ"
      },
      "outputs": [],
      "source": [
        "df['tweet'] = df[\"tweet\"].str.replace(\"\\r\",\"\")\n",
        "df['tweet'] = df[\"tweet\"].str.replace(\"\\n\",\"\")\n",
        "\n",
        "df['tweet'] = df[\"tweet\"].str.replace(\"â€™\",\"'\")\n",
        "df['tweet'] = df[\"tweet\"].str.replace(\"â€œ\",\"'\")\n",
        "df['tweet'] = df[\"tweet\"].str.replace(\"Ã‰\",\"É\")\n",
        "df['tweet'] = df[\"tweet\"].str.replace(\"Ã‡\",\"Ç\")\n",
        "df['tweet'] = df[\"tweet\"].str.replace(\"Ãƒ\",\"Ã\")\n",
        "df['tweet'] = df[\"tweet\"].str.replace(\"Ã©\",\"é\")\n",
        "df['tweet'] = df[\"tweet\"].str.replace(\"Ã\",\"À\")\n",
        "df['tweet'] = df[\"tweet\"].str.replace(\"Ãº\",\"ú\")\n",
        "df['tweet'] = df[\"tweet\"].str.replace(\"â€¢\",\"-\")\n",
        "df['tweet'] = df[\"tweet\"].str.replace(\"Ã˜\",\"Ø\")\n",
        "df['tweet'] = df[\"tweet\"].str.replace(\"Ãµ\",\"õ\")\n",
        "df['tweet'] = df[\"tweet\"].str.replace(\"Ã\",\"í\")\n",
        "df['tweet'] = df[\"tweet\"].str.replace(\"Ã¢\",\"â\")\n",
        "df['tweet'] = df[\"tweet\"].str.replace(\"Ã£\",\"ã\")\n",
        "df['tweet'] = df[\"tweet\"].str.replace(\"Ãª\",\"ê\")\n",
        "df['tweet'] = df[\"tweet\"].str.replace(\"Ã¡\",\"á\")\n",
        "df['tweet'] = df[\"tweet\"].str.replace(\"Ã©\",\"é\")\n",
        "df['tweet'] = df[\"tweet\"].str.replace(\"Ã³\",\"ó\")\n",
        "df['tweet'] = df[\"tweet\"].str.replace(\"â€“\",\"–\")\n",
        "df['tweet'] = df[\"tweet\"].str.replace(\"Ã§\",\"ç\")\n",
        "df['tweet'] = df[\"tweet\"].str.replace(\"Âª\",\"ª\")\n",
        "df['tweet'] = df[\"tweet\"].str.replace(\"Âº\",\"º\")\n",
        "df['tweet'] = df[\"tweet\"].str.replace(\"Ã\",\"à\")\n",
        "df['tweet'] = df[\"tweet\"].str.replace(\"ãƒ„\",\":tsu:\")\n",
        "df['tweet'] = df[\"tweet\"].str.replace(\"ðŸ‘ŒðŸ½\",\":ok:\")\n",
        "df['tweet'] = df[\"tweet\"].str.replace(\"/s\",\"sarcasm switch\")\n",
        "df['tweet'] = df[\"tweet\"].str.replace(\"/S\",\"sarcasm switch\")\n",
        "df['tweet'] = df[\"tweet\"].str.replace(\"/g\",\"genuine\")\n",
        "df['tweet'] = df[\"tweet\"].str.replace(\"/G\",\"genuine\")\n",
        "\n",
        "df['tweet'] = df[\"tweet\"].str.replace(\"Ã\",\"\")\n",
        "df['tweet'] = df[\"tweet\"].str.replace(\"ã\",\"\")\n",
        "df['tweet'] = df[\"tweet\"].str.replace(\"¢\",\"\")\n",
        "df['tweet'] = df[\"tweet\"].str.replace(\"â€\",\"\")\n",
        "\n",
        "df['tweet'] = df[\"tweet\"].str.replace(\"&quot;\",\"'\")\n",
        "df['tweet'] = df[\"tweet\"].str.replace(\"&apos;\",\"'\")\n",
        "df['tweet'] = df[\"tweet\"].str.replace(\"&nbsp;\",\" \")\n",
        "\n",
        "df['tweet'] = df[\"tweet\"].str.replace(\"&lt;\",\"<\")\n",
        "df['tweet'] = df[\"tweet\"].str.replace(\"&gt;\",\">\")\n",
        "df['tweet'] = df[\"tweet\"].str.replace(\"&le;\",\"≤\")\n",
        "df['tweet'] = df[\"tweet\"].str.replace(\"&ge;\",\"≥\")\n",
        "df['tweet'] = df[\"tweet\"].str.replace(\"&amp;\",\"&\")\n",
        "\n",
        "df['tweet'] = df[\"tweet\"].str.replace(\"&cent;\",\"¢\")\n",
        "df['tweet'] = df[\"tweet\"].str.replace(\"&pound;\",\"£\")\n",
        "df['tweet'] = df[\"tweet\"].str.replace(\"&yen;\",\"¥\")\n",
        "df['tweet'] = df[\"tweet\"].str.replace(\"&euro;\",\"€\")\n",
        "\n",
        "df['tweet'] = df[\"tweet\"].str.replace(\"&reg;\",\"®\")\n",
        "df['tweet'] = df[\"tweet\"].str.replace(\"&copy;\",\"©\")"
      ],
      "id": "4to0xvSOQxeZ"
    },
    {
      "cell_type": "markdown",
      "metadata": {
        "id": "8tnyTaAWYzba"
      },
      "source": [
        "### df4 (test_data)"
      ],
      "id": "8tnyTaAWYzba"
    },
    {
      "cell_type": "code",
      "execution_count": 20,
      "metadata": {
        "id": "TfGppbvXY6_C"
      },
      "outputs": [],
      "source": [
        "data_path = 'drive/MyDrive/NLP2022/NLP_Project/test_TEXTGAIN.csv'"
      ],
      "id": "TfGppbvXY6_C"
    },
    {
      "cell_type": "code",
      "execution_count": 21,
      "metadata": {
        "id": "d47xr32DY-EK"
      },
      "outputs": [],
      "source": [
        "df4 = pd.read_csv(data_path, sep = \",\", encoding = \"UTF-8\")"
      ],
      "id": "d47xr32DY-EK"
    },
    {
      "cell_type": "code",
      "execution_count": 22,
      "metadata": {
        "colab": {
          "base_uri": "https://localhost:8080/",
          "height": 0
        },
        "id": "p1sz5vpBaWea",
        "outputId": "3f22e02c-d111-4f3e-91b0-ba26524c3f30"
      },
      "outputs": [
        {
          "output_type": "execute_result",
          "data": {
            "text/plain": [
              "'TRY NOT TO GET HIGH AS THE MONKEY !!! ❌\\r\\n\\r\\nCop This Hoodie for 10K (Negotiable)\\r\\n101% Cotton \\r\\n&gt;&gt;&gt; Premium Stitching \\r\\n&gt;&gt;&gt; Quality Print 🔥\\r\\nLaycon #BBNaijaLockdown #LayconX85M Vee and Neo Greenwood Man U #kiddrica #mondaythoughts #wizkid #tacha https://t.co/2Agq5ce5ot'"
            ],
            "application/vnd.google.colaboratory.intrinsic+json": {
              "type": "string"
            }
          },
          "metadata": {},
          "execution_count": 22
        }
      ],
      "source": [
        "df4['tweet'][4]"
      ],
      "id": "p1sz5vpBaWea"
    },
    {
      "cell_type": "code",
      "execution_count": 23,
      "metadata": {
        "id": "evdmYQBw4Btr"
      },
      "outputs": [],
      "source": [
        "df['tweet'] = df[\"tweet\"].str.replace(\"\\r\",\"\")\n",
        "df['tweet'] = df[\"tweet\"].str.replace(\"\\n\",\"\")\n",
        "\n",
        "df['tweet'] = df[\"tweet\"].str.replace(\"â€™\",\"'\")\n",
        "df['tweet'] = df[\"tweet\"].str.replace(\"â€œ\",\"'\")\n",
        "df['tweet'] = df[\"tweet\"].str.replace(\"Ã‰\",\"É\")\n",
        "df['tweet'] = df[\"tweet\"].str.replace(\"Ã‡\",\"Ç\")\n",
        "df['tweet'] = df[\"tweet\"].str.replace(\"Ãƒ\",\"Ã\")\n",
        "df['tweet'] = df[\"tweet\"].str.replace(\"Ã©\",\"é\")\n",
        "df['tweet'] = df[\"tweet\"].str.replace(\"Ã\",\"À\")\n",
        "df['tweet'] = df[\"tweet\"].str.replace(\"Ãº\",\"ú\")\n",
        "df['tweet'] = df[\"tweet\"].str.replace(\"â€¢\",\"-\")\n",
        "df['tweet'] = df[\"tweet\"].str.replace(\"Ã˜\",\"Ø\")\n",
        "df['tweet'] = df[\"tweet\"].str.replace(\"Ãµ\",\"õ\")\n",
        "df['tweet'] = df[\"tweet\"].str.replace(\"Ã\",\"í\")\n",
        "df['tweet'] = df[\"tweet\"].str.replace(\"Ã¢\",\"â\")\n",
        "df['tweet'] = df[\"tweet\"].str.replace(\"Ã£\",\"ã\")\n",
        "df['tweet'] = df[\"tweet\"].str.replace(\"Ãª\",\"ê\")\n",
        "df['tweet'] = df[\"tweet\"].str.replace(\"Ã¡\",\"á\")\n",
        "df['tweet'] = df[\"tweet\"].str.replace(\"Ã©\",\"é\")\n",
        "df['tweet'] = df[\"tweet\"].str.replace(\"Ã³\",\"ó\")\n",
        "df['tweet'] = df[\"tweet\"].str.replace(\"â€“\",\"–\")\n",
        "df['tweet'] = df[\"tweet\"].str.replace(\"Ã§\",\"ç\")\n",
        "df['tweet'] = df[\"tweet\"].str.replace(\"Âª\",\"ª\")\n",
        "df['tweet'] = df[\"tweet\"].str.replace(\"Âº\",\"º\")\n",
        "df['tweet'] = df[\"tweet\"].str.replace(\"Ã\",\"à\")\n",
        "df['tweet'] = df[\"tweet\"].str.replace(\"ãƒ„\",\":tsu:\")\n",
        "df['tweet'] = df[\"tweet\"].str.replace(\"ðŸ‘ŒðŸ½\",\":ok:\")\n",
        "df['tweet'] = df[\"tweet\"].str.replace(\"/s\",\"sarcasm switch\")\n",
        "df['tweet'] = df[\"tweet\"].str.replace(\"/S\",\"sarcasm switch\")\n",
        "df['tweet'] = df[\"tweet\"].str.replace(\"/g\",\"genuine\")\n",
        "df['tweet'] = df[\"tweet\"].str.replace(\"/G\",\"genuine\")\n",
        "\n",
        "df['tweet'] = df[\"tweet\"].str.replace(\"Ã\",\"\")\n",
        "df['tweet'] = df[\"tweet\"].str.replace(\"ã\",\"\")\n",
        "df['tweet'] = df[\"tweet\"].str.replace(\"¢\",\"\")\n",
        "df['tweet'] = df[\"tweet\"].str.replace(\"â€\",\"\")\n",
        "\n",
        "df['tweet'] = df[\"tweet\"].str.replace(\"&quot;\",\"'\")\n",
        "df['tweet'] = df[\"tweet\"].str.replace(\"&apos;\",\"'\")\n",
        "df['tweet'] = df[\"tweet\"].str.replace(\"&nbsp;\",\" \")\n",
        "\n",
        "df['tweet'] = df[\"tweet\"].str.replace(\"&lt;\",\"<\")\n",
        "df['tweet'] = df[\"tweet\"].str.replace(\"&gt;\",\">\")\n",
        "df['tweet'] = df[\"tweet\"].str.replace(\"&le;\",\"≤\")\n",
        "df['tweet'] = df[\"tweet\"].str.replace(\"&ge;\",\"≥\")\n",
        "df['tweet'] = df[\"tweet\"].str.replace(\"&amp;\",\"&\")\n",
        "\n",
        "df['tweet'] = df[\"tweet\"].str.replace(\"&cent;\",\"¢\")\n",
        "df['tweet'] = df[\"tweet\"].str.replace(\"&pound;\",\"£\")\n",
        "df['tweet'] = df[\"tweet\"].str.replace(\"&yen;\",\"¥\")\n",
        "df['tweet'] = df[\"tweet\"].str.replace(\"&euro;\",\"€\")\n",
        "\n",
        "df['tweet'] = df[\"tweet\"].str.replace(\"&reg;\",\"®\")\n",
        "df['tweet'] = df[\"tweet\"].str.replace(\"&copy;\",\"©\")"
      ],
      "id": "evdmYQBw4Btr"
    },
    {
      "cell_type": "code",
      "execution_count": 24,
      "metadata": {
        "colab": {
          "base_uri": "https://localhost:8080/",
          "height": 0
        },
        "id": "lzR8F7_34Gpr",
        "outputId": "f0cc52c3-64ae-41b2-f482-cf4c13073321"
      },
      "outputs": [
        {
          "output_type": "execute_result",
          "data": {
            "text/plain": [
              "'TRY NOT TO GET HIGH AS THE MONKEY !!! ❌\\r\\n\\r\\nCop This Hoodie for 10K (Negotiable)\\r\\n101% Cotton \\r\\n&gt;&gt;&gt; Premium Stitching \\r\\n&gt;&gt;&gt; Quality Print 🔥\\r\\nLaycon #BBNaijaLockdown #LayconX85M Vee and Neo Greenwood Man U #kiddrica #mondaythoughts #wizkid #tacha https://t.co/2Agq5ce5ot'"
            ],
            "application/vnd.google.colaboratory.intrinsic+json": {
              "type": "string"
            }
          },
          "metadata": {},
          "execution_count": 24
        }
      ],
      "source": [
        "df4['tweet'][4]"
      ],
      "id": "lzR8F7_34Gpr"
    },
    {
      "cell_type": "markdown",
      "metadata": {
        "id": "BphWhXkI5Ms7"
      },
      "source": [
        "html:\n",
        "\n",
        "&lt; stands for the less-than sign: <\n",
        "&gt; stands for the greater-than sign: >\n",
        "&le; stands for the less-than or equals sign: ≤\n",
        "&ge; stands for the greater-than or equals sign: ≥\n",
        "&nbsp; -- \" \"\n",
        "&amp; -- &\n",
        "&copy; -- ©, https://www.w3schools.com/html/html_entities.asp"
      ],
      "id": "BphWhXkI5Ms7"
    },
    {
      "cell_type": "markdown",
      "metadata": {
        "id": "qPe03j80YuHh"
      },
      "source": [
        "## Preprocessing df (train_data)"
      ],
      "id": "qPe03j80YuHh"
    },
    {
      "cell_type": "markdown",
      "metadata": {
        "id": "zUUT-OaYOK7C"
      },
      "source": [
        "### Numeric Output df"
      ],
      "id": "zUUT-OaYOK7C"
    },
    {
      "cell_type": "code",
      "execution_count": 25,
      "metadata": {
        "id": "GPj2KoV12S6f"
      },
      "outputs": [],
      "source": [
        "#Changing the output to numeric values, handled better by models\n",
        "df.subtask_a.replace({'NOT': 0,'OFF': 1}, inplace=True)"
      ],
      "id": "GPj2KoV12S6f"
    },
    {
      "cell_type": "code",
      "execution_count": 26,
      "metadata": {
        "colab": {
          "base_uri": "https://localhost:8080/"
        },
        "id": "zU4e0BIq4e0P",
        "outputId": "a058ed3c-0c40-4135-e163-523e787bef03"
      },
      "outputs": [
        {
          "output_type": "execute_result",
          "data": {
            "text/plain": [
              "0    1\n",
              "1    1\n",
              "2    0\n",
              "3    1\n",
              "4    0\n",
              "Name: subtask_a, dtype: int64"
            ]
          },
          "metadata": {},
          "execution_count": 26
        }
      ],
      "source": [
        "df['subtask_a'].head()"
      ],
      "id": "zU4e0BIq4e0P"
    },
    {
      "cell_type": "markdown",
      "metadata": {
        "id": "dJfdKTF7ZOnx"
      },
      "source": [
        "### Demojize"
      ],
      "id": "dJfdKTF7ZOnx"
    },
    {
      "cell_type": "code",
      "execution_count": 27,
      "metadata": {
        "id": "zqcTNT3-9_6X"
      },
      "outputs": [],
      "source": [
        "#Replacing emojies by text\n",
        "df['tweet_demojize'] = df['tweet'].apply(emoji.demojize) "
      ],
      "id": "zqcTNT3-9_6X"
    },
    {
      "cell_type": "code",
      "execution_count": 28,
      "metadata": {
        "colab": {
          "base_uri": "https://localhost:8080/"
        },
        "id": "QRzDIYcv9vj6",
        "outputId": "a5603a12-52b2-4f46-f393-e2f1f8845e66"
      },
      "outputs": [
        {
          "output_type": "execute_result",
          "data": {
            "text/plain": [
              "0     @USER She should ask a few native Americans wh...\n",
              "1     @USER @USER Go home you’re drunk!!! @USER #MAG...\n",
              "2     Amazon is investigating Chinese employees who ...\n",
              "3     @USER Someone should'veTaken\" this piece of sh...\n",
              "4     @USER @USER Obama wanted liberals & illegals t...\n",
              "5                     @USER Liberals are all Kookoo !!!\n",
              "6                      @USER @USER Oh noes! Tough shit.\n",
              "7     @USER was literally just talking about this lo...\n",
              "8                            @USER Buy more icecream!!!\n",
              "9     @USER Canada doesn’t need another CUCK! We alr...\n",
              "10    @USER @USER @USER It’s not my fault you suppor...\n",
              "11    @USER What’s the difference between #Kavanaugh...\n",
              "12    @USER you are a lying corrupt traitor!!! Nobod...\n",
              "13    @USER @USER @USER It should scare every Americ...\n",
              "14    @USER @USER @USER @USER @USER @USER @USER @USE...\n",
              "15                 @USER you are also the king of taste\n",
              "16    #MAGA @USER  :musical_notes: Sing like no one ...\n",
              "17    5/5: @USER The time is right for this House to...\n",
              "18    @USER Besides Jax’s mom and maybe Ope he is ha...\n",
              "19    @USER @USER @USER gun control! That is all the...\n",
              "20    @USER @USER @USER @USER LOL!!!   Throwing the ...\n",
              "21                         @USER @USER You are correct.\n",
              "22    @USER @USER Kind of like when conservatives wa...\n",
              "23    @USER @USER Da fuck is going on people?   Ther...\n",
              "24    @USER Been a Willie fan since before most of y...\n",
              "25    @USER Tbh these days i just don't like people ...\n",
              "26    South Korean Official: “Leaders will discuss s...\n",
              "27          @USER @USER You can tell he is a hooper too\n",
              "28     @USER I feel like he is better chasing the title\n",
              "29    @USER @USER @USER She?  To whom are you referr...\n",
              "Name: tweet_demojize, dtype: object"
            ]
          },
          "metadata": {},
          "execution_count": 28
        }
      ],
      "source": [
        "df['tweet_demojize'].head(n=30)"
      ],
      "id": "QRzDIYcv9vj6"
    },
    {
      "cell_type": "markdown",
      "metadata": {
        "id": "zACf-hcilzs0"
      },
      "source": [
        "### POS Tagger"
      ],
      "id": "zACf-hcilzs0"
    },
    {
      "cell_type": "code",
      "execution_count": 29,
      "metadata": {
        "colab": {
          "base_uri": "https://localhost:8080/"
        },
        "id": "CeVQgpLOl8x8",
        "outputId": "d45c2eb5-32df-42af-9ab3-122d6c155f97"
      },
      "outputs": [
        {
          "output_type": "stream",
          "name": "stdout",
          "text": [
            "[nltk_data] Downloading package universal_tagset to /root/nltk_data...\n",
            "[nltk_data]   Unzipping taggers/universal_tagset.zip.\n"
          ]
        }
      ],
      "source": [
        "#Defining a Parts of Speech tagger\n",
        "nltk.download('universal_tagset')\n",
        "\n",
        "twtk = TweetTokenizer()\n",
        "\n",
        "def is_emoji(char):\n",
        "    return char in emoji.UNICODE_EMOJI[\"en\"]\n",
        "\n",
        "def pos_tagg(tweet):\n",
        "    t_t = twtk.tokenize(tweet)\n",
        "    pos_list = pos_tag(t_t, tagset='universal')\n",
        "\n",
        "    pos_output_list = []\n",
        "    for i in pos_list:\n",
        "        \n",
        "        if is_emoji(i[0]):\n",
        "            pos_output_list.append(\"EMOJI\") #Custom emoji POS tag\n",
        "            \n",
        "        elif re.match(\n",
        "            r\"[-a-zA-Z0-9@:%._\\+~#=]{1,256}\\.[a-zA-Z0-9()]{1,6}\\b([-a-zA-Z0-9()@:%_\\+.~#?&//=]*)\", \n",
        "            i[0]):\n",
        "            pos_output_list.append(\"URL\") #Custom url POS tag\n",
        "\n",
        "        elif i[0] == \"URL\":\n",
        "            pos_output_list.append(\"URL\") #Custom url POS tag\n",
        "            \n",
        "        elif i[0][0] == \"#\":\n",
        "            pos_output_list.append(\"HASH\") #Custom hashtag POS tag\n",
        "            \n",
        "        else:\n",
        "            pos_output_list.append(i[1])\n",
        "    \n",
        "    pos_result = ' '.join(pos_output_list)\n",
        "    \n",
        "    return pos_result"
      ],
      "id": "CeVQgpLOl8x8"
    },
    {
      "cell_type": "markdown",
      "metadata": {
        "id": "h7hteqoGpvNh"
      },
      "source": [
        "### Sentiment Analysis: Afinn\n"
      ],
      "id": "h7hteqoGpvNh"
    },
    {
      "cell_type": "code",
      "execution_count": 30,
      "metadata": {
        "colab": {
          "base_uri": "https://localhost:8080/"
        },
        "id": "VSWJY3vyp4LR",
        "outputId": "80bb9f38-af79-4852-bcd9-fdbd901bf429"
      },
      "outputs": [
        {
          "output_type": "stream",
          "name": "stdout",
          "text": [
            "Collecting afinn\n",
            "  Downloading afinn-0.1.tar.gz (52 kB)\n",
            "\u001b[?25l\r\u001b[K     |██████▎                         | 10 kB 24.8 MB/s eta 0:00:01\r\u001b[K     |████████████▌                   | 20 kB 27.0 MB/s eta 0:00:01\r\u001b[K     |██████████████████▊             | 30 kB 31.5 MB/s eta 0:00:01\r\u001b[K     |█████████████████████████       | 40 kB 35.4 MB/s eta 0:00:01\r\u001b[K     |███████████████████████████████▏| 51 kB 38.5 MB/s eta 0:00:01\r\u001b[K     |████████████████████████████████| 52 kB 1.1 MB/s \n",
            "\u001b[?25hBuilding wheels for collected packages: afinn\n",
            "  Building wheel for afinn (setup.py) ... \u001b[?25l\u001b[?25hdone\n",
            "  Created wheel for afinn: filename=afinn-0.1-py3-none-any.whl size=53447 sha256=a215a11dbbe1a691137000e18c135c6f0fbed85a0d37380d9ebc7e06c5ab89bf\n",
            "  Stored in directory: /root/.cache/pip/wheels/9d/16/3a/9f0953027434eab5dadf3f33ab3298fa95afa8292fcf7aba75\n",
            "Successfully built afinn\n",
            "Installing collected packages: afinn\n",
            "Successfully installed afinn-0.1\n"
          ]
        }
      ],
      "source": [
        "!pip install afinn"
      ],
      "id": "VSWJY3vyp4LR"
    },
    {
      "cell_type": "code",
      "execution_count": 31,
      "metadata": {
        "id": "gh3d3kacp46w"
      },
      "outputs": [],
      "source": [
        "#Importing a sentiment alysis scorer \n",
        "from afinn import Afinn"
      ],
      "id": "gh3d3kacp46w"
    },
    {
      "cell_type": "code",
      "execution_count": 32,
      "metadata": {
        "colab": {
          "base_uri": "https://localhost:8080/"
        },
        "id": "dP8EHvBDp86Q",
        "outputId": "6dce177a-5f9f-482f-ea0b-e331e8e648e4"
      },
      "outputs": [
        {
          "output_type": "execute_result",
          "data": {
            "text/plain": [
              "0    0.0\n",
              "1   -2.0\n",
              "2    2.0\n",
              "3   -4.0\n",
              "4    0.0\n",
              "5    0.0\n",
              "6   -4.0\n",
              "7    4.0\n",
              "8    0.0\n",
              "9    3.0\n",
              "Name: afinn_score, dtype: float64"
            ]
          },
          "metadata": {},
          "execution_count": 32
        }
      ],
      "source": [
        "#Adding an Afinn score column to the df\n",
        "afinn = Afinn(language='en')\n",
        "df['afinn_score'] = df['tweet_demojize'].apply(afinn.score)\n",
        "df['afinn_score'].head(10)"
      ],
      "id": "dP8EHvBDp86Q"
    },
    {
      "cell_type": "markdown",
      "metadata": {
        "id": "IsXYf_5dqIGY"
      },
      "source": [
        "### Sentiment Analysis: Vader\n"
      ],
      "id": "IsXYf_5dqIGY"
    },
    {
      "cell_type": "code",
      "execution_count": 33,
      "metadata": {
        "colab": {
          "base_uri": "https://localhost:8080/"
        },
        "id": "v4Rzi15YqUkB",
        "outputId": "cb62e665-b48f-47b0-96d4-b73318721694"
      },
      "outputs": [
        {
          "output_type": "stream",
          "name": "stdout",
          "text": [
            "Collecting vaderSentiment\n",
            "  Downloading vaderSentiment-3.3.2-py2.py3-none-any.whl (125 kB)\n",
            "\u001b[?25l\r\u001b[K     |██▋                             | 10 kB 15.6 MB/s eta 0:00:01\r\u001b[K     |█████▏                          | 20 kB 21.0 MB/s eta 0:00:01\r\u001b[K     |███████▉                        | 30 kB 25.2 MB/s eta 0:00:01\r\u001b[K     |██████████▍                     | 40 kB 28.0 MB/s eta 0:00:01\r\u001b[K     |█████████████                   | 51 kB 17.4 MB/s eta 0:00:01\r\u001b[K     |███████████████▋                | 61 kB 19.4 MB/s eta 0:00:01\r\u001b[K     |██████████████████▏             | 71 kB 20.8 MB/s eta 0:00:01\r\u001b[K     |████████████████████▉           | 81 kB 18.3 MB/s eta 0:00:01\r\u001b[K     |███████████████████████▍        | 92 kB 19.7 MB/s eta 0:00:01\r\u001b[K     |██████████████████████████      | 102 kB 21.3 MB/s eta 0:00:01\r\u001b[K     |████████████████████████████▋   | 112 kB 21.3 MB/s eta 0:00:01\r\u001b[K     |███████████████████████████████▏| 122 kB 21.3 MB/s eta 0:00:01\r\u001b[K     |████████████████████████████████| 125 kB 21.3 MB/s \n",
            "\u001b[?25hRequirement already satisfied: requests in /usr/local/lib/python3.7/dist-packages (from vaderSentiment) (2.23.0)\n",
            "Requirement already satisfied: urllib3!=1.25.0,!=1.25.1,<1.26,>=1.21.1 in /usr/local/lib/python3.7/dist-packages (from requests->vaderSentiment) (1.24.3)\n",
            "Requirement already satisfied: chardet<4,>=3.0.2 in /usr/local/lib/python3.7/dist-packages (from requests->vaderSentiment) (3.0.4)\n",
            "Requirement already satisfied: certifi>=2017.4.17 in /usr/local/lib/python3.7/dist-packages (from requests->vaderSentiment) (2021.10.8)\n",
            "Requirement already satisfied: idna<3,>=2.5 in /usr/local/lib/python3.7/dist-packages (from requests->vaderSentiment) (2.10)\n",
            "Installing collected packages: vaderSentiment\n",
            "Successfully installed vaderSentiment-3.3.2\n"
          ]
        }
      ],
      "source": [
        "!pip install vaderSentiment"
      ],
      "id": "v4Rzi15YqUkB"
    },
    {
      "cell_type": "code",
      "execution_count": 34,
      "metadata": {
        "id": "sqW8Jo-6qV44"
      },
      "outputs": [],
      "source": [
        "#Importing a sentiment alysis scorer\n",
        "from vaderSentiment.vaderSentiment import SentimentIntensityAnalyzer"
      ],
      "id": "sqW8Jo-6qV44"
    },
    {
      "cell_type": "code",
      "execution_count": 35,
      "metadata": {
        "colab": {
          "base_uri": "https://localhost:8080/",
          "height": 0
        },
        "id": "62hiyyFsqYGJ",
        "outputId": "3eb5bbc8-b306-4abf-9a2c-dd60e9491049"
      },
      "outputs": [
        {
          "output_type": "execute_result",
          "data": {
            "text/plain": [
              "     neg    neu    pos  compound\n",
              "0  0.000  1.000  0.000    0.0000\n",
              "1  0.247  0.753  0.000   -0.5067\n",
              "2  0.000  0.825  0.175    0.4767\n",
              "3  0.265  0.735  0.000   -0.5574\n",
              "4  0.000  1.000  0.000    0.0000"
            ],
            "text/html": [
              "\n",
              "  <div id=\"df-f3ed386d-752d-4784-8a87-6b1a09aca7e4\">\n",
              "    <div class=\"colab-df-container\">\n",
              "      <div>\n",
              "<style scoped>\n",
              "    .dataframe tbody tr th:only-of-type {\n",
              "        vertical-align: middle;\n",
              "    }\n",
              "\n",
              "    .dataframe tbody tr th {\n",
              "        vertical-align: top;\n",
              "    }\n",
              "\n",
              "    .dataframe thead th {\n",
              "        text-align: right;\n",
              "    }\n",
              "</style>\n",
              "<table border=\"1\" class=\"dataframe\">\n",
              "  <thead>\n",
              "    <tr style=\"text-align: right;\">\n",
              "      <th></th>\n",
              "      <th>neg</th>\n",
              "      <th>neu</th>\n",
              "      <th>pos</th>\n",
              "      <th>compound</th>\n",
              "    </tr>\n",
              "  </thead>\n",
              "  <tbody>\n",
              "    <tr>\n",
              "      <th>0</th>\n",
              "      <td>0.000</td>\n",
              "      <td>1.000</td>\n",
              "      <td>0.000</td>\n",
              "      <td>0.0000</td>\n",
              "    </tr>\n",
              "    <tr>\n",
              "      <th>1</th>\n",
              "      <td>0.247</td>\n",
              "      <td>0.753</td>\n",
              "      <td>0.000</td>\n",
              "      <td>-0.5067</td>\n",
              "    </tr>\n",
              "    <tr>\n",
              "      <th>2</th>\n",
              "      <td>0.000</td>\n",
              "      <td>0.825</td>\n",
              "      <td>0.175</td>\n",
              "      <td>0.4767</td>\n",
              "    </tr>\n",
              "    <tr>\n",
              "      <th>3</th>\n",
              "      <td>0.265</td>\n",
              "      <td>0.735</td>\n",
              "      <td>0.000</td>\n",
              "      <td>-0.5574</td>\n",
              "    </tr>\n",
              "    <tr>\n",
              "      <th>4</th>\n",
              "      <td>0.000</td>\n",
              "      <td>1.000</td>\n",
              "      <td>0.000</td>\n",
              "      <td>0.0000</td>\n",
              "    </tr>\n",
              "  </tbody>\n",
              "</table>\n",
              "</div>\n",
              "      <button class=\"colab-df-convert\" onclick=\"convertToInteractive('df-f3ed386d-752d-4784-8a87-6b1a09aca7e4')\"\n",
              "              title=\"Convert this dataframe to an interactive table.\"\n",
              "              style=\"display:none;\">\n",
              "        \n",
              "  <svg xmlns=\"http://www.w3.org/2000/svg\" height=\"24px\"viewBox=\"0 0 24 24\"\n",
              "       width=\"24px\">\n",
              "    <path d=\"M0 0h24v24H0V0z\" fill=\"none\"/>\n",
              "    <path d=\"M18.56 5.44l.94 2.06.94-2.06 2.06-.94-2.06-.94-.94-2.06-.94 2.06-2.06.94zm-11 1L8.5 8.5l.94-2.06 2.06-.94-2.06-.94L8.5 2.5l-.94 2.06-2.06.94zm10 10l.94 2.06.94-2.06 2.06-.94-2.06-.94-.94-2.06-.94 2.06-2.06.94z\"/><path d=\"M17.41 7.96l-1.37-1.37c-.4-.4-.92-.59-1.43-.59-.52 0-1.04.2-1.43.59L10.3 9.45l-7.72 7.72c-.78.78-.78 2.05 0 2.83L4 21.41c.39.39.9.59 1.41.59.51 0 1.02-.2 1.41-.59l7.78-7.78 2.81-2.81c.8-.78.8-2.07 0-2.86zM5.41 20L4 18.59l7.72-7.72 1.47 1.35L5.41 20z\"/>\n",
              "  </svg>\n",
              "      </button>\n",
              "      \n",
              "  <style>\n",
              "    .colab-df-container {\n",
              "      display:flex;\n",
              "      flex-wrap:wrap;\n",
              "      gap: 12px;\n",
              "    }\n",
              "\n",
              "    .colab-df-convert {\n",
              "      background-color: #E8F0FE;\n",
              "      border: none;\n",
              "      border-radius: 50%;\n",
              "      cursor: pointer;\n",
              "      display: none;\n",
              "      fill: #1967D2;\n",
              "      height: 32px;\n",
              "      padding: 0 0 0 0;\n",
              "      width: 32px;\n",
              "    }\n",
              "\n",
              "    .colab-df-convert:hover {\n",
              "      background-color: #E2EBFA;\n",
              "      box-shadow: 0px 1px 2px rgba(60, 64, 67, 0.3), 0px 1px 3px 1px rgba(60, 64, 67, 0.15);\n",
              "      fill: #174EA6;\n",
              "    }\n",
              "\n",
              "    [theme=dark] .colab-df-convert {\n",
              "      background-color: #3B4455;\n",
              "      fill: #D2E3FC;\n",
              "    }\n",
              "\n",
              "    [theme=dark] .colab-df-convert:hover {\n",
              "      background-color: #434B5C;\n",
              "      box-shadow: 0px 1px 3px 1px rgba(0, 0, 0, 0.15);\n",
              "      filter: drop-shadow(0px 1px 2px rgba(0, 0, 0, 0.3));\n",
              "      fill: #FFFFFF;\n",
              "    }\n",
              "  </style>\n",
              "\n",
              "      <script>\n",
              "        const buttonEl =\n",
              "          document.querySelector('#df-f3ed386d-752d-4784-8a87-6b1a09aca7e4 button.colab-df-convert');\n",
              "        buttonEl.style.display =\n",
              "          google.colab.kernel.accessAllowed ? 'block' : 'none';\n",
              "\n",
              "        async function convertToInteractive(key) {\n",
              "          const element = document.querySelector('#df-f3ed386d-752d-4784-8a87-6b1a09aca7e4');\n",
              "          const dataTable =\n",
              "            await google.colab.kernel.invokeFunction('convertToInteractive',\n",
              "                                                     [key], {});\n",
              "          if (!dataTable) return;\n",
              "\n",
              "          const docLinkHtml = 'Like what you see? Visit the ' +\n",
              "            '<a target=\"_blank\" href=https://colab.research.google.com/notebooks/data_table.ipynb>data table notebook</a>'\n",
              "            + ' to learn more about interactive tables.';\n",
              "          element.innerHTML = '';\n",
              "          dataTable['output_type'] = 'display_data';\n",
              "          await google.colab.output.renderOutput(dataTable, element);\n",
              "          const docLink = document.createElement('div');\n",
              "          docLink.innerHTML = docLinkHtml;\n",
              "          element.appendChild(docLink);\n",
              "        }\n",
              "      </script>\n",
              "    </div>\n",
              "  </div>\n",
              "  "
            ]
          },
          "metadata": {},
          "execution_count": 35
        }
      ],
      "source": [
        "#Adding a Vader sentiment score column to the df\n",
        "analyzer = SentimentIntensityAnalyzer()\n",
        "sentiment = df['tweet_demojize'].apply(analyzer.polarity_scores)\n",
        "sentiment_df = pd.DataFrame(sentiment.tolist())\n",
        "sentiment_df.head()"
      ],
      "id": "62hiyyFsqYGJ"
    },
    {
      "cell_type": "code",
      "execution_count": 36,
      "metadata": {
        "colab": {
          "base_uri": "https://localhost:8080/"
        },
        "id": "dMA5zzKlqkoJ",
        "outputId": "454220f8-0b9b-4f36-ebeb-e72263fcfbdf"
      },
      "outputs": [
        {
          "output_type": "execute_result",
          "data": {
            "text/plain": [
              "0    0.0000\n",
              "1   -0.5067\n",
              "2    0.4767\n",
              "3   -0.5574\n",
              "4    0.0000\n",
              "Name: compound, dtype: float64"
            ]
          },
          "metadata": {},
          "execution_count": 36
        }
      ],
      "source": [
        "df = pd.concat([df,sentiment_df], axis = 1)\n",
        "df['neg'].head(5)\n",
        "df['neu'].head(5)\n",
        "df['pos'].head(5)\n",
        "df['compound'].head(5)"
      ],
      "id": "dMA5zzKlqkoJ"
    },
    {
      "cell_type": "markdown",
      "metadata": {
        "id": "wBhmPftEVSQi"
      },
      "source": [
        "### Delete '#'"
      ],
      "id": "wBhmPftEVSQi"
    },
    {
      "cell_type": "code",
      "execution_count": 37,
      "metadata": {
        "id": "8slMpUs1VsNv"
      },
      "outputs": [],
      "source": [
        "#Removing the hashtags from both the tweet column and the demojized column\n",
        "df['hashtag_gone'] = df[\"tweet_demojize\"].str.replace(\"#\",\"\")\n",
        "df['hashtag_gone_twt'] = df[\"tweet\"].str.replace(\"#\",\"\")"
      ],
      "id": "8slMpUs1VsNv"
    },
    {
      "cell_type": "markdown",
      "metadata": {
        "id": "zYcKVVpoIy7x"
      },
      "source": [
        "### Tokenizing spacy\n"
      ],
      "id": "zYcKVVpoIy7x"
    },
    {
      "cell_type": "code",
      "execution_count": 38,
      "metadata": {
        "colab": {
          "base_uri": "https://localhost:8080/"
        },
        "id": "cnAvw3e4JzqK",
        "outputId": "30b8ef9f-31fc-4d89-b9ca-1927012d55b8"
      },
      "outputs": [
        {
          "output_type": "stream",
          "name": "stdout",
          "text": [
            "Requirement already satisfied: spacy in /usr/local/lib/python3.7/dist-packages (2.2.4)\n",
            "Requirement already satisfied: srsly<1.1.0,>=1.0.2 in /usr/local/lib/python3.7/dist-packages (from spacy) (1.0.5)\n",
            "Requirement already satisfied: catalogue<1.1.0,>=0.0.7 in /usr/local/lib/python3.7/dist-packages (from spacy) (1.0.0)\n",
            "Requirement already satisfied: murmurhash<1.1.0,>=0.28.0 in /usr/local/lib/python3.7/dist-packages (from spacy) (1.0.7)\n",
            "Requirement already satisfied: preshed<3.1.0,>=3.0.2 in /usr/local/lib/python3.7/dist-packages (from spacy) (3.0.6)\n",
            "Requirement already satisfied: setuptools in /usr/local/lib/python3.7/dist-packages (from spacy) (57.4.0)\n",
            "Requirement already satisfied: wasabi<1.1.0,>=0.4.0 in /usr/local/lib/python3.7/dist-packages (from spacy) (0.9.1)\n",
            "Requirement already satisfied: requests<3.0.0,>=2.13.0 in /usr/local/lib/python3.7/dist-packages (from spacy) (2.23.0)\n",
            "Requirement already satisfied: thinc==7.4.0 in /usr/local/lib/python3.7/dist-packages (from spacy) (7.4.0)\n",
            "Requirement already satisfied: numpy>=1.15.0 in /usr/local/lib/python3.7/dist-packages (from spacy) (1.21.6)\n",
            "Requirement already satisfied: cymem<2.1.0,>=2.0.2 in /usr/local/lib/python3.7/dist-packages (from spacy) (2.0.6)\n",
            "Requirement already satisfied: blis<0.5.0,>=0.4.0 in /usr/local/lib/python3.7/dist-packages (from spacy) (0.4.1)\n",
            "Requirement already satisfied: tqdm<5.0.0,>=4.38.0 in /usr/local/lib/python3.7/dist-packages (from spacy) (4.64.0)\n",
            "Requirement already satisfied: plac<1.2.0,>=0.9.6 in /usr/local/lib/python3.7/dist-packages (from spacy) (1.1.3)\n",
            "Requirement already satisfied: importlib-metadata>=0.20 in /usr/local/lib/python3.7/dist-packages (from catalogue<1.1.0,>=0.0.7->spacy) (4.11.3)\n",
            "Requirement already satisfied: typing-extensions>=3.6.4 in /usr/local/lib/python3.7/dist-packages (from importlib-metadata>=0.20->catalogue<1.1.0,>=0.0.7->spacy) (4.2.0)\n",
            "Requirement already satisfied: zipp>=0.5 in /usr/local/lib/python3.7/dist-packages (from importlib-metadata>=0.20->catalogue<1.1.0,>=0.0.7->spacy) (3.8.0)\n",
            "Requirement already satisfied: certifi>=2017.4.17 in /usr/local/lib/python3.7/dist-packages (from requests<3.0.0,>=2.13.0->spacy) (2021.10.8)\n",
            "Requirement already satisfied: idna<3,>=2.5 in /usr/local/lib/python3.7/dist-packages (from requests<3.0.0,>=2.13.0->spacy) (2.10)\n",
            "Requirement already satisfied: chardet<4,>=3.0.2 in /usr/local/lib/python3.7/dist-packages (from requests<3.0.0,>=2.13.0->spacy) (3.0.4)\n",
            "Requirement already satisfied: urllib3!=1.25.0,!=1.25.1,<1.26,>=1.21.1 in /usr/local/lib/python3.7/dist-packages (from requests<3.0.0,>=2.13.0->spacy) (1.24.3)\n"
          ]
        }
      ],
      "source": [
        "!pip install spacy"
      ],
      "id": "cnAvw3e4JzqK"
    },
    {
      "cell_type": "code",
      "execution_count": 39,
      "metadata": {
        "id": "1SduPo4bOKrC"
      },
      "outputs": [],
      "source": [
        "#Importing a tokenizer from spacy\n",
        "import spacy\n",
        "from spacy.tokenizer import Tokenizer\n",
        "from spacy.lang.en import English\n",
        "nlp = English()\n",
        "\n",
        "tokenizer = nlp.tokenizer\n",
        "tokens = tokenizer(\"Let's go to N.Y.\")"
      ],
      "id": "1SduPo4bOKrC"
    },
    {
      "cell_type": "code",
      "execution_count": 40,
      "metadata": {
        "id": "MzH7srt-fEiI"
      },
      "outputs": [],
      "source": [
        "df[\"hashtag_gone2\"] = df[\"hashtag_gone\"].str.replace(\"@USER\",\"\")\n",
        "df[\"hashtag_gone2_twt\"] = df[\"hashtag_gone_twt\"].str.replace(\"@USER\",\"\")"
      ],
      "id": "MzH7srt-fEiI"
    },
    {
      "cell_type": "code",
      "execution_count": 41,
      "metadata": {
        "colab": {
          "base_uri": "https://localhost:8080/"
        },
        "id": "LdvW4bDdJwZL",
        "outputId": "0239df60-d4ae-42d9-a272-3026406b537f"
      },
      "outputs": [
        {
          "output_type": "execute_result",
          "data": {
            "text/plain": [
              "0    ( , She, should, ask, a, few, native, American...\n",
              "1    (  , Go, home, you, ’re, drunk, !, !, !,  , MA...\n",
              "2    (Amazon, is, investigating, Chinese, employees...\n",
              "3    ( , Someone, should'veTaken, \", this, piece, o...\n",
              "4    (  , Obama, wanted, liberals, &, illegals, to,...\n",
              "5             ( , Liberals, are, all, Kookoo, !, !, !)\n",
              "6                    (  , Oh, noes, !, Tough, shit, .)\n",
              "7    ( , was, literally, just, talking, about, this...\n",
              "8                    ( , Buy, more, icecream, !, !, !)\n",
              "9    ( , Canada, does, n’t, need, another, CUCK, !,...\n",
              "Name: tokens_twt, dtype: object"
            ]
          },
          "metadata": {},
          "execution_count": 41
        }
      ],
      "source": [
        "#Adding 2 tokens columns to the df \n",
        "#(based on tweet and demojize where # and @USER are removed)\n",
        "df['tokens'] = df[\"hashtag_gone2\"].apply(tokenizer)\n",
        "df['tokens'].head(n=10)\n",
        "\n",
        "df['tokens_twt'] = df[\"hashtag_gone2_twt\"].apply(tokenizer)\n",
        "df['tokens_twt'].head(n=10)"
      ],
      "id": "LdvW4bDdJwZL"
    },
    {
      "cell_type": "markdown",
      "metadata": {
        "id": "TFBRvsWmVeHg"
      },
      "source": [
        "### Delete all punctuation"
      ],
      "id": "TFBRvsWmVeHg"
    },
    {
      "cell_type": "code",
      "execution_count": 42,
      "metadata": {
        "id": "E1koW0O0Vszt"
      },
      "outputs": [],
      "source": [
        "#Defining a function which removes punctuation from a column\n",
        "import string \n",
        "punct = string.punctuation \n",
        "\n",
        "def remove_punct (txt):\n",
        "  for item in punct:\n",
        "    txt = txt.replace(item, \"\")\n",
        "  return txt"
      ],
      "id": "E1koW0O0Vszt"
    },
    {
      "cell_type": "code",
      "execution_count": 43,
      "metadata": {
        "id": "FCVeJCrVW4u8"
      },
      "outputs": [],
      "source": [
        "#Adding a no_punctcolumn to the df (based on the tweet and demojized column)\n",
        "df[\"no_punct\"] = df[\"tweet_demojize\"].apply(remove_punct) #For the traditional model\n",
        "df[\"no_punct_twt\"] = df[\"tweet\"].apply(remove_punct) #For the neural model"
      ],
      "id": "FCVeJCrVW4u8"
    },
    {
      "cell_type": "markdown",
      "metadata": {
        "id": "gxH5dzKQVeAa"
      },
      "source": [
        "### POS on no_punct"
      ],
      "id": "gxH5dzKQVeAa"
    },
    {
      "cell_type": "code",
      "execution_count": 44,
      "metadata": {
        "id": "QEkoo-aaVuPv"
      },
      "outputs": [],
      "source": [
        "#POS column made based on no_punct instead of tweet µ\n",
        "  #tweet demojize without punctuation\n",
        "df[\"POS_clean\"] = df[\"no_punct\"].apply(pos_tagg) "
      ],
      "id": "QEkoo-aaVuPv"
    },
    {
      "cell_type": "markdown",
      "metadata": {
        "id": "vk8thZlZaPt5"
      },
      "source": [
        "### POS with @USER"
      ],
      "id": "vk8thZlZaPt5"
    },
    {
      "cell_type": "code",
      "execution_count": 45,
      "metadata": {
        "id": "Cj6L_fLXaTp1"
      },
      "outputs": [],
      "source": [
        "def pos_tag2(tweet):\n",
        "    t_t = twtk.tokenize(tweet)\n",
        "    pos_list = pos_tag(t_t, tagset='universal')\n",
        "    \n",
        "    pos_output_list = []\n",
        "    for i in pos_list:\n",
        "        \n",
        "        if is_emoji(i[0]):\n",
        "            pos_output_list.append(\"EMOJI\") # custom emoji POS tag\n",
        "            \n",
        "        elif re.match(\n",
        "            r\"[-a-zA-Z0-9@:%._\\+~#=]{1,256}\\.[a-zA-Z0-9()]{1,6}\\b([-a-zA-Z0-9()@:%_\\+.~#?&//=]*)\",\n",
        "             i[0]):\n",
        "            pos_output_list.append(\"URL\") # custom url POS tag\n",
        "\n",
        "        elif i[0] == \"URL\":\n",
        "            pos_output_list.append(\"URL\") # custom url POS tag\n",
        "            \n",
        "        elif i[0][0] == \"#\":\n",
        "            pos_output_list.append(\"HASH\") # custom hashtag POS tag\n",
        "\n",
        "        elif i[0] == \"@USER\":\n",
        "            pos_output_list.append(\"AT\") # custom @user POS tag\n",
        "\n",
        "        elif i[0] == \"USER\":\n",
        "            pos_output_list.append(\"AT\") # custom @user POS tag\n",
        "            \n",
        "        else:\n",
        "            pos_output_list.append(i[1])\n",
        "    \n",
        "    pos_result = ' '.join(pos_output_list)\n",
        "    \n",
        "    return pos_result"
      ],
      "id": "Cj6L_fLXaTp1"
    },
    {
      "cell_type": "code",
      "execution_count": 46,
      "metadata": {
        "id": "kIGpT_FinsHc"
      },
      "outputs": [],
      "source": [
        "#Adding a new column to the df wherein an @User tag was defined\n",
        "#(Based on tweet)\n",
        "df['pos_universal'] = df['tweet'].apply(pos_tag2)"
      ],
      "id": "kIGpT_FinsHc"
    },
    {
      "cell_type": "code",
      "execution_count": 47,
      "metadata": {
        "id": "dtXdFvzZRjkA"
      },
      "outputs": [],
      "source": [
        "#Adding a new column to the df wherein an @User tag was defined\n",
        "#(Based on tweet demojize)\n",
        "df['pos_universal_tweet_demojize'] = df['tweet_demojize'].apply(pos_tag2)"
      ],
      "id": "dtXdFvzZRjkA"
    },
    {
      "cell_type": "markdown",
      "metadata": {
        "id": "riZQVa1fCQ0d"
      },
      "source": [
        "### Lemma"
      ],
      "id": "riZQVa1fCQ0d"
    },
    {
      "cell_type": "code",
      "execution_count": 48,
      "metadata": {
        "id": "ZpZugdlgCPOk"
      },
      "outputs": [],
      "source": [
        "#Using spacy to lemmatize the no_punct column\n",
        "import spacy\n",
        "nlp = spacy.load(\"en_core_web_sm\") \n",
        "\n",
        "def lemmatizing (txt):\n",
        "    doc = nlp(txt)\n",
        "    return \" \".join([token.lemma_ for token in doc])\n",
        "\n",
        "#Adding the lemmatized columns to the df\n",
        "df['lemma'] = df['no_punct'].apply(lemmatizing)\n",
        "df['lemma_twt'] = df['no_punct_twt'].apply(lemmatizing)"
      ],
      "id": "ZpZugdlgCPOk"
    },
    {
      "cell_type": "markdown",
      "metadata": {
        "id": "c7TYYz68SFxf"
      },
      "source": [
        "## Preprocessing df1 (test_data) (test_IN)"
      ],
      "id": "c7TYYz68SFxf"
    },
    {
      "cell_type": "markdown",
      "metadata": {
        "id": "TRKuoSomSFxf"
      },
      "source": [
        "### Demojize"
      ],
      "id": "TRKuoSomSFxf"
    },
    {
      "cell_type": "code",
      "execution_count": 49,
      "metadata": {
        "id": "nB3XoB3gSFxf"
      },
      "outputs": [],
      "source": [
        "df1['tweet_demojize'] = df1['tweet'].apply(emoji.demojize)"
      ],
      "id": "nB3XoB3gSFxf"
    },
    {
      "cell_type": "code",
      "execution_count": 50,
      "metadata": {
        "colab": {
          "base_uri": "https://localhost:8080/"
        },
        "id": "uXK0apUbSFxf",
        "outputId": "5801bea2-e210-4046-e982-817c9a130ea8"
      },
      "outputs": [
        {
          "output_type": "execute_result",
          "data": {
            "text/plain": [
              "0    #WhoIsQ #WheresTheServer #DumpNike #DECLASFISA...\n",
              "1    #ConstitutionDay is revered by Conservatives, ...\n",
              "2    #FOXNews #NRA #MAGA #POTUS #TRUMP #2ndAmendmen...\n",
              "3    #Watching #Boomer getting the news that she is...\n",
              "4    #NoPasaran: Unity demo to oppose the far-right...\n",
              "5             . . . What the fuck did he do this time?\n",
              "6    #RAP is a form of ART! Used to express yoursel...\n",
              "7    @USER Do you get the feeling he is kissing @US...\n",
              "8    5 Tips to Enhance Audience Connection on Faceb...\n",
              "9    #BiggBossTamil janani won the task. She is goi...\n",
              "Name: tweet_demojize, dtype: object"
            ]
          },
          "metadata": {},
          "execution_count": 50
        }
      ],
      "source": [
        "df1['tweet_demojize'].head(n=10)"
      ],
      "id": "uXK0apUbSFxf"
    },
    {
      "cell_type": "markdown",
      "metadata": {
        "id": "RVtc0ARoSFxg"
      },
      "source": [
        "### POS Tagger"
      ],
      "id": "RVtc0ARoSFxg"
    },
    {
      "cell_type": "code",
      "execution_count": 51,
      "metadata": {
        "colab": {
          "base_uri": "https://localhost:8080/"
        },
        "id": "87TeKMHBSFxg",
        "outputId": "4b9be579-3882-46f9-ab63-ec1a09a98d4b"
      },
      "outputs": [
        {
          "output_type": "stream",
          "name": "stdout",
          "text": [
            "[nltk_data] Downloading package universal_tagset to /root/nltk_data...\n",
            "[nltk_data]   Package universal_tagset is already up-to-date!\n"
          ]
        }
      ],
      "source": [
        "nltk.download('universal_tagset')\n",
        "\n",
        "twtk = TweetTokenizer()\n",
        "\n",
        "def is_emoji(char):\n",
        "    return char in emoji.UNICODE_EMOJI[\"en\"]\n",
        "\n",
        "def pos_tagg(tweet):\n",
        "    t_t = twtk.tokenize(tweet)\n",
        "    pos_list = pos_tag(t_t, tagset='universal')\n",
        "    \n",
        "    pos_output_list = []\n",
        "    for i in pos_list:\n",
        "        \n",
        "        if is_emoji(i[0]):\n",
        "            pos_output_list.append(\"EMOJI\") # custom emoji POS tag\n",
        "            \n",
        "        elif re.match(r\"[-a-zA-Z0-9@:%._\\+~#=]{1,256}\\.[a-zA-Z0-9()]{1,6}\\b([-a-zA-Z0-9()@:%_\\+.~#?&//=]*)\", i[0]):\n",
        "            pos_output_list.append(\"URL\") # custom url POS tag\n",
        "\n",
        "        elif i[0] == \"URL\":\n",
        "            pos_output_list.append(\"URL\") # custom url POS tag\n",
        "            \n",
        "        elif i[0][0] == \"#\":\n",
        "            pos_output_list.append(\"HASH\") # custom hashtag POS tag\n",
        "            \n",
        "        else:\n",
        "            pos_output_list.append(i[1])\n",
        "    \n",
        "    pos_result = ' '.join(pos_output_list)\n",
        "    \n",
        "    return pos_result"
      ],
      "id": "87TeKMHBSFxg"
    },
    {
      "cell_type": "markdown",
      "metadata": {
        "id": "JyiBfgjjSFxg"
      },
      "source": [
        "### Sentiment Analysis: Afinn\n"
      ],
      "id": "JyiBfgjjSFxg"
    },
    {
      "cell_type": "code",
      "execution_count": 52,
      "metadata": {
        "colab": {
          "base_uri": "https://localhost:8080/"
        },
        "id": "nqXzF6q7SFxg",
        "outputId": "8ac4e0b6-f215-4de2-faef-1ebcb2449939"
      },
      "outputs": [
        {
          "output_type": "stream",
          "name": "stdout",
          "text": [
            "Requirement already satisfied: afinn in /usr/local/lib/python3.7/dist-packages (0.1)\n"
          ]
        }
      ],
      "source": [
        "!pip install afinn"
      ],
      "id": "nqXzF6q7SFxg"
    },
    {
      "cell_type": "code",
      "execution_count": 53,
      "metadata": {
        "id": "kt3InmJeSFxg"
      },
      "outputs": [],
      "source": [
        "from afinn import Afinn"
      ],
      "id": "kt3InmJeSFxg"
    },
    {
      "cell_type": "code",
      "execution_count": 54,
      "metadata": {
        "colab": {
          "base_uri": "https://localhost:8080/"
        },
        "id": "Nw_HJQt4SFxg",
        "outputId": "6f5b440f-5d19-4cf8-8a0f-d1542b1e5475"
      },
      "outputs": [
        {
          "output_type": "execute_result",
          "data": {
            "text/plain": [
              "0   -7.0\n",
              "1    0.0\n",
              "2    0.0\n",
              "3    4.0\n",
              "4    0.0\n",
              "5   -4.0\n",
              "6   -2.0\n",
              "7    1.0\n",
              "8    0.0\n",
              "9    3.0\n",
              "Name: afinn_score, dtype: float64"
            ]
          },
          "metadata": {},
          "execution_count": 54
        }
      ],
      "source": [
        "afinn = Afinn(language='en')\n",
        "\n",
        "df1['afinn_score'] = df1['tweet_demojize'].apply(afinn.score)\n",
        "df1['afinn_score'].head(10)"
      ],
      "id": "Nw_HJQt4SFxg"
    },
    {
      "cell_type": "markdown",
      "metadata": {
        "id": "d7-CoY2_SFxh"
      },
      "source": [
        "### Sentiment Analysis: Vader\n"
      ],
      "id": "d7-CoY2_SFxh"
    },
    {
      "cell_type": "code",
      "execution_count": 55,
      "metadata": {
        "colab": {
          "base_uri": "https://localhost:8080/"
        },
        "id": "tlxPlezqSFxh",
        "outputId": "9ae6bd0e-4765-4adb-af3f-42f3972b6949"
      },
      "outputs": [
        {
          "output_type": "stream",
          "name": "stdout",
          "text": [
            "Requirement already satisfied: vaderSentiment in /usr/local/lib/python3.7/dist-packages (3.3.2)\n",
            "Requirement already satisfied: requests in /usr/local/lib/python3.7/dist-packages (from vaderSentiment) (2.23.0)\n",
            "Requirement already satisfied: chardet<4,>=3.0.2 in /usr/local/lib/python3.7/dist-packages (from requests->vaderSentiment) (3.0.4)\n",
            "Requirement already satisfied: urllib3!=1.25.0,!=1.25.1,<1.26,>=1.21.1 in /usr/local/lib/python3.7/dist-packages (from requests->vaderSentiment) (1.24.3)\n",
            "Requirement already satisfied: certifi>=2017.4.17 in /usr/local/lib/python3.7/dist-packages (from requests->vaderSentiment) (2021.10.8)\n",
            "Requirement already satisfied: idna<3,>=2.5 in /usr/local/lib/python3.7/dist-packages (from requests->vaderSentiment) (2.10)\n"
          ]
        }
      ],
      "source": [
        "!pip install vaderSentiment"
      ],
      "id": "tlxPlezqSFxh"
    },
    {
      "cell_type": "code",
      "execution_count": 56,
      "metadata": {
        "id": "WAW_FrVqSFxh"
      },
      "outputs": [],
      "source": [
        "from vaderSentiment.vaderSentiment import SentimentIntensityAnalyzer"
      ],
      "id": "WAW_FrVqSFxh"
    },
    {
      "cell_type": "code",
      "execution_count": 57,
      "metadata": {
        "colab": {
          "base_uri": "https://localhost:8080/",
          "height": 0
        },
        "id": "Fk-gui1NSFxh",
        "outputId": "6161d2e2-65b9-458d-c4a0-99e9d340052c"
      },
      "outputs": [
        {
          "output_type": "execute_result",
          "data": {
            "text/plain": [
              "     neg    neu    pos  compound\n",
              "0  0.288  0.638  0.075   -0.8260\n",
              "1  0.223  0.532  0.245   -0.1531\n",
              "2  0.000  1.000  0.000    0.0000\n",
              "3  0.000  0.817  0.183    0.5719\n",
              "4  0.000  1.000  0.000    0.0000"
            ],
            "text/html": [
              "\n",
              "  <div id=\"df-5ab51e4d-96e6-4882-9264-8852c86d3518\">\n",
              "    <div class=\"colab-df-container\">\n",
              "      <div>\n",
              "<style scoped>\n",
              "    .dataframe tbody tr th:only-of-type {\n",
              "        vertical-align: middle;\n",
              "    }\n",
              "\n",
              "    .dataframe tbody tr th {\n",
              "        vertical-align: top;\n",
              "    }\n",
              "\n",
              "    .dataframe thead th {\n",
              "        text-align: right;\n",
              "    }\n",
              "</style>\n",
              "<table border=\"1\" class=\"dataframe\">\n",
              "  <thead>\n",
              "    <tr style=\"text-align: right;\">\n",
              "      <th></th>\n",
              "      <th>neg</th>\n",
              "      <th>neu</th>\n",
              "      <th>pos</th>\n",
              "      <th>compound</th>\n",
              "    </tr>\n",
              "  </thead>\n",
              "  <tbody>\n",
              "    <tr>\n",
              "      <th>0</th>\n",
              "      <td>0.288</td>\n",
              "      <td>0.638</td>\n",
              "      <td>0.075</td>\n",
              "      <td>-0.8260</td>\n",
              "    </tr>\n",
              "    <tr>\n",
              "      <th>1</th>\n",
              "      <td>0.223</td>\n",
              "      <td>0.532</td>\n",
              "      <td>0.245</td>\n",
              "      <td>-0.1531</td>\n",
              "    </tr>\n",
              "    <tr>\n",
              "      <th>2</th>\n",
              "      <td>0.000</td>\n",
              "      <td>1.000</td>\n",
              "      <td>0.000</td>\n",
              "      <td>0.0000</td>\n",
              "    </tr>\n",
              "    <tr>\n",
              "      <th>3</th>\n",
              "      <td>0.000</td>\n",
              "      <td>0.817</td>\n",
              "      <td>0.183</td>\n",
              "      <td>0.5719</td>\n",
              "    </tr>\n",
              "    <tr>\n",
              "      <th>4</th>\n",
              "      <td>0.000</td>\n",
              "      <td>1.000</td>\n",
              "      <td>0.000</td>\n",
              "      <td>0.0000</td>\n",
              "    </tr>\n",
              "  </tbody>\n",
              "</table>\n",
              "</div>\n",
              "      <button class=\"colab-df-convert\" onclick=\"convertToInteractive('df-5ab51e4d-96e6-4882-9264-8852c86d3518')\"\n",
              "              title=\"Convert this dataframe to an interactive table.\"\n",
              "              style=\"display:none;\">\n",
              "        \n",
              "  <svg xmlns=\"http://www.w3.org/2000/svg\" height=\"24px\"viewBox=\"0 0 24 24\"\n",
              "       width=\"24px\">\n",
              "    <path d=\"M0 0h24v24H0V0z\" fill=\"none\"/>\n",
              "    <path d=\"M18.56 5.44l.94 2.06.94-2.06 2.06-.94-2.06-.94-.94-2.06-.94 2.06-2.06.94zm-11 1L8.5 8.5l.94-2.06 2.06-.94-2.06-.94L8.5 2.5l-.94 2.06-2.06.94zm10 10l.94 2.06.94-2.06 2.06-.94-2.06-.94-.94-2.06-.94 2.06-2.06.94z\"/><path d=\"M17.41 7.96l-1.37-1.37c-.4-.4-.92-.59-1.43-.59-.52 0-1.04.2-1.43.59L10.3 9.45l-7.72 7.72c-.78.78-.78 2.05 0 2.83L4 21.41c.39.39.9.59 1.41.59.51 0 1.02-.2 1.41-.59l7.78-7.78 2.81-2.81c.8-.78.8-2.07 0-2.86zM5.41 20L4 18.59l7.72-7.72 1.47 1.35L5.41 20z\"/>\n",
              "  </svg>\n",
              "      </button>\n",
              "      \n",
              "  <style>\n",
              "    .colab-df-container {\n",
              "      display:flex;\n",
              "      flex-wrap:wrap;\n",
              "      gap: 12px;\n",
              "    }\n",
              "\n",
              "    .colab-df-convert {\n",
              "      background-color: #E8F0FE;\n",
              "      border: none;\n",
              "      border-radius: 50%;\n",
              "      cursor: pointer;\n",
              "      display: none;\n",
              "      fill: #1967D2;\n",
              "      height: 32px;\n",
              "      padding: 0 0 0 0;\n",
              "      width: 32px;\n",
              "    }\n",
              "\n",
              "    .colab-df-convert:hover {\n",
              "      background-color: #E2EBFA;\n",
              "      box-shadow: 0px 1px 2px rgba(60, 64, 67, 0.3), 0px 1px 3px 1px rgba(60, 64, 67, 0.15);\n",
              "      fill: #174EA6;\n",
              "    }\n",
              "\n",
              "    [theme=dark] .colab-df-convert {\n",
              "      background-color: #3B4455;\n",
              "      fill: #D2E3FC;\n",
              "    }\n",
              "\n",
              "    [theme=dark] .colab-df-convert:hover {\n",
              "      background-color: #434B5C;\n",
              "      box-shadow: 0px 1px 3px 1px rgba(0, 0, 0, 0.15);\n",
              "      filter: drop-shadow(0px 1px 2px rgba(0, 0, 0, 0.3));\n",
              "      fill: #FFFFFF;\n",
              "    }\n",
              "  </style>\n",
              "\n",
              "      <script>\n",
              "        const buttonEl =\n",
              "          document.querySelector('#df-5ab51e4d-96e6-4882-9264-8852c86d3518 button.colab-df-convert');\n",
              "        buttonEl.style.display =\n",
              "          google.colab.kernel.accessAllowed ? 'block' : 'none';\n",
              "\n",
              "        async function convertToInteractive(key) {\n",
              "          const element = document.querySelector('#df-5ab51e4d-96e6-4882-9264-8852c86d3518');\n",
              "          const dataTable =\n",
              "            await google.colab.kernel.invokeFunction('convertToInteractive',\n",
              "                                                     [key], {});\n",
              "          if (!dataTable) return;\n",
              "\n",
              "          const docLinkHtml = 'Like what you see? Visit the ' +\n",
              "            '<a target=\"_blank\" href=https://colab.research.google.com/notebooks/data_table.ipynb>data table notebook</a>'\n",
              "            + ' to learn more about interactive tables.';\n",
              "          element.innerHTML = '';\n",
              "          dataTable['output_type'] = 'display_data';\n",
              "          await google.colab.output.renderOutput(dataTable, element);\n",
              "          const docLink = document.createElement('div');\n",
              "          docLink.innerHTML = docLinkHtml;\n",
              "          element.appendChild(docLink);\n",
              "        }\n",
              "      </script>\n",
              "    </div>\n",
              "  </div>\n",
              "  "
            ]
          },
          "metadata": {},
          "execution_count": 57
        }
      ],
      "source": [
        "analyzer = SentimentIntensityAnalyzer()\n",
        "\n",
        "sentiment = df1['tweet_demojize'].apply(analyzer.polarity_scores)\n",
        "sentiment_df = pd.DataFrame(sentiment.tolist())\n",
        "sentiment_df.head()"
      ],
      "id": "Fk-gui1NSFxh"
    },
    {
      "cell_type": "code",
      "execution_count": 58,
      "metadata": {
        "colab": {
          "base_uri": "https://localhost:8080/"
        },
        "id": "TObXSFBdSFxh",
        "outputId": "62c7ff69-d712-4cf0-fe10-c5d51c7db7b3"
      },
      "outputs": [
        {
          "output_type": "execute_result",
          "data": {
            "text/plain": [
              "0   -0.8260\n",
              "1   -0.1531\n",
              "2    0.0000\n",
              "3    0.5719\n",
              "4    0.0000\n",
              "Name: compound, dtype: float64"
            ]
          },
          "metadata": {},
          "execution_count": 58
        }
      ],
      "source": [
        "df1 = pd.concat([df1,sentiment_df], axis = 1)\n",
        "df1['neg'].head(5)\n",
        "df1['neu'].head(5)\n",
        "df1['pos'].head(5)\n",
        "df1['compound'].head(5)"
      ],
      "id": "TObXSFBdSFxh"
    },
    {
      "cell_type": "markdown",
      "metadata": {
        "id": "ae4xlVRhSFxh"
      },
      "source": [
        "### Delete '#'"
      ],
      "id": "ae4xlVRhSFxh"
    },
    {
      "cell_type": "code",
      "execution_count": 59,
      "metadata": {
        "id": "dm3LpxvrSFxh"
      },
      "outputs": [],
      "source": [
        "df1['hashtag_gone'] = df1[\"tweet_demojize\"].str.replace(\"#\",\"\")\n",
        "df1['hashtag_gone_twt'] = df1[\"tweet\"].str.replace(\"#\",\"\")"
      ],
      "id": "dm3LpxvrSFxh"
    },
    {
      "cell_type": "markdown",
      "metadata": {
        "id": "3Vzd58GvSFxh"
      },
      "source": [
        "### Tokenizing spacy\n"
      ],
      "id": "3Vzd58GvSFxh"
    },
    {
      "cell_type": "code",
      "execution_count": 60,
      "metadata": {
        "colab": {
          "base_uri": "https://localhost:8080/"
        },
        "id": "L95O9Tq2SFxh",
        "outputId": "aa6dfd93-6cba-47c4-c888-7daaeaa9a545"
      },
      "outputs": [
        {
          "output_type": "stream",
          "name": "stdout",
          "text": [
            "Requirement already satisfied: spacy in /usr/local/lib/python3.7/dist-packages (2.2.4)\n",
            "Requirement already satisfied: murmurhash<1.1.0,>=0.28.0 in /usr/local/lib/python3.7/dist-packages (from spacy) (1.0.7)\n",
            "Requirement already satisfied: preshed<3.1.0,>=3.0.2 in /usr/local/lib/python3.7/dist-packages (from spacy) (3.0.6)\n",
            "Requirement already satisfied: setuptools in /usr/local/lib/python3.7/dist-packages (from spacy) (57.4.0)\n",
            "Requirement already satisfied: wasabi<1.1.0,>=0.4.0 in /usr/local/lib/python3.7/dist-packages (from spacy) (0.9.1)\n",
            "Requirement already satisfied: catalogue<1.1.0,>=0.0.7 in /usr/local/lib/python3.7/dist-packages (from spacy) (1.0.0)\n",
            "Requirement already satisfied: tqdm<5.0.0,>=4.38.0 in /usr/local/lib/python3.7/dist-packages (from spacy) (4.64.0)\n",
            "Requirement already satisfied: blis<0.5.0,>=0.4.0 in /usr/local/lib/python3.7/dist-packages (from spacy) (0.4.1)\n",
            "Requirement already satisfied: thinc==7.4.0 in /usr/local/lib/python3.7/dist-packages (from spacy) (7.4.0)\n",
            "Requirement already satisfied: numpy>=1.15.0 in /usr/local/lib/python3.7/dist-packages (from spacy) (1.21.6)\n",
            "Requirement already satisfied: srsly<1.1.0,>=1.0.2 in /usr/local/lib/python3.7/dist-packages (from spacy) (1.0.5)\n",
            "Requirement already satisfied: plac<1.2.0,>=0.9.6 in /usr/local/lib/python3.7/dist-packages (from spacy) (1.1.3)\n",
            "Requirement already satisfied: cymem<2.1.0,>=2.0.2 in /usr/local/lib/python3.7/dist-packages (from spacy) (2.0.6)\n",
            "Requirement already satisfied: requests<3.0.0,>=2.13.0 in /usr/local/lib/python3.7/dist-packages (from spacy) (2.23.0)\n",
            "Requirement already satisfied: importlib-metadata>=0.20 in /usr/local/lib/python3.7/dist-packages (from catalogue<1.1.0,>=0.0.7->spacy) (4.11.3)\n",
            "Requirement already satisfied: typing-extensions>=3.6.4 in /usr/local/lib/python3.7/dist-packages (from importlib-metadata>=0.20->catalogue<1.1.0,>=0.0.7->spacy) (4.2.0)\n",
            "Requirement already satisfied: zipp>=0.5 in /usr/local/lib/python3.7/dist-packages (from importlib-metadata>=0.20->catalogue<1.1.0,>=0.0.7->spacy) (3.8.0)\n",
            "Requirement already satisfied: chardet<4,>=3.0.2 in /usr/local/lib/python3.7/dist-packages (from requests<3.0.0,>=2.13.0->spacy) (3.0.4)\n",
            "Requirement already satisfied: urllib3!=1.25.0,!=1.25.1,<1.26,>=1.21.1 in /usr/local/lib/python3.7/dist-packages (from requests<3.0.0,>=2.13.0->spacy) (1.24.3)\n",
            "Requirement already satisfied: idna<3,>=2.5 in /usr/local/lib/python3.7/dist-packages (from requests<3.0.0,>=2.13.0->spacy) (2.10)\n",
            "Requirement already satisfied: certifi>=2017.4.17 in /usr/local/lib/python3.7/dist-packages (from requests<3.0.0,>=2.13.0->spacy) (2021.10.8)\n"
          ]
        }
      ],
      "source": [
        "!pip install spacy"
      ],
      "id": "L95O9Tq2SFxh"
    },
    {
      "cell_type": "code",
      "execution_count": 61,
      "metadata": {
        "id": "8s9NPP1DSFxh"
      },
      "outputs": [],
      "source": [
        "import spacy\n",
        "from spacy.tokenizer import Tokenizer\n",
        "from spacy.lang.en import English\n",
        "nlp = English()\n",
        "\n",
        "tokenizer = nlp.tokenizer\n",
        "tokens = tokenizer(\"Let's go to N.Y.\")"
      ],
      "id": "8s9NPP1DSFxh"
    },
    {
      "cell_type": "code",
      "execution_count": 62,
      "metadata": {
        "id": "4wn6-d6PSFxh"
      },
      "outputs": [],
      "source": [
        "df1[\"hashtag_gone2\"] = df1[\"hashtag_gone\"].str.replace(\"@USER\",\"\")\n",
        "df1[\"hashtag_gone2_twt\"] = df1[\"hashtag_gone_twt\"].str.replace(\"@USER\",\"\")"
      ],
      "id": "4wn6-d6PSFxh"
    },
    {
      "cell_type": "code",
      "execution_count": 63,
      "metadata": {
        "colab": {
          "base_uri": "https://localhost:8080/"
        },
        "id": "tc6lDYiUSFxi",
        "outputId": "1893780b-4465-4444-ad00-26821963d8c0"
      },
      "outputs": [
        {
          "output_type": "execute_result",
          "data": {
            "text/plain": [
              "0    (WhoIsQ, WheresTheServer, DumpNike, DECLASFISA...\n",
              "1    (ConstitutionDay, is, revered, by, Conservativ...\n",
              "2    (FOXNews, NRA, MAGA, POTUS, TRUMP, 2ndAmendmen...\n",
              "3    (Watching, Boomer, getting, the, news, that, s...\n",
              "4    (NoPasaran, :, Unity, demo, to, oppose, the, f...\n",
              "5    (., ., ., What, the, fuck, did, he, do, this, ...\n",
              "6    (RAP, is, a, form, of, ART, !, Used, to, expre...\n",
              "7    ( , Do, you, get, the, feeling, he, is, kissin...\n",
              "8    (5, Tips, to, Enhance, Audience, Connection, o...\n",
              "9    (BiggBossTamil, janani, won, the, task, ., She...\n",
              "Name: tokens_twt, dtype: object"
            ]
          },
          "metadata": {},
          "execution_count": 63
        }
      ],
      "source": [
        "df1['tokens'] = df1[\"hashtag_gone2\"].apply(tokenizer)\n",
        "df1['tokens'].head(n=10)\n",
        "\n",
        "df1['tokens_twt'] = df1[\"hashtag_gone2_twt\"].apply(tokenizer)\n",
        "df1['tokens_twt'].head(n=10)"
      ],
      "id": "tc6lDYiUSFxi"
    },
    {
      "cell_type": "markdown",
      "metadata": {
        "id": "d1VD84yjSFxi"
      },
      "source": [
        "### Delete all punctuation"
      ],
      "id": "d1VD84yjSFxi"
    },
    {
      "cell_type": "code",
      "execution_count": 64,
      "metadata": {
        "id": "e9Pz3cuSSFxi"
      },
      "outputs": [],
      "source": [
        "import string \n",
        "punct = string.punctuation \n",
        "\n",
        "def remove_punct (txt):\n",
        "  for item in punct:\n",
        "    txt = txt.replace(item, \"\")\n",
        "  return txt"
      ],
      "id": "e9Pz3cuSSFxi"
    },
    {
      "cell_type": "code",
      "execution_count": 65,
      "metadata": {
        "id": "It0dp-pcSFxi"
      },
      "outputs": [],
      "source": [
        "df1[\"no_punct\"] = df1[\"tweet_demojize\"].apply(remove_punct)\n",
        "df1[\"no_punct_twt\"] = df1[\"tweet\"].apply(remove_punct)"
      ],
      "id": "It0dp-pcSFxi"
    },
    {
      "cell_type": "markdown",
      "metadata": {
        "id": "MSubFjN_SFxi"
      },
      "source": [
        "### POS on no_punct"
      ],
      "id": "MSubFjN_SFxi"
    },
    {
      "cell_type": "code",
      "execution_count": 66,
      "metadata": {
        "id": "B4ecRdgSSFxi"
      },
      "outputs": [],
      "source": [
        "df1[\"POS_clean\"] = df1[\"no_punct\"].apply(pos_tagg) "
      ],
      "id": "B4ecRdgSSFxi"
    },
    {
      "cell_type": "markdown",
      "metadata": {
        "id": "60Qmqd0oSFxi"
      },
      "source": [
        "### POS with @USER"
      ],
      "id": "60Qmqd0oSFxi"
    },
    {
      "cell_type": "code",
      "execution_count": 67,
      "metadata": {
        "id": "BZTKsraqSFxi"
      },
      "outputs": [],
      "source": [
        "def pos_tag2(tweet):\n",
        "    t_t = twtk.tokenize(tweet)\n",
        "    pos_list = pos_tag(t_t, tagset='universal')\n",
        "    \n",
        "    pos_output_list = []\n",
        "    for i in pos_list:\n",
        "        \n",
        "        if is_emoji(i[0]):\n",
        "            pos_output_list.append(\"EMOJI\") # custom emoji POS tag\n",
        "            \n",
        "        elif re.match(r\"[-a-zA-Z0-9@:%._\\+~#=]{1,256}\\.[a-zA-Z0-9()]{1,6}\\b([-a-zA-Z0-9()@:%_\\+.~#?&//=]*)\", i[0]):\n",
        "            pos_output_list.append(\"URL\") # custom url POS tag\n",
        "\n",
        "        elif i[0] == \"URL\":\n",
        "            pos_output_list.append(\"URL\") # custom url POS tag\n",
        "            \n",
        "        elif i[0][0] == \"#\":\n",
        "            pos_output_list.append(\"HASH\") # custom hashtag POS tag\n",
        "\n",
        "        elif i[0] == \"@USER\":\n",
        "            pos_output_list.append(\"AT\") # custom @user POS tag\n",
        "\n",
        "        elif i[0] == \"USER\":\n",
        "            pos_output_list.append(\"AT\") # custom @user POS tag\n",
        "            \n",
        "        else:\n",
        "            pos_output_list.append(i[1])\n",
        "    \n",
        "    pos_result = ' '.join(pos_output_list)\n",
        "    \n",
        "    return pos_result"
      ],
      "id": "BZTKsraqSFxi"
    },
    {
      "cell_type": "code",
      "execution_count": 68,
      "metadata": {
        "id": "mIwaJUPZSFxi"
      },
      "outputs": [],
      "source": [
        "df1['pos_universal'] = df1['tweet'].apply(pos_tag2)"
      ],
      "id": "mIwaJUPZSFxi"
    },
    {
      "cell_type": "code",
      "execution_count": 69,
      "metadata": {
        "id": "5cqXfhQCSFxj"
      },
      "outputs": [],
      "source": [
        "df1['pos_universal_tweet_demojize'] = df1['tweet_demojize'].apply(pos_tag2)"
      ],
      "id": "5cqXfhQCSFxj"
    },
    {
      "cell_type": "markdown",
      "metadata": {
        "id": "KcPWlnilSFxj"
      },
      "source": [
        "### Lemma"
      ],
      "id": "KcPWlnilSFxj"
    },
    {
      "cell_type": "code",
      "execution_count": 70,
      "metadata": {
        "id": "zA9Q4k7hSFxj"
      },
      "outputs": [],
      "source": [
        "import spacy\n",
        "nlp = spacy.load(\"en_core_web_sm\") \n",
        "\n",
        "def lemmatizing (txt):\n",
        "    doc = nlp(txt)\n",
        "    return \" \".join([token.lemma_ for token in doc])\n",
        "\n",
        "df1['lemma'] = df1['no_punct'].apply(lemmatizing)\n",
        "df1['lemma_twt'] = df1['no_punct_twt'].apply(lemmatizing)"
      ],
      "id": "zA9Q4k7hSFxj"
    },
    {
      "cell_type": "markdown",
      "metadata": {
        "id": "gnyGEhACRD8m"
      },
      "source": [
        "## Preprocessing df2 (test_data) (test_OUT1)"
      ],
      "id": "gnyGEhACRD8m"
    },
    {
      "cell_type": "markdown",
      "metadata": {
        "id": "3Lil4xLkRD8n"
      },
      "source": [
        "### Demojize"
      ],
      "id": "3Lil4xLkRD8n"
    },
    {
      "cell_type": "code",
      "execution_count": 71,
      "metadata": {
        "id": "m45jbQyERD8n"
      },
      "outputs": [],
      "source": [
        "df2['tweet_demojize'] = df2['tweet'].apply(emoji.demojize)"
      ],
      "id": "m45jbQyERD8n"
    },
    {
      "cell_type": "code",
      "execution_count": 72,
      "metadata": {
        "id": "N0StHCzaRD8n",
        "colab": {
          "base_uri": "https://localhost:8080/"
        },
        "outputId": "f4e6e81e-c12d-41ad-f0c9-fcb525a217e4"
      },
      "outputs": [
        {
          "output_type": "execute_result",
          "data": {
            "text/plain": [
              "0    Maybe it could have something to do with the r...\n",
              "1    Weirdly enough, i think about this fairly freq...\n",
              "2    Your idea (while posing a real problem with et...\n",
              "3    >it will encourage a part of the people you ba...\n",
              "4    If something like this could make someone supp...\n",
              "5    > Muslims are the extremists, not men or milit...\n",
              "6    The criminality surrounding prostitution is th...\n",
              "7    Babies born to older mothers have significantl...\n",
              "8                               So gay incest is okay?\n",
              "9    You were pointing logical fallacies in OPs com...\n",
              "Name: tweet_demojize, dtype: object"
            ]
          },
          "metadata": {},
          "execution_count": 72
        }
      ],
      "source": [
        "df2['tweet_demojize'].head(n=10)"
      ],
      "id": "N0StHCzaRD8n"
    },
    {
      "cell_type": "markdown",
      "metadata": {
        "id": "zjcsLQ0FRD8n"
      },
      "source": [
        "### POS Tagger"
      ],
      "id": "zjcsLQ0FRD8n"
    },
    {
      "cell_type": "code",
      "execution_count": 73,
      "metadata": {
        "id": "_KVnDdk9RD8n",
        "colab": {
          "base_uri": "https://localhost:8080/"
        },
        "outputId": "ef5ffc21-1259-497a-e77b-abbf450e5959"
      },
      "outputs": [
        {
          "output_type": "stream",
          "name": "stdout",
          "text": [
            "[nltk_data] Downloading package universal_tagset to /root/nltk_data...\n",
            "[nltk_data]   Package universal_tagset is already up-to-date!\n"
          ]
        }
      ],
      "source": [
        "nltk.download('universal_tagset')\n",
        "\n",
        "twtk = TweetTokenizer()\n",
        "\n",
        "def is_emoji(char):\n",
        "    return char in emoji.UNICODE_EMOJI[\"en\"]\n",
        "\n",
        "def pos_tagg(tweet):\n",
        "    t_t = twtk.tokenize(tweet)\n",
        "    pos_list = pos_tag(t_t, tagset='universal')\n",
        "    \n",
        "    pos_output_list = []\n",
        "    for i in pos_list:\n",
        "        \n",
        "        if is_emoji(i[0]):\n",
        "            pos_output_list.append(\"EMOJI\") # custom emoji POS tag\n",
        "            \n",
        "        elif re.match(\n",
        "            r\"[-a-zA-Z0-9@:%._\\+~#=]{1,256}\\.[a-zA-Z0-9()]{1,6}\\b([-a-zA-Z0-9()@:%_\\+.~#?&//=]*)\",\n",
        "                      i[0]):\n",
        "            pos_output_list.append(\"URL\") # custom url POS tag\n",
        "\n",
        "        elif i[0] == \"URL\":\n",
        "            pos_output_list.append(\"URL\") # custom url POS tag\n",
        "            \n",
        "        elif i[0][0] == \"#\":\n",
        "            pos_output_list.append(\"HASH\") # custom hashtag POS tag\n",
        "            \n",
        "        else:\n",
        "            pos_output_list.append(i[1])\n",
        "    \n",
        "    pos_result = ' '.join(pos_output_list)\n",
        "    \n",
        "    return pos_result"
      ],
      "id": "_KVnDdk9RD8n"
    },
    {
      "cell_type": "markdown",
      "metadata": {
        "id": "_XpA6X4vRD8n"
      },
      "source": [
        "### Sentiment Analysis: Afinn\n"
      ],
      "id": "_XpA6X4vRD8n"
    },
    {
      "cell_type": "code",
      "execution_count": 74,
      "metadata": {
        "id": "CrCI80cYRD8n",
        "colab": {
          "base_uri": "https://localhost:8080/"
        },
        "outputId": "72bab7f5-c30b-4e23-fd96-1633979f42fe"
      },
      "outputs": [
        {
          "output_type": "stream",
          "name": "stdout",
          "text": [
            "Requirement already satisfied: afinn in /usr/local/lib/python3.7/dist-packages (0.1)\n"
          ]
        }
      ],
      "source": [
        "!pip install afinn"
      ],
      "id": "CrCI80cYRD8n"
    },
    {
      "cell_type": "code",
      "execution_count": 75,
      "metadata": {
        "id": "tiKKueWKRD8n"
      },
      "outputs": [],
      "source": [
        "from afinn import Afinn"
      ],
      "id": "tiKKueWKRD8n"
    },
    {
      "cell_type": "code",
      "execution_count": 76,
      "metadata": {
        "id": "IqDlgdrXRD8o",
        "colab": {
          "base_uri": "https://localhost:8080/"
        },
        "outputId": "e8db9123-1fbc-440c-a90b-a0f0e2ca06a7"
      },
      "outputs": [
        {
          "output_type": "execute_result",
          "data": {
            "text/plain": [
              "0    -1.0\n",
              "1    -8.0\n",
              "2    -5.0\n",
              "3   -10.0\n",
              "4    -1.0\n",
              "5   -23.0\n",
              "6   -10.0\n",
              "7    -7.0\n",
              "8     0.0\n",
              "9    -6.0\n",
              "Name: afinn_score, dtype: float64"
            ]
          },
          "metadata": {},
          "execution_count": 76
        }
      ],
      "source": [
        "afinn = Afinn(language='en')\n",
        "\n",
        "df2['afinn_score'] = df2['tweet_demojize'].apply(afinn.score)\n",
        "df2['afinn_score'].head(10)"
      ],
      "id": "IqDlgdrXRD8o"
    },
    {
      "cell_type": "markdown",
      "metadata": {
        "id": "i_dw4LL8RD8o"
      },
      "source": [
        "### Sentiment Analysis: Vader\n"
      ],
      "id": "i_dw4LL8RD8o"
    },
    {
      "cell_type": "code",
      "execution_count": 77,
      "metadata": {
        "id": "wYkHe13dRD8o",
        "colab": {
          "base_uri": "https://localhost:8080/"
        },
        "outputId": "6f9a180e-76d3-4c93-cac0-21832098500e"
      },
      "outputs": [
        {
          "output_type": "stream",
          "name": "stdout",
          "text": [
            "Requirement already satisfied: vaderSentiment in /usr/local/lib/python3.7/dist-packages (3.3.2)\n",
            "Requirement already satisfied: requests in /usr/local/lib/python3.7/dist-packages (from vaderSentiment) (2.23.0)\n",
            "Requirement already satisfied: urllib3!=1.25.0,!=1.25.1,<1.26,>=1.21.1 in /usr/local/lib/python3.7/dist-packages (from requests->vaderSentiment) (1.24.3)\n",
            "Requirement already satisfied: chardet<4,>=3.0.2 in /usr/local/lib/python3.7/dist-packages (from requests->vaderSentiment) (3.0.4)\n",
            "Requirement already satisfied: certifi>=2017.4.17 in /usr/local/lib/python3.7/dist-packages (from requests->vaderSentiment) (2021.10.8)\n",
            "Requirement already satisfied: idna<3,>=2.5 in /usr/local/lib/python3.7/dist-packages (from requests->vaderSentiment) (2.10)\n"
          ]
        }
      ],
      "source": [
        "!pip install vaderSentiment"
      ],
      "id": "wYkHe13dRD8o"
    },
    {
      "cell_type": "code",
      "execution_count": 78,
      "metadata": {
        "id": "BThWEoggRD8o"
      },
      "outputs": [],
      "source": [
        "from vaderSentiment.vaderSentiment import SentimentIntensityAnalyzer"
      ],
      "id": "BThWEoggRD8o"
    },
    {
      "cell_type": "code",
      "execution_count": 79,
      "metadata": {
        "id": "EIk9aCNhRD8o",
        "colab": {
          "base_uri": "https://localhost:8080/",
          "height": 0
        },
        "outputId": "07467ad1-c252-4839-e879-0cae45edf249"
      },
      "outputs": [
        {
          "output_type": "execute_result",
          "data": {
            "text/plain": [
              "     neg    neu    pos  compound\n",
              "0  0.046  0.823  0.131    0.4588\n",
              "1  0.246  0.711  0.043   -0.8218\n",
              "2  0.214  0.684  0.103   -0.9287\n",
              "3  0.328  0.565  0.108   -0.9854\n",
              "4  0.238  0.544  0.218   -0.1280"
            ],
            "text/html": [
              "\n",
              "  <div id=\"df-5133678e-4492-46dd-93b5-fa6dd2766f90\">\n",
              "    <div class=\"colab-df-container\">\n",
              "      <div>\n",
              "<style scoped>\n",
              "    .dataframe tbody tr th:only-of-type {\n",
              "        vertical-align: middle;\n",
              "    }\n",
              "\n",
              "    .dataframe tbody tr th {\n",
              "        vertical-align: top;\n",
              "    }\n",
              "\n",
              "    .dataframe thead th {\n",
              "        text-align: right;\n",
              "    }\n",
              "</style>\n",
              "<table border=\"1\" class=\"dataframe\">\n",
              "  <thead>\n",
              "    <tr style=\"text-align: right;\">\n",
              "      <th></th>\n",
              "      <th>neg</th>\n",
              "      <th>neu</th>\n",
              "      <th>pos</th>\n",
              "      <th>compound</th>\n",
              "    </tr>\n",
              "  </thead>\n",
              "  <tbody>\n",
              "    <tr>\n",
              "      <th>0</th>\n",
              "      <td>0.046</td>\n",
              "      <td>0.823</td>\n",
              "      <td>0.131</td>\n",
              "      <td>0.4588</td>\n",
              "    </tr>\n",
              "    <tr>\n",
              "      <th>1</th>\n",
              "      <td>0.246</td>\n",
              "      <td>0.711</td>\n",
              "      <td>0.043</td>\n",
              "      <td>-0.8218</td>\n",
              "    </tr>\n",
              "    <tr>\n",
              "      <th>2</th>\n",
              "      <td>0.214</td>\n",
              "      <td>0.684</td>\n",
              "      <td>0.103</td>\n",
              "      <td>-0.9287</td>\n",
              "    </tr>\n",
              "    <tr>\n",
              "      <th>3</th>\n",
              "      <td>0.328</td>\n",
              "      <td>0.565</td>\n",
              "      <td>0.108</td>\n",
              "      <td>-0.9854</td>\n",
              "    </tr>\n",
              "    <tr>\n",
              "      <th>4</th>\n",
              "      <td>0.238</td>\n",
              "      <td>0.544</td>\n",
              "      <td>0.218</td>\n",
              "      <td>-0.1280</td>\n",
              "    </tr>\n",
              "  </tbody>\n",
              "</table>\n",
              "</div>\n",
              "      <button class=\"colab-df-convert\" onclick=\"convertToInteractive('df-5133678e-4492-46dd-93b5-fa6dd2766f90')\"\n",
              "              title=\"Convert this dataframe to an interactive table.\"\n",
              "              style=\"display:none;\">\n",
              "        \n",
              "  <svg xmlns=\"http://www.w3.org/2000/svg\" height=\"24px\"viewBox=\"0 0 24 24\"\n",
              "       width=\"24px\">\n",
              "    <path d=\"M0 0h24v24H0V0z\" fill=\"none\"/>\n",
              "    <path d=\"M18.56 5.44l.94 2.06.94-2.06 2.06-.94-2.06-.94-.94-2.06-.94 2.06-2.06.94zm-11 1L8.5 8.5l.94-2.06 2.06-.94-2.06-.94L8.5 2.5l-.94 2.06-2.06.94zm10 10l.94 2.06.94-2.06 2.06-.94-2.06-.94-.94-2.06-.94 2.06-2.06.94z\"/><path d=\"M17.41 7.96l-1.37-1.37c-.4-.4-.92-.59-1.43-.59-.52 0-1.04.2-1.43.59L10.3 9.45l-7.72 7.72c-.78.78-.78 2.05 0 2.83L4 21.41c.39.39.9.59 1.41.59.51 0 1.02-.2 1.41-.59l7.78-7.78 2.81-2.81c.8-.78.8-2.07 0-2.86zM5.41 20L4 18.59l7.72-7.72 1.47 1.35L5.41 20z\"/>\n",
              "  </svg>\n",
              "      </button>\n",
              "      \n",
              "  <style>\n",
              "    .colab-df-container {\n",
              "      display:flex;\n",
              "      flex-wrap:wrap;\n",
              "      gap: 12px;\n",
              "    }\n",
              "\n",
              "    .colab-df-convert {\n",
              "      background-color: #E8F0FE;\n",
              "      border: none;\n",
              "      border-radius: 50%;\n",
              "      cursor: pointer;\n",
              "      display: none;\n",
              "      fill: #1967D2;\n",
              "      height: 32px;\n",
              "      padding: 0 0 0 0;\n",
              "      width: 32px;\n",
              "    }\n",
              "\n",
              "    .colab-df-convert:hover {\n",
              "      background-color: #E2EBFA;\n",
              "      box-shadow: 0px 1px 2px rgba(60, 64, 67, 0.3), 0px 1px 3px 1px rgba(60, 64, 67, 0.15);\n",
              "      fill: #174EA6;\n",
              "    }\n",
              "\n",
              "    [theme=dark] .colab-df-convert {\n",
              "      background-color: #3B4455;\n",
              "      fill: #D2E3FC;\n",
              "    }\n",
              "\n",
              "    [theme=dark] .colab-df-convert:hover {\n",
              "      background-color: #434B5C;\n",
              "      box-shadow: 0px 1px 3px 1px rgba(0, 0, 0, 0.15);\n",
              "      filter: drop-shadow(0px 1px 2px rgba(0, 0, 0, 0.3));\n",
              "      fill: #FFFFFF;\n",
              "    }\n",
              "  </style>\n",
              "\n",
              "      <script>\n",
              "        const buttonEl =\n",
              "          document.querySelector('#df-5133678e-4492-46dd-93b5-fa6dd2766f90 button.colab-df-convert');\n",
              "        buttonEl.style.display =\n",
              "          google.colab.kernel.accessAllowed ? 'block' : 'none';\n",
              "\n",
              "        async function convertToInteractive(key) {\n",
              "          const element = document.querySelector('#df-5133678e-4492-46dd-93b5-fa6dd2766f90');\n",
              "          const dataTable =\n",
              "            await google.colab.kernel.invokeFunction('convertToInteractive',\n",
              "                                                     [key], {});\n",
              "          if (!dataTable) return;\n",
              "\n",
              "          const docLinkHtml = 'Like what you see? Visit the ' +\n",
              "            '<a target=\"_blank\" href=https://colab.research.google.com/notebooks/data_table.ipynb>data table notebook</a>'\n",
              "            + ' to learn more about interactive tables.';\n",
              "          element.innerHTML = '';\n",
              "          dataTable['output_type'] = 'display_data';\n",
              "          await google.colab.output.renderOutput(dataTable, element);\n",
              "          const docLink = document.createElement('div');\n",
              "          docLink.innerHTML = docLinkHtml;\n",
              "          element.appendChild(docLink);\n",
              "        }\n",
              "      </script>\n",
              "    </div>\n",
              "  </div>\n",
              "  "
            ]
          },
          "metadata": {},
          "execution_count": 79
        }
      ],
      "source": [
        "analyzer = SentimentIntensityAnalyzer()\n",
        "\n",
        "sentiment = df2['tweet_demojize'].apply(analyzer.polarity_scores)\n",
        "sentiment_df = pd.DataFrame(sentiment.tolist())\n",
        "sentiment_df.head()"
      ],
      "id": "EIk9aCNhRD8o"
    },
    {
      "cell_type": "code",
      "execution_count": 80,
      "metadata": {
        "id": "Q7gyc-rQRD8o",
        "colab": {
          "base_uri": "https://localhost:8080/"
        },
        "outputId": "46c521b4-79db-4ff9-9de3-6458d98527ae"
      },
      "outputs": [
        {
          "output_type": "execute_result",
          "data": {
            "text/plain": [
              "0    0.4588\n",
              "1   -0.8218\n",
              "2   -0.9287\n",
              "3   -0.9854\n",
              "4   -0.1280\n",
              "Name: compound, dtype: float64"
            ]
          },
          "metadata": {},
          "execution_count": 80
        }
      ],
      "source": [
        "df2 = pd.concat([df2,sentiment_df], axis = 1)\n",
        "df2['neg'].head(5)\n",
        "df2['neu'].head(5)\n",
        "df2['pos'].head(5)\n",
        "df2['compound'].head(5)"
      ],
      "id": "Q7gyc-rQRD8o"
    },
    {
      "cell_type": "markdown",
      "metadata": {
        "id": "I_sMgHaiRD8o"
      },
      "source": [
        "### Delete '#'"
      ],
      "id": "I_sMgHaiRD8o"
    },
    {
      "cell_type": "code",
      "execution_count": 81,
      "metadata": {
        "id": "5IiPOMKoRD8o"
      },
      "outputs": [],
      "source": [
        "df2['hashtag_gone'] = df2[\"tweet_demojize\"].str.replace(\"#\",\"\")\n",
        "df2['hashtag_gone_twt'] = df2[\"tweet\"].str.replace(\"#\",\"\")"
      ],
      "id": "5IiPOMKoRD8o"
    },
    {
      "cell_type": "markdown",
      "metadata": {
        "id": "eTGDLcMqRD8o"
      },
      "source": [
        "### Tokenizing spacy\n"
      ],
      "id": "eTGDLcMqRD8o"
    },
    {
      "cell_type": "code",
      "execution_count": 82,
      "metadata": {
        "id": "lQuCQGWGRD8o",
        "colab": {
          "base_uri": "https://localhost:8080/"
        },
        "outputId": "62ad073a-3e6c-4649-d472-ff9fc494d28f"
      },
      "outputs": [
        {
          "output_type": "stream",
          "name": "stdout",
          "text": [
            "Requirement already satisfied: spacy in /usr/local/lib/python3.7/dist-packages (2.2.4)\n",
            "Requirement already satisfied: setuptools in /usr/local/lib/python3.7/dist-packages (from spacy) (57.4.0)\n",
            "Requirement already satisfied: preshed<3.1.0,>=3.0.2 in /usr/local/lib/python3.7/dist-packages (from spacy) (3.0.6)\n",
            "Requirement already satisfied: thinc==7.4.0 in /usr/local/lib/python3.7/dist-packages (from spacy) (7.4.0)\n",
            "Requirement already satisfied: numpy>=1.15.0 in /usr/local/lib/python3.7/dist-packages (from spacy) (1.21.6)\n",
            "Requirement already satisfied: plac<1.2.0,>=0.9.6 in /usr/local/lib/python3.7/dist-packages (from spacy) (1.1.3)\n",
            "Requirement already satisfied: requests<3.0.0,>=2.13.0 in /usr/local/lib/python3.7/dist-packages (from spacy) (2.23.0)\n",
            "Requirement already satisfied: blis<0.5.0,>=0.4.0 in /usr/local/lib/python3.7/dist-packages (from spacy) (0.4.1)\n",
            "Requirement already satisfied: srsly<1.1.0,>=1.0.2 in /usr/local/lib/python3.7/dist-packages (from spacy) (1.0.5)\n",
            "Requirement already satisfied: catalogue<1.1.0,>=0.0.7 in /usr/local/lib/python3.7/dist-packages (from spacy) (1.0.0)\n",
            "Requirement already satisfied: tqdm<5.0.0,>=4.38.0 in /usr/local/lib/python3.7/dist-packages (from spacy) (4.64.0)\n",
            "Requirement already satisfied: cymem<2.1.0,>=2.0.2 in /usr/local/lib/python3.7/dist-packages (from spacy) (2.0.6)\n",
            "Requirement already satisfied: murmurhash<1.1.0,>=0.28.0 in /usr/local/lib/python3.7/dist-packages (from spacy) (1.0.7)\n",
            "Requirement already satisfied: wasabi<1.1.0,>=0.4.0 in /usr/local/lib/python3.7/dist-packages (from spacy) (0.9.1)\n",
            "Requirement already satisfied: importlib-metadata>=0.20 in /usr/local/lib/python3.7/dist-packages (from catalogue<1.1.0,>=0.0.7->spacy) (4.11.3)\n",
            "Requirement already satisfied: zipp>=0.5 in /usr/local/lib/python3.7/dist-packages (from importlib-metadata>=0.20->catalogue<1.1.0,>=0.0.7->spacy) (3.8.0)\n",
            "Requirement already satisfied: typing-extensions>=3.6.4 in /usr/local/lib/python3.7/dist-packages (from importlib-metadata>=0.20->catalogue<1.1.0,>=0.0.7->spacy) (4.2.0)\n",
            "Requirement already satisfied: urllib3!=1.25.0,!=1.25.1,<1.26,>=1.21.1 in /usr/local/lib/python3.7/dist-packages (from requests<3.0.0,>=2.13.0->spacy) (1.24.3)\n",
            "Requirement already satisfied: certifi>=2017.4.17 in /usr/local/lib/python3.7/dist-packages (from requests<3.0.0,>=2.13.0->spacy) (2021.10.8)\n",
            "Requirement already satisfied: chardet<4,>=3.0.2 in /usr/local/lib/python3.7/dist-packages (from requests<3.0.0,>=2.13.0->spacy) (3.0.4)\n",
            "Requirement already satisfied: idna<3,>=2.5 in /usr/local/lib/python3.7/dist-packages (from requests<3.0.0,>=2.13.0->spacy) (2.10)\n"
          ]
        }
      ],
      "source": [
        "!pip install spacy"
      ],
      "id": "lQuCQGWGRD8o"
    },
    {
      "cell_type": "code",
      "execution_count": 83,
      "metadata": {
        "id": "DHRWhP-MRD8o"
      },
      "outputs": [],
      "source": [
        "import spacy\n",
        "from spacy.tokenizer import Tokenizer\n",
        "from spacy.lang.en import English\n",
        "nlp = English()\n",
        "\n",
        "tokenizer = nlp.tokenizer\n",
        "tokens = tokenizer(\"Let's go to N.Y.\")"
      ],
      "id": "DHRWhP-MRD8o"
    },
    {
      "cell_type": "code",
      "execution_count": 84,
      "metadata": {
        "id": "CKIk3LoERD8p"
      },
      "outputs": [],
      "source": [
        "df2[\"hashtag_gone2\"] = df2[\"hashtag_gone\"].str.replace(\"@USER\",\"\")\n",
        "df2[\"hashtag_gone2_twt\"] = df2[\"hashtag_gone_twt\"].str.replace(\"@USER\",\"\")"
      ],
      "id": "CKIk3LoERD8p"
    },
    {
      "cell_type": "code",
      "execution_count": 85,
      "metadata": {
        "id": "IXbDe2eKRD8p",
        "colab": {
          "base_uri": "https://localhost:8080/"
        },
        "outputId": "d9e519da-a5e3-4a0a-fc40-e88bc4699128"
      },
      "outputs": [
        {
          "output_type": "execute_result",
          "data": {
            "text/plain": [
              "0    (Maybe, it, could, have, something, to, do, wi...\n",
              "1    (Weirdly, enough, ,, i, think, about, this, fa...\n",
              "2    (Your, idea, (, while, posing, a, real, proble...\n",
              "3    (>, it, will, encourage, a, part, of, the, peo...\n",
              "4    (If, something, like, this, could, make, someo...\n",
              "5    (>, Muslims, are, the, extremists, ,, not, men...\n",
              "6    (The, criminality, surrounding, prostitution, ...\n",
              "7    (Babies, born, to, older, mothers, have, signi...\n",
              "8                       (So, gay, incest, is, okay, ?)\n",
              "9    (You, were, pointing, logical, fallacies, in, ...\n",
              "Name: tokens_twt, dtype: object"
            ]
          },
          "metadata": {},
          "execution_count": 85
        }
      ],
      "source": [
        "df2['tokens'] = df2[\"hashtag_gone2\"].apply(tokenizer)\n",
        "df2['tokens'].head(n=10)\n",
        "\n",
        "df2['tokens_twt'] = df2[\"hashtag_gone2_twt\"].apply(tokenizer)\n",
        "df2['tokens_twt'].head(n=10)"
      ],
      "id": "IXbDe2eKRD8p"
    },
    {
      "cell_type": "markdown",
      "metadata": {
        "id": "5VQl3ts3RD8p"
      },
      "source": [
        "### Delete all punctuation"
      ],
      "id": "5VQl3ts3RD8p"
    },
    {
      "cell_type": "code",
      "execution_count": 86,
      "metadata": {
        "id": "gwRT5UDWRD8p"
      },
      "outputs": [],
      "source": [
        "import string \n",
        "punct = string.punctuation \n",
        "\n",
        "def remove_punct (txt):\n",
        "  for item in punct:\n",
        "    txt = txt.replace(item, \"\")\n",
        "  return txt"
      ],
      "id": "gwRT5UDWRD8p"
    },
    {
      "cell_type": "code",
      "execution_count": 87,
      "metadata": {
        "id": "qPUxQikFRD8p"
      },
      "outputs": [],
      "source": [
        "df2[\"no_punct\"] = df2[\"tweet_demojize\"].apply(remove_punct)\n",
        "df2[\"no_punct_twt\"] = df2[\"tweet\"].apply(remove_punct)"
      ],
      "id": "qPUxQikFRD8p"
    },
    {
      "cell_type": "markdown",
      "metadata": {
        "id": "Jxuy6WowRD8p"
      },
      "source": [
        "### POS on no_punct"
      ],
      "id": "Jxuy6WowRD8p"
    },
    {
      "cell_type": "code",
      "execution_count": 88,
      "metadata": {
        "id": "LR3Fd-H_RD8p"
      },
      "outputs": [],
      "source": [
        "df2[\"POS_clean\"] = df2[\"no_punct\"].apply(pos_tagg) "
      ],
      "id": "LR3Fd-H_RD8p"
    },
    {
      "cell_type": "markdown",
      "metadata": {
        "id": "65fdHDxURD8q"
      },
      "source": [
        "### POS with @USER"
      ],
      "id": "65fdHDxURD8q"
    },
    {
      "cell_type": "code",
      "execution_count": 89,
      "metadata": {
        "id": "t8io-FMeRD8q"
      },
      "outputs": [],
      "source": [
        "def pos_tag2(tweet):\n",
        "    t_t = twtk.tokenize(tweet)\n",
        "    pos_list = pos_tag(t_t, tagset='universal')\n",
        "    \n",
        "    pos_output_list = []\n",
        "    for i in pos_list:\n",
        "        \n",
        "        if is_emoji(i[0]):\n",
        "            pos_output_list.append(\"EMOJI\") # custom emoji POS tag\n",
        "            \n",
        "        elif re.match(r\"[-a-zA-Z0-9@:%._\\+~#=]{1,256}\\.[a-zA-Z0-9()]{1,6}\\b([-a-zA-Z0-9()@:%_\\+.~#?&//=]*)\", i[0]):\n",
        "            pos_output_list.append(\"URL\") # custom url POS tag\n",
        "\n",
        "        elif i[0] == \"URL\":\n",
        "            pos_output_list.append(\"URL\") # custom url POS tag\n",
        "            \n",
        "        elif i[0][0] == \"#\":\n",
        "            pos_output_list.append(\"HASH\") # custom hashtag POS tag\n",
        "\n",
        "        elif i[0] == \"@USER\":\n",
        "            pos_output_list.append(\"AT\") # custom @user POS tag\n",
        "\n",
        "        elif i[0] == \"USER\":\n",
        "            pos_output_list.append(\"AT\") # custom @user POS tag\n",
        "            \n",
        "        else:\n",
        "            pos_output_list.append(i[1])\n",
        "    \n",
        "    pos_result = ' '.join(pos_output_list)\n",
        "    \n",
        "    return pos_result"
      ],
      "id": "t8io-FMeRD8q"
    },
    {
      "cell_type": "code",
      "execution_count": 90,
      "metadata": {
        "id": "o4lgdytdRD8q"
      },
      "outputs": [],
      "source": [
        "df2['pos_universal'] = df2['tweet'].apply(pos_tag2)"
      ],
      "id": "o4lgdytdRD8q"
    },
    {
      "cell_type": "code",
      "execution_count": 91,
      "metadata": {
        "id": "V4RLn4NVRD8q"
      },
      "outputs": [],
      "source": [
        "df2['pos_universal_tweet_demojize'] = df2['tweet_demojize'].apply(pos_tag2)"
      ],
      "id": "V4RLn4NVRD8q"
    },
    {
      "cell_type": "markdown",
      "metadata": {
        "id": "gAVo9pfPRD8q"
      },
      "source": [
        "### Lemma"
      ],
      "id": "gAVo9pfPRD8q"
    },
    {
      "cell_type": "code",
      "execution_count": 92,
      "metadata": {
        "id": "hBDgfbUERD8q"
      },
      "outputs": [],
      "source": [
        "import spacy\n",
        "nlp = spacy.load(\"en_core_web_sm\") \n",
        "\n",
        "def lemmatizing (txt):\n",
        "    doc = nlp(txt)\n",
        "    return \" \".join([token.lemma_ for token in doc])\n",
        "\n",
        "df2['lemma'] = df2['no_punct'].apply(lemmatizing)\n",
        "df2['lemma_twt'] = df2['no_punct_twt'].apply(lemmatizing)"
      ],
      "id": "hBDgfbUERD8q"
    },
    {
      "cell_type": "markdown",
      "metadata": {
        "id": "PXfUYNDlP5bN"
      },
      "source": [
        "## Preprocessing df3 (test_data) (test_OUT2)"
      ],
      "id": "PXfUYNDlP5bN"
    },
    {
      "cell_type": "markdown",
      "metadata": {
        "id": "_pr4D16KP5bO"
      },
      "source": [
        "### Demojize"
      ],
      "id": "_pr4D16KP5bO"
    },
    {
      "cell_type": "code",
      "execution_count": 93,
      "metadata": {
        "id": "DFTh8ofEP5bO"
      },
      "outputs": [],
      "source": [
        "df3['tweet_demojize'] = df3['tweet'].apply(emoji.demojize)"
      ],
      "id": "DFTh8ofEP5bO"
    },
    {
      "cell_type": "code",
      "execution_count": 94,
      "metadata": {
        "id": "S86bvxSvP5bO",
        "colab": {
          "base_uri": "https://localhost:8080/"
        },
        "outputId": "387f0762-4df9-479e-ae00-d4603278489a"
      },
      "outputs": [
        {
          "output_type": "execute_result",
          "data": {
            "text/plain": [
              "0    == Argh == \\r\\n\\r\\n Some random idiot deleted ...\n",
              "1    (we hate america and we are going to bomb the ...\n",
              "2    \" \\r\\n\\r\\n So, on the tenth anniversary of 9/1...\n",
              "3       casualt i fucked your mum and i liked it !!ies\n",
              "4    \"Welcome! \\r\\n\\r\\n Hello, , and welcome to Wik...\n",
              "5    go to court? \\r\\n  Shit, cause the judge look ...\n",
              "6    \" \\r\\n\\r\\n == Who Lived longer? == \\r\\n\\r\\n He...\n",
              "7    == Intolerance in India == \\r\\n\\r\\n  india is ...\n",
              "8    \"==NPOV== \\r\\n\\r\\n This following section in t...\n",
              "9    FUCK YOU YOU LIKE ANGELIQUE CARRINGTON AND TAM...\n",
              "Name: tweet_demojize, dtype: object"
            ]
          },
          "metadata": {},
          "execution_count": 94
        }
      ],
      "source": [
        "df3['tweet_demojize'].head(n=10)"
      ],
      "id": "S86bvxSvP5bO"
    },
    {
      "cell_type": "markdown",
      "metadata": {
        "id": "fYeIxkmkP5bP"
      },
      "source": [
        "### POS Tagger"
      ],
      "id": "fYeIxkmkP5bP"
    },
    {
      "cell_type": "code",
      "execution_count": 95,
      "metadata": {
        "id": "PMozFf6tP5bP",
        "colab": {
          "base_uri": "https://localhost:8080/"
        },
        "outputId": "21635bd6-3667-43cd-bfa5-a8e9db054410"
      },
      "outputs": [
        {
          "output_type": "stream",
          "name": "stdout",
          "text": [
            "[nltk_data] Downloading package universal_tagset to /root/nltk_data...\n",
            "[nltk_data]   Package universal_tagset is already up-to-date!\n"
          ]
        }
      ],
      "source": [
        "nltk.download('universal_tagset')\n",
        "\n",
        "twtk = TweetTokenizer()\n",
        "\n",
        "def is_emoji(char):\n",
        "    return char in emoji.UNICODE_EMOJI[\"en\"]\n",
        "\n",
        "def pos_tagg(tweet):\n",
        "    t_t = twtk.tokenize(tweet)\n",
        "    pos_list = pos_tag(t_t, tagset='universal')\n",
        "\n",
        "    pos_output_list = []\n",
        "    for i in pos_list:\n",
        "        \n",
        "        if is_emoji(i[0]):\n",
        "            pos_output_list.append(\"EMOJI\") # custom emoji POS tag\n",
        "            \n",
        "        elif re.match(\n",
        "            r\"[-a-zA-Z0-9@:%._\\+~#=]{1,256}\\.[a-zA-Z0-9()]{1,6}\\b([-a-zA-Z0-9()@:%_\\+.~#?&//=]*)\",\n",
        "                      i[0]):\n",
        "            pos_output_list.append(\"URL\") # custom url POS tag\n",
        "\n",
        "        elif i[0] == \"URL\":\n",
        "            pos_output_list.append(\"URL\") # custom url POS tag\n",
        "            \n",
        "        elif i[0][0] == \"#\":\n",
        "            pos_output_list.append(\"HASH\") # custom hashtag POS tag\n",
        "            \n",
        "        else:\n",
        "            pos_output_list.append(i[1])\n",
        "    \n",
        "    pos_result = ' '.join(pos_output_list)\n",
        "    \n",
        "    return pos_result"
      ],
      "id": "PMozFf6tP5bP"
    },
    {
      "cell_type": "markdown",
      "metadata": {
        "id": "p2yQfSZ9P5bP"
      },
      "source": [
        "### Sentiment Analysis: Afinn\n"
      ],
      "id": "p2yQfSZ9P5bP"
    },
    {
      "cell_type": "code",
      "execution_count": 96,
      "metadata": {
        "id": "EwljkQYCP5bP",
        "colab": {
          "base_uri": "https://localhost:8080/"
        },
        "outputId": "ccce45d2-f5fe-4552-b623-a346833e598a"
      },
      "outputs": [
        {
          "output_type": "stream",
          "name": "stdout",
          "text": [
            "Requirement already satisfied: afinn in /usr/local/lib/python3.7/dist-packages (0.1)\n"
          ]
        }
      ],
      "source": [
        "!pip install afinn"
      ],
      "id": "EwljkQYCP5bP"
    },
    {
      "cell_type": "code",
      "execution_count": 97,
      "metadata": {
        "id": "DC6OJ8xXP5bP"
      },
      "outputs": [],
      "source": [
        "from afinn import Afinn"
      ],
      "id": "DC6OJ8xXP5bP"
    },
    {
      "cell_type": "code",
      "execution_count": 98,
      "metadata": {
        "id": "oH3OJI1SP5bP",
        "colab": {
          "base_uri": "https://localhost:8080/"
        },
        "outputId": "f88c2746-3d86-493f-a612-681ea2d76b7e"
      },
      "outputs": [
        {
          "output_type": "execute_result",
          "data": {
            "text/plain": [
              "0    -3.0\n",
              "1    -8.0\n",
              "2   -37.0\n",
              "3    -2.0\n",
              "4    26.0\n",
              "5   -11.0\n",
              "6   -15.0\n",
              "7    -1.0\n",
              "8   -16.0\n",
              "9   -10.0\n",
              "Name: afinn_score, dtype: float64"
            ]
          },
          "metadata": {},
          "execution_count": 98
        }
      ],
      "source": [
        "afinn = Afinn(language='en')\n",
        "\n",
        "df3['afinn_score'] = df3['tweet_demojize'].apply(afinn.score)\n",
        "df3['afinn_score'].head(10)"
      ],
      "id": "oH3OJI1SP5bP"
    },
    {
      "cell_type": "markdown",
      "metadata": {
        "id": "nNVzacRcP5bP"
      },
      "source": [
        "### Sentiment Analysis: Vader\n"
      ],
      "id": "nNVzacRcP5bP"
    },
    {
      "cell_type": "code",
      "execution_count": 99,
      "metadata": {
        "id": "8Skm9OQSP5bP",
        "colab": {
          "base_uri": "https://localhost:8080/"
        },
        "outputId": "616e13a4-17b1-4c6f-fdb2-c1a6bc1d0945"
      },
      "outputs": [
        {
          "output_type": "stream",
          "name": "stdout",
          "text": [
            "Requirement already satisfied: vaderSentiment in /usr/local/lib/python3.7/dist-packages (3.3.2)\n",
            "Requirement already satisfied: requests in /usr/local/lib/python3.7/dist-packages (from vaderSentiment) (2.23.0)\n",
            "Requirement already satisfied: certifi>=2017.4.17 in /usr/local/lib/python3.7/dist-packages (from requests->vaderSentiment) (2021.10.8)\n",
            "Requirement already satisfied: idna<3,>=2.5 in /usr/local/lib/python3.7/dist-packages (from requests->vaderSentiment) (2.10)\n",
            "Requirement already satisfied: urllib3!=1.25.0,!=1.25.1,<1.26,>=1.21.1 in /usr/local/lib/python3.7/dist-packages (from requests->vaderSentiment) (1.24.3)\n",
            "Requirement already satisfied: chardet<4,>=3.0.2 in /usr/local/lib/python3.7/dist-packages (from requests->vaderSentiment) (3.0.4)\n"
          ]
        }
      ],
      "source": [
        "!pip install vaderSentiment"
      ],
      "id": "8Skm9OQSP5bP"
    },
    {
      "cell_type": "code",
      "execution_count": 100,
      "metadata": {
        "id": "b89Gye_kP5bQ"
      },
      "outputs": [],
      "source": [
        "from vaderSentiment.vaderSentiment import SentimentIntensityAnalyzer"
      ],
      "id": "b89Gye_kP5bQ"
    },
    {
      "cell_type": "code",
      "execution_count": 101,
      "metadata": {
        "id": "RvXkPoBFP5bQ",
        "colab": {
          "base_uri": "https://localhost:8080/",
          "height": 0
        },
        "outputId": "b59a7211-5da6-4fac-f68f-e0722f0c7422"
      },
      "outputs": [
        {
          "output_type": "execute_result",
          "data": {
            "text/plain": [
              "     neg    neu    pos  compound\n",
              "0  0.231  0.769  0.000   -0.5106\n",
              "1  0.266  0.579  0.154   -0.4404\n",
              "2  0.235  0.726  0.039   -0.9956\n",
              "3  0.316  0.507  0.177   -0.4912\n",
              "4  0.000  0.727  0.273    0.9897"
            ],
            "text/html": [
              "\n",
              "  <div id=\"df-cfa5ebd6-5ff1-4579-9418-7195de015d71\">\n",
              "    <div class=\"colab-df-container\">\n",
              "      <div>\n",
              "<style scoped>\n",
              "    .dataframe tbody tr th:only-of-type {\n",
              "        vertical-align: middle;\n",
              "    }\n",
              "\n",
              "    .dataframe tbody tr th {\n",
              "        vertical-align: top;\n",
              "    }\n",
              "\n",
              "    .dataframe thead th {\n",
              "        text-align: right;\n",
              "    }\n",
              "</style>\n",
              "<table border=\"1\" class=\"dataframe\">\n",
              "  <thead>\n",
              "    <tr style=\"text-align: right;\">\n",
              "      <th></th>\n",
              "      <th>neg</th>\n",
              "      <th>neu</th>\n",
              "      <th>pos</th>\n",
              "      <th>compound</th>\n",
              "    </tr>\n",
              "  </thead>\n",
              "  <tbody>\n",
              "    <tr>\n",
              "      <th>0</th>\n",
              "      <td>0.231</td>\n",
              "      <td>0.769</td>\n",
              "      <td>0.000</td>\n",
              "      <td>-0.5106</td>\n",
              "    </tr>\n",
              "    <tr>\n",
              "      <th>1</th>\n",
              "      <td>0.266</td>\n",
              "      <td>0.579</td>\n",
              "      <td>0.154</td>\n",
              "      <td>-0.4404</td>\n",
              "    </tr>\n",
              "    <tr>\n",
              "      <th>2</th>\n",
              "      <td>0.235</td>\n",
              "      <td>0.726</td>\n",
              "      <td>0.039</td>\n",
              "      <td>-0.9956</td>\n",
              "    </tr>\n",
              "    <tr>\n",
              "      <th>3</th>\n",
              "      <td>0.316</td>\n",
              "      <td>0.507</td>\n",
              "      <td>0.177</td>\n",
              "      <td>-0.4912</td>\n",
              "    </tr>\n",
              "    <tr>\n",
              "      <th>4</th>\n",
              "      <td>0.000</td>\n",
              "      <td>0.727</td>\n",
              "      <td>0.273</td>\n",
              "      <td>0.9897</td>\n",
              "    </tr>\n",
              "  </tbody>\n",
              "</table>\n",
              "</div>\n",
              "      <button class=\"colab-df-convert\" onclick=\"convertToInteractive('df-cfa5ebd6-5ff1-4579-9418-7195de015d71')\"\n",
              "              title=\"Convert this dataframe to an interactive table.\"\n",
              "              style=\"display:none;\">\n",
              "        \n",
              "  <svg xmlns=\"http://www.w3.org/2000/svg\" height=\"24px\"viewBox=\"0 0 24 24\"\n",
              "       width=\"24px\">\n",
              "    <path d=\"M0 0h24v24H0V0z\" fill=\"none\"/>\n",
              "    <path d=\"M18.56 5.44l.94 2.06.94-2.06 2.06-.94-2.06-.94-.94-2.06-.94 2.06-2.06.94zm-11 1L8.5 8.5l.94-2.06 2.06-.94-2.06-.94L8.5 2.5l-.94 2.06-2.06.94zm10 10l.94 2.06.94-2.06 2.06-.94-2.06-.94-.94-2.06-.94 2.06-2.06.94z\"/><path d=\"M17.41 7.96l-1.37-1.37c-.4-.4-.92-.59-1.43-.59-.52 0-1.04.2-1.43.59L10.3 9.45l-7.72 7.72c-.78.78-.78 2.05 0 2.83L4 21.41c.39.39.9.59 1.41.59.51 0 1.02-.2 1.41-.59l7.78-7.78 2.81-2.81c.8-.78.8-2.07 0-2.86zM5.41 20L4 18.59l7.72-7.72 1.47 1.35L5.41 20z\"/>\n",
              "  </svg>\n",
              "      </button>\n",
              "      \n",
              "  <style>\n",
              "    .colab-df-container {\n",
              "      display:flex;\n",
              "      flex-wrap:wrap;\n",
              "      gap: 12px;\n",
              "    }\n",
              "\n",
              "    .colab-df-convert {\n",
              "      background-color: #E8F0FE;\n",
              "      border: none;\n",
              "      border-radius: 50%;\n",
              "      cursor: pointer;\n",
              "      display: none;\n",
              "      fill: #1967D2;\n",
              "      height: 32px;\n",
              "      padding: 0 0 0 0;\n",
              "      width: 32px;\n",
              "    }\n",
              "\n",
              "    .colab-df-convert:hover {\n",
              "      background-color: #E2EBFA;\n",
              "      box-shadow: 0px 1px 2px rgba(60, 64, 67, 0.3), 0px 1px 3px 1px rgba(60, 64, 67, 0.15);\n",
              "      fill: #174EA6;\n",
              "    }\n",
              "\n",
              "    [theme=dark] .colab-df-convert {\n",
              "      background-color: #3B4455;\n",
              "      fill: #D2E3FC;\n",
              "    }\n",
              "\n",
              "    [theme=dark] .colab-df-convert:hover {\n",
              "      background-color: #434B5C;\n",
              "      box-shadow: 0px 1px 3px 1px rgba(0, 0, 0, 0.15);\n",
              "      filter: drop-shadow(0px 1px 2px rgba(0, 0, 0, 0.3));\n",
              "      fill: #FFFFFF;\n",
              "    }\n",
              "  </style>\n",
              "\n",
              "      <script>\n",
              "        const buttonEl =\n",
              "          document.querySelector('#df-cfa5ebd6-5ff1-4579-9418-7195de015d71 button.colab-df-convert');\n",
              "        buttonEl.style.display =\n",
              "          google.colab.kernel.accessAllowed ? 'block' : 'none';\n",
              "\n",
              "        async function convertToInteractive(key) {\n",
              "          const element = document.querySelector('#df-cfa5ebd6-5ff1-4579-9418-7195de015d71');\n",
              "          const dataTable =\n",
              "            await google.colab.kernel.invokeFunction('convertToInteractive',\n",
              "                                                     [key], {});\n",
              "          if (!dataTable) return;\n",
              "\n",
              "          const docLinkHtml = 'Like what you see? Visit the ' +\n",
              "            '<a target=\"_blank\" href=https://colab.research.google.com/notebooks/data_table.ipynb>data table notebook</a>'\n",
              "            + ' to learn more about interactive tables.';\n",
              "          element.innerHTML = '';\n",
              "          dataTable['output_type'] = 'display_data';\n",
              "          await google.colab.output.renderOutput(dataTable, element);\n",
              "          const docLink = document.createElement('div');\n",
              "          docLink.innerHTML = docLinkHtml;\n",
              "          element.appendChild(docLink);\n",
              "        }\n",
              "      </script>\n",
              "    </div>\n",
              "  </div>\n",
              "  "
            ]
          },
          "metadata": {},
          "execution_count": 101
        }
      ],
      "source": [
        "analyzer = SentimentIntensityAnalyzer()\n",
        "\n",
        "sentiment = df3['tweet_demojize'].apply(analyzer.polarity_scores)\n",
        "sentiment_df = pd.DataFrame(sentiment.tolist())\n",
        "sentiment_df.head()"
      ],
      "id": "RvXkPoBFP5bQ"
    },
    {
      "cell_type": "code",
      "execution_count": 102,
      "metadata": {
        "id": "z7XCSwCvP5bQ",
        "colab": {
          "base_uri": "https://localhost:8080/"
        },
        "outputId": "704fa542-2c87-4e81-cb2a-34f0a648bc68"
      },
      "outputs": [
        {
          "output_type": "execute_result",
          "data": {
            "text/plain": [
              "0   -0.5106\n",
              "1   -0.4404\n",
              "2   -0.9956\n",
              "3   -0.4912\n",
              "4    0.9897\n",
              "Name: compound, dtype: float64"
            ]
          },
          "metadata": {},
          "execution_count": 102
        }
      ],
      "source": [
        "df3 = pd.concat([df3,sentiment_df], axis = 1)\n",
        "df3['neg'].head(5)\n",
        "df3['neu'].head(5)\n",
        "df3['pos'].head(5)\n",
        "df3['compound'].head(5)"
      ],
      "id": "z7XCSwCvP5bQ"
    },
    {
      "cell_type": "markdown",
      "metadata": {
        "id": "GyVzyNimP5bQ"
      },
      "source": [
        "### Delete '#'"
      ],
      "id": "GyVzyNimP5bQ"
    },
    {
      "cell_type": "code",
      "execution_count": 103,
      "metadata": {
        "id": "XXMefQY-P5bQ"
      },
      "outputs": [],
      "source": [
        "df3['hashtag_gone'] = df3[\"tweet_demojize\"].str.replace(\"#\",\"\")\n",
        "df3['hashtag_gone_twt'] = df3[\"tweet\"].str.replace(\"#\",\"\")"
      ],
      "id": "XXMefQY-P5bQ"
    },
    {
      "cell_type": "markdown",
      "metadata": {
        "id": "jYcXKnqgP5bQ"
      },
      "source": [
        "### Tokenizing spacy\n"
      ],
      "id": "jYcXKnqgP5bQ"
    },
    {
      "cell_type": "code",
      "execution_count": 104,
      "metadata": {
        "id": "0aKSjahBP5bQ",
        "colab": {
          "base_uri": "https://localhost:8080/"
        },
        "outputId": "f5ca24ff-2909-40df-d2a5-861d95717484"
      },
      "outputs": [
        {
          "output_type": "stream",
          "name": "stdout",
          "text": [
            "Requirement already satisfied: spacy in /usr/local/lib/python3.7/dist-packages (2.2.4)\n",
            "Requirement already satisfied: wasabi<1.1.0,>=0.4.0 in /usr/local/lib/python3.7/dist-packages (from spacy) (0.9.1)\n",
            "Requirement already satisfied: tqdm<5.0.0,>=4.38.0 in /usr/local/lib/python3.7/dist-packages (from spacy) (4.64.0)\n",
            "Requirement already satisfied: setuptools in /usr/local/lib/python3.7/dist-packages (from spacy) (57.4.0)\n",
            "Requirement already satisfied: numpy>=1.15.0 in /usr/local/lib/python3.7/dist-packages (from spacy) (1.21.6)\n",
            "Requirement already satisfied: blis<0.5.0,>=0.4.0 in /usr/local/lib/python3.7/dist-packages (from spacy) (0.4.1)\n",
            "Requirement already satisfied: requests<3.0.0,>=2.13.0 in /usr/local/lib/python3.7/dist-packages (from spacy) (2.23.0)\n",
            "Requirement already satisfied: srsly<1.1.0,>=1.0.2 in /usr/local/lib/python3.7/dist-packages (from spacy) (1.0.5)\n",
            "Requirement already satisfied: thinc==7.4.0 in /usr/local/lib/python3.7/dist-packages (from spacy) (7.4.0)\n",
            "Requirement already satisfied: plac<1.2.0,>=0.9.6 in /usr/local/lib/python3.7/dist-packages (from spacy) (1.1.3)\n",
            "Requirement already satisfied: catalogue<1.1.0,>=0.0.7 in /usr/local/lib/python3.7/dist-packages (from spacy) (1.0.0)\n",
            "Requirement already satisfied: cymem<2.1.0,>=2.0.2 in /usr/local/lib/python3.7/dist-packages (from spacy) (2.0.6)\n",
            "Requirement already satisfied: preshed<3.1.0,>=3.0.2 in /usr/local/lib/python3.7/dist-packages (from spacy) (3.0.6)\n",
            "Requirement already satisfied: murmurhash<1.1.0,>=0.28.0 in /usr/local/lib/python3.7/dist-packages (from spacy) (1.0.7)\n",
            "Requirement already satisfied: importlib-metadata>=0.20 in /usr/local/lib/python3.7/dist-packages (from catalogue<1.1.0,>=0.0.7->spacy) (4.11.3)\n",
            "Requirement already satisfied: zipp>=0.5 in /usr/local/lib/python3.7/dist-packages (from importlib-metadata>=0.20->catalogue<1.1.0,>=0.0.7->spacy) (3.8.0)\n",
            "Requirement already satisfied: typing-extensions>=3.6.4 in /usr/local/lib/python3.7/dist-packages (from importlib-metadata>=0.20->catalogue<1.1.0,>=0.0.7->spacy) (4.2.0)\n",
            "Requirement already satisfied: certifi>=2017.4.17 in /usr/local/lib/python3.7/dist-packages (from requests<3.0.0,>=2.13.0->spacy) (2021.10.8)\n",
            "Requirement already satisfied: idna<3,>=2.5 in /usr/local/lib/python3.7/dist-packages (from requests<3.0.0,>=2.13.0->spacy) (2.10)\n",
            "Requirement already satisfied: urllib3!=1.25.0,!=1.25.1,<1.26,>=1.21.1 in /usr/local/lib/python3.7/dist-packages (from requests<3.0.0,>=2.13.0->spacy) (1.24.3)\n",
            "Requirement already satisfied: chardet<4,>=3.0.2 in /usr/local/lib/python3.7/dist-packages (from requests<3.0.0,>=2.13.0->spacy) (3.0.4)\n"
          ]
        }
      ],
      "source": [
        "!pip install spacy"
      ],
      "id": "0aKSjahBP5bQ"
    },
    {
      "cell_type": "code",
      "execution_count": 105,
      "metadata": {
        "id": "Cy_SAqsJP5bQ"
      },
      "outputs": [],
      "source": [
        "import spacy\n",
        "from spacy.tokenizer import Tokenizer\n",
        "from spacy.lang.en import English\n",
        "nlp = English()\n",
        "\n",
        "tokenizer = nlp.tokenizer\n",
        "tokens = tokenizer(\"Let's go to N.Y.\")"
      ],
      "id": "Cy_SAqsJP5bQ"
    },
    {
      "cell_type": "code",
      "execution_count": 106,
      "metadata": {
        "id": "_k2U6FftP5bR"
      },
      "outputs": [],
      "source": [
        "df3[\"hashtag_gone2\"] = df3[\"hashtag_gone\"].str.replace(\"@USER\",\"\")\n",
        "df3[\"hashtag_gone2_twt\"] = df3[\"hashtag_gone_twt\"].str.replace(\"@USER\",\"\")"
      ],
      "id": "_k2U6FftP5bR"
    },
    {
      "cell_type": "code",
      "execution_count": 107,
      "metadata": {
        "id": "oIXr-Og5P5bR",
        "colab": {
          "base_uri": "https://localhost:8080/"
        },
        "outputId": "6bee3472-2002-45ab-9743-a77c0a87d02c"
      },
      "outputs": [
        {
          "output_type": "execute_result",
          "data": {
            "text/plain": [
              "0    (=, =, Argh, =, =, \\r\\n\\r\\n , Some, random, id...\n",
              "1    ((, we, hate, america, and, we, are, going, to...\n",
              "2    (\", \\r\\n\\r\\n , So, ,, on, the, tenth, annivers...\n",
              "3    (casualt, i, fucked, your, mum, and, i, liked,...\n",
              "4    (\", Welcome, !, \\r\\n\\r\\n , Hello, ,, ,, and, w...\n",
              "5    (go, to, court, ?, \\r\\n  , Shit, ,, cause, the...\n",
              "6    (\", \\r\\n\\r\\n , =, =, Who, Lived, longer, ?, =,...\n",
              "7    (=, =, Intolerance, in, India, =, =, \\r\\n\\r\\n ...\n",
              "8    (\", =, =, NPOV==, \\r\\n\\r\\n , This, following, ...\n",
              "9    (FUCK, YOU, YOU, LIKE, ANGELIQUE, CARRINGTON, ...\n",
              "Name: tokens_twt, dtype: object"
            ]
          },
          "metadata": {},
          "execution_count": 107
        }
      ],
      "source": [
        "df3['tokens'] = df3[\"hashtag_gone2\"].apply(tokenizer)\n",
        "df3['tokens'].head(n=10)\n",
        "\n",
        "df3['tokens_twt'] = df3[\"hashtag_gone2_twt\"].apply(tokenizer)\n",
        "df3['tokens_twt'].head(n=10)"
      ],
      "id": "oIXr-Og5P5bR"
    },
    {
      "cell_type": "markdown",
      "metadata": {
        "id": "os6nvq_aP5bR"
      },
      "source": [
        "### Delete all punctuation"
      ],
      "id": "os6nvq_aP5bR"
    },
    {
      "cell_type": "code",
      "execution_count": 108,
      "metadata": {
        "id": "kj5zupQRP5bR"
      },
      "outputs": [],
      "source": [
        "import string \n",
        "punct = string.punctuation \n",
        "\n",
        "def remove_punct (txt):\n",
        "  for item in punct:\n",
        "    txt = txt.replace(item, \"\")\n",
        "  return txt"
      ],
      "id": "kj5zupQRP5bR"
    },
    {
      "cell_type": "code",
      "execution_count": 109,
      "metadata": {
        "id": "W7nyBGlAP5bR"
      },
      "outputs": [],
      "source": [
        "df3[\"no_punct\"] = df3[\"tweet_demojize\"].apply(remove_punct)\n",
        "df3[\"no_punct_twt\"] = df3[\"tweet\"].apply(remove_punct)"
      ],
      "id": "W7nyBGlAP5bR"
    },
    {
      "cell_type": "markdown",
      "metadata": {
        "id": "P-RuWn5BP5bR"
      },
      "source": [
        "### POS on no_punct"
      ],
      "id": "P-RuWn5BP5bR"
    },
    {
      "cell_type": "code",
      "execution_count": 110,
      "metadata": {
        "id": "cWQyLB4YP5bR"
      },
      "outputs": [],
      "source": [
        "df3[\"POS_clean\"] = df3[\"no_punct\"].apply(pos_tagg) "
      ],
      "id": "cWQyLB4YP5bR"
    },
    {
      "cell_type": "markdown",
      "metadata": {
        "id": "iM9GVGcnP5bR"
      },
      "source": [
        "### POS with @USER"
      ],
      "id": "iM9GVGcnP5bR"
    },
    {
      "cell_type": "code",
      "execution_count": 111,
      "metadata": {
        "id": "zzqsTCukP5bR"
      },
      "outputs": [],
      "source": [
        "def pos_tag2(tweet):\n",
        "    t_t = twtk.tokenize(tweet)\n",
        "    pos_list = pos_tag(t_t, tagset='universal')\n",
        "    \n",
        "    pos_output_list = []\n",
        "    for i in pos_list:\n",
        "        \n",
        "        if is_emoji(i[0]):\n",
        "            pos_output_list.append(\"EMOJI\") # custom emoji POS tag\n",
        "            \n",
        "        elif re.match(r\"[-a-zA-Z0-9@:%._\\+~#=]{1,256}\\.[a-zA-Z0-9()]{1,6}\\b([-a-zA-Z0-9()@:%_\\+.~#?&//=]*)\", i[0]):\n",
        "            pos_output_list.append(\"URL\") # custom url POS tag\n",
        "\n",
        "        elif i[0] == \"URL\":\n",
        "            pos_output_list.append(\"URL\") # custom url POS tag\n",
        "            \n",
        "        elif i[0][0] == \"#\":\n",
        "            pos_output_list.append(\"HASH\") # custom hashtag POS tag\n",
        "\n",
        "        elif i[0] == \"@USER\":\n",
        "            pos_output_list.append(\"AT\") # custom @user POS tag\n",
        "\n",
        "        elif i[0] == \"USER\":\n",
        "            pos_output_list.append(\"AT\") # custom @user POS tag\n",
        "            \n",
        "        else:\n",
        "            pos_output_list.append(i[1])\n",
        "    \n",
        "    pos_result = ' '.join(pos_output_list)\n",
        "    \n",
        "    return pos_result"
      ],
      "id": "zzqsTCukP5bR"
    },
    {
      "cell_type": "code",
      "execution_count": 112,
      "metadata": {
        "id": "WnNYjXWmP5bS"
      },
      "outputs": [],
      "source": [
        "# applying the enhanced POS on the tweet column\n",
        "\n",
        "df3['pos_universal'] = df3['tweet'].apply(pos_tag2)"
      ],
      "id": "WnNYjXWmP5bS"
    },
    {
      "cell_type": "code",
      "execution_count": 113,
      "metadata": {
        "id": "qi_bvMszP5bS"
      },
      "outputs": [],
      "source": [
        "df3['pos_universal_tweet_demojize'] = df3['tweet_demojize'].apply(pos_tag2)"
      ],
      "id": "qi_bvMszP5bS"
    },
    {
      "cell_type": "markdown",
      "metadata": {
        "id": "EiebFUXdP5bS"
      },
      "source": [
        "### Lemma"
      ],
      "id": "EiebFUXdP5bS"
    },
    {
      "cell_type": "code",
      "execution_count": 114,
      "metadata": {
        "id": "jab4aUQlP5bS"
      },
      "outputs": [],
      "source": [
        "import spacy\n",
        "nlp = spacy.load(\"en_core_web_sm\") \n",
        "\n",
        "def lemmatizing (txt):\n",
        "    doc = nlp(txt)\n",
        "    return \" \".join([token.lemma_ for token in doc])\n",
        "\n",
        "df3['lemma'] = df3['no_punct'].apply(lemmatizing)\n",
        "df3['lemma_twt'] = df3['no_punct_twt'].apply(lemmatizing)"
      ],
      "id": "jab4aUQlP5bS"
    },
    {
      "cell_type": "markdown",
      "metadata": {
        "id": "jQm1ypjXHocJ"
      },
      "source": [
        "## Preprocessing df4 (test_data) (test_TEXTGAIN)"
      ],
      "id": "jQm1ypjXHocJ"
    },
    {
      "cell_type": "markdown",
      "metadata": {
        "id": "tvJZkAu3HocK"
      },
      "source": [
        "### Demojize"
      ],
      "id": "tvJZkAu3HocK"
    },
    {
      "cell_type": "code",
      "execution_count": 115,
      "metadata": {
        "id": "lRVKcPDYHocK"
      },
      "outputs": [],
      "source": [
        "df4['tweet_demojize'] = df4['tweet'].apply(emoji.demojize)"
      ],
      "id": "lRVKcPDYHocK"
    },
    {
      "cell_type": "code",
      "execution_count": 116,
      "metadata": {
        "id": "AqFpCUrLHocK",
        "colab": {
          "base_uri": "https://localhost:8080/"
        },
        "outputId": "1fd7c03c-a7c7-411e-f654-c15d9bb658a8"
      },
      "outputs": [
        {
          "output_type": "execute_result",
          "data": {
            "text/plain": [
              "0     a few American personality camels, well adjust...\n",
              "1     @juniormufasa_  how come lukaku flop @ man uu ...\n",
              "2               LUKAKU IS SUCH A NIGGER I HATE THIS APE\n",
              "3     I beg you lot keep that porch monkey coon Shau...\n",
              "4     TRY NOT TO GET HIGH AS THE MONKEY !!! :cross_m...\n",
              "5     So Ole Gunnar Soljkaer is a fucking coon who r...\n",
              "6     Ever since he got a doctorate that nigger Rash...\n",
              "7     @MiSHsWilli @Facebook I’ve had that as well. S...\n",
              "8     @ItsYouJuan8 Don't think it'll happen, Fred/Mc...\n",
              "9                   Shaun Bailey is a fucking coon bruv\n",
              "10    My sticker finally came in! Happy to support @...\n",
              "11    O, HE WANTS TO SELL MY MONKEY! \\r\\nBenzema (09...\n",
              "12    O, HE WANTS TO SELL MY MONKEY! \\r\\nBenzema (09...\n",
              "13    RT @ose_certified: With Tammy Abraham??\\r\\nIt'...\n",
              "14                              Koulibaly what a nigger\n",
              "15    Koulibaly said Napoli won’t call him a monkey ...\n",
              "16    Mount a camel's back, back to London you mean?...\n",
              "17    @OliverLFC4 @Trentzgoated No, you called Kouli...\n",
              "18    @Trentzgoated @MagicMousset and he even tried ...\n",
              "19    @BlueFunnyMonkey Patrick looking at the new Bl...\n",
              "20    If only Ever Banega was five years younger and...\n",
              "21    Squirrel Monkeys live in larger groups than an...\n",
              "22    @thfcOdyssey Kick that ape Davies out of the s...\n",
              "23    Might sound like that monkey meme but id like ...\n",
              "24    Kike Setin king of useless possession,ruptured...\n",
              "25    @_steve_butler_ @PaulKenward @james_rood @mran...\n",
              "26                            Barkley you fucking pikey\n",
              "27    Tinker Town Tiger: LeBron James betrayed Ameri...\n",
              "28     Ansu Fati 86th minute abey madarchod Kike Setten\n",
              "29    @Petraa_Lewinsky @DGTALEmpress I once runaway ...\n",
              "Name: tweet_demojize, dtype: object"
            ]
          },
          "metadata": {},
          "execution_count": 116
        }
      ],
      "source": [
        "df4['tweet_demojize'].head(n=30)"
      ],
      "id": "AqFpCUrLHocK"
    },
    {
      "cell_type": "markdown",
      "metadata": {
        "id": "TpRkt0lTHocK"
      },
      "source": [
        "### POS Tagger"
      ],
      "id": "TpRkt0lTHocK"
    },
    {
      "cell_type": "code",
      "execution_count": 117,
      "metadata": {
        "id": "dtI-_Pq6HocL",
        "colab": {
          "base_uri": "https://localhost:8080/"
        },
        "outputId": "1cbd28ae-9540-4b10-ad06-07859c78eecc"
      },
      "outputs": [
        {
          "output_type": "stream",
          "name": "stdout",
          "text": [
            "[nltk_data] Downloading package universal_tagset to /root/nltk_data...\n",
            "[nltk_data]   Package universal_tagset is already up-to-date!\n"
          ]
        }
      ],
      "source": [
        "nltk.download('universal_tagset')\n",
        "\n",
        "twtk = TweetTokenizer()\n",
        "\n",
        "def is_emoji(char):\n",
        "    return char in emoji.UNICODE_EMOJI[\"en\"]\n",
        "\n",
        "def pos_tagg(tweet):\n",
        "    t_t = twtk.tokenize(tweet)\n",
        "    pos_list = pos_tag(t_t, tagset='universal')\n",
        "\n",
        "    pos_output_list = []\n",
        "    for i in pos_list:\n",
        "        \n",
        "        if is_emoji(i[0]):\n",
        "            pos_output_list.append(\"EMOJI\") # custom emoji POS tag\n",
        "            \n",
        "        elif re.match(\n",
        "            r\"[-a-zA-Z0-9@:%._\\+~#=]{1,256}\\.[a-zA-Z0-9()]{1,6}\\b([-a-zA-Z0-9()@:%_\\+.~#?&//=]*)\",\n",
        "             i[0]):\n",
        "            pos_output_list.append(\"URL\") # custom url POS tag\n",
        "\n",
        "        elif i[0] == \"URL\":\n",
        "            pos_output_list.append(\"URL\") # custom url POS tag\n",
        "            \n",
        "        elif i[0][0] == \"#\":\n",
        "            pos_output_list.append(\"HASH\") # custom hashtag POS tag\n",
        "            \n",
        "        else:\n",
        "            pos_output_list.append(i[1])\n",
        "    \n",
        "    pos_result = ' '.join(pos_output_list)\n",
        "    \n",
        "    return pos_result"
      ],
      "id": "dtI-_Pq6HocL"
    },
    {
      "cell_type": "markdown",
      "metadata": {
        "id": "LR0OeJjaHocL"
      },
      "source": [
        "### Sentiment Analysis: Afinn\n"
      ],
      "id": "LR0OeJjaHocL"
    },
    {
      "cell_type": "code",
      "execution_count": 118,
      "metadata": {
        "id": "3kymzvMBHocL",
        "colab": {
          "base_uri": "https://localhost:8080/"
        },
        "outputId": "22d85591-c0e5-4580-df04-d130e2f4b12f"
      },
      "outputs": [
        {
          "output_type": "stream",
          "name": "stdout",
          "text": [
            "Requirement already satisfied: afinn in /usr/local/lib/python3.7/dist-packages (0.1)\n"
          ]
        }
      ],
      "source": [
        "!pip install afinn"
      ],
      "id": "3kymzvMBHocL"
    },
    {
      "cell_type": "code",
      "execution_count": 119,
      "metadata": {
        "id": "B_sUehEqHocL"
      },
      "outputs": [],
      "source": [
        "from afinn import Afinn"
      ],
      "id": "B_sUehEqHocL"
    },
    {
      "cell_type": "code",
      "execution_count": 120,
      "metadata": {
        "id": "8xwij1SHHocL",
        "colab": {
          "base_uri": "https://localhost:8080/"
        },
        "outputId": "4a9f8100-a93f-479e-db26-3c21ff0bd64c"
      },
      "outputs": [
        {
          "output_type": "execute_result",
          "data": {
            "text/plain": [
              "0     0.0\n",
              "1    -7.0\n",
              "2    -8.0\n",
              "3     1.0\n",
              "4     0.0\n",
              "5   -12.0\n",
              "6    -5.0\n",
              "7     0.0\n",
              "8    -3.0\n",
              "9    -4.0\n",
              "Name: afinn_score, dtype: float64"
            ]
          },
          "metadata": {},
          "execution_count": 120
        }
      ],
      "source": [
        "afinn = Afinn(language='en')\n",
        "\n",
        "df4['afinn_score'] = df4['tweet_demojize'].apply(afinn.score)\n",
        "df4['afinn_score'].head(10)"
      ],
      "id": "8xwij1SHHocL"
    },
    {
      "cell_type": "markdown",
      "metadata": {
        "id": "ZbBNu1NTHocL"
      },
      "source": [
        "### Sentiment Analysis: Vader\n"
      ],
      "id": "ZbBNu1NTHocL"
    },
    {
      "cell_type": "code",
      "execution_count": 121,
      "metadata": {
        "id": "8_gutYEBHocL",
        "colab": {
          "base_uri": "https://localhost:8080/"
        },
        "outputId": "ffc34075-198f-40ff-9ea6-6431a31e58c9"
      },
      "outputs": [
        {
          "output_type": "stream",
          "name": "stdout",
          "text": [
            "Requirement already satisfied: vaderSentiment in /usr/local/lib/python3.7/dist-packages (3.3.2)\n",
            "Requirement already satisfied: requests in /usr/local/lib/python3.7/dist-packages (from vaderSentiment) (2.23.0)\n",
            "Requirement already satisfied: idna<3,>=2.5 in /usr/local/lib/python3.7/dist-packages (from requests->vaderSentiment) (2.10)\n",
            "Requirement already satisfied: chardet<4,>=3.0.2 in /usr/local/lib/python3.7/dist-packages (from requests->vaderSentiment) (3.0.4)\n",
            "Requirement already satisfied: urllib3!=1.25.0,!=1.25.1,<1.26,>=1.21.1 in /usr/local/lib/python3.7/dist-packages (from requests->vaderSentiment) (1.24.3)\n",
            "Requirement already satisfied: certifi>=2017.4.17 in /usr/local/lib/python3.7/dist-packages (from requests->vaderSentiment) (2021.10.8)\n"
          ]
        }
      ],
      "source": [
        "!pip install vaderSentiment"
      ],
      "id": "8_gutYEBHocL"
    },
    {
      "cell_type": "code",
      "execution_count": 122,
      "metadata": {
        "id": "lKfvMDouHocL"
      },
      "outputs": [],
      "source": [
        "from vaderSentiment.vaderSentiment import SentimentIntensityAnalyzer"
      ],
      "id": "lKfvMDouHocL"
    },
    {
      "cell_type": "code",
      "execution_count": 123,
      "metadata": {
        "id": "iID3YpenHocM",
        "colab": {
          "base_uri": "https://localhost:8080/",
          "height": 0
        },
        "outputId": "d644fdc5-005b-46c4-fd1a-015e06818214"
      },
      "outputs": [
        {
          "output_type": "execute_result",
          "data": {
            "text/plain": [
              "     neg    neu    pos  compound\n",
              "0  0.000  0.888  0.112    0.5994\n",
              "1  0.358  0.642  0.000   -0.7717\n",
              "2  0.533  0.467  0.000   -0.8402\n",
              "3  0.000  0.859  0.141    0.3182\n",
              "4  0.079  0.921  0.000   -0.5067"
            ],
            "text/html": [
              "\n",
              "  <div id=\"df-c7d13d0e-dbd1-434a-8e8e-459b5635a3c8\">\n",
              "    <div class=\"colab-df-container\">\n",
              "      <div>\n",
              "<style scoped>\n",
              "    .dataframe tbody tr th:only-of-type {\n",
              "        vertical-align: middle;\n",
              "    }\n",
              "\n",
              "    .dataframe tbody tr th {\n",
              "        vertical-align: top;\n",
              "    }\n",
              "\n",
              "    .dataframe thead th {\n",
              "        text-align: right;\n",
              "    }\n",
              "</style>\n",
              "<table border=\"1\" class=\"dataframe\">\n",
              "  <thead>\n",
              "    <tr style=\"text-align: right;\">\n",
              "      <th></th>\n",
              "      <th>neg</th>\n",
              "      <th>neu</th>\n",
              "      <th>pos</th>\n",
              "      <th>compound</th>\n",
              "    </tr>\n",
              "  </thead>\n",
              "  <tbody>\n",
              "    <tr>\n",
              "      <th>0</th>\n",
              "      <td>0.000</td>\n",
              "      <td>0.888</td>\n",
              "      <td>0.112</td>\n",
              "      <td>0.5994</td>\n",
              "    </tr>\n",
              "    <tr>\n",
              "      <th>1</th>\n",
              "      <td>0.358</td>\n",
              "      <td>0.642</td>\n",
              "      <td>0.000</td>\n",
              "      <td>-0.7717</td>\n",
              "    </tr>\n",
              "    <tr>\n",
              "      <th>2</th>\n",
              "      <td>0.533</td>\n",
              "      <td>0.467</td>\n",
              "      <td>0.000</td>\n",
              "      <td>-0.8402</td>\n",
              "    </tr>\n",
              "    <tr>\n",
              "      <th>3</th>\n",
              "      <td>0.000</td>\n",
              "      <td>0.859</td>\n",
              "      <td>0.141</td>\n",
              "      <td>0.3182</td>\n",
              "    </tr>\n",
              "    <tr>\n",
              "      <th>4</th>\n",
              "      <td>0.079</td>\n",
              "      <td>0.921</td>\n",
              "      <td>0.000</td>\n",
              "      <td>-0.5067</td>\n",
              "    </tr>\n",
              "  </tbody>\n",
              "</table>\n",
              "</div>\n",
              "      <button class=\"colab-df-convert\" onclick=\"convertToInteractive('df-c7d13d0e-dbd1-434a-8e8e-459b5635a3c8')\"\n",
              "              title=\"Convert this dataframe to an interactive table.\"\n",
              "              style=\"display:none;\">\n",
              "        \n",
              "  <svg xmlns=\"http://www.w3.org/2000/svg\" height=\"24px\"viewBox=\"0 0 24 24\"\n",
              "       width=\"24px\">\n",
              "    <path d=\"M0 0h24v24H0V0z\" fill=\"none\"/>\n",
              "    <path d=\"M18.56 5.44l.94 2.06.94-2.06 2.06-.94-2.06-.94-.94-2.06-.94 2.06-2.06.94zm-11 1L8.5 8.5l.94-2.06 2.06-.94-2.06-.94L8.5 2.5l-.94 2.06-2.06.94zm10 10l.94 2.06.94-2.06 2.06-.94-2.06-.94-.94-2.06-.94 2.06-2.06.94z\"/><path d=\"M17.41 7.96l-1.37-1.37c-.4-.4-.92-.59-1.43-.59-.52 0-1.04.2-1.43.59L10.3 9.45l-7.72 7.72c-.78.78-.78 2.05 0 2.83L4 21.41c.39.39.9.59 1.41.59.51 0 1.02-.2 1.41-.59l7.78-7.78 2.81-2.81c.8-.78.8-2.07 0-2.86zM5.41 20L4 18.59l7.72-7.72 1.47 1.35L5.41 20z\"/>\n",
              "  </svg>\n",
              "      </button>\n",
              "      \n",
              "  <style>\n",
              "    .colab-df-container {\n",
              "      display:flex;\n",
              "      flex-wrap:wrap;\n",
              "      gap: 12px;\n",
              "    }\n",
              "\n",
              "    .colab-df-convert {\n",
              "      background-color: #E8F0FE;\n",
              "      border: none;\n",
              "      border-radius: 50%;\n",
              "      cursor: pointer;\n",
              "      display: none;\n",
              "      fill: #1967D2;\n",
              "      height: 32px;\n",
              "      padding: 0 0 0 0;\n",
              "      width: 32px;\n",
              "    }\n",
              "\n",
              "    .colab-df-convert:hover {\n",
              "      background-color: #E2EBFA;\n",
              "      box-shadow: 0px 1px 2px rgba(60, 64, 67, 0.3), 0px 1px 3px 1px rgba(60, 64, 67, 0.15);\n",
              "      fill: #174EA6;\n",
              "    }\n",
              "\n",
              "    [theme=dark] .colab-df-convert {\n",
              "      background-color: #3B4455;\n",
              "      fill: #D2E3FC;\n",
              "    }\n",
              "\n",
              "    [theme=dark] .colab-df-convert:hover {\n",
              "      background-color: #434B5C;\n",
              "      box-shadow: 0px 1px 3px 1px rgba(0, 0, 0, 0.15);\n",
              "      filter: drop-shadow(0px 1px 2px rgba(0, 0, 0, 0.3));\n",
              "      fill: #FFFFFF;\n",
              "    }\n",
              "  </style>\n",
              "\n",
              "      <script>\n",
              "        const buttonEl =\n",
              "          document.querySelector('#df-c7d13d0e-dbd1-434a-8e8e-459b5635a3c8 button.colab-df-convert');\n",
              "        buttonEl.style.display =\n",
              "          google.colab.kernel.accessAllowed ? 'block' : 'none';\n",
              "\n",
              "        async function convertToInteractive(key) {\n",
              "          const element = document.querySelector('#df-c7d13d0e-dbd1-434a-8e8e-459b5635a3c8');\n",
              "          const dataTable =\n",
              "            await google.colab.kernel.invokeFunction('convertToInteractive',\n",
              "                                                     [key], {});\n",
              "          if (!dataTable) return;\n",
              "\n",
              "          const docLinkHtml = 'Like what you see? Visit the ' +\n",
              "            '<a target=\"_blank\" href=https://colab.research.google.com/notebooks/data_table.ipynb>data table notebook</a>'\n",
              "            + ' to learn more about interactive tables.';\n",
              "          element.innerHTML = '';\n",
              "          dataTable['output_type'] = 'display_data';\n",
              "          await google.colab.output.renderOutput(dataTable, element);\n",
              "          const docLink = document.createElement('div');\n",
              "          docLink.innerHTML = docLinkHtml;\n",
              "          element.appendChild(docLink);\n",
              "        }\n",
              "      </script>\n",
              "    </div>\n",
              "  </div>\n",
              "  "
            ]
          },
          "metadata": {},
          "execution_count": 123
        }
      ],
      "source": [
        "analyzer = SentimentIntensityAnalyzer()\n",
        "\n",
        "sentiment = df4['tweet_demojize'].apply(analyzer.polarity_scores)\n",
        "sentiment_df = pd.DataFrame(sentiment.tolist())\n",
        "sentiment_df.head()"
      ],
      "id": "iID3YpenHocM"
    },
    {
      "cell_type": "code",
      "execution_count": 124,
      "metadata": {
        "id": "ZKLlngSyHocM",
        "colab": {
          "base_uri": "https://localhost:8080/"
        },
        "outputId": "bb670a87-aa48-4a58-8422-eea4aa669dc9"
      },
      "outputs": [
        {
          "output_type": "execute_result",
          "data": {
            "text/plain": [
              "0    0.5994\n",
              "1   -0.7717\n",
              "2   -0.8402\n",
              "3    0.3182\n",
              "4   -0.5067\n",
              "Name: compound, dtype: float64"
            ]
          },
          "metadata": {},
          "execution_count": 124
        }
      ],
      "source": [
        "df4 = pd.concat([df4,sentiment_df], axis = 1)\n",
        "df4['neg'].head(5)\n",
        "df4['neu'].head(5)\n",
        "df4['pos'].head(5)\n",
        "df4['compound'].head(5)"
      ],
      "id": "ZKLlngSyHocM"
    },
    {
      "cell_type": "markdown",
      "metadata": {
        "id": "wHcb1PIPHocM"
      },
      "source": [
        "### Delete '#'"
      ],
      "id": "wHcb1PIPHocM"
    },
    {
      "cell_type": "code",
      "execution_count": 125,
      "metadata": {
        "id": "xFY1O_oeHocM"
      },
      "outputs": [],
      "source": [
        "df4['hashtag_gone'] = df4[\"tweet_demojize\"].str.replace(\"#\",\"\")\n",
        "df4['hashtag_gone_twt'] = df4[\"tweet\"].str.replace(\"#\",\"\")"
      ],
      "id": "xFY1O_oeHocM"
    },
    {
      "cell_type": "markdown",
      "metadata": {
        "id": "WrSWm_93HocM"
      },
      "source": [
        "### Tokenizing spacy\n"
      ],
      "id": "WrSWm_93HocM"
    },
    {
      "cell_type": "code",
      "execution_count": 126,
      "metadata": {
        "id": "s0_GbdrkHocM",
        "colab": {
          "base_uri": "https://localhost:8080/"
        },
        "outputId": "aa9ee83b-011f-4a76-ad41-c6a35446946f"
      },
      "outputs": [
        {
          "output_type": "stream",
          "name": "stdout",
          "text": [
            "Requirement already satisfied: spacy in /usr/local/lib/python3.7/dist-packages (2.2.4)\n",
            "Requirement already satisfied: plac<1.2.0,>=0.9.6 in /usr/local/lib/python3.7/dist-packages (from spacy) (1.1.3)\n",
            "Requirement already satisfied: requests<3.0.0,>=2.13.0 in /usr/local/lib/python3.7/dist-packages (from spacy) (2.23.0)\n",
            "Requirement already satisfied: setuptools in /usr/local/lib/python3.7/dist-packages (from spacy) (57.4.0)\n",
            "Requirement already satisfied: cymem<2.1.0,>=2.0.2 in /usr/local/lib/python3.7/dist-packages (from spacy) (2.0.6)\n",
            "Requirement already satisfied: catalogue<1.1.0,>=0.0.7 in /usr/local/lib/python3.7/dist-packages (from spacy) (1.0.0)\n",
            "Requirement already satisfied: tqdm<5.0.0,>=4.38.0 in /usr/local/lib/python3.7/dist-packages (from spacy) (4.64.0)\n",
            "Requirement already satisfied: preshed<3.1.0,>=3.0.2 in /usr/local/lib/python3.7/dist-packages (from spacy) (3.0.6)\n",
            "Requirement already satisfied: numpy>=1.15.0 in /usr/local/lib/python3.7/dist-packages (from spacy) (1.21.6)\n",
            "Requirement already satisfied: wasabi<1.1.0,>=0.4.0 in /usr/local/lib/python3.7/dist-packages (from spacy) (0.9.1)\n",
            "Requirement already satisfied: thinc==7.4.0 in /usr/local/lib/python3.7/dist-packages (from spacy) (7.4.0)\n",
            "Requirement already satisfied: murmurhash<1.1.0,>=0.28.0 in /usr/local/lib/python3.7/dist-packages (from spacy) (1.0.7)\n",
            "Requirement already satisfied: srsly<1.1.0,>=1.0.2 in /usr/local/lib/python3.7/dist-packages (from spacy) (1.0.5)\n",
            "Requirement already satisfied: blis<0.5.0,>=0.4.0 in /usr/local/lib/python3.7/dist-packages (from spacy) (0.4.1)\n",
            "Requirement already satisfied: importlib-metadata>=0.20 in /usr/local/lib/python3.7/dist-packages (from catalogue<1.1.0,>=0.0.7->spacy) (4.11.3)\n",
            "Requirement already satisfied: typing-extensions>=3.6.4 in /usr/local/lib/python3.7/dist-packages (from importlib-metadata>=0.20->catalogue<1.1.0,>=0.0.7->spacy) (4.2.0)\n",
            "Requirement already satisfied: zipp>=0.5 in /usr/local/lib/python3.7/dist-packages (from importlib-metadata>=0.20->catalogue<1.1.0,>=0.0.7->spacy) (3.8.0)\n",
            "Requirement already satisfied: idna<3,>=2.5 in /usr/local/lib/python3.7/dist-packages (from requests<3.0.0,>=2.13.0->spacy) (2.10)\n",
            "Requirement already satisfied: chardet<4,>=3.0.2 in /usr/local/lib/python3.7/dist-packages (from requests<3.0.0,>=2.13.0->spacy) (3.0.4)\n",
            "Requirement already satisfied: certifi>=2017.4.17 in /usr/local/lib/python3.7/dist-packages (from requests<3.0.0,>=2.13.0->spacy) (2021.10.8)\n",
            "Requirement already satisfied: urllib3!=1.25.0,!=1.25.1,<1.26,>=1.21.1 in /usr/local/lib/python3.7/dist-packages (from requests<3.0.0,>=2.13.0->spacy) (1.24.3)\n"
          ]
        }
      ],
      "source": [
        "!pip install spacy"
      ],
      "id": "s0_GbdrkHocM"
    },
    {
      "cell_type": "code",
      "execution_count": 127,
      "metadata": {
        "id": "idX4V9qUHocM"
      },
      "outputs": [],
      "source": [
        "import spacy\n",
        "from spacy.tokenizer import Tokenizer\n",
        "from spacy.lang.en import English\n",
        "nlp = English()\n",
        "\n",
        "tokenizer = nlp.tokenizer\n",
        "tokens = tokenizer(\"Let's go to N.Y.\")"
      ],
      "id": "idX4V9qUHocM"
    },
    {
      "cell_type": "code",
      "execution_count": 128,
      "metadata": {
        "id": "TybT_0woHocM"
      },
      "outputs": [],
      "source": [
        "df4[\"hashtag_gone2\"] = df4[\"hashtag_gone\"].str.replace(\"@USER\",\"\")\n",
        "df4[\"hashtag_gone2_twt\"] = df4[\"hashtag_gone_twt\"].str.replace(\"@USER\",\"\")"
      ],
      "id": "TybT_0woHocM"
    },
    {
      "cell_type": "code",
      "execution_count": 129,
      "metadata": {
        "id": "o_FdLX49HocN",
        "colab": {
          "base_uri": "https://localhost:8080/"
        },
        "outputId": "6d40ef49-6aa2-4520-bc30-6268baa8af86"
      },
      "outputs": [
        {
          "output_type": "execute_result",
          "data": {
            "text/plain": [
              "0    (a, few, American, personality, camels, ,, wel...\n",
              "1    (@juniormufasa, _,  , how, come, lukaku, flop,...\n",
              "2    (LUKAKU, IS, SUCH, A, NIGGER, I, HATE, THIS, APE)\n",
              "3    (I, beg, you, lot, keep, that, porch, monkey, ...\n",
              "4    (TRY, NOT, TO, GET, HIGH, AS, THE, MONKEY, !, ...\n",
              "5    (So, Ole, Gunnar, Soljkaer, is, a, fucking, co...\n",
              "6    (Ever, since, he, got, a, doctorate, that, nig...\n",
              "7    (@MiSHsWilli, @Facebook, I, ’ve, had, that, as...\n",
              "8    (@ItsYouJuan8, Do, n't, think, it, 'll, happen...\n",
              "9          (Shaun, Bailey, is, a, fucking, coon, bruv)\n",
              "Name: tokens_twt, dtype: object"
            ]
          },
          "metadata": {},
          "execution_count": 129
        }
      ],
      "source": [
        "df4['tokens'] = df4[\"hashtag_gone2\"].apply(tokenizer)\n",
        "df4['tokens'].head(n=10)\n",
        "\n",
        "df4['tokens_twt'] = df4[\"hashtag_gone2_twt\"].apply(tokenizer)\n",
        "df4['tokens_twt'].head(n=10)"
      ],
      "id": "o_FdLX49HocN"
    },
    {
      "cell_type": "markdown",
      "metadata": {
        "id": "0VRL_u0AHocN"
      },
      "source": [
        "### Delete all punctuation"
      ],
      "id": "0VRL_u0AHocN"
    },
    {
      "cell_type": "code",
      "execution_count": 130,
      "metadata": {
        "id": "ArqgjQqEHocN"
      },
      "outputs": [],
      "source": [
        "import string \n",
        "punct = string.punctuation \n",
        "\n",
        "def remove_punct (txt):\n",
        "  for item in punct:\n",
        "    txt = txt.replace(item, \"\")\n",
        "  return txt"
      ],
      "id": "ArqgjQqEHocN"
    },
    {
      "cell_type": "code",
      "execution_count": 131,
      "metadata": {
        "id": "HLj8WaETHocN"
      },
      "outputs": [],
      "source": [
        "df4[\"no_punct\"] = df4[\"tweet_demojize\"].apply(remove_punct)\n",
        "df4[\"no_punct_twt\"] = df4[\"tweet\"].apply(remove_punct)"
      ],
      "id": "HLj8WaETHocN"
    },
    {
      "cell_type": "markdown",
      "metadata": {
        "id": "wuQIiCU3HocN"
      },
      "source": [
        "### POS on no_punct"
      ],
      "id": "wuQIiCU3HocN"
    },
    {
      "cell_type": "code",
      "execution_count": 132,
      "metadata": {
        "id": "7aOR5A_vHocN"
      },
      "outputs": [],
      "source": [
        "df4[\"POS_clean\"] = df4[\"no_punct\"].apply(pos_tagg) "
      ],
      "id": "7aOR5A_vHocN"
    },
    {
      "cell_type": "markdown",
      "metadata": {
        "id": "je4ybsKmHocN"
      },
      "source": [
        "### POS with @USER"
      ],
      "id": "je4ybsKmHocN"
    },
    {
      "cell_type": "code",
      "execution_count": 133,
      "metadata": {
        "id": "3SBndGaMHocN"
      },
      "outputs": [],
      "source": [
        "def pos_tag2(tweet):\n",
        "    t_t = twtk.tokenize(tweet)\n",
        "    pos_list = pos_tag(t_t, tagset='universal')\n",
        "\n",
        "    pos_output_list = []\n",
        "    for i in pos_list:\n",
        "        \n",
        "        if is_emoji(i[0]):\n",
        "            pos_output_list.append(\"EMOJI\") # custom emoji POS tag\n",
        "            \n",
        "        elif re.match(\n",
        "            r\"[-a-zA-Z0-9@:%._\\+~#=]{1,256}\\.[a-zA-Z0-9()]{1,6}\\b([-a-zA-Z0-9()@:%_\\+.~#?&//=]*)\",\n",
        "             i[0]):\n",
        "            pos_output_list.append(\"URL\") # custom url POS tag\n",
        "\n",
        "        elif i[0] == \"URL\":\n",
        "            pos_output_list.append(\"URL\") # custom url POS tag\n",
        "            \n",
        "        elif i[0][0] == \"#\":\n",
        "            pos_output_list.append(\"HASH\") # custom hashtag POS tag\n",
        "\n",
        "        elif i[0] == \"@USER\":\n",
        "            pos_output_list.append(\"AT\") # custom @user POS tag\n",
        "\n",
        "        elif i[0] == \"USER\":\n",
        "            pos_output_list.append(\"AT\") # custom @user POS tag\n",
        "            \n",
        "        else:\n",
        "            pos_output_list.append(i[1])\n",
        "    \n",
        "    pos_result = ' '.join(pos_output_list)\n",
        "    \n",
        "    return pos_result"
      ],
      "id": "3SBndGaMHocN"
    },
    {
      "cell_type": "code",
      "execution_count": 134,
      "metadata": {
        "id": "eXLF0toNHocO"
      },
      "outputs": [],
      "source": [
        "df4['pos_universal'] = df4['tweet'].apply(pos_tag2)"
      ],
      "id": "eXLF0toNHocO"
    },
    {
      "cell_type": "code",
      "execution_count": 135,
      "metadata": {
        "id": "MGYtoS1iHocO"
      },
      "outputs": [],
      "source": [
        "df4['pos_universal_tweet_demojize'] = df4['tweet_demojize'].apply(pos_tag2)"
      ],
      "id": "MGYtoS1iHocO"
    },
    {
      "cell_type": "markdown",
      "metadata": {
        "id": "5pl6qZ8qHocO"
      },
      "source": [
        "### Lemma"
      ],
      "id": "5pl6qZ8qHocO"
    },
    {
      "cell_type": "code",
      "execution_count": 136,
      "metadata": {
        "id": "7f0wnwliHocO"
      },
      "outputs": [],
      "source": [
        "import spacy\n",
        "nlp = spacy.load(\"en_core_web_sm\") \n",
        "\n",
        "def lemmatizing (txt):\n",
        "    doc = nlp(txt)\n",
        "    return \" \".join([token.lemma_ for token in doc])\n",
        "\n",
        "df4['lemma'] = df4['no_punct'].apply(lemmatizing)\n",
        "df4['lemma_twt'] = df4['no_punct_twt'].apply(lemmatizing)"
      ],
      "id": "7f0wnwliHocO"
    },
    {
      "cell_type": "markdown",
      "metadata": {
        "id": "9qOG8upsWYXe"
      },
      "source": [
        "## Machine Learning Pipeline"
      ],
      "id": "9qOG8upsWYXe"
    },
    {
      "cell_type": "markdown",
      "metadata": {
        "id": "17L4yNbXgMHt"
      },
      "source": [
        "### The Traditonal Pipeline"
      ],
      "id": "17L4yNbXgMHt"
    },
    {
      "cell_type": "markdown",
      "metadata": {
        "id": "DO3CdXEiFWNf"
      },
      "source": [
        "#### Train-test-split"
      ],
      "id": "DO3CdXEiFWNf"
    },
    {
      "cell_type": "code",
      "execution_count": 137,
      "metadata": {
        "id": "GQP8Y8cEDwcM"
      },
      "outputs": [],
      "source": [
        "#We define the train and test data, used to test the models \n",
        "  #during trial and error phase\n",
        "#from sklearn.model_selection import train_test_split\n",
        "\n",
        "#X_train = df[['hashtag_gone', 'pos_universal_tweet_demojize', \n",
        "              #'afinn_score', 'pos', 'compound', 'neg', 'no_punct', \n",
        "              #'POS_clean', 'tweet_demojize', 'pos_universal', \n",
        "              #'lemma']]\n",
        "#y_train = df['subtask_a']\n",
        "\n",
        "#80% of the data was training data. The other 20% will be test data.\n",
        "#X_train0, X_test0, y_train0, y_test0 = train_test_split(\n",
        "    #X_train, y_train, shuffle=True, \n",
        "    #random_state=42, test_size=.2, stratify=y_train)"
      ],
      "id": "GQP8Y8cEDwcM"
    },
    {
      "cell_type": "code",
      "execution_count": 139,
      "metadata": {
        "id": "NAsmHwcLfJmR",
        "colab": {
          "base_uri": "https://localhost:8080/"
        },
        "outputId": "56611d96-9243-4a8a-9d04-1960e39d47a3"
      },
      "outputs": [
        {
          "output_type": "stream",
          "name": "stdout",
          "text": [
            "(13240, 11) (13240,)\n",
            "(860, 11)\n",
            "(1207, 11)\n",
            "(1200, 11)\n",
            "(1276, 11)\n"
          ]
        }
      ],
      "source": [
        "#We define the train and test data\n",
        "#We define what columns to use for for all datasets\n",
        "\n",
        "from sklearn.model_selection import train_test_split\n",
        "\n",
        "X_train = df[['hashtag_gone', 'pos_universal_tweet_demojize', \n",
        "              'afinn_score', 'pos', 'compound', 'neg', 'no_punct', \n",
        "              'POS_clean', 'tweet_demojize', 'pos_universal', \n",
        "              'lemma']]\n",
        "y_train = df['subtask_a']\n",
        "\n",
        "print(X_train.shape, y_train.shape)\n",
        "\n",
        "X_test1 = df1[['hashtag_gone', 'pos_universal_tweet_demojize', \n",
        "               'afinn_score', 'pos', 'compound', 'neg', 'no_punct', \n",
        "               'POS_clean', 'tweet_demojize', 'pos_universal', \n",
        "               'lemma']]\n",
        "\n",
        "X_test2 = df2[['hashtag_gone', 'pos_universal_tweet_demojize', \n",
        "               'afinn_score', 'pos', 'compound', 'neg', 'no_punct',\n",
        "               'POS_clean', 'tweet_demojize', 'pos_universal', \n",
        "               'lemma']]\n",
        "\n",
        "X_test3 = df3[['hashtag_gone', 'pos_universal_tweet_demojize', \n",
        "               'afinn_score', 'pos', 'compound', 'neg', 'no_punct',\n",
        "               'POS_clean', 'tweet_demojize', 'pos_universal', \n",
        "               'lemma']]\n",
        "\n",
        "X_test4 = df4[['hashtag_gone', 'pos_universal_tweet_demojize', \n",
        "               'afinn_score', 'pos', 'compound', 'neg', 'no_punct',\n",
        "               'POS_clean', 'tweet_demojize', 'pos_universal', \n",
        "               'lemma']]\n",
        "\n",
        "print(X_test1.shape)\n",
        "print(X_test2.shape)\n",
        "print(X_test3.shape)\n",
        "print(X_test4.shape)"
      ],
      "id": "NAsmHwcLfJmR"
    },
    {
      "cell_type": "code",
      "execution_count": 140,
      "metadata": {
        "id": "yyUE-3N7026i",
        "colab": {
          "base_uri": "https://localhost:8080/"
        },
        "outputId": "6dd56861-0ff4-490f-846b-173f3df3cf39"
      },
      "outputs": [
        {
          "output_type": "execute_result",
          "data": {
            "text/plain": [
              "hashtag_gone                                                                                                                                                                                                         pos_universal_tweet_demojize                                                                                                                                                           afinn_score  pos    compound  neg    no_punct                                                                                                                                                                                                POS_clean                                                                                                                                                              tweet_demojize                                                                                                                                                                                                       pos_universal                                                                                                                                                                          lemma                                                                                                                                                                                                  \n",
              "@USER Looks Like The Jokes On Liberals Again.  FortTrump Poland BoomingEconomy URL                                                                                                                                   AT NOUN ADP DET NOUN ADP NOUN NOUN . HASH HASH HASH URL                                                                                                                                 4.0         0.310   0.5423   0.000  USER Looks Like The Jokes On Liberals Again  FortTrump Poland BoomingEconomy URL                                                                                                                        NOUN NOUN ADP DET NOUN ADP NOUN NOUN NOUN NOUN NOUN URL                                                                                                                @USER Looks Like The Jokes On Liberals Again.  #FortTrump #Poland #BoomingEconomy URL                                                                                                                                AT NOUN ADP DET NOUN ADP NOUN NOUN . HASH HASH HASH URL                                                                                                                                USER look like the joke on Liberals again   FortTrump Poland BoomingEconomy URL                                                                                                                            6\n",
              "@USER @USER @USER @USER @USER @USER @USER @USER @USER @USER @USER @USER @USER @USER @USER @USER Following all Maga patriots please follow back :thumbs_up:  LionsDen :lion:  MAGA2KAG :United_States:                AT AT AT AT AT AT AT AT AT AT AT AT AT AT AT AT VERB DET HASH NOUN VERB VERB ADV . NOUN . HASH . NOUN . HASH . NOUN .                                                                   1.0         0.078   0.3182   0.000  USER USER USER USER USER USER USER USER USER USER USER USER USER USER USER USER Following all Maga patriots please follow back thumbsup  LionsDen lion  MAGA2KAG UnitedStates                           NOUN NOUN NOUN NOUN NOUN NOUN NOUN NOUN NOUN NOUN NOUN NOUN NOUN NOUN NOUN NOUN VERB DET NOUN NOUN VERB VERB ADV ADJ NOUN NOUN NOUN NUM NOUN                           @USER @USER @USER @USER @USER @USER @USER @USER @USER @USER @USER @USER @USER @USER @USER @USER Following all #Maga patriots please follow back :thumbs_up:  #LionsDen :lion:  #MAGA2KAG :United_States:             AT AT AT AT AT AT AT AT AT AT AT AT AT AT AT AT VERB DET HASH NOUN VERB VERB ADV EMOJI HASH EMOJI HASH NOUN NOUN                                                                       USER USER USER USER USER USER USER USER USER USER USER USER USER USER USER USER follow all Maga patriot please follow back thumbsup   LionsDen lion   maga2kag UnitedStates                                3\n",
              "@USER Good                                                                                                                                                                                                           AT ADJ                                                                                                                                                                                  3.0         0.744   0.4404   0.000  USER Good                                                                                                                                                                                               ADV ADJ                                                                                                                                                                @USER Good                                                                                                                                                                                                           AT ADJ                                                                                                                                                                                 USER good                                                                                                                                                                                                  2\n",
              "@USER Croatian President's bikini photos worlds hottest president ever URL                                                                                                                                           AT NOUN NOUN NOUN NOUN VERB ADJ NOUN ADV URL                                                                                                                                            0.0         0.000   0.0000   0.000  USER Croatian Presidents bikini photos worlds hottest president ever URL                                                                                                                                NOUN ADJ NOUN NOUN NOUN VERB ADJ NOUN ADV URL                                                                                                                          @USER Croatian President's bikini photos worlds hottest president ever URL                                                                                                                                           AT NOUN NOUN NOUN NOUN VERB ADJ NOUN ADV URL                                                                                                                                           USER Croatian president bikini photo world hot president ever URL                                                                                                                                          2\n",
              "Conservatives left frustrated as Congress passes big spending bills...  tcot URL                                                                                                                                     HASH VERB HASH ADP HASH NOUN ADJ NOUN NOUN . HASH URL                                                                                                                                  -1.0         0.000  -0.5267   0.254  Conservatives left frustrated as Congress passes big spending bills  tcot URL                                                                                                                           NOUN VERB VERB ADP NOUN VERB ADJ NOUN NOUN VERB URL                                                                                                                    #Conservatives left #frustrated as #Congress passes big spending bills...  #tcot URL                                                                                                                                 HASH VERB HASH ADP HASH NOUN ADJ NOUN NOUN . HASH URL                                                                                                                                  conservative leave frustrated as Congress pass big spending bill   tcot url                                                                                                                                2\n",
              "                                                                                                                                                                                                                                                                                                                                                                                                                                                                                                                                                                                                                                                                                                                                                                                                                                                                                                                                                                                                                                                                                                                                                                                                                                                                                                                                                                                                                                                      ..\n",
              "@USER @USER Mine too! BBCAN2 was a top tier bb season                                                                                                                                                                AT AT NOUN ADV . NOUN NUM VERB DET ADJ NOUN NOUN NOUN                                                                                                                                   2.0         0.173   0.2714   0.000  USER USER Mine too BBCAN2 was a top tier bb season                                                                                                                                                      NOUN NOUN NOUN ADV NOUN NUM VERB DET ADJ NOUN NOUN NOUN                                                                                                                @USER @USER Mine too! BBCAN2 was a top tier bb season                                                                                                                                                                AT AT NOUN ADV . NOUN NUM VERB DET ADJ NOUN NOUN NOUN                                                                                                                                  USER USER Mine too BBCAN2 be a top tier bb season                                                                                                                                                          1\n",
              "@USER @USER Miriam                                                                                                                                                                                                   AT AT NOUN                                                                                                                                                                              0.0         0.000   0.0000   0.000  USER USER Miriam                                                                                                                                                                                        NOUN NOUN NOUN                                                                                                                                                         @USER @USER Miriam                                                                                                                                                                                                   AT AT NOUN                                                                                                                                                                             USER USER Miriam                                                                                                                                                                                           1\n",
              "@USER @USER Mitch...that’s not true...a big thing would be to remove all you GOP NRA shills from office and elect people who understand what America wants....the majority of Americans wants sensible gun control.  AT AT NOUN . ADP NOUN VERB ADV ADJ . DET ADJ NOUN VERB VERB PRT VERB DET PRON NOUN NOUN NOUN ADP NOUN CONJ ADJ NOUN PRON VERB PRON NOUN VERB . DET NOUN ADP NOUN VERB ADJ NOUN NOUN .   2.0         0.000  -0.3400   0.070  USER USER Mitchthat’s not truea big thing would be to remove all you GOP NRA shills from office and elect people who understand what America wantsthe majority of Americans wants sensible gun control  NOUN NOUN NOUN NOUN VERB ADV ADJ ADJ NOUN VERB VERB PRT VERB DET PRON NOUN NOUN NOUN ADP NOUN CONJ ADJ NOUN PRON VERB PRON NOUN VERB NOUN ADP NOUN VERB ADJ NOUN NOUN  @USER @USER Mitch...that’s not true...a big thing would be to remove all you GOP NRA shills from office and elect people who understand what America wants....the majority of Americans wants sensible gun control.  AT AT NOUN . ADP NOUN VERB ADV ADJ . DET ADJ NOUN VERB VERB PRT VERB DET PRON NOUN NOUN NOUN ADP NOUN CONJ ADJ NOUN PRON VERB PRON NOUN VERB . DET NOUN ADP NOUN VERB ADJ NOUN NOUN .  USER USER Mitchthat ’ not truea big thing would be to remove all -PRON- GOP NRA shill from office and elect people who understand what America wantsthe majority of Americans want sensible gun control    1\n",
              "@USER @USER Mmm you are so hot                                                                                                                                                                                       AT AT NOUN PRON VERB ADV ADJ                                                                                                                                                            0.0         0.000   0.0000   0.000  USER USER Mmm you are so hot                                                                                                                                                                            NOUN NOUN NOUN PRON VERB ADV ADJ                                                                                                                                       @USER @USER Mmm you are so hot                                                                                                                                                                                       AT AT NOUN PRON VERB ADV ADJ                                                                                                                                                           USER USER Mmm -PRON- be so hot                                                                                                                                                                             1\n",
              "“Ruth Bader Ginsburg came out saying she was groped by Abraham Lincoln.” TCOT MAGA RedNationRising URL                                                                                                               ADJ NOUN NOUN NOUN VERB PRT VERB PRON VERB VERB ADP NOUN NOUN . NOUN HASH HASH HASH URL                                                                                                 0.0         0.000   0.0000   0.000  “Ruth Bader Ginsburg came out saying she was groped by Abraham Lincoln” TCOT MAGA RedNationRising URL                                                                                                   ADJ NOUN NOUN NOUN VERB PRT VERB PRON VERB VERB ADP NOUN NOUN NOUN NOUN NOUN NOUN URL                                                                                  “Ruth Bader Ginsburg came out saying she was groped by Abraham Lincoln.” #TCOT #MAGA #RedNationRising URL                                                                                                            ADJ NOUN NOUN NOUN VERB PRT VERB PRON VERB VERB ADP NOUN NOUN . NOUN HASH HASH HASH URL                                                                                                \" Ruth Bader Ginsburg come out say -PRON- be grope by Abraham Lincoln \" TCOT MAGA rednationrise url                                                                                                        1\n",
              "Length: 13207, dtype: int64"
            ]
          },
          "metadata": {},
          "execution_count": 140
        }
      ],
      "source": [
        "X_train.value_counts()"
      ],
      "id": "yyUE-3N7026i"
    },
    {
      "cell_type": "code",
      "execution_count": 141,
      "metadata": {
        "id": "kF1kQxY6fa4j",
        "colab": {
          "base_uri": "https://localhost:8080/"
        },
        "outputId": "7249dc75-32e3-46c0-8482-cab75ee08eda"
      },
      "outputs": [
        {
          "output_type": "execute_result",
          "data": {
            "text/plain": [
              "0    8840\n",
              "1    4400\n",
              "Name: subtask_a, dtype: int64"
            ]
          },
          "metadata": {},
          "execution_count": 141
        }
      ],
      "source": [
        "y_train.value_counts()"
      ],
      "id": "kF1kQxY6fa4j"
    },
    {
      "cell_type": "markdown",
      "metadata": {
        "id": "3EgqtC0h-KtR"
      },
      "source": [
        "#### SGDClassifier "
      ],
      "id": "3EgqtC0h-KtR"
    },
    {
      "cell_type": "markdown",
      "metadata": {
        "id": "in8_F6r15Kjc"
      },
      "source": [
        "##### sgd_pipe2"
      ],
      "id": "in8_F6r15Kjc"
    },
    {
      "cell_type": "code",
      "execution_count": 142,
      "metadata": {
        "id": "-gaaGV2O0-xJ"
      },
      "outputs": [],
      "source": [
        "#Linear classifiers with SGD (stochastic gradient descent) training.\n",
        "#https://scikit-learn.org/stable/modules/generated/sklearn.linear_model.SGDClassifier.html"
      ],
      "id": "-gaaGV2O0-xJ"
    },
    {
      "cell_type": "code",
      "execution_count": 143,
      "metadata": {
        "id": "xm0JDXWjflbq"
      },
      "outputs": [],
      "source": [
        "##Importing display features from sklearn, for displaying architecture pictures\n",
        "from sklearn import set_config\n",
        "set_config(display=\"diagram\")"
      ],
      "id": "xm0JDXWjflbq"
    },
    {
      "cell_type": "code",
      "execution_count": 144,
      "metadata": {
        "colab": {
          "base_uri": "https://localhost:8080/"
        },
        "id": "l16G0tY6fpBK",
        "outputId": "dc14fbb2-e0db-4bbc-b5bd-5be38b355fab"
      },
      "outputs": [
        {
          "output_type": "stream",
          "name": "stdout",
          "text": [
            "[nltk_data] Downloading package punkt to /root/nltk_data...\n",
            "[nltk_data]   Unzipping tokenizers/punkt.zip.\n"
          ]
        }
      ],
      "source": [
        "#Importing vectorizers from sklearn to make the text data numeric\n",
        "from sklearn.feature_extraction.text import CountVectorizer, TfidfVectorizer\n",
        "\n",
        "#Importing scalers from sklearn to make the numeric data comparable\n",
        "#MaxAbsScaler is suited to the expected level of sparsity in our data\n",
        "#MinMaxscaler normalizes the numbers between -1 and 1, \n",
        "  #it gives better results and scales the numbers the same way as maxabs\n",
        "from sklearn.preprocessing import MaxAbsScaler, MinMaxScaler\n",
        "\n",
        "#Importing transformer and make_pipeline so the data can be put into a pipeline\n",
        "from sklearn.model_selection import cross_val_score\n",
        "from sklearn.pipeline import make_pipeline\n",
        "from sklearn.compose import make_column_transformer\n",
        "\n",
        "#Importing machine learning algorithm from sklearn, the SGDClassifier\n",
        "from sklearn.linear_model import SGDClassifier\n",
        "\n",
        "#Importing a tokenizer from nltk to use in the vectorizers\n",
        "from nltk.tokenize import word_tokenize\n",
        "nltk.download('punkt')\n",
        "\n",
        "#Importing evaluation metric from sklearn\n",
        "from sklearn.metrics import classification_report"
      ],
      "id": "l16G0tY6fpBK"
    },
    {
      "cell_type": "code",
      "execution_count": 145,
      "metadata": {
        "id": "sTXPIERNfvZq"
      },
      "outputs": [],
      "source": [
        "scaler = MaxAbsScaler() #used when making pipeline\n",
        "scaler2 = MinMaxScaler() #used in column transformer\n",
        "\n",
        "#SGDClassiefier with set random state, \n",
        "  #balanced class weight since one output class is more present than the other\n",
        "  #EarlyStopping to prevent overfitting\n",
        "  #other paramaters chosen based on GridSearches which returned them as the best \n",
        "clf = SGDClassifier(random_state=42, class_weight='balanced', \n",
        "                    n_iter_no_change=3, early_stopping=True, \n",
        "                    penalty='elasticnet', alpha=0.001, loss='log')\n",
        "\n",
        "#CountVectorizer\n",
        "  #lowercase = True, so the tokenizer can recognize the same words more easily\n",
        "  #other paramaters chosen based on GridSearches which returned them as the best \n",
        "vect1 = CountVectorizer(max_features=3500, lowercase=True,\n",
        "                        analyzer='char', ngram_range=(2,3))\n",
        "#TfidfVectorizer\n",
        "  #lowercase = False, not needed for POS tags\n",
        "  #other paramaters chosen based on GridSearches which returned them as the best \n",
        "vect2_POS = TfidfVectorizer(max_features=8, lowercase=False, \n",
        "                            tokenizer=word_tokenize, analyzer='word', \n",
        "                            ngram_range=(1,1))\n",
        "\n",
        "#Making Pipelines out of text data columns\n",
        "pre_text1 = make_pipeline(vect1, scaler)\n",
        "pre_text2_POS = make_pipeline(vect2_POS, scaler)\n",
        "\n",
        "#Applying a column transformer to all data\n",
        "#used in a Pipeline to selectively prepare the columns of your dataset \n",
        "  #before fitting a model on the transformed data.\n",
        "#column combination with best results was chosen\n",
        "ct1 = make_column_transformer(    \n",
        "    (pre_text1, 'tweet_demojize'),\n",
        "    (scaler2, ['afinn_score']),\n",
        "    (scaler2, ['pos']),\n",
        "    (scaler2, ['neg']),\n",
        "    (scaler2, ['compound']),\n",
        "    (pre_text2_POS, 'pos_universal_tweet_demojize'),\n",
        "    (pre_text1, \"lemma\"),\n",
        "    remainder= 'drop'\n",
        ")\n",
        "\n",
        "sgd_pipe2 = make_pipeline(ct1, clf)"
      ],
      "id": "sTXPIERNfvZq"
    },
    {
      "cell_type": "code",
      "execution_count": 146,
      "metadata": {
        "id": "ZvLf9oGXmFt9",
        "colab": {
          "base_uri": "https://localhost:8080/",
          "height": 227
        },
        "outputId": "19c0695e-d182-4381-8cc3-fbb4ae15cc4a"
      },
      "outputs": [
        {
          "output_type": "execute_result",
          "data": {
            "text/plain": [
              "Pipeline(steps=[('columntransformer',\n",
              "                 ColumnTransformer(transformers=[('pipeline-1',\n",
              "                                                  Pipeline(steps=[('countvectorizer',\n",
              "                                                                   CountVectorizer(analyzer='char',\n",
              "                                                                                   max_features=3500,\n",
              "                                                                                   ngram_range=(2,\n",
              "                                                                                                3))),\n",
              "                                                                  ('maxabsscaler',\n",
              "                                                                   MaxAbsScaler())]),\n",
              "                                                  'tweet_demojize'),\n",
              "                                                 ('minmaxscaler-1',\n",
              "                                                  MinMaxScaler(),\n",
              "                                                  ['afinn_score']),\n",
              "                                                 ('minmaxscaler-2',\n",
              "                                                  MinMaxScaler(), ['pos']),\n",
              "                                                 ('minmaxscaler-3',...\n",
              "                                                  'pos_universal_tweet_demojize'),\n",
              "                                                 ('pipeline-3',\n",
              "                                                  Pipeline(steps=[('countvectorizer',\n",
              "                                                                   CountVectorizer(analyzer='char',\n",
              "                                                                                   max_features=3500,\n",
              "                                                                                   ngram_range=(2,\n",
              "                                                                                                3))),\n",
              "                                                                  ('maxabsscaler',\n",
              "                                                                   MaxAbsScaler())]),\n",
              "                                                  'lemma')])),\n",
              "                ('sgdclassifier',\n",
              "                 SGDClassifier(alpha=0.001, class_weight='balanced',\n",
              "                               early_stopping=True, loss='log',\n",
              "                               n_iter_no_change=3, penalty='elasticnet',\n",
              "                               random_state=42))])"
            ],
            "text/html": [
              "<style>#sk-9d0da55f-7145-4c80-81dd-2bcb51a11fee {color: black;background-color: white;}#sk-9d0da55f-7145-4c80-81dd-2bcb51a11fee pre{padding: 0;}#sk-9d0da55f-7145-4c80-81dd-2bcb51a11fee div.sk-toggleable {background-color: white;}#sk-9d0da55f-7145-4c80-81dd-2bcb51a11fee label.sk-toggleable__label {cursor: pointer;display: block;width: 100%;margin-bottom: 0;padding: 0.3em;box-sizing: border-box;text-align: center;}#sk-9d0da55f-7145-4c80-81dd-2bcb51a11fee label.sk-toggleable__label-arrow:before {content: \"▸\";float: left;margin-right: 0.25em;color: #696969;}#sk-9d0da55f-7145-4c80-81dd-2bcb51a11fee label.sk-toggleable__label-arrow:hover:before {color: black;}#sk-9d0da55f-7145-4c80-81dd-2bcb51a11fee div.sk-estimator:hover label.sk-toggleable__label-arrow:before {color: black;}#sk-9d0da55f-7145-4c80-81dd-2bcb51a11fee div.sk-toggleable__content {max-height: 0;max-width: 0;overflow: hidden;text-align: left;background-color: #f0f8ff;}#sk-9d0da55f-7145-4c80-81dd-2bcb51a11fee div.sk-toggleable__content pre {margin: 0.2em;color: black;border-radius: 0.25em;background-color: #f0f8ff;}#sk-9d0da55f-7145-4c80-81dd-2bcb51a11fee input.sk-toggleable__control:checked~div.sk-toggleable__content {max-height: 200px;max-width: 100%;overflow: auto;}#sk-9d0da55f-7145-4c80-81dd-2bcb51a11fee input.sk-toggleable__control:checked~label.sk-toggleable__label-arrow:before {content: \"▾\";}#sk-9d0da55f-7145-4c80-81dd-2bcb51a11fee div.sk-estimator input.sk-toggleable__control:checked~label.sk-toggleable__label {background-color: #d4ebff;}#sk-9d0da55f-7145-4c80-81dd-2bcb51a11fee div.sk-label input.sk-toggleable__control:checked~label.sk-toggleable__label {background-color: #d4ebff;}#sk-9d0da55f-7145-4c80-81dd-2bcb51a11fee input.sk-hidden--visually {border: 0;clip: rect(1px 1px 1px 1px);clip: rect(1px, 1px, 1px, 1px);height: 1px;margin: -1px;overflow: hidden;padding: 0;position: absolute;width: 1px;}#sk-9d0da55f-7145-4c80-81dd-2bcb51a11fee div.sk-estimator {font-family: monospace;background-color: #f0f8ff;border: 1px dotted black;border-radius: 0.25em;box-sizing: border-box;margin-bottom: 0.5em;}#sk-9d0da55f-7145-4c80-81dd-2bcb51a11fee div.sk-estimator:hover {background-color: #d4ebff;}#sk-9d0da55f-7145-4c80-81dd-2bcb51a11fee div.sk-parallel-item::after {content: \"\";width: 100%;border-bottom: 1px solid gray;flex-grow: 1;}#sk-9d0da55f-7145-4c80-81dd-2bcb51a11fee div.sk-label:hover label.sk-toggleable__label {background-color: #d4ebff;}#sk-9d0da55f-7145-4c80-81dd-2bcb51a11fee div.sk-serial::before {content: \"\";position: absolute;border-left: 1px solid gray;box-sizing: border-box;top: 2em;bottom: 0;left: 50%;}#sk-9d0da55f-7145-4c80-81dd-2bcb51a11fee div.sk-serial {display: flex;flex-direction: column;align-items: center;background-color: white;padding-right: 0.2em;padding-left: 0.2em;}#sk-9d0da55f-7145-4c80-81dd-2bcb51a11fee div.sk-item {z-index: 1;}#sk-9d0da55f-7145-4c80-81dd-2bcb51a11fee div.sk-parallel {display: flex;align-items: stretch;justify-content: center;background-color: white;}#sk-9d0da55f-7145-4c80-81dd-2bcb51a11fee div.sk-parallel::before {content: \"\";position: absolute;border-left: 1px solid gray;box-sizing: border-box;top: 2em;bottom: 0;left: 50%;}#sk-9d0da55f-7145-4c80-81dd-2bcb51a11fee div.sk-parallel-item {display: flex;flex-direction: column;position: relative;background-color: white;}#sk-9d0da55f-7145-4c80-81dd-2bcb51a11fee div.sk-parallel-item:first-child::after {align-self: flex-end;width: 50%;}#sk-9d0da55f-7145-4c80-81dd-2bcb51a11fee div.sk-parallel-item:last-child::after {align-self: flex-start;width: 50%;}#sk-9d0da55f-7145-4c80-81dd-2bcb51a11fee div.sk-parallel-item:only-child::after {width: 0;}#sk-9d0da55f-7145-4c80-81dd-2bcb51a11fee div.sk-dashed-wrapped {border: 1px dashed gray;margin: 0 0.4em 0.5em 0.4em;box-sizing: border-box;padding-bottom: 0.4em;background-color: white;position: relative;}#sk-9d0da55f-7145-4c80-81dd-2bcb51a11fee div.sk-label label {font-family: monospace;font-weight: bold;background-color: white;display: inline-block;line-height: 1.2em;}#sk-9d0da55f-7145-4c80-81dd-2bcb51a11fee div.sk-label-container {position: relative;z-index: 2;text-align: center;}#sk-9d0da55f-7145-4c80-81dd-2bcb51a11fee div.sk-container {/* jupyter's `normalize.less` sets `[hidden] { display: none; }` but bootstrap.min.css set `[hidden] { display: none !important; }` so we also need the `!important` here to be able to override the default hidden behavior on the sphinx rendered scikit-learn.org. See: https://github.com/scikit-learn/scikit-learn/issues/21755 */display: inline-block !important;position: relative;}#sk-9d0da55f-7145-4c80-81dd-2bcb51a11fee div.sk-text-repr-fallback {display: none;}</style><div id=\"sk-9d0da55f-7145-4c80-81dd-2bcb51a11fee\" class=\"sk-top-container\"><div class=\"sk-text-repr-fallback\"><pre>Pipeline(steps=[(&#x27;columntransformer&#x27;,\n",
              "                 ColumnTransformer(transformers=[(&#x27;pipeline-1&#x27;,\n",
              "                                                  Pipeline(steps=[(&#x27;countvectorizer&#x27;,\n",
              "                                                                   CountVectorizer(analyzer=&#x27;char&#x27;,\n",
              "                                                                                   max_features=3500,\n",
              "                                                                                   ngram_range=(2,\n",
              "                                                                                                3))),\n",
              "                                                                  (&#x27;maxabsscaler&#x27;,\n",
              "                                                                   MaxAbsScaler())]),\n",
              "                                                  &#x27;tweet_demojize&#x27;),\n",
              "                                                 (&#x27;minmaxscaler-1&#x27;,\n",
              "                                                  MinMaxScaler(),\n",
              "                                                  [&#x27;afinn_score&#x27;]),\n",
              "                                                 (&#x27;minmaxscaler-2&#x27;,\n",
              "                                                  MinMaxScaler(), [&#x27;pos&#x27;]),\n",
              "                                                 (&#x27;minmaxscaler-3&#x27;,...\n",
              "                                                  &#x27;pos_universal_tweet_demojize&#x27;),\n",
              "                                                 (&#x27;pipeline-3&#x27;,\n",
              "                                                  Pipeline(steps=[(&#x27;countvectorizer&#x27;,\n",
              "                                                                   CountVectorizer(analyzer=&#x27;char&#x27;,\n",
              "                                                                                   max_features=3500,\n",
              "                                                                                   ngram_range=(2,\n",
              "                                                                                                3))),\n",
              "                                                                  (&#x27;maxabsscaler&#x27;,\n",
              "                                                                   MaxAbsScaler())]),\n",
              "                                                  &#x27;lemma&#x27;)])),\n",
              "                (&#x27;sgdclassifier&#x27;,\n",
              "                 SGDClassifier(alpha=0.001, class_weight=&#x27;balanced&#x27;,\n",
              "                               early_stopping=True, loss=&#x27;log&#x27;,\n",
              "                               n_iter_no_change=3, penalty=&#x27;elasticnet&#x27;,\n",
              "                               random_state=42))])</pre><b>Please rerun this cell to show the HTML repr or trust the notebook.</b></div><div class=\"sk-container\" hidden><div class=\"sk-item sk-dashed-wrapped\"><div class=\"sk-label-container\"><div class=\"sk-label sk-toggleable\"><input class=\"sk-toggleable__control sk-hidden--visually\" id=\"01de81bb-5e5b-4263-8129-c23e776882a6\" type=\"checkbox\" ><label for=\"01de81bb-5e5b-4263-8129-c23e776882a6\" class=\"sk-toggleable__label sk-toggleable__label-arrow\">Pipeline</label><div class=\"sk-toggleable__content\"><pre>Pipeline(steps=[(&#x27;columntransformer&#x27;,\n",
              "                 ColumnTransformer(transformers=[(&#x27;pipeline-1&#x27;,\n",
              "                                                  Pipeline(steps=[(&#x27;countvectorizer&#x27;,\n",
              "                                                                   CountVectorizer(analyzer=&#x27;char&#x27;,\n",
              "                                                                                   max_features=3500,\n",
              "                                                                                   ngram_range=(2,\n",
              "                                                                                                3))),\n",
              "                                                                  (&#x27;maxabsscaler&#x27;,\n",
              "                                                                   MaxAbsScaler())]),\n",
              "                                                  &#x27;tweet_demojize&#x27;),\n",
              "                                                 (&#x27;minmaxscaler-1&#x27;,\n",
              "                                                  MinMaxScaler(),\n",
              "                                                  [&#x27;afinn_score&#x27;]),\n",
              "                                                 (&#x27;minmaxscaler-2&#x27;,\n",
              "                                                  MinMaxScaler(), [&#x27;pos&#x27;]),\n",
              "                                                 (&#x27;minmaxscaler-3&#x27;,...\n",
              "                                                  &#x27;pos_universal_tweet_demojize&#x27;),\n",
              "                                                 (&#x27;pipeline-3&#x27;,\n",
              "                                                  Pipeline(steps=[(&#x27;countvectorizer&#x27;,\n",
              "                                                                   CountVectorizer(analyzer=&#x27;char&#x27;,\n",
              "                                                                                   max_features=3500,\n",
              "                                                                                   ngram_range=(2,\n",
              "                                                                                                3))),\n",
              "                                                                  (&#x27;maxabsscaler&#x27;,\n",
              "                                                                   MaxAbsScaler())]),\n",
              "                                                  &#x27;lemma&#x27;)])),\n",
              "                (&#x27;sgdclassifier&#x27;,\n",
              "                 SGDClassifier(alpha=0.001, class_weight=&#x27;balanced&#x27;,\n",
              "                               early_stopping=True, loss=&#x27;log&#x27;,\n",
              "                               n_iter_no_change=3, penalty=&#x27;elasticnet&#x27;,\n",
              "                               random_state=42))])</pre></div></div></div><div class=\"sk-serial\"><div class=\"sk-item sk-dashed-wrapped\"><div class=\"sk-label-container\"><div class=\"sk-label sk-toggleable\"><input class=\"sk-toggleable__control sk-hidden--visually\" id=\"31cb3861-312f-46f8-ac8c-0b1c0f3230ed\" type=\"checkbox\" ><label for=\"31cb3861-312f-46f8-ac8c-0b1c0f3230ed\" class=\"sk-toggleable__label sk-toggleable__label-arrow\">columntransformer: ColumnTransformer</label><div class=\"sk-toggleable__content\"><pre>ColumnTransformer(transformers=[(&#x27;pipeline-1&#x27;,\n",
              "                                 Pipeline(steps=[(&#x27;countvectorizer&#x27;,\n",
              "                                                  CountVectorizer(analyzer=&#x27;char&#x27;,\n",
              "                                                                  max_features=3500,\n",
              "                                                                  ngram_range=(2,\n",
              "                                                                               3))),\n",
              "                                                 (&#x27;maxabsscaler&#x27;,\n",
              "                                                  MaxAbsScaler())]),\n",
              "                                 &#x27;tweet_demojize&#x27;),\n",
              "                                (&#x27;minmaxscaler-1&#x27;, MinMaxScaler(),\n",
              "                                 [&#x27;afinn_score&#x27;]),\n",
              "                                (&#x27;minmaxscaler-2&#x27;, MinMaxScaler(), [&#x27;pos&#x27;]),\n",
              "                                (&#x27;minmaxscaler-3&#x27;, MinMaxScaler(), [&#x27;neg&#x27;]),\n",
              "                                (&#x27;minmaxscale...\n",
              "                                 Pipeline(steps=[(&#x27;tfidfvectorizer&#x27;,\n",
              "                                                  TfidfVectorizer(lowercase=False,\n",
              "                                                                  max_features=8,\n",
              "                                                                  tokenizer=&lt;function word_tokenize at 0x7f10a44bd290&gt;)),\n",
              "                                                 (&#x27;maxabsscaler&#x27;,\n",
              "                                                  MaxAbsScaler())]),\n",
              "                                 &#x27;pos_universal_tweet_demojize&#x27;),\n",
              "                                (&#x27;pipeline-3&#x27;,\n",
              "                                 Pipeline(steps=[(&#x27;countvectorizer&#x27;,\n",
              "                                                  CountVectorizer(analyzer=&#x27;char&#x27;,\n",
              "                                                                  max_features=3500,\n",
              "                                                                  ngram_range=(2,\n",
              "                                                                               3))),\n",
              "                                                 (&#x27;maxabsscaler&#x27;,\n",
              "                                                  MaxAbsScaler())]),\n",
              "                                 &#x27;lemma&#x27;)])</pre></div></div></div><div class=\"sk-parallel\"><div class=\"sk-parallel-item\"><div class=\"sk-item\"><div class=\"sk-label-container\"><div class=\"sk-label sk-toggleable\"><input class=\"sk-toggleable__control sk-hidden--visually\" id=\"44b846bb-e9bb-431d-af92-8e227c9e1aa7\" type=\"checkbox\" ><label for=\"44b846bb-e9bb-431d-af92-8e227c9e1aa7\" class=\"sk-toggleable__label sk-toggleable__label-arrow\">pipeline-1</label><div class=\"sk-toggleable__content\"><pre>tweet_demojize</pre></div></div></div><div class=\"sk-serial\"><div class=\"sk-item\"><div class=\"sk-serial\"><div class=\"sk-item\"><div class=\"sk-estimator sk-toggleable\"><input class=\"sk-toggleable__control sk-hidden--visually\" id=\"220a2735-1fcc-4db6-a502-49121213a1cf\" type=\"checkbox\" ><label for=\"220a2735-1fcc-4db6-a502-49121213a1cf\" class=\"sk-toggleable__label sk-toggleable__label-arrow\">CountVectorizer</label><div class=\"sk-toggleable__content\"><pre>CountVectorizer(analyzer=&#x27;char&#x27;, max_features=3500, ngram_range=(2, 3))</pre></div></div></div><div class=\"sk-item\"><div class=\"sk-estimator sk-toggleable\"><input class=\"sk-toggleable__control sk-hidden--visually\" id=\"bb22f85c-f758-43b3-98eb-274555993ee6\" type=\"checkbox\" ><label for=\"bb22f85c-f758-43b3-98eb-274555993ee6\" class=\"sk-toggleable__label sk-toggleable__label-arrow\">MaxAbsScaler</label><div class=\"sk-toggleable__content\"><pre>MaxAbsScaler()</pre></div></div></div></div></div></div></div></div><div class=\"sk-parallel-item\"><div class=\"sk-item\"><div class=\"sk-label-container\"><div class=\"sk-label sk-toggleable\"><input class=\"sk-toggleable__control sk-hidden--visually\" id=\"b1f46ba3-448b-46df-98d0-4cfbbb04018c\" type=\"checkbox\" ><label for=\"b1f46ba3-448b-46df-98d0-4cfbbb04018c\" class=\"sk-toggleable__label sk-toggleable__label-arrow\">minmaxscaler-1</label><div class=\"sk-toggleable__content\"><pre>[&#x27;afinn_score&#x27;]</pre></div></div></div><div class=\"sk-serial\"><div class=\"sk-item\"><div class=\"sk-estimator sk-toggleable\"><input class=\"sk-toggleable__control sk-hidden--visually\" id=\"c0c8fc23-754a-4260-9bf5-07547c0b7ed6\" type=\"checkbox\" ><label for=\"c0c8fc23-754a-4260-9bf5-07547c0b7ed6\" class=\"sk-toggleable__label sk-toggleable__label-arrow\">MinMaxScaler</label><div class=\"sk-toggleable__content\"><pre>MinMaxScaler()</pre></div></div></div></div></div></div><div class=\"sk-parallel-item\"><div class=\"sk-item\"><div class=\"sk-label-container\"><div class=\"sk-label sk-toggleable\"><input class=\"sk-toggleable__control sk-hidden--visually\" id=\"d2f4d2f3-6323-4266-b39c-8abaa0e18145\" type=\"checkbox\" ><label for=\"d2f4d2f3-6323-4266-b39c-8abaa0e18145\" class=\"sk-toggleable__label sk-toggleable__label-arrow\">minmaxscaler-2</label><div class=\"sk-toggleable__content\"><pre>[&#x27;pos&#x27;]</pre></div></div></div><div class=\"sk-serial\"><div class=\"sk-item\"><div class=\"sk-estimator sk-toggleable\"><input class=\"sk-toggleable__control sk-hidden--visually\" id=\"402a982d-1a8e-4d45-9c9e-89ceba5abdcf\" type=\"checkbox\" ><label for=\"402a982d-1a8e-4d45-9c9e-89ceba5abdcf\" class=\"sk-toggleable__label sk-toggleable__label-arrow\">MinMaxScaler</label><div class=\"sk-toggleable__content\"><pre>MinMaxScaler()</pre></div></div></div></div></div></div><div class=\"sk-parallel-item\"><div class=\"sk-item\"><div class=\"sk-label-container\"><div class=\"sk-label sk-toggleable\"><input class=\"sk-toggleable__control sk-hidden--visually\" id=\"092e467d-2f92-4c42-942c-417f9a2e0445\" type=\"checkbox\" ><label for=\"092e467d-2f92-4c42-942c-417f9a2e0445\" class=\"sk-toggleable__label sk-toggleable__label-arrow\">minmaxscaler-3</label><div class=\"sk-toggleable__content\"><pre>[&#x27;neg&#x27;]</pre></div></div></div><div class=\"sk-serial\"><div class=\"sk-item\"><div class=\"sk-estimator sk-toggleable\"><input class=\"sk-toggleable__control sk-hidden--visually\" id=\"4e8e4751-259e-428f-b563-5e06507d1bcc\" type=\"checkbox\" ><label for=\"4e8e4751-259e-428f-b563-5e06507d1bcc\" class=\"sk-toggleable__label sk-toggleable__label-arrow\">MinMaxScaler</label><div class=\"sk-toggleable__content\"><pre>MinMaxScaler()</pre></div></div></div></div></div></div><div class=\"sk-parallel-item\"><div class=\"sk-item\"><div class=\"sk-label-container\"><div class=\"sk-label sk-toggleable\"><input class=\"sk-toggleable__control sk-hidden--visually\" id=\"2b8b4ec4-39f4-4873-b9a5-34f3ec2cd818\" type=\"checkbox\" ><label for=\"2b8b4ec4-39f4-4873-b9a5-34f3ec2cd818\" class=\"sk-toggleable__label sk-toggleable__label-arrow\">minmaxscaler-4</label><div class=\"sk-toggleable__content\"><pre>[&#x27;compound&#x27;]</pre></div></div></div><div class=\"sk-serial\"><div class=\"sk-item\"><div class=\"sk-estimator sk-toggleable\"><input class=\"sk-toggleable__control sk-hidden--visually\" id=\"b5d924ce-acad-42dc-b321-c6b2042740b9\" type=\"checkbox\" ><label for=\"b5d924ce-acad-42dc-b321-c6b2042740b9\" class=\"sk-toggleable__label sk-toggleable__label-arrow\">MinMaxScaler</label><div class=\"sk-toggleable__content\"><pre>MinMaxScaler()</pre></div></div></div></div></div></div><div class=\"sk-parallel-item\"><div class=\"sk-item\"><div class=\"sk-label-container\"><div class=\"sk-label sk-toggleable\"><input class=\"sk-toggleable__control sk-hidden--visually\" id=\"fd50481d-2b7d-4689-92b5-3913e62d2b72\" type=\"checkbox\" ><label for=\"fd50481d-2b7d-4689-92b5-3913e62d2b72\" class=\"sk-toggleable__label sk-toggleable__label-arrow\">pipeline-2</label><div class=\"sk-toggleable__content\"><pre>pos_universal_tweet_demojize</pre></div></div></div><div class=\"sk-serial\"><div class=\"sk-item\"><div class=\"sk-serial\"><div class=\"sk-item\"><div class=\"sk-estimator sk-toggleable\"><input class=\"sk-toggleable__control sk-hidden--visually\" id=\"6f1e8df8-fa09-4609-b934-8bf2b9aeb91e\" type=\"checkbox\" ><label for=\"6f1e8df8-fa09-4609-b934-8bf2b9aeb91e\" class=\"sk-toggleable__label sk-toggleable__label-arrow\">TfidfVectorizer</label><div class=\"sk-toggleable__content\"><pre>TfidfVectorizer(lowercase=False, max_features=8,\n",
              "                tokenizer=&lt;function word_tokenize at 0x7f10a44bd290&gt;)</pre></div></div></div><div class=\"sk-item\"><div class=\"sk-estimator sk-toggleable\"><input class=\"sk-toggleable__control sk-hidden--visually\" id=\"5c4a5d36-48bb-451e-b77b-d708df6cd9f3\" type=\"checkbox\" ><label for=\"5c4a5d36-48bb-451e-b77b-d708df6cd9f3\" class=\"sk-toggleable__label sk-toggleable__label-arrow\">MaxAbsScaler</label><div class=\"sk-toggleable__content\"><pre>MaxAbsScaler()</pre></div></div></div></div></div></div></div></div><div class=\"sk-parallel-item\"><div class=\"sk-item\"><div class=\"sk-label-container\"><div class=\"sk-label sk-toggleable\"><input class=\"sk-toggleable__control sk-hidden--visually\" id=\"88cb86c6-cf9b-4458-8eba-d1a0b10ccde5\" type=\"checkbox\" ><label for=\"88cb86c6-cf9b-4458-8eba-d1a0b10ccde5\" class=\"sk-toggleable__label sk-toggleable__label-arrow\">pipeline-3</label><div class=\"sk-toggleable__content\"><pre>lemma</pre></div></div></div><div class=\"sk-serial\"><div class=\"sk-item\"><div class=\"sk-serial\"><div class=\"sk-item\"><div class=\"sk-estimator sk-toggleable\"><input class=\"sk-toggleable__control sk-hidden--visually\" id=\"c686fc35-b2c4-4a51-9a88-4f53fa13d041\" type=\"checkbox\" ><label for=\"c686fc35-b2c4-4a51-9a88-4f53fa13d041\" class=\"sk-toggleable__label sk-toggleable__label-arrow\">CountVectorizer</label><div class=\"sk-toggleable__content\"><pre>CountVectorizer(analyzer=&#x27;char&#x27;, max_features=3500, ngram_range=(2, 3))</pre></div></div></div><div class=\"sk-item\"><div class=\"sk-estimator sk-toggleable\"><input class=\"sk-toggleable__control sk-hidden--visually\" id=\"aaf5f5f4-d55f-45c9-8d7f-1096e8e862a6\" type=\"checkbox\" ><label for=\"aaf5f5f4-d55f-45c9-8d7f-1096e8e862a6\" class=\"sk-toggleable__label sk-toggleable__label-arrow\">MaxAbsScaler</label><div class=\"sk-toggleable__content\"><pre>MaxAbsScaler()</pre></div></div></div></div></div></div></div></div></div></div><div class=\"sk-item\"><div class=\"sk-estimator sk-toggleable\"><input class=\"sk-toggleable__control sk-hidden--visually\" id=\"ce3bc70d-a7b2-4e28-8b3d-62842c8fb130\" type=\"checkbox\" ><label for=\"ce3bc70d-a7b2-4e28-8b3d-62842c8fb130\" class=\"sk-toggleable__label sk-toggleable__label-arrow\">SGDClassifier</label><div class=\"sk-toggleable__content\"><pre>SGDClassifier(alpha=0.001, class_weight=&#x27;balanced&#x27;, early_stopping=True,\n",
              "              loss=&#x27;log&#x27;, n_iter_no_change=3, penalty=&#x27;elasticnet&#x27;,\n",
              "              random_state=42)</pre></div></div></div></div></div></div></div>"
            ]
          },
          "metadata": {},
          "execution_count": 146
        }
      ],
      "source": [
        "sgd_pipe2.fit(X_train, y_train)"
      ],
      "id": "ZvLf9oGXmFt9"
    },
    {
      "cell_type": "code",
      "execution_count": null,
      "metadata": {
        "colab": {
          "base_uri": "https://localhost:8080/",
          "height": 227
        },
        "id": "ysDhYNLQCAhT",
        "outputId": "8ebaf8f2-38c5-4a50-c81c-324dfa3de8df"
      },
      "outputs": [
        {
          "data": {
            "text/html": [
              "<style>#sk-312c4092-7406-46e3-a25b-cda76232a616 {color: black;background-color: white;}#sk-312c4092-7406-46e3-a25b-cda76232a616 pre{padding: 0;}#sk-312c4092-7406-46e3-a25b-cda76232a616 div.sk-toggleable {background-color: white;}#sk-312c4092-7406-46e3-a25b-cda76232a616 label.sk-toggleable__label {cursor: pointer;display: block;width: 100%;margin-bottom: 0;padding: 0.3em;box-sizing: border-box;text-align: center;}#sk-312c4092-7406-46e3-a25b-cda76232a616 label.sk-toggleable__label-arrow:before {content: \"▸\";float: left;margin-right: 0.25em;color: #696969;}#sk-312c4092-7406-46e3-a25b-cda76232a616 label.sk-toggleable__label-arrow:hover:before {color: black;}#sk-312c4092-7406-46e3-a25b-cda76232a616 div.sk-estimator:hover label.sk-toggleable__label-arrow:before {color: black;}#sk-312c4092-7406-46e3-a25b-cda76232a616 div.sk-toggleable__content {max-height: 0;max-width: 0;overflow: hidden;text-align: left;background-color: #f0f8ff;}#sk-312c4092-7406-46e3-a25b-cda76232a616 div.sk-toggleable__content pre {margin: 0.2em;color: black;border-radius: 0.25em;background-color: #f0f8ff;}#sk-312c4092-7406-46e3-a25b-cda76232a616 input.sk-toggleable__control:checked~div.sk-toggleable__content {max-height: 200px;max-width: 100%;overflow: auto;}#sk-312c4092-7406-46e3-a25b-cda76232a616 input.sk-toggleable__control:checked~label.sk-toggleable__label-arrow:before {content: \"▾\";}#sk-312c4092-7406-46e3-a25b-cda76232a616 div.sk-estimator input.sk-toggleable__control:checked~label.sk-toggleable__label {background-color: #d4ebff;}#sk-312c4092-7406-46e3-a25b-cda76232a616 div.sk-label input.sk-toggleable__control:checked~label.sk-toggleable__label {background-color: #d4ebff;}#sk-312c4092-7406-46e3-a25b-cda76232a616 input.sk-hidden--visually {border: 0;clip: rect(1px 1px 1px 1px);clip: rect(1px, 1px, 1px, 1px);height: 1px;margin: -1px;overflow: hidden;padding: 0;position: absolute;width: 1px;}#sk-312c4092-7406-46e3-a25b-cda76232a616 div.sk-estimator {font-family: monospace;background-color: #f0f8ff;border: 1px dotted black;border-radius: 0.25em;box-sizing: border-box;margin-bottom: 0.5em;}#sk-312c4092-7406-46e3-a25b-cda76232a616 div.sk-estimator:hover {background-color: #d4ebff;}#sk-312c4092-7406-46e3-a25b-cda76232a616 div.sk-parallel-item::after {content: \"\";width: 100%;border-bottom: 1px solid gray;flex-grow: 1;}#sk-312c4092-7406-46e3-a25b-cda76232a616 div.sk-label:hover label.sk-toggleable__label {background-color: #d4ebff;}#sk-312c4092-7406-46e3-a25b-cda76232a616 div.sk-serial::before {content: \"\";position: absolute;border-left: 1px solid gray;box-sizing: border-box;top: 2em;bottom: 0;left: 50%;}#sk-312c4092-7406-46e3-a25b-cda76232a616 div.sk-serial {display: flex;flex-direction: column;align-items: center;background-color: white;padding-right: 0.2em;padding-left: 0.2em;}#sk-312c4092-7406-46e3-a25b-cda76232a616 div.sk-item {z-index: 1;}#sk-312c4092-7406-46e3-a25b-cda76232a616 div.sk-parallel {display: flex;align-items: stretch;justify-content: center;background-color: white;}#sk-312c4092-7406-46e3-a25b-cda76232a616 div.sk-parallel::before {content: \"\";position: absolute;border-left: 1px solid gray;box-sizing: border-box;top: 2em;bottom: 0;left: 50%;}#sk-312c4092-7406-46e3-a25b-cda76232a616 div.sk-parallel-item {display: flex;flex-direction: column;position: relative;background-color: white;}#sk-312c4092-7406-46e3-a25b-cda76232a616 div.sk-parallel-item:first-child::after {align-self: flex-end;width: 50%;}#sk-312c4092-7406-46e3-a25b-cda76232a616 div.sk-parallel-item:last-child::after {align-self: flex-start;width: 50%;}#sk-312c4092-7406-46e3-a25b-cda76232a616 div.sk-parallel-item:only-child::after {width: 0;}#sk-312c4092-7406-46e3-a25b-cda76232a616 div.sk-dashed-wrapped {border: 1px dashed gray;margin: 0 0.4em 0.5em 0.4em;box-sizing: border-box;padding-bottom: 0.4em;background-color: white;position: relative;}#sk-312c4092-7406-46e3-a25b-cda76232a616 div.sk-label label {font-family: monospace;font-weight: bold;background-color: white;display: inline-block;line-height: 1.2em;}#sk-312c4092-7406-46e3-a25b-cda76232a616 div.sk-label-container {position: relative;z-index: 2;text-align: center;}#sk-312c4092-7406-46e3-a25b-cda76232a616 div.sk-container {/* jupyter's `normalize.less` sets `[hidden] { display: none; }` but bootstrap.min.css set `[hidden] { display: none !important; }` so we also need the `!important` here to be able to override the default hidden behavior on the sphinx rendered scikit-learn.org. See: https://github.com/scikit-learn/scikit-learn/issues/21755 */display: inline-block !important;position: relative;}#sk-312c4092-7406-46e3-a25b-cda76232a616 div.sk-text-repr-fallback {display: none;}</style><div id=\"sk-312c4092-7406-46e3-a25b-cda76232a616\" class=\"sk-top-container\"><div class=\"sk-text-repr-fallback\"><pre>Pipeline(steps=[(&#x27;columntransformer&#x27;,\n",
              "                 ColumnTransformer(transformers=[(&#x27;pipeline-1&#x27;,\n",
              "                                                  Pipeline(steps=[(&#x27;countvectorizer&#x27;,\n",
              "                                                                   CountVectorizer(analyzer=&#x27;char&#x27;,\n",
              "                                                                                   max_features=3500,\n",
              "                                                                                   ngram_range=(2,\n",
              "                                                                                                3))),\n",
              "                                                                  (&#x27;maxabsscaler&#x27;,\n",
              "                                                                   MaxAbsScaler())]),\n",
              "                                                  &#x27;tweet_demojize&#x27;),\n",
              "                                                 (&#x27;minmaxscaler-1&#x27;,\n",
              "                                                  MinMaxScaler(),\n",
              "                                                  [&#x27;afinn_score&#x27;]),\n",
              "                                                 (&#x27;minmaxscaler-2&#x27;,\n",
              "                                                  MinMaxScaler(), [&#x27;pos&#x27;]),\n",
              "                                                 (&#x27;minmaxscaler-3&#x27;,...\n",
              "                                                  &#x27;pos_universal_tweet_demojize&#x27;),\n",
              "                                                 (&#x27;pipeline-3&#x27;,\n",
              "                                                  Pipeline(steps=[(&#x27;countvectorizer&#x27;,\n",
              "                                                                   CountVectorizer(analyzer=&#x27;char&#x27;,\n",
              "                                                                                   max_features=3500,\n",
              "                                                                                   ngram_range=(2,\n",
              "                                                                                                3))),\n",
              "                                                                  (&#x27;maxabsscaler&#x27;,\n",
              "                                                                   MaxAbsScaler())]),\n",
              "                                                  &#x27;lemma&#x27;)])),\n",
              "                (&#x27;sgdclassifier&#x27;,\n",
              "                 SGDClassifier(alpha=0.001, class_weight=&#x27;balanced&#x27;,\n",
              "                               early_stopping=True, loss=&#x27;log&#x27;,\n",
              "                               n_iter_no_change=3, penalty=&#x27;elasticnet&#x27;,\n",
              "                               random_state=42))])</pre><b>Please rerun this cell to show the HTML repr or trust the notebook.</b></div><div class=\"sk-container\" hidden><div class=\"sk-item sk-dashed-wrapped\"><div class=\"sk-label-container\"><div class=\"sk-label sk-toggleable\"><input class=\"sk-toggleable__control sk-hidden--visually\" id=\"8af8983a-cead-4605-8028-74230e2357ec\" type=\"checkbox\" ><label for=\"8af8983a-cead-4605-8028-74230e2357ec\" class=\"sk-toggleable__label sk-toggleable__label-arrow\">Pipeline</label><div class=\"sk-toggleable__content\"><pre>Pipeline(steps=[(&#x27;columntransformer&#x27;,\n",
              "                 ColumnTransformer(transformers=[(&#x27;pipeline-1&#x27;,\n",
              "                                                  Pipeline(steps=[(&#x27;countvectorizer&#x27;,\n",
              "                                                                   CountVectorizer(analyzer=&#x27;char&#x27;,\n",
              "                                                                                   max_features=3500,\n",
              "                                                                                   ngram_range=(2,\n",
              "                                                                                                3))),\n",
              "                                                                  (&#x27;maxabsscaler&#x27;,\n",
              "                                                                   MaxAbsScaler())]),\n",
              "                                                  &#x27;tweet_demojize&#x27;),\n",
              "                                                 (&#x27;minmaxscaler-1&#x27;,\n",
              "                                                  MinMaxScaler(),\n",
              "                                                  [&#x27;afinn_score&#x27;]),\n",
              "                                                 (&#x27;minmaxscaler-2&#x27;,\n",
              "                                                  MinMaxScaler(), [&#x27;pos&#x27;]),\n",
              "                                                 (&#x27;minmaxscaler-3&#x27;,...\n",
              "                                                  &#x27;pos_universal_tweet_demojize&#x27;),\n",
              "                                                 (&#x27;pipeline-3&#x27;,\n",
              "                                                  Pipeline(steps=[(&#x27;countvectorizer&#x27;,\n",
              "                                                                   CountVectorizer(analyzer=&#x27;char&#x27;,\n",
              "                                                                                   max_features=3500,\n",
              "                                                                                   ngram_range=(2,\n",
              "                                                                                                3))),\n",
              "                                                                  (&#x27;maxabsscaler&#x27;,\n",
              "                                                                   MaxAbsScaler())]),\n",
              "                                                  &#x27;lemma&#x27;)])),\n",
              "                (&#x27;sgdclassifier&#x27;,\n",
              "                 SGDClassifier(alpha=0.001, class_weight=&#x27;balanced&#x27;,\n",
              "                               early_stopping=True, loss=&#x27;log&#x27;,\n",
              "                               n_iter_no_change=3, penalty=&#x27;elasticnet&#x27;,\n",
              "                               random_state=42))])</pre></div></div></div><div class=\"sk-serial\"><div class=\"sk-item sk-dashed-wrapped\"><div class=\"sk-label-container\"><div class=\"sk-label sk-toggleable\"><input class=\"sk-toggleable__control sk-hidden--visually\" id=\"bd6a79b5-647f-43f2-a470-8e019359b002\" type=\"checkbox\" ><label for=\"bd6a79b5-647f-43f2-a470-8e019359b002\" class=\"sk-toggleable__label sk-toggleable__label-arrow\">columntransformer: ColumnTransformer</label><div class=\"sk-toggleable__content\"><pre>ColumnTransformer(transformers=[(&#x27;pipeline-1&#x27;,\n",
              "                                 Pipeline(steps=[(&#x27;countvectorizer&#x27;,\n",
              "                                                  CountVectorizer(analyzer=&#x27;char&#x27;,\n",
              "                                                                  max_features=3500,\n",
              "                                                                  ngram_range=(2,\n",
              "                                                                               3))),\n",
              "                                                 (&#x27;maxabsscaler&#x27;,\n",
              "                                                  MaxAbsScaler())]),\n",
              "                                 &#x27;tweet_demojize&#x27;),\n",
              "                                (&#x27;minmaxscaler-1&#x27;, MinMaxScaler(),\n",
              "                                 [&#x27;afinn_score&#x27;]),\n",
              "                                (&#x27;minmaxscaler-2&#x27;, MinMaxScaler(), [&#x27;pos&#x27;]),\n",
              "                                (&#x27;minmaxscaler-3&#x27;, MinMaxScaler(), [&#x27;neg&#x27;]),\n",
              "                                (&#x27;minmaxscale...\n",
              "                                 Pipeline(steps=[(&#x27;tfidfvectorizer&#x27;,\n",
              "                                                  TfidfVectorizer(lowercase=False,\n",
              "                                                                  max_features=8,\n",
              "                                                                  tokenizer=&lt;function word_tokenize at 0x7fb444033e60&gt;)),\n",
              "                                                 (&#x27;maxabsscaler&#x27;,\n",
              "                                                  MaxAbsScaler())]),\n",
              "                                 &#x27;pos_universal_tweet_demojize&#x27;),\n",
              "                                (&#x27;pipeline-3&#x27;,\n",
              "                                 Pipeline(steps=[(&#x27;countvectorizer&#x27;,\n",
              "                                                  CountVectorizer(analyzer=&#x27;char&#x27;,\n",
              "                                                                  max_features=3500,\n",
              "                                                                  ngram_range=(2,\n",
              "                                                                               3))),\n",
              "                                                 (&#x27;maxabsscaler&#x27;,\n",
              "                                                  MaxAbsScaler())]),\n",
              "                                 &#x27;lemma&#x27;)])</pre></div></div></div><div class=\"sk-parallel\"><div class=\"sk-parallel-item\"><div class=\"sk-item\"><div class=\"sk-label-container\"><div class=\"sk-label sk-toggleable\"><input class=\"sk-toggleable__control sk-hidden--visually\" id=\"983012cf-3f74-4b71-9a19-9fcb5f3551e3\" type=\"checkbox\" ><label for=\"983012cf-3f74-4b71-9a19-9fcb5f3551e3\" class=\"sk-toggleable__label sk-toggleable__label-arrow\">pipeline-1</label><div class=\"sk-toggleable__content\"><pre>tweet_demojize</pre></div></div></div><div class=\"sk-serial\"><div class=\"sk-item\"><div class=\"sk-serial\"><div class=\"sk-item\"><div class=\"sk-estimator sk-toggleable\"><input class=\"sk-toggleable__control sk-hidden--visually\" id=\"b4ebcdb7-8b09-456b-8fd9-7725a610cd63\" type=\"checkbox\" ><label for=\"b4ebcdb7-8b09-456b-8fd9-7725a610cd63\" class=\"sk-toggleable__label sk-toggleable__label-arrow\">CountVectorizer</label><div class=\"sk-toggleable__content\"><pre>CountVectorizer(analyzer=&#x27;char&#x27;, max_features=3500, ngram_range=(2, 3))</pre></div></div></div><div class=\"sk-item\"><div class=\"sk-estimator sk-toggleable\"><input class=\"sk-toggleable__control sk-hidden--visually\" id=\"f4d7fba6-f62a-4d6e-8033-7a43ee2ae0cb\" type=\"checkbox\" ><label for=\"f4d7fba6-f62a-4d6e-8033-7a43ee2ae0cb\" class=\"sk-toggleable__label sk-toggleable__label-arrow\">MaxAbsScaler</label><div class=\"sk-toggleable__content\"><pre>MaxAbsScaler()</pre></div></div></div></div></div></div></div></div><div class=\"sk-parallel-item\"><div class=\"sk-item\"><div class=\"sk-label-container\"><div class=\"sk-label sk-toggleable\"><input class=\"sk-toggleable__control sk-hidden--visually\" id=\"5512a247-26fa-490b-9e27-4b4b92b7eaf5\" type=\"checkbox\" ><label for=\"5512a247-26fa-490b-9e27-4b4b92b7eaf5\" class=\"sk-toggleable__label sk-toggleable__label-arrow\">minmaxscaler-1</label><div class=\"sk-toggleable__content\"><pre>[&#x27;afinn_score&#x27;]</pre></div></div></div><div class=\"sk-serial\"><div class=\"sk-item\"><div class=\"sk-estimator sk-toggleable\"><input class=\"sk-toggleable__control sk-hidden--visually\" id=\"9ee948f8-94b3-4650-b99a-cacfbf512264\" type=\"checkbox\" ><label for=\"9ee948f8-94b3-4650-b99a-cacfbf512264\" class=\"sk-toggleable__label sk-toggleable__label-arrow\">MinMaxScaler</label><div class=\"sk-toggleable__content\"><pre>MinMaxScaler()</pre></div></div></div></div></div></div><div class=\"sk-parallel-item\"><div class=\"sk-item\"><div class=\"sk-label-container\"><div class=\"sk-label sk-toggleable\"><input class=\"sk-toggleable__control sk-hidden--visually\" id=\"0258d3f6-195e-4557-9175-278060f75400\" type=\"checkbox\" ><label for=\"0258d3f6-195e-4557-9175-278060f75400\" class=\"sk-toggleable__label sk-toggleable__label-arrow\">minmaxscaler-2</label><div class=\"sk-toggleable__content\"><pre>[&#x27;pos&#x27;]</pre></div></div></div><div class=\"sk-serial\"><div class=\"sk-item\"><div class=\"sk-estimator sk-toggleable\"><input class=\"sk-toggleable__control sk-hidden--visually\" id=\"826b14d3-157f-4c2d-95b9-26d21d4dd1e4\" type=\"checkbox\" ><label for=\"826b14d3-157f-4c2d-95b9-26d21d4dd1e4\" class=\"sk-toggleable__label sk-toggleable__label-arrow\">MinMaxScaler</label><div class=\"sk-toggleable__content\"><pre>MinMaxScaler()</pre></div></div></div></div></div></div><div class=\"sk-parallel-item\"><div class=\"sk-item\"><div class=\"sk-label-container\"><div class=\"sk-label sk-toggleable\"><input class=\"sk-toggleable__control sk-hidden--visually\" id=\"92fe566e-8985-4338-a10a-e8a651957b1e\" type=\"checkbox\" ><label for=\"92fe566e-8985-4338-a10a-e8a651957b1e\" class=\"sk-toggleable__label sk-toggleable__label-arrow\">minmaxscaler-3</label><div class=\"sk-toggleable__content\"><pre>[&#x27;neg&#x27;]</pre></div></div></div><div class=\"sk-serial\"><div class=\"sk-item\"><div class=\"sk-estimator sk-toggleable\"><input class=\"sk-toggleable__control sk-hidden--visually\" id=\"917c9585-bf29-492f-8d75-13a1d2f79481\" type=\"checkbox\" ><label for=\"917c9585-bf29-492f-8d75-13a1d2f79481\" class=\"sk-toggleable__label sk-toggleable__label-arrow\">MinMaxScaler</label><div class=\"sk-toggleable__content\"><pre>MinMaxScaler()</pre></div></div></div></div></div></div><div class=\"sk-parallel-item\"><div class=\"sk-item\"><div class=\"sk-label-container\"><div class=\"sk-label sk-toggleable\"><input class=\"sk-toggleable__control sk-hidden--visually\" id=\"6ab272c6-e106-4e64-852d-03176b2b7797\" type=\"checkbox\" ><label for=\"6ab272c6-e106-4e64-852d-03176b2b7797\" class=\"sk-toggleable__label sk-toggleable__label-arrow\">minmaxscaler-4</label><div class=\"sk-toggleable__content\"><pre>[&#x27;compound&#x27;]</pre></div></div></div><div class=\"sk-serial\"><div class=\"sk-item\"><div class=\"sk-estimator sk-toggleable\"><input class=\"sk-toggleable__control sk-hidden--visually\" id=\"68168334-ce5f-4386-8d57-a10caa458508\" type=\"checkbox\" ><label for=\"68168334-ce5f-4386-8d57-a10caa458508\" class=\"sk-toggleable__label sk-toggleable__label-arrow\">MinMaxScaler</label><div class=\"sk-toggleable__content\"><pre>MinMaxScaler()</pre></div></div></div></div></div></div><div class=\"sk-parallel-item\"><div class=\"sk-item\"><div class=\"sk-label-container\"><div class=\"sk-label sk-toggleable\"><input class=\"sk-toggleable__control sk-hidden--visually\" id=\"20db64ea-e927-4f79-87d7-b67e3b593a3e\" type=\"checkbox\" ><label for=\"20db64ea-e927-4f79-87d7-b67e3b593a3e\" class=\"sk-toggleable__label sk-toggleable__label-arrow\">pipeline-2</label><div class=\"sk-toggleable__content\"><pre>pos_universal_tweet_demojize</pre></div></div></div><div class=\"sk-serial\"><div class=\"sk-item\"><div class=\"sk-serial\"><div class=\"sk-item\"><div class=\"sk-estimator sk-toggleable\"><input class=\"sk-toggleable__control sk-hidden--visually\" id=\"181d6882-b1c5-4ade-a635-014f3ff18687\" type=\"checkbox\" ><label for=\"181d6882-b1c5-4ade-a635-014f3ff18687\" class=\"sk-toggleable__label sk-toggleable__label-arrow\">TfidfVectorizer</label><div class=\"sk-toggleable__content\"><pre>TfidfVectorizer(lowercase=False, max_features=8,\n",
              "                tokenizer=&lt;function word_tokenize at 0x7fb444033e60&gt;)</pre></div></div></div><div class=\"sk-item\"><div class=\"sk-estimator sk-toggleable\"><input class=\"sk-toggleable__control sk-hidden--visually\" id=\"782f207f-b140-48d6-a8be-e64209934f1b\" type=\"checkbox\" ><label for=\"782f207f-b140-48d6-a8be-e64209934f1b\" class=\"sk-toggleable__label sk-toggleable__label-arrow\">MaxAbsScaler</label><div class=\"sk-toggleable__content\"><pre>MaxAbsScaler()</pre></div></div></div></div></div></div></div></div><div class=\"sk-parallel-item\"><div class=\"sk-item\"><div class=\"sk-label-container\"><div class=\"sk-label sk-toggleable\"><input class=\"sk-toggleable__control sk-hidden--visually\" id=\"e6b81120-b879-4d42-8b9d-0d504c374055\" type=\"checkbox\" ><label for=\"e6b81120-b879-4d42-8b9d-0d504c374055\" class=\"sk-toggleable__label sk-toggleable__label-arrow\">pipeline-3</label><div class=\"sk-toggleable__content\"><pre>lemma</pre></div></div></div><div class=\"sk-serial\"><div class=\"sk-item\"><div class=\"sk-serial\"><div class=\"sk-item\"><div class=\"sk-estimator sk-toggleable\"><input class=\"sk-toggleable__control sk-hidden--visually\" id=\"5d9cb7b5-f8f0-4836-8fb4-033a567322fb\" type=\"checkbox\" ><label for=\"5d9cb7b5-f8f0-4836-8fb4-033a567322fb\" class=\"sk-toggleable__label sk-toggleable__label-arrow\">CountVectorizer</label><div class=\"sk-toggleable__content\"><pre>CountVectorizer(analyzer=&#x27;char&#x27;, max_features=3500, ngram_range=(2, 3))</pre></div></div></div><div class=\"sk-item\"><div class=\"sk-estimator sk-toggleable\"><input class=\"sk-toggleable__control sk-hidden--visually\" id=\"74c19415-e65a-48ed-82b8-9a39a1f6dbe9\" type=\"checkbox\" ><label for=\"74c19415-e65a-48ed-82b8-9a39a1f6dbe9\" class=\"sk-toggleable__label sk-toggleable__label-arrow\">MaxAbsScaler</label><div class=\"sk-toggleable__content\"><pre>MaxAbsScaler()</pre></div></div></div></div></div></div></div></div></div></div><div class=\"sk-item\"><div class=\"sk-estimator sk-toggleable\"><input class=\"sk-toggleable__control sk-hidden--visually\" id=\"da8f8b39-f100-4155-a11b-df55331da218\" type=\"checkbox\" ><label for=\"da8f8b39-f100-4155-a11b-df55331da218\" class=\"sk-toggleable__label sk-toggleable__label-arrow\">SGDClassifier</label><div class=\"sk-toggleable__content\"><pre>SGDClassifier(alpha=0.001, class_weight=&#x27;balanced&#x27;, early_stopping=True,\n",
              "              loss=&#x27;log&#x27;, n_iter_no_change=3, penalty=&#x27;elasticnet&#x27;,\n",
              "              random_state=42)</pre></div></div></div></div></div></div></div>"
            ],
            "text/plain": [
              "Pipeline(steps=[('columntransformer',\n",
              "                 ColumnTransformer(transformers=[('pipeline-1',\n",
              "                                                  Pipeline(steps=[('countvectorizer',\n",
              "                                                                   CountVectorizer(analyzer='char',\n",
              "                                                                                   max_features=3500,\n",
              "                                                                                   ngram_range=(2,\n",
              "                                                                                                3))),\n",
              "                                                                  ('maxabsscaler',\n",
              "                                                                   MaxAbsScaler())]),\n",
              "                                                  'tweet_demojize'),\n",
              "                                                 ('minmaxscaler-1',\n",
              "                                                  MinMaxScaler(),\n",
              "                                                  ['afinn_score']),\n",
              "                                                 ('minmaxscaler-2',\n",
              "                                                  MinMaxScaler(), ['pos']),\n",
              "                                                 ('minmaxscaler-3',...\n",
              "                                                  'pos_universal_tweet_demojize'),\n",
              "                                                 ('pipeline-3',\n",
              "                                                  Pipeline(steps=[('countvectorizer',\n",
              "                                                                   CountVectorizer(analyzer='char',\n",
              "                                                                                   max_features=3500,\n",
              "                                                                                   ngram_range=(2,\n",
              "                                                                                                3))),\n",
              "                                                                  ('maxabsscaler',\n",
              "                                                                   MaxAbsScaler())]),\n",
              "                                                  'lemma')])),\n",
              "                ('sgdclassifier',\n",
              "                 SGDClassifier(alpha=0.001, class_weight='balanced',\n",
              "                               early_stopping=True, loss='log',\n",
              "                               n_iter_no_change=3, penalty='elasticnet',\n",
              "                               random_state=42))])"
            ]
          },
          "execution_count": 80,
          "metadata": {},
          "output_type": "execute_result"
        }
      ],
      "source": [
        "#sgd_pipe2.fit(X_train0, y_train0)"
      ],
      "id": "ysDhYNLQCAhT"
    },
    {
      "cell_type": "code",
      "execution_count": null,
      "metadata": {
        "colab": {
          "base_uri": "https://localhost:8080/"
        },
        "id": "nFSxqejhB5Ii",
        "outputId": "6b5fc2c8-52e3-44b4-e6fc-3555b712baa3"
      },
      "outputs": [
        {
          "name": "stdout",
          "output_type": "stream",
          "text": [
            "              precision    recall  f1-score   support\n",
            "\n",
            "           0       0.83      0.75      0.79      1768\n",
            "           1       0.58      0.70      0.63       880\n",
            "\n",
            "    accuracy                           0.73      2648\n",
            "   macro avg       0.70      0.72      0.71      2648\n",
            "weighted avg       0.75      0.73      0.73      2648\n",
            "\n"
          ]
        }
      ],
      "source": [
        "#y_test_pred = sgd_pipe2.predict(X_test0)\n",
        "\n",
        "#print(classification_report(y_test0, y_test_pred))"
      ],
      "id": "nFSxqejhB5Ii"
    },
    {
      "cell_type": "markdown",
      "metadata": {
        "id": "4mpnkJAjBuCR"
      },
      "source": [
        "#### Logistic Regression"
      ],
      "id": "4mpnkJAjBuCR"
    },
    {
      "cell_type": "markdown",
      "metadata": {
        "id": "N3sirE9d7wkN"
      },
      "source": [
        "##### log_pipe1"
      ],
      "id": "N3sirE9d7wkN"
    },
    {
      "cell_type": "code",
      "execution_count": 147,
      "metadata": {
        "id": "Z-BHjQLrB0h5"
      },
      "outputs": [],
      "source": [
        "#Logistic Regression CV (aka logit, MaxEnt) classifier.\n",
        "#https://scikit-learn.org/stable/modules/generated/sklearn.linear_model.LogisticRegressionCV.html#sklearn.linear_model.LogisticRegressionCV"
      ],
      "id": "Z-BHjQLrB0h5"
    },
    {
      "cell_type": "code",
      "execution_count": 148,
      "metadata": {
        "colab": {
          "base_uri": "https://localhost:8080/"
        },
        "id": "K5d_yxM3Ednw",
        "outputId": "ec8f17e7-23e4-430a-9778-4781df3d726a"
      },
      "outputs": [
        {
          "output_type": "stream",
          "name": "stdout",
          "text": [
            "[nltk_data] Downloading package punkt to /root/nltk_data...\n",
            "[nltk_data]   Package punkt is already up-to-date!\n"
          ]
        }
      ],
      "source": [
        "#Importing display features from sklearn, to make pipelines easier to the eye\n",
        "from sklearn import set_config\n",
        "set_config(display=\"diagram\")\n",
        "\n",
        "#Importing vectorizers from sklearn to make the text data numeric\n",
        "from sklearn.feature_extraction.text import CountVectorizer, TfidfVectorizer\n",
        "\n",
        "#Importing scalers from sklearn to make the numeric data comparable\n",
        "#MaxAbsScaler is suited to the expected level of sparsity in our data\n",
        "#MinMaxscaler normalizes the numbers between -1 and 1\n",
        "from sklearn.preprocessing import MaxAbsScaler, MinMaxScaler\n",
        "\n",
        "#Importing transformer and make_pipeline so the data can be put into a pipeline\n",
        "from sklearn.model_selection import cross_val_score\n",
        "from sklearn.pipeline import make_pipeline\n",
        "from sklearn.compose import make_column_transformer\n",
        "\n",
        "#Importing machine learning algorithm from sklearn, the SGDClassifier\n",
        "from sklearn.linear_model import LogisticRegressionCV\n",
        "\n",
        "#Importing a tokenizer from nltk to use in the vectorizers\n",
        "from nltk.tokenize import word_tokenize\n",
        "nltk.download('punkt')\n",
        "\n",
        "#Importing evaluation metric from sklearn\n",
        "from sklearn.metrics import classification_report"
      ],
      "id": "K5d_yxM3Ednw"
    },
    {
      "cell_type": "code",
      "execution_count": 149,
      "metadata": {
        "id": "0k6e9dcoB5Ro"
      },
      "outputs": [],
      "source": [
        "scaler = MaxAbsScaler() #used when making pipeline\n",
        "scaler2 = MinMaxScaler() #used in column transformer\n",
        "\n",
        "#LogisticRegressionCV classifier with a set random state\n",
        "  #balanced class weight since one output class is more present than the other\n",
        "  #other paramaters chosen based on GridSearches which returned them as the best\n",
        "log_clf = LogisticRegressionCV(Cs=10, \n",
        "                               cv = 2,\n",
        "                               fit_intercept=True, \n",
        "                               dual=False, \n",
        "                               scoring='f1_macro',\n",
        "                               penalty = 'l1',\n",
        "                               solver = 'saga',\n",
        "                               tol=0.0001, \n",
        "                               max_iter=100, \n",
        "                               class_weight='balanced',\n",
        "                               n_jobs=-1, verbose=2, \n",
        "                               multi_class='ovr',\n",
        "                               random_state=42)\n",
        "\n",
        "#TfidfVectorizer\n",
        "  #lowercase = False, because this yielded better results\n",
        "  #other paramaters chosen based on GridSearches which returned them as the best \n",
        "vect1 = TfidfVectorizer(max_features=3500, lowercase=False, \n",
        "                        ngram_range = (1,2), tokenizer= word_tokenize)\n",
        "\n",
        "#CountVectorizer\n",
        "  #lowercase = False, not needed for POS tags\n",
        "  #other paramaters chosen based on GridSearches which returned them as the best \n",
        "vect2_POS = CountVectorizer(max_features=100, lowercase=False, \n",
        "                            ngram_range = (1, 1), tokenizer=word_tokenize)\n",
        "\n",
        "#Making Pipelines out of text data columns\n",
        "pre_text1 = make_pipeline(vect1, scaler)\n",
        "pre_text2_POS = make_pipeline(vect2_POS, scaler)\n",
        "\n",
        "#Applying a column transformer to all data\n",
        "#used in a Pipeline to selectively prepare the columns of your dataset \n",
        "  #before fitting a model on the transformed data.\n",
        "#column combination with best results was chosen\n",
        "ct1 = make_column_transformer(\n",
        "    (pre_text1, 'hashtag_gone'),\n",
        "    (scaler2, ['afinn_score', 'neg']),\n",
        "    (pre_text2_POS, 'POS_clean'),\n",
        "    remainder= 'drop'\n",
        ")\n",
        "\n",
        "log_pipe1 = make_pipeline(ct1, log_clf)"
      ],
      "id": "0k6e9dcoB5Ro"
    },
    {
      "cell_type": "code",
      "execution_count": 150,
      "metadata": {
        "id": "M1MdtTQDFotg",
        "colab": {
          "base_uri": "https://localhost:8080/",
          "height": 0
        },
        "outputId": "53493edf-2802-4954-97ad-e299c0a77733"
      },
      "outputs": [
        {
          "output_type": "stream",
          "name": "stderr",
          "text": [
            "[Parallel(n_jobs=-1)]: Using backend ThreadingBackend with 2 concurrent workers.\n"
          ]
        },
        {
          "output_type": "stream",
          "name": "stdout",
          "text": [
            "convergence after 1 epochs took 0 secondsconvergence after 1 epochs took 0 seconds\n",
            "\n",
            "convergence after 1 epochs took 0 seconds\n",
            "convergence after 1 epochs took 0 seconds\n",
            "convergence after 14 epochs took 0 seconds\n",
            "convergence after 16 epochs took 0 seconds\n",
            "max_iter reached after 1 seconds\n",
            "max_iter reached after 1 seconds\n"
          ]
        },
        {
          "output_type": "stream",
          "name": "stderr",
          "text": [
            "/usr/local/lib/python3.7/dist-packages/sklearn/linear_model/_sag.py:354: ConvergenceWarning: The max_iter was reached which means the coef_ did not converge\n",
            "  ConvergenceWarning,\n",
            "/usr/local/lib/python3.7/dist-packages/sklearn/linear_model/_sag.py:354: ConvergenceWarning: The max_iter was reached which means the coef_ did not converge\n",
            "  ConvergenceWarning,\n"
          ]
        },
        {
          "output_type": "stream",
          "name": "stdout",
          "text": [
            "max_iter reached after 2 seconds\n",
            "max_iter reached after 2 seconds\n"
          ]
        },
        {
          "output_type": "stream",
          "name": "stderr",
          "text": [
            "/usr/local/lib/python3.7/dist-packages/sklearn/linear_model/_sag.py:354: ConvergenceWarning: The max_iter was reached which means the coef_ did not converge\n",
            "  ConvergenceWarning,\n",
            "/usr/local/lib/python3.7/dist-packages/sklearn/linear_model/_sag.py:354: ConvergenceWarning: The max_iter was reached which means the coef_ did not converge\n",
            "  ConvergenceWarning,\n"
          ]
        },
        {
          "output_type": "stream",
          "name": "stdout",
          "text": [
            "max_iter reached after 8 seconds\n",
            "max_iter reached after 8 seconds\n"
          ]
        },
        {
          "output_type": "stream",
          "name": "stderr",
          "text": [
            "/usr/local/lib/python3.7/dist-packages/sklearn/linear_model/_sag.py:354: ConvergenceWarning: The max_iter was reached which means the coef_ did not converge\n",
            "  ConvergenceWarning,\n",
            "/usr/local/lib/python3.7/dist-packages/sklearn/linear_model/_sag.py:354: ConvergenceWarning: The max_iter was reached which means the coef_ did not converge\n",
            "  ConvergenceWarning,\n"
          ]
        },
        {
          "output_type": "stream",
          "name": "stdout",
          "text": [
            "max_iter reached after 13 seconds\n",
            "max_iter reached after 13 seconds\n"
          ]
        },
        {
          "output_type": "stream",
          "name": "stderr",
          "text": [
            "/usr/local/lib/python3.7/dist-packages/sklearn/linear_model/_sag.py:354: ConvergenceWarning: The max_iter was reached which means the coef_ did not converge\n",
            "  ConvergenceWarning,\n",
            "/usr/local/lib/python3.7/dist-packages/sklearn/linear_model/_sag.py:354: ConvergenceWarning: The max_iter was reached which means the coef_ did not converge\n",
            "  ConvergenceWarning,\n"
          ]
        },
        {
          "output_type": "stream",
          "name": "stdout",
          "text": [
            "max_iter reached after 14 seconds\n",
            "max_iter reached after 14 seconds\n"
          ]
        },
        {
          "output_type": "stream",
          "name": "stderr",
          "text": [
            "/usr/local/lib/python3.7/dist-packages/sklearn/linear_model/_sag.py:354: ConvergenceWarning: The max_iter was reached which means the coef_ did not converge\n",
            "  ConvergenceWarning,\n",
            "/usr/local/lib/python3.7/dist-packages/sklearn/linear_model/_sag.py:354: ConvergenceWarning: The max_iter was reached which means the coef_ did not converge\n",
            "  ConvergenceWarning,\n"
          ]
        },
        {
          "output_type": "stream",
          "name": "stdout",
          "text": [
            "max_iter reached after 16 seconds\n",
            "max_iter reached after 16 seconds\n"
          ]
        },
        {
          "output_type": "stream",
          "name": "stderr",
          "text": [
            "/usr/local/lib/python3.7/dist-packages/sklearn/linear_model/_sag.py:354: ConvergenceWarning: The max_iter was reached which means the coef_ did not converge\n",
            "  ConvergenceWarning,\n",
            "/usr/local/lib/python3.7/dist-packages/sklearn/linear_model/_sag.py:354: ConvergenceWarning: The max_iter was reached which means the coef_ did not converge\n",
            "  ConvergenceWarning,\n"
          ]
        },
        {
          "output_type": "stream",
          "name": "stdout",
          "text": [
            "max_iter reached after 15 seconds\n",
            "max_iter reached after 15 seconds\n"
          ]
        },
        {
          "output_type": "stream",
          "name": "stderr",
          "text": [
            "/usr/local/lib/python3.7/dist-packages/sklearn/linear_model/_sag.py:354: ConvergenceWarning: The max_iter was reached which means the coef_ did not converge\n",
            "  ConvergenceWarning,\n",
            "/usr/local/lib/python3.7/dist-packages/sklearn/linear_model/_sag.py:354: ConvergenceWarning: The max_iter was reached which means the coef_ did not converge\n",
            "  ConvergenceWarning,\n",
            "[Parallel(n_jobs=-1)]: Done   2 out of   2 | elapsed:  1.2min finished\n"
          ]
        },
        {
          "output_type": "stream",
          "name": "stdout",
          "text": [
            "convergence after 47 epochs took 1 seconds\n"
          ]
        },
        {
          "output_type": "execute_result",
          "data": {
            "text/plain": [
              "Pipeline(steps=[('columntransformer',\n",
              "                 ColumnTransformer(transformers=[('pipeline-1',\n",
              "                                                  Pipeline(steps=[('tfidfvectorizer',\n",
              "                                                                   TfidfVectorizer(lowercase=False,\n",
              "                                                                                   max_features=3500,\n",
              "                                                                                   ngram_range=(1,\n",
              "                                                                                                2),\n",
              "                                                                                   tokenizer=<function word_tokenize at 0x7f10a44bd290>)),\n",
              "                                                                  ('maxabsscaler',\n",
              "                                                                   MaxAbsScaler())]),\n",
              "                                                  'hashtag_gone'),\n",
              "                                                 ('minmaxscaler',\n",
              "                                                  MinMaxScaler(),\n",
              "                                                  ['afinn_score', 'neg']),\n",
              "                                                 ('pipeli...\n",
              "                                                  Pipeline(steps=[('countvectorizer',\n",
              "                                                                   CountVectorizer(lowercase=False,\n",
              "                                                                                   max_features=100,\n",
              "                                                                                   tokenizer=<function word_tokenize at 0x7f10a44bd290>)),\n",
              "                                                                  ('maxabsscaler',\n",
              "                                                                   MaxAbsScaler())]),\n",
              "                                                  'POS_clean')])),\n",
              "                ('logisticregressioncv',\n",
              "                 LogisticRegressionCV(class_weight='balanced', cv=2,\n",
              "                                      multi_class='ovr', n_jobs=-1,\n",
              "                                      penalty='l1', random_state=42,\n",
              "                                      scoring='f1_macro', solver='saga',\n",
              "                                      verbose=2))])"
            ],
            "text/html": [
              "<style>#sk-82dacc94-8730-484e-84d0-88917d8148e2 {color: black;background-color: white;}#sk-82dacc94-8730-484e-84d0-88917d8148e2 pre{padding: 0;}#sk-82dacc94-8730-484e-84d0-88917d8148e2 div.sk-toggleable {background-color: white;}#sk-82dacc94-8730-484e-84d0-88917d8148e2 label.sk-toggleable__label {cursor: pointer;display: block;width: 100%;margin-bottom: 0;padding: 0.3em;box-sizing: border-box;text-align: center;}#sk-82dacc94-8730-484e-84d0-88917d8148e2 label.sk-toggleable__label-arrow:before {content: \"▸\";float: left;margin-right: 0.25em;color: #696969;}#sk-82dacc94-8730-484e-84d0-88917d8148e2 label.sk-toggleable__label-arrow:hover:before {color: black;}#sk-82dacc94-8730-484e-84d0-88917d8148e2 div.sk-estimator:hover label.sk-toggleable__label-arrow:before {color: black;}#sk-82dacc94-8730-484e-84d0-88917d8148e2 div.sk-toggleable__content {max-height: 0;max-width: 0;overflow: hidden;text-align: left;background-color: #f0f8ff;}#sk-82dacc94-8730-484e-84d0-88917d8148e2 div.sk-toggleable__content pre {margin: 0.2em;color: black;border-radius: 0.25em;background-color: #f0f8ff;}#sk-82dacc94-8730-484e-84d0-88917d8148e2 input.sk-toggleable__control:checked~div.sk-toggleable__content {max-height: 200px;max-width: 100%;overflow: auto;}#sk-82dacc94-8730-484e-84d0-88917d8148e2 input.sk-toggleable__control:checked~label.sk-toggleable__label-arrow:before {content: \"▾\";}#sk-82dacc94-8730-484e-84d0-88917d8148e2 div.sk-estimator input.sk-toggleable__control:checked~label.sk-toggleable__label {background-color: #d4ebff;}#sk-82dacc94-8730-484e-84d0-88917d8148e2 div.sk-label input.sk-toggleable__control:checked~label.sk-toggleable__label {background-color: #d4ebff;}#sk-82dacc94-8730-484e-84d0-88917d8148e2 input.sk-hidden--visually {border: 0;clip: rect(1px 1px 1px 1px);clip: rect(1px, 1px, 1px, 1px);height: 1px;margin: -1px;overflow: hidden;padding: 0;position: absolute;width: 1px;}#sk-82dacc94-8730-484e-84d0-88917d8148e2 div.sk-estimator {font-family: monospace;background-color: #f0f8ff;border: 1px dotted black;border-radius: 0.25em;box-sizing: border-box;margin-bottom: 0.5em;}#sk-82dacc94-8730-484e-84d0-88917d8148e2 div.sk-estimator:hover {background-color: #d4ebff;}#sk-82dacc94-8730-484e-84d0-88917d8148e2 div.sk-parallel-item::after {content: \"\";width: 100%;border-bottom: 1px solid gray;flex-grow: 1;}#sk-82dacc94-8730-484e-84d0-88917d8148e2 div.sk-label:hover label.sk-toggleable__label {background-color: #d4ebff;}#sk-82dacc94-8730-484e-84d0-88917d8148e2 div.sk-serial::before {content: \"\";position: absolute;border-left: 1px solid gray;box-sizing: border-box;top: 2em;bottom: 0;left: 50%;}#sk-82dacc94-8730-484e-84d0-88917d8148e2 div.sk-serial {display: flex;flex-direction: column;align-items: center;background-color: white;padding-right: 0.2em;padding-left: 0.2em;}#sk-82dacc94-8730-484e-84d0-88917d8148e2 div.sk-item {z-index: 1;}#sk-82dacc94-8730-484e-84d0-88917d8148e2 div.sk-parallel {display: flex;align-items: stretch;justify-content: center;background-color: white;}#sk-82dacc94-8730-484e-84d0-88917d8148e2 div.sk-parallel::before {content: \"\";position: absolute;border-left: 1px solid gray;box-sizing: border-box;top: 2em;bottom: 0;left: 50%;}#sk-82dacc94-8730-484e-84d0-88917d8148e2 div.sk-parallel-item {display: flex;flex-direction: column;position: relative;background-color: white;}#sk-82dacc94-8730-484e-84d0-88917d8148e2 div.sk-parallel-item:first-child::after {align-self: flex-end;width: 50%;}#sk-82dacc94-8730-484e-84d0-88917d8148e2 div.sk-parallel-item:last-child::after {align-self: flex-start;width: 50%;}#sk-82dacc94-8730-484e-84d0-88917d8148e2 div.sk-parallel-item:only-child::after {width: 0;}#sk-82dacc94-8730-484e-84d0-88917d8148e2 div.sk-dashed-wrapped {border: 1px dashed gray;margin: 0 0.4em 0.5em 0.4em;box-sizing: border-box;padding-bottom: 0.4em;background-color: white;position: relative;}#sk-82dacc94-8730-484e-84d0-88917d8148e2 div.sk-label label {font-family: monospace;font-weight: bold;background-color: white;display: inline-block;line-height: 1.2em;}#sk-82dacc94-8730-484e-84d0-88917d8148e2 div.sk-label-container {position: relative;z-index: 2;text-align: center;}#sk-82dacc94-8730-484e-84d0-88917d8148e2 div.sk-container {/* jupyter's `normalize.less` sets `[hidden] { display: none; }` but bootstrap.min.css set `[hidden] { display: none !important; }` so we also need the `!important` here to be able to override the default hidden behavior on the sphinx rendered scikit-learn.org. See: https://github.com/scikit-learn/scikit-learn/issues/21755 */display: inline-block !important;position: relative;}#sk-82dacc94-8730-484e-84d0-88917d8148e2 div.sk-text-repr-fallback {display: none;}</style><div id=\"sk-82dacc94-8730-484e-84d0-88917d8148e2\" class=\"sk-top-container\"><div class=\"sk-text-repr-fallback\"><pre>Pipeline(steps=[(&#x27;columntransformer&#x27;,\n",
              "                 ColumnTransformer(transformers=[(&#x27;pipeline-1&#x27;,\n",
              "                                                  Pipeline(steps=[(&#x27;tfidfvectorizer&#x27;,\n",
              "                                                                   TfidfVectorizer(lowercase=False,\n",
              "                                                                                   max_features=3500,\n",
              "                                                                                   ngram_range=(1,\n",
              "                                                                                                2),\n",
              "                                                                                   tokenizer=&lt;function word_tokenize at 0x7f10a44bd290&gt;)),\n",
              "                                                                  (&#x27;maxabsscaler&#x27;,\n",
              "                                                                   MaxAbsScaler())]),\n",
              "                                                  &#x27;hashtag_gone&#x27;),\n",
              "                                                 (&#x27;minmaxscaler&#x27;,\n",
              "                                                  MinMaxScaler(),\n",
              "                                                  [&#x27;afinn_score&#x27;, &#x27;neg&#x27;]),\n",
              "                                                 (&#x27;pipeli...\n",
              "                                                  Pipeline(steps=[(&#x27;countvectorizer&#x27;,\n",
              "                                                                   CountVectorizer(lowercase=False,\n",
              "                                                                                   max_features=100,\n",
              "                                                                                   tokenizer=&lt;function word_tokenize at 0x7f10a44bd290&gt;)),\n",
              "                                                                  (&#x27;maxabsscaler&#x27;,\n",
              "                                                                   MaxAbsScaler())]),\n",
              "                                                  &#x27;POS_clean&#x27;)])),\n",
              "                (&#x27;logisticregressioncv&#x27;,\n",
              "                 LogisticRegressionCV(class_weight=&#x27;balanced&#x27;, cv=2,\n",
              "                                      multi_class=&#x27;ovr&#x27;, n_jobs=-1,\n",
              "                                      penalty=&#x27;l1&#x27;, random_state=42,\n",
              "                                      scoring=&#x27;f1_macro&#x27;, solver=&#x27;saga&#x27;,\n",
              "                                      verbose=2))])</pre><b>Please rerun this cell to show the HTML repr or trust the notebook.</b></div><div class=\"sk-container\" hidden><div class=\"sk-item sk-dashed-wrapped\"><div class=\"sk-label-container\"><div class=\"sk-label sk-toggleable\"><input class=\"sk-toggleable__control sk-hidden--visually\" id=\"61083fc8-2ddf-4e36-9873-c059ebc6cd79\" type=\"checkbox\" ><label for=\"61083fc8-2ddf-4e36-9873-c059ebc6cd79\" class=\"sk-toggleable__label sk-toggleable__label-arrow\">Pipeline</label><div class=\"sk-toggleable__content\"><pre>Pipeline(steps=[(&#x27;columntransformer&#x27;,\n",
              "                 ColumnTransformer(transformers=[(&#x27;pipeline-1&#x27;,\n",
              "                                                  Pipeline(steps=[(&#x27;tfidfvectorizer&#x27;,\n",
              "                                                                   TfidfVectorizer(lowercase=False,\n",
              "                                                                                   max_features=3500,\n",
              "                                                                                   ngram_range=(1,\n",
              "                                                                                                2),\n",
              "                                                                                   tokenizer=&lt;function word_tokenize at 0x7f10a44bd290&gt;)),\n",
              "                                                                  (&#x27;maxabsscaler&#x27;,\n",
              "                                                                   MaxAbsScaler())]),\n",
              "                                                  &#x27;hashtag_gone&#x27;),\n",
              "                                                 (&#x27;minmaxscaler&#x27;,\n",
              "                                                  MinMaxScaler(),\n",
              "                                                  [&#x27;afinn_score&#x27;, &#x27;neg&#x27;]),\n",
              "                                                 (&#x27;pipeli...\n",
              "                                                  Pipeline(steps=[(&#x27;countvectorizer&#x27;,\n",
              "                                                                   CountVectorizer(lowercase=False,\n",
              "                                                                                   max_features=100,\n",
              "                                                                                   tokenizer=&lt;function word_tokenize at 0x7f10a44bd290&gt;)),\n",
              "                                                                  (&#x27;maxabsscaler&#x27;,\n",
              "                                                                   MaxAbsScaler())]),\n",
              "                                                  &#x27;POS_clean&#x27;)])),\n",
              "                (&#x27;logisticregressioncv&#x27;,\n",
              "                 LogisticRegressionCV(class_weight=&#x27;balanced&#x27;, cv=2,\n",
              "                                      multi_class=&#x27;ovr&#x27;, n_jobs=-1,\n",
              "                                      penalty=&#x27;l1&#x27;, random_state=42,\n",
              "                                      scoring=&#x27;f1_macro&#x27;, solver=&#x27;saga&#x27;,\n",
              "                                      verbose=2))])</pre></div></div></div><div class=\"sk-serial\"><div class=\"sk-item sk-dashed-wrapped\"><div class=\"sk-label-container\"><div class=\"sk-label sk-toggleable\"><input class=\"sk-toggleable__control sk-hidden--visually\" id=\"ea7c0cf4-6d61-491e-ae07-9ce1151d612a\" type=\"checkbox\" ><label for=\"ea7c0cf4-6d61-491e-ae07-9ce1151d612a\" class=\"sk-toggleable__label sk-toggleable__label-arrow\">columntransformer: ColumnTransformer</label><div class=\"sk-toggleable__content\"><pre>ColumnTransformer(transformers=[(&#x27;pipeline-1&#x27;,\n",
              "                                 Pipeline(steps=[(&#x27;tfidfvectorizer&#x27;,\n",
              "                                                  TfidfVectorizer(lowercase=False,\n",
              "                                                                  max_features=3500,\n",
              "                                                                  ngram_range=(1,\n",
              "                                                                               2),\n",
              "                                                                  tokenizer=&lt;function word_tokenize at 0x7f10a44bd290&gt;)),\n",
              "                                                 (&#x27;maxabsscaler&#x27;,\n",
              "                                                  MaxAbsScaler())]),\n",
              "                                 &#x27;hashtag_gone&#x27;),\n",
              "                                (&#x27;minmaxscaler&#x27;, MinMaxScaler(),\n",
              "                                 [&#x27;afinn_score&#x27;, &#x27;neg&#x27;]),\n",
              "                                (&#x27;pipeline-2&#x27;,\n",
              "                                 Pipeline(steps=[(&#x27;countvectorizer&#x27;,\n",
              "                                                  CountVectorizer(lowercase=False,\n",
              "                                                                  max_features=100,\n",
              "                                                                  tokenizer=&lt;function word_tokenize at 0x7f10a44bd290&gt;)),\n",
              "                                                 (&#x27;maxabsscaler&#x27;,\n",
              "                                                  MaxAbsScaler())]),\n",
              "                                 &#x27;POS_clean&#x27;)])</pre></div></div></div><div class=\"sk-parallel\"><div class=\"sk-parallel-item\"><div class=\"sk-item\"><div class=\"sk-label-container\"><div class=\"sk-label sk-toggleable\"><input class=\"sk-toggleable__control sk-hidden--visually\" id=\"694229cd-9671-45d3-b26f-7a747d408858\" type=\"checkbox\" ><label for=\"694229cd-9671-45d3-b26f-7a747d408858\" class=\"sk-toggleable__label sk-toggleable__label-arrow\">pipeline-1</label><div class=\"sk-toggleable__content\"><pre>hashtag_gone</pre></div></div></div><div class=\"sk-serial\"><div class=\"sk-item\"><div class=\"sk-serial\"><div class=\"sk-item\"><div class=\"sk-estimator sk-toggleable\"><input class=\"sk-toggleable__control sk-hidden--visually\" id=\"963a59cd-65b8-4853-9439-a2b679824594\" type=\"checkbox\" ><label for=\"963a59cd-65b8-4853-9439-a2b679824594\" class=\"sk-toggleable__label sk-toggleable__label-arrow\">TfidfVectorizer</label><div class=\"sk-toggleable__content\"><pre>TfidfVectorizer(lowercase=False, max_features=3500, ngram_range=(1, 2),\n",
              "                tokenizer=&lt;function word_tokenize at 0x7f10a44bd290&gt;)</pre></div></div></div><div class=\"sk-item\"><div class=\"sk-estimator sk-toggleable\"><input class=\"sk-toggleable__control sk-hidden--visually\" id=\"aa08a90a-5d93-4982-93b1-78361b174e2e\" type=\"checkbox\" ><label for=\"aa08a90a-5d93-4982-93b1-78361b174e2e\" class=\"sk-toggleable__label sk-toggleable__label-arrow\">MaxAbsScaler</label><div class=\"sk-toggleable__content\"><pre>MaxAbsScaler()</pre></div></div></div></div></div></div></div></div><div class=\"sk-parallel-item\"><div class=\"sk-item\"><div class=\"sk-label-container\"><div class=\"sk-label sk-toggleable\"><input class=\"sk-toggleable__control sk-hidden--visually\" id=\"649ae41b-7466-4489-98a5-a4a7849c1fd2\" type=\"checkbox\" ><label for=\"649ae41b-7466-4489-98a5-a4a7849c1fd2\" class=\"sk-toggleable__label sk-toggleable__label-arrow\">minmaxscaler</label><div class=\"sk-toggleable__content\"><pre>[&#x27;afinn_score&#x27;, &#x27;neg&#x27;]</pre></div></div></div><div class=\"sk-serial\"><div class=\"sk-item\"><div class=\"sk-estimator sk-toggleable\"><input class=\"sk-toggleable__control sk-hidden--visually\" id=\"069a2ad6-5c64-4358-8d83-86158d878f63\" type=\"checkbox\" ><label for=\"069a2ad6-5c64-4358-8d83-86158d878f63\" class=\"sk-toggleable__label sk-toggleable__label-arrow\">MinMaxScaler</label><div class=\"sk-toggleable__content\"><pre>MinMaxScaler()</pre></div></div></div></div></div></div><div class=\"sk-parallel-item\"><div class=\"sk-item\"><div class=\"sk-label-container\"><div class=\"sk-label sk-toggleable\"><input class=\"sk-toggleable__control sk-hidden--visually\" id=\"4ff61877-5999-4b45-a6dd-f82dc81441a1\" type=\"checkbox\" ><label for=\"4ff61877-5999-4b45-a6dd-f82dc81441a1\" class=\"sk-toggleable__label sk-toggleable__label-arrow\">pipeline-2</label><div class=\"sk-toggleable__content\"><pre>POS_clean</pre></div></div></div><div class=\"sk-serial\"><div class=\"sk-item\"><div class=\"sk-serial\"><div class=\"sk-item\"><div class=\"sk-estimator sk-toggleable\"><input class=\"sk-toggleable__control sk-hidden--visually\" id=\"6ab476c0-0a24-45bf-9f01-d1e24a5a1b5f\" type=\"checkbox\" ><label for=\"6ab476c0-0a24-45bf-9f01-d1e24a5a1b5f\" class=\"sk-toggleable__label sk-toggleable__label-arrow\">CountVectorizer</label><div class=\"sk-toggleable__content\"><pre>CountVectorizer(lowercase=False, max_features=100,\n",
              "                tokenizer=&lt;function word_tokenize at 0x7f10a44bd290&gt;)</pre></div></div></div><div class=\"sk-item\"><div class=\"sk-estimator sk-toggleable\"><input class=\"sk-toggleable__control sk-hidden--visually\" id=\"ab59d659-4c0e-48ad-aa5a-6edad5d9e200\" type=\"checkbox\" ><label for=\"ab59d659-4c0e-48ad-aa5a-6edad5d9e200\" class=\"sk-toggleable__label sk-toggleable__label-arrow\">MaxAbsScaler</label><div class=\"sk-toggleable__content\"><pre>MaxAbsScaler()</pre></div></div></div></div></div></div></div></div></div></div><div class=\"sk-item\"><div class=\"sk-estimator sk-toggleable\"><input class=\"sk-toggleable__control sk-hidden--visually\" id=\"ccabffa1-bd7d-4b4b-a98a-132dbdd412dd\" type=\"checkbox\" ><label for=\"ccabffa1-bd7d-4b4b-a98a-132dbdd412dd\" class=\"sk-toggleable__label sk-toggleable__label-arrow\">LogisticRegressionCV</label><div class=\"sk-toggleable__content\"><pre>LogisticRegressionCV(class_weight=&#x27;balanced&#x27;, cv=2, multi_class=&#x27;ovr&#x27;,\n",
              "                     n_jobs=-1, penalty=&#x27;l1&#x27;, random_state=42,\n",
              "                     scoring=&#x27;f1_macro&#x27;, solver=&#x27;saga&#x27;, verbose=2)</pre></div></div></div></div></div></div></div>"
            ]
          },
          "metadata": {},
          "execution_count": 150
        }
      ],
      "source": [
        "log_pipe1.fit(X_train, y_train) "
      ],
      "id": "M1MdtTQDFotg"
    },
    {
      "cell_type": "code",
      "execution_count": null,
      "metadata": {
        "colab": {
          "base_uri": "https://localhost:8080/",
          "height": 1000
        },
        "id": "d1SvGXo4CyG8",
        "outputId": "413a910e-7650-4bca-f14a-e38de1ed3f4a"
      },
      "outputs": [
        {
          "name": "stderr",
          "output_type": "stream",
          "text": [
            "[Parallel(n_jobs=-1)]: Using backend ThreadingBackend with 2 concurrent workers.\n"
          ]
        },
        {
          "name": "stdout",
          "output_type": "stream",
          "text": [
            "convergence after 1 epochs took 0 seconds\n",
            "convergence after 1 epochs took 0 seconds\n",
            "convergence after 5 epochs took 0 secondsconvergence after 5 epochs took 0 seconds\n",
            "\n",
            "convergence after 12 epochs took 0 seconds\n",
            "convergence after 13 epochs took 0 seconds\n",
            "max_iter reached after 1 seconds\n",
            "convergence after 14 epochs took 0 seconds\n"
          ]
        },
        {
          "name": "stderr",
          "output_type": "stream",
          "text": [
            "/usr/local/lib/python3.7/dist-packages/sklearn/linear_model/_sag.py:354: ConvergenceWarning: The max_iter was reached which means the coef_ did not converge\n",
            "  ConvergenceWarning,\n"
          ]
        },
        {
          "name": "stdout",
          "output_type": "stream",
          "text": [
            "max_iter reached after 2 seconds\n"
          ]
        },
        {
          "name": "stderr",
          "output_type": "stream",
          "text": [
            "/usr/local/lib/python3.7/dist-packages/sklearn/linear_model/_sag.py:354: ConvergenceWarning: The max_iter was reached which means the coef_ did not converge\n",
            "  ConvergenceWarning,\n"
          ]
        },
        {
          "name": "stdout",
          "output_type": "stream",
          "text": [
            "max_iter reached after 1 seconds\n"
          ]
        },
        {
          "name": "stderr",
          "output_type": "stream",
          "text": [
            "/usr/local/lib/python3.7/dist-packages/sklearn/linear_model/_sag.py:354: ConvergenceWarning: The max_iter was reached which means the coef_ did not converge\n",
            "  ConvergenceWarning,\n"
          ]
        },
        {
          "name": "stdout",
          "output_type": "stream",
          "text": [
            "max_iter reached after 5 seconds\n"
          ]
        },
        {
          "name": "stderr",
          "output_type": "stream",
          "text": [
            "/usr/local/lib/python3.7/dist-packages/sklearn/linear_model/_sag.py:354: ConvergenceWarning: The max_iter was reached which means the coef_ did not converge\n",
            "  ConvergenceWarning,\n"
          ]
        },
        {
          "name": "stdout",
          "output_type": "stream",
          "text": [
            "max_iter reached after 6 seconds\n"
          ]
        },
        {
          "name": "stderr",
          "output_type": "stream",
          "text": [
            "/usr/local/lib/python3.7/dist-packages/sklearn/linear_model/_sag.py:354: ConvergenceWarning: The max_iter was reached which means the coef_ did not converge\n",
            "  ConvergenceWarning,\n"
          ]
        },
        {
          "name": "stdout",
          "output_type": "stream",
          "text": [
            "max_iter reached after 14 seconds\n"
          ]
        },
        {
          "name": "stderr",
          "output_type": "stream",
          "text": [
            "/usr/local/lib/python3.7/dist-packages/sklearn/linear_model/_sag.py:354: ConvergenceWarning: The max_iter was reached which means the coef_ did not converge\n",
            "  ConvergenceWarning,\n"
          ]
        },
        {
          "name": "stdout",
          "output_type": "stream",
          "text": [
            "max_iter reached after 15 seconds\n"
          ]
        },
        {
          "name": "stderr",
          "output_type": "stream",
          "text": [
            "/usr/local/lib/python3.7/dist-packages/sklearn/linear_model/_sag.py:354: ConvergenceWarning: The max_iter was reached which means the coef_ did not converge\n",
            "  ConvergenceWarning,\n"
          ]
        },
        {
          "name": "stdout",
          "output_type": "stream",
          "text": [
            "max_iter reached after 19 seconds\n"
          ]
        },
        {
          "name": "stderr",
          "output_type": "stream",
          "text": [
            "/usr/local/lib/python3.7/dist-packages/sklearn/linear_model/_sag.py:354: ConvergenceWarning: The max_iter was reached which means the coef_ did not converge\n",
            "  ConvergenceWarning,\n"
          ]
        },
        {
          "name": "stdout",
          "output_type": "stream",
          "text": [
            "max_iter reached after 18 seconds\n"
          ]
        },
        {
          "name": "stderr",
          "output_type": "stream",
          "text": [
            "/usr/local/lib/python3.7/dist-packages/sklearn/linear_model/_sag.py:354: ConvergenceWarning: The max_iter was reached which means the coef_ did not converge\n",
            "  ConvergenceWarning,\n"
          ]
        },
        {
          "name": "stdout",
          "output_type": "stream",
          "text": [
            "max_iter reached after 12 seconds\n"
          ]
        },
        {
          "name": "stderr",
          "output_type": "stream",
          "text": [
            "/usr/local/lib/python3.7/dist-packages/sklearn/linear_model/_sag.py:354: ConvergenceWarning: The max_iter was reached which means the coef_ did not converge\n",
            "  ConvergenceWarning,\n"
          ]
        },
        {
          "name": "stdout",
          "output_type": "stream",
          "text": [
            "max_iter reached after 12 seconds\n"
          ]
        },
        {
          "name": "stderr",
          "output_type": "stream",
          "text": [
            "/usr/local/lib/python3.7/dist-packages/sklearn/linear_model/_sag.py:354: ConvergenceWarning: The max_iter was reached which means the coef_ did not converge\n",
            "  ConvergenceWarning,\n"
          ]
        },
        {
          "name": "stdout",
          "output_type": "stream",
          "text": [
            "max_iter reached after 13 seconds\n"
          ]
        },
        {
          "name": "stderr",
          "output_type": "stream",
          "text": [
            "/usr/local/lib/python3.7/dist-packages/sklearn/linear_model/_sag.py:354: ConvergenceWarning: The max_iter was reached which means the coef_ did not converge\n",
            "  ConvergenceWarning,\n"
          ]
        },
        {
          "name": "stdout",
          "output_type": "stream",
          "text": [
            "max_iter reached after 12 seconds\n"
          ]
        },
        {
          "name": "stderr",
          "output_type": "stream",
          "text": [
            "/usr/local/lib/python3.7/dist-packages/sklearn/linear_model/_sag.py:354: ConvergenceWarning: The max_iter was reached which means the coef_ did not converge\n",
            "  ConvergenceWarning,\n",
            "[Parallel(n_jobs=-1)]: Done   2 out of   2 | elapsed:  1.1min finished\n"
          ]
        },
        {
          "name": "stdout",
          "output_type": "stream",
          "text": [
            "convergence after 49 epochs took 1 seconds\n"
          ]
        },
        {
          "data": {
            "text/html": [
              "<style>#sk-44655090-d28e-4256-9da3-86c5167229eb {color: black;background-color: white;}#sk-44655090-d28e-4256-9da3-86c5167229eb pre{padding: 0;}#sk-44655090-d28e-4256-9da3-86c5167229eb div.sk-toggleable {background-color: white;}#sk-44655090-d28e-4256-9da3-86c5167229eb label.sk-toggleable__label {cursor: pointer;display: block;width: 100%;margin-bottom: 0;padding: 0.3em;box-sizing: border-box;text-align: center;}#sk-44655090-d28e-4256-9da3-86c5167229eb label.sk-toggleable__label-arrow:before {content: \"▸\";float: left;margin-right: 0.25em;color: #696969;}#sk-44655090-d28e-4256-9da3-86c5167229eb label.sk-toggleable__label-arrow:hover:before {color: black;}#sk-44655090-d28e-4256-9da3-86c5167229eb div.sk-estimator:hover label.sk-toggleable__label-arrow:before {color: black;}#sk-44655090-d28e-4256-9da3-86c5167229eb div.sk-toggleable__content {max-height: 0;max-width: 0;overflow: hidden;text-align: left;background-color: #f0f8ff;}#sk-44655090-d28e-4256-9da3-86c5167229eb div.sk-toggleable__content pre {margin: 0.2em;color: black;border-radius: 0.25em;background-color: #f0f8ff;}#sk-44655090-d28e-4256-9da3-86c5167229eb input.sk-toggleable__control:checked~div.sk-toggleable__content {max-height: 200px;max-width: 100%;overflow: auto;}#sk-44655090-d28e-4256-9da3-86c5167229eb input.sk-toggleable__control:checked~label.sk-toggleable__label-arrow:before {content: \"▾\";}#sk-44655090-d28e-4256-9da3-86c5167229eb div.sk-estimator input.sk-toggleable__control:checked~label.sk-toggleable__label {background-color: #d4ebff;}#sk-44655090-d28e-4256-9da3-86c5167229eb div.sk-label input.sk-toggleable__control:checked~label.sk-toggleable__label {background-color: #d4ebff;}#sk-44655090-d28e-4256-9da3-86c5167229eb input.sk-hidden--visually {border: 0;clip: rect(1px 1px 1px 1px);clip: rect(1px, 1px, 1px, 1px);height: 1px;margin: -1px;overflow: hidden;padding: 0;position: absolute;width: 1px;}#sk-44655090-d28e-4256-9da3-86c5167229eb div.sk-estimator {font-family: monospace;background-color: #f0f8ff;border: 1px dotted black;border-radius: 0.25em;box-sizing: border-box;margin-bottom: 0.5em;}#sk-44655090-d28e-4256-9da3-86c5167229eb div.sk-estimator:hover {background-color: #d4ebff;}#sk-44655090-d28e-4256-9da3-86c5167229eb div.sk-parallel-item::after {content: \"\";width: 100%;border-bottom: 1px solid gray;flex-grow: 1;}#sk-44655090-d28e-4256-9da3-86c5167229eb div.sk-label:hover label.sk-toggleable__label {background-color: #d4ebff;}#sk-44655090-d28e-4256-9da3-86c5167229eb div.sk-serial::before {content: \"\";position: absolute;border-left: 1px solid gray;box-sizing: border-box;top: 2em;bottom: 0;left: 50%;}#sk-44655090-d28e-4256-9da3-86c5167229eb div.sk-serial {display: flex;flex-direction: column;align-items: center;background-color: white;padding-right: 0.2em;padding-left: 0.2em;}#sk-44655090-d28e-4256-9da3-86c5167229eb div.sk-item {z-index: 1;}#sk-44655090-d28e-4256-9da3-86c5167229eb div.sk-parallel {display: flex;align-items: stretch;justify-content: center;background-color: white;}#sk-44655090-d28e-4256-9da3-86c5167229eb div.sk-parallel::before {content: \"\";position: absolute;border-left: 1px solid gray;box-sizing: border-box;top: 2em;bottom: 0;left: 50%;}#sk-44655090-d28e-4256-9da3-86c5167229eb div.sk-parallel-item {display: flex;flex-direction: column;position: relative;background-color: white;}#sk-44655090-d28e-4256-9da3-86c5167229eb div.sk-parallel-item:first-child::after {align-self: flex-end;width: 50%;}#sk-44655090-d28e-4256-9da3-86c5167229eb div.sk-parallel-item:last-child::after {align-self: flex-start;width: 50%;}#sk-44655090-d28e-4256-9da3-86c5167229eb div.sk-parallel-item:only-child::after {width: 0;}#sk-44655090-d28e-4256-9da3-86c5167229eb div.sk-dashed-wrapped {border: 1px dashed gray;margin: 0 0.4em 0.5em 0.4em;box-sizing: border-box;padding-bottom: 0.4em;background-color: white;position: relative;}#sk-44655090-d28e-4256-9da3-86c5167229eb div.sk-label label {font-family: monospace;font-weight: bold;background-color: white;display: inline-block;line-height: 1.2em;}#sk-44655090-d28e-4256-9da3-86c5167229eb div.sk-label-container {position: relative;z-index: 2;text-align: center;}#sk-44655090-d28e-4256-9da3-86c5167229eb div.sk-container {/* jupyter's `normalize.less` sets `[hidden] { display: none; }` but bootstrap.min.css set `[hidden] { display: none !important; }` so we also need the `!important` here to be able to override the default hidden behavior on the sphinx rendered scikit-learn.org. See: https://github.com/scikit-learn/scikit-learn/issues/21755 */display: inline-block !important;position: relative;}#sk-44655090-d28e-4256-9da3-86c5167229eb div.sk-text-repr-fallback {display: none;}</style><div id=\"sk-44655090-d28e-4256-9da3-86c5167229eb\" class=\"sk-top-container\"><div class=\"sk-text-repr-fallback\"><pre>Pipeline(steps=[(&#x27;columntransformer&#x27;,\n",
              "                 ColumnTransformer(transformers=[(&#x27;pipeline-1&#x27;,\n",
              "                                                  Pipeline(steps=[(&#x27;tfidfvectorizer&#x27;,\n",
              "                                                                   TfidfVectorizer(lowercase=False,\n",
              "                                                                                   max_features=3500,\n",
              "                                                                                   ngram_range=(1,\n",
              "                                                                                                2),\n",
              "                                                                                   tokenizer=&lt;function word_tokenize at 0x7fb444033e60&gt;)),\n",
              "                                                                  (&#x27;maxabsscaler&#x27;,\n",
              "                                                                   MaxAbsScaler())]),\n",
              "                                                  &#x27;hashtag_gone&#x27;),\n",
              "                                                 (&#x27;minmaxscaler&#x27;,\n",
              "                                                  MinMaxScaler(),\n",
              "                                                  [&#x27;afinn_score&#x27;, &#x27;neg&#x27;]),\n",
              "                                                 (&#x27;pipeli...\n",
              "                                                  Pipeline(steps=[(&#x27;countvectorizer&#x27;,\n",
              "                                                                   CountVectorizer(lowercase=False,\n",
              "                                                                                   max_features=100,\n",
              "                                                                                   tokenizer=&lt;function word_tokenize at 0x7fb444033e60&gt;)),\n",
              "                                                                  (&#x27;maxabsscaler&#x27;,\n",
              "                                                                   MaxAbsScaler())]),\n",
              "                                                  &#x27;POS_clean&#x27;)])),\n",
              "                (&#x27;logisticregressioncv&#x27;,\n",
              "                 LogisticRegressionCV(class_weight=&#x27;balanced&#x27;, cv=2,\n",
              "                                      multi_class=&#x27;ovr&#x27;, n_jobs=-1,\n",
              "                                      penalty=&#x27;l1&#x27;, random_state=42,\n",
              "                                      scoring=&#x27;f1_macro&#x27;, solver=&#x27;saga&#x27;,\n",
              "                                      verbose=2))])</pre><b>Please rerun this cell to show the HTML repr or trust the notebook.</b></div><div class=\"sk-container\" hidden><div class=\"sk-item sk-dashed-wrapped\"><div class=\"sk-label-container\"><div class=\"sk-label sk-toggleable\"><input class=\"sk-toggleable__control sk-hidden--visually\" id=\"1eb47ef8-6321-49b5-a833-6b6827a60b15\" type=\"checkbox\" ><label for=\"1eb47ef8-6321-49b5-a833-6b6827a60b15\" class=\"sk-toggleable__label sk-toggleable__label-arrow\">Pipeline</label><div class=\"sk-toggleable__content\"><pre>Pipeline(steps=[(&#x27;columntransformer&#x27;,\n",
              "                 ColumnTransformer(transformers=[(&#x27;pipeline-1&#x27;,\n",
              "                                                  Pipeline(steps=[(&#x27;tfidfvectorizer&#x27;,\n",
              "                                                                   TfidfVectorizer(lowercase=False,\n",
              "                                                                                   max_features=3500,\n",
              "                                                                                   ngram_range=(1,\n",
              "                                                                                                2),\n",
              "                                                                                   tokenizer=&lt;function word_tokenize at 0x7fb444033e60&gt;)),\n",
              "                                                                  (&#x27;maxabsscaler&#x27;,\n",
              "                                                                   MaxAbsScaler())]),\n",
              "                                                  &#x27;hashtag_gone&#x27;),\n",
              "                                                 (&#x27;minmaxscaler&#x27;,\n",
              "                                                  MinMaxScaler(),\n",
              "                                                  [&#x27;afinn_score&#x27;, &#x27;neg&#x27;]),\n",
              "                                                 (&#x27;pipeli...\n",
              "                                                  Pipeline(steps=[(&#x27;countvectorizer&#x27;,\n",
              "                                                                   CountVectorizer(lowercase=False,\n",
              "                                                                                   max_features=100,\n",
              "                                                                                   tokenizer=&lt;function word_tokenize at 0x7fb444033e60&gt;)),\n",
              "                                                                  (&#x27;maxabsscaler&#x27;,\n",
              "                                                                   MaxAbsScaler())]),\n",
              "                                                  &#x27;POS_clean&#x27;)])),\n",
              "                (&#x27;logisticregressioncv&#x27;,\n",
              "                 LogisticRegressionCV(class_weight=&#x27;balanced&#x27;, cv=2,\n",
              "                                      multi_class=&#x27;ovr&#x27;, n_jobs=-1,\n",
              "                                      penalty=&#x27;l1&#x27;, random_state=42,\n",
              "                                      scoring=&#x27;f1_macro&#x27;, solver=&#x27;saga&#x27;,\n",
              "                                      verbose=2))])</pre></div></div></div><div class=\"sk-serial\"><div class=\"sk-item sk-dashed-wrapped\"><div class=\"sk-label-container\"><div class=\"sk-label sk-toggleable\"><input class=\"sk-toggleable__control sk-hidden--visually\" id=\"b1a13136-16d4-48f6-8d83-538dc3eaef96\" type=\"checkbox\" ><label for=\"b1a13136-16d4-48f6-8d83-538dc3eaef96\" class=\"sk-toggleable__label sk-toggleable__label-arrow\">columntransformer: ColumnTransformer</label><div class=\"sk-toggleable__content\"><pre>ColumnTransformer(transformers=[(&#x27;pipeline-1&#x27;,\n",
              "                                 Pipeline(steps=[(&#x27;tfidfvectorizer&#x27;,\n",
              "                                                  TfidfVectorizer(lowercase=False,\n",
              "                                                                  max_features=3500,\n",
              "                                                                  ngram_range=(1,\n",
              "                                                                               2),\n",
              "                                                                  tokenizer=&lt;function word_tokenize at 0x7fb444033e60&gt;)),\n",
              "                                                 (&#x27;maxabsscaler&#x27;,\n",
              "                                                  MaxAbsScaler())]),\n",
              "                                 &#x27;hashtag_gone&#x27;),\n",
              "                                (&#x27;minmaxscaler&#x27;, MinMaxScaler(),\n",
              "                                 [&#x27;afinn_score&#x27;, &#x27;neg&#x27;]),\n",
              "                                (&#x27;pipeline-2&#x27;,\n",
              "                                 Pipeline(steps=[(&#x27;countvectorizer&#x27;,\n",
              "                                                  CountVectorizer(lowercase=False,\n",
              "                                                                  max_features=100,\n",
              "                                                                  tokenizer=&lt;function word_tokenize at 0x7fb444033e60&gt;)),\n",
              "                                                 (&#x27;maxabsscaler&#x27;,\n",
              "                                                  MaxAbsScaler())]),\n",
              "                                 &#x27;POS_clean&#x27;)])</pre></div></div></div><div class=\"sk-parallel\"><div class=\"sk-parallel-item\"><div class=\"sk-item\"><div class=\"sk-label-container\"><div class=\"sk-label sk-toggleable\"><input class=\"sk-toggleable__control sk-hidden--visually\" id=\"8d6449b1-c5a1-455e-a001-425892eb4815\" type=\"checkbox\" ><label for=\"8d6449b1-c5a1-455e-a001-425892eb4815\" class=\"sk-toggleable__label sk-toggleable__label-arrow\">pipeline-1</label><div class=\"sk-toggleable__content\"><pre>hashtag_gone</pre></div></div></div><div class=\"sk-serial\"><div class=\"sk-item\"><div class=\"sk-serial\"><div class=\"sk-item\"><div class=\"sk-estimator sk-toggleable\"><input class=\"sk-toggleable__control sk-hidden--visually\" id=\"835baeb3-aaf7-41d2-bb5b-465838bd3db4\" type=\"checkbox\" ><label for=\"835baeb3-aaf7-41d2-bb5b-465838bd3db4\" class=\"sk-toggleable__label sk-toggleable__label-arrow\">TfidfVectorizer</label><div class=\"sk-toggleable__content\"><pre>TfidfVectorizer(lowercase=False, max_features=3500, ngram_range=(1, 2),\n",
              "                tokenizer=&lt;function word_tokenize at 0x7fb444033e60&gt;)</pre></div></div></div><div class=\"sk-item\"><div class=\"sk-estimator sk-toggleable\"><input class=\"sk-toggleable__control sk-hidden--visually\" id=\"b959edb5-2e08-43f0-964f-6d8328ca5f81\" type=\"checkbox\" ><label for=\"b959edb5-2e08-43f0-964f-6d8328ca5f81\" class=\"sk-toggleable__label sk-toggleable__label-arrow\">MaxAbsScaler</label><div class=\"sk-toggleable__content\"><pre>MaxAbsScaler()</pre></div></div></div></div></div></div></div></div><div class=\"sk-parallel-item\"><div class=\"sk-item\"><div class=\"sk-label-container\"><div class=\"sk-label sk-toggleable\"><input class=\"sk-toggleable__control sk-hidden--visually\" id=\"85ef8499-0b58-4666-b1d6-fdcf7bda41e8\" type=\"checkbox\" ><label for=\"85ef8499-0b58-4666-b1d6-fdcf7bda41e8\" class=\"sk-toggleable__label sk-toggleable__label-arrow\">minmaxscaler</label><div class=\"sk-toggleable__content\"><pre>[&#x27;afinn_score&#x27;, &#x27;neg&#x27;]</pre></div></div></div><div class=\"sk-serial\"><div class=\"sk-item\"><div class=\"sk-estimator sk-toggleable\"><input class=\"sk-toggleable__control sk-hidden--visually\" id=\"8c9a45a1-e21b-4c80-9be4-714f5b3a4005\" type=\"checkbox\" ><label for=\"8c9a45a1-e21b-4c80-9be4-714f5b3a4005\" class=\"sk-toggleable__label sk-toggleable__label-arrow\">MinMaxScaler</label><div class=\"sk-toggleable__content\"><pre>MinMaxScaler()</pre></div></div></div></div></div></div><div class=\"sk-parallel-item\"><div class=\"sk-item\"><div class=\"sk-label-container\"><div class=\"sk-label sk-toggleable\"><input class=\"sk-toggleable__control sk-hidden--visually\" id=\"f3c6febb-cfa4-461d-b61d-6f64e51430cb\" type=\"checkbox\" ><label for=\"f3c6febb-cfa4-461d-b61d-6f64e51430cb\" class=\"sk-toggleable__label sk-toggleable__label-arrow\">pipeline-2</label><div class=\"sk-toggleable__content\"><pre>POS_clean</pre></div></div></div><div class=\"sk-serial\"><div class=\"sk-item\"><div class=\"sk-serial\"><div class=\"sk-item\"><div class=\"sk-estimator sk-toggleable\"><input class=\"sk-toggleable__control sk-hidden--visually\" id=\"5f166212-5d41-4421-aecf-659635b93768\" type=\"checkbox\" ><label for=\"5f166212-5d41-4421-aecf-659635b93768\" class=\"sk-toggleable__label sk-toggleable__label-arrow\">CountVectorizer</label><div class=\"sk-toggleable__content\"><pre>CountVectorizer(lowercase=False, max_features=100,\n",
              "                tokenizer=&lt;function word_tokenize at 0x7fb444033e60&gt;)</pre></div></div></div><div class=\"sk-item\"><div class=\"sk-estimator sk-toggleable\"><input class=\"sk-toggleable__control sk-hidden--visually\" id=\"a641cd63-3f74-408f-ac92-46cb6666ec68\" type=\"checkbox\" ><label for=\"a641cd63-3f74-408f-ac92-46cb6666ec68\" class=\"sk-toggleable__label sk-toggleable__label-arrow\">MaxAbsScaler</label><div class=\"sk-toggleable__content\"><pre>MaxAbsScaler()</pre></div></div></div></div></div></div></div></div></div></div><div class=\"sk-item\"><div class=\"sk-estimator sk-toggleable\"><input class=\"sk-toggleable__control sk-hidden--visually\" id=\"5f98b8bc-a02e-405e-903b-4bf2b923dd99\" type=\"checkbox\" ><label for=\"5f98b8bc-a02e-405e-903b-4bf2b923dd99\" class=\"sk-toggleable__label sk-toggleable__label-arrow\">LogisticRegressionCV</label><div class=\"sk-toggleable__content\"><pre>LogisticRegressionCV(class_weight=&#x27;balanced&#x27;, cv=2, multi_class=&#x27;ovr&#x27;,\n",
              "                     n_jobs=-1, penalty=&#x27;l1&#x27;, random_state=42,\n",
              "                     scoring=&#x27;f1_macro&#x27;, solver=&#x27;saga&#x27;, verbose=2)</pre></div></div></div></div></div></div></div>"
            ],
            "text/plain": [
              "Pipeline(steps=[('columntransformer',\n",
              "                 ColumnTransformer(transformers=[('pipeline-1',\n",
              "                                                  Pipeline(steps=[('tfidfvectorizer',\n",
              "                                                                   TfidfVectorizer(lowercase=False,\n",
              "                                                                                   max_features=3500,\n",
              "                                                                                   ngram_range=(1,\n",
              "                                                                                                2),\n",
              "                                                                                   tokenizer=<function word_tokenize at 0x7fb444033e60>)),\n",
              "                                                                  ('maxabsscaler',\n",
              "                                                                   MaxAbsScaler())]),\n",
              "                                                  'hashtag_gone'),\n",
              "                                                 ('minmaxscaler',\n",
              "                                                  MinMaxScaler(),\n",
              "                                                  ['afinn_score', 'neg']),\n",
              "                                                 ('pipeli...\n",
              "                                                  Pipeline(steps=[('countvectorizer',\n",
              "                                                                   CountVectorizer(lowercase=False,\n",
              "                                                                                   max_features=100,\n",
              "                                                                                   tokenizer=<function word_tokenize at 0x7fb444033e60>)),\n",
              "                                                                  ('maxabsscaler',\n",
              "                                                                   MaxAbsScaler())]),\n",
              "                                                  'POS_clean')])),\n",
              "                ('logisticregressioncv',\n",
              "                 LogisticRegressionCV(class_weight='balanced', cv=2,\n",
              "                                      multi_class='ovr', n_jobs=-1,\n",
              "                                      penalty='l1', random_state=42,\n",
              "                                      scoring='f1_macro', solver='saga',\n",
              "                                      verbose=2))])"
            ]
          },
          "execution_count": 86,
          "metadata": {},
          "output_type": "execute_result"
        }
      ],
      "source": [
        "#log_pipe1.fit(X_train0, y_train0)"
      ],
      "id": "d1SvGXo4CyG8"
    },
    {
      "cell_type": "code",
      "execution_count": null,
      "metadata": {
        "colab": {
          "base_uri": "https://localhost:8080/"
        },
        "id": "EIs32nQ6Cdlj",
        "outputId": "d36653bb-5039-4693-c452-10528ac14a4c"
      },
      "outputs": [
        {
          "name": "stdout",
          "output_type": "stream",
          "text": [
            "              precision    recall  f1-score   support\n",
            "\n",
            "           0       0.83      0.76      0.79      1768\n",
            "           1       0.59      0.68      0.63       880\n",
            "\n",
            "    accuracy                           0.74      2648\n",
            "   macro avg       0.71      0.72      0.71      2648\n",
            "weighted avg       0.75      0.74      0.74      2648\n",
            "\n"
          ]
        }
      ],
      "source": [
        "#y_test_pred = log_pipe1.predict(X_test0)\n",
        "\n",
        "#print(classification_report(y_test0, y_test_pred))"
      ],
      "id": "EIs32nQ6Cdlj"
    },
    {
      "cell_type": "markdown",
      "metadata": {
        "id": "LgPBbptb-ZmR"
      },
      "source": [
        "#### SVMClassifier"
      ],
      "id": "LgPBbptb-ZmR"
    },
    {
      "cell_type": "code",
      "execution_count": 151,
      "metadata": {
        "id": "Hr15rZqP-qHi"
      },
      "outputs": [],
      "source": [
        "#SVC, NuSVC and LinearSVC(only works with hinge) are classes capable of performing binary and multi-class classification on a dataset.\n",
        "#https://scikit-learn.org/stable/modules/generated/sklearn.svm.LinearSVC.html"
      ],
      "id": "Hr15rZqP-qHi"
    },
    {
      "cell_type": "code",
      "execution_count": 152,
      "metadata": {
        "colab": {
          "base_uri": "https://localhost:8080/"
        },
        "id": "h83UF6eX-qvb",
        "outputId": "8c27dccd-0ce2-4180-ab36-67bebb871b47"
      },
      "outputs": [
        {
          "output_type": "stream",
          "name": "stdout",
          "text": [
            "[nltk_data] Downloading package punkt to /root/nltk_data...\n",
            "[nltk_data]   Package punkt is already up-to-date!\n"
          ]
        }
      ],
      "source": [
        "#Importing display features from sklearn, to make pipelines easier to the eye\n",
        "from sklearn import set_config\n",
        "set_config(display=\"diagram\")\n",
        "\n",
        "#Importing vectorizers from sklearn to make the text data numeric\n",
        "from sklearn.feature_extraction.text import CountVectorizer, TfidfVectorizer\n",
        "\n",
        "#Importing scalers from sklearn to make the numeric data comparable\n",
        "#MaxAbsScaler is suited to the expected level of sparsity in our data\n",
        "#MinMaxscaler normalizes the numbers between -1 and 1\n",
        "from sklearn.preprocessing import MaxAbsScaler, MinMaxScaler\n",
        "\n",
        "#Importing transformer and make_pipeline so the data can be put into a pipeline\n",
        "from sklearn.model_selection import cross_val_score\n",
        "from sklearn.pipeline import make_pipeline\n",
        "from sklearn.compose import make_column_transformer\n",
        "\n",
        "#Importing machine learning algorithm from sklearn, the SVC classifier\n",
        "from sklearn.svm import SVC, NuSVC\n",
        "\n",
        "#Importing a tokenizer from nltk to use in the vectorizers\n",
        "from nltk.tokenize import word_tokenize\n",
        "nltk.download('punkt')\n",
        "\n",
        "#Importing evaluation metric from sklearn\n",
        "from sklearn.metrics import classification_report"
      ],
      "id": "h83UF6eX-qvb"
    },
    {
      "cell_type": "markdown",
      "metadata": {
        "id": "h17yM9Wu5qX6"
      },
      "source": [
        "##### svm_model"
      ],
      "id": "h17yM9Wu5qX6"
    },
    {
      "cell_type": "code",
      "execution_count": 153,
      "metadata": {
        "id": "c0mcstmF_wYR"
      },
      "outputs": [],
      "source": [
        "scaler = MaxAbsScaler() #used when making pipeline\n",
        "scaler2 = MinMaxScaler() #used in column transformer\n",
        "\n",
        "#SVM classifier with a set random state\n",
        "  #balanced class weight since one output class is more present than the other\n",
        "  #probability=True, needed for the model to be added to the ensemble later\n",
        "  #other paramaters chosen based on GridSearches which returned them as the best\n",
        "svm_clf = SVC(random_state=42, kernel='linear', C=0.1, \n",
        "              verbose = 2, class_weight='balanced', probability=True)\n",
        "\n",
        "#TfidfVectorizer\n",
        "  #lowercase = True, to help the tokenizer recognize the same words\n",
        "  #other paramaters chosen based on GridSearches which returned them as the best \n",
        "vect1 = TfidfVectorizer(max_features=3200, lowercase=True, \n",
        "                        analyzer='char', ngram_range=(2,3))\n",
        "\n",
        "#TfidfVectorizer\n",
        "  #lowercase = True, not nedded for POS-tags but yielded better results\n",
        "  #other paramaters chosen based on GridSearches which returned them as the best \n",
        "vect1_POS = TfidfVectorizer(max_features=8, lowercase=True, \n",
        "                            tokenizer=word_tokenize, analyzer='word', \n",
        "                            ngram_range=(1,1))\n",
        "\n",
        "#Making Pipelines out of text data columns\n",
        "pre_text1 = make_pipeline(vect1, scaler)\n",
        "pre_text1_POS = make_pipeline(vect1_POS, scaler)\n",
        "\n",
        "#Applying a column transformer to all data\n",
        "#used in a Pipeline to selectively prepare the columns of your dataset \n",
        "  #before fitting a model on the transformed data.\n",
        "#column combination with best results was chosen\n",
        "ct1 = make_column_transformer(\n",
        "    (pre_text1, 'no_punct'),\n",
        "    (pre_text1_POS, 'pos_universal'),\n",
        "    (scaler2, ['afinn_score']),\n",
        "    (scaler2, ['compound']),\n",
        "    (scaler2, ['pos']),\n",
        "    remainder= 'drop'\n",
        ")\n",
        "\n",
        "svm_model = make_pipeline(ct1, svm_clf)"
      ],
      "id": "c0mcstmF_wYR"
    },
    {
      "cell_type": "code",
      "execution_count": 154,
      "metadata": {
        "id": "iE7KhKR4rDOV",
        "colab": {
          "base_uri": "https://localhost:8080/",
          "height": 0
        },
        "outputId": "6d35d559-c7ef-4188-cf91-d9e3435a9156"
      },
      "outputs": [
        {
          "output_type": "stream",
          "name": "stdout",
          "text": [
            "[LibSVM]"
          ]
        },
        {
          "output_type": "execute_result",
          "data": {
            "text/plain": [
              "Pipeline(steps=[('columntransformer',\n",
              "                 ColumnTransformer(transformers=[('pipeline-1',\n",
              "                                                  Pipeline(steps=[('tfidfvectorizer',\n",
              "                                                                   TfidfVectorizer(analyzer='char',\n",
              "                                                                                   max_features=3200,\n",
              "                                                                                   ngram_range=(2,\n",
              "                                                                                                3))),\n",
              "                                                                  ('maxabsscaler',\n",
              "                                                                   MaxAbsScaler())]),\n",
              "                                                  'no_punct'),\n",
              "                                                 ('pipeline-2',\n",
              "                                                  Pipeline(steps=[('tfidfvectorizer',\n",
              "                                                                   TfidfVectorizer(max_features=8,\n",
              "                                                                                   tokenizer=<function word_tokenize at 0x7f10a44bd290>)),\n",
              "                                                                  ('maxabsscaler',\n",
              "                                                                   MaxAbsScaler())]),\n",
              "                                                  'pos_universal'),\n",
              "                                                 ('minmaxscaler-1',\n",
              "                                                  MinMaxScaler(),\n",
              "                                                  ['afinn_score']),\n",
              "                                                 ('minmaxscaler-2',\n",
              "                                                  MinMaxScaler(),\n",
              "                                                  ['compound']),\n",
              "                                                 ('minmaxscaler-3',\n",
              "                                                  MinMaxScaler(), ['pos'])])),\n",
              "                ('svc',\n",
              "                 SVC(C=0.1, class_weight='balanced', kernel='linear',\n",
              "                     probability=True, random_state=42, verbose=2))])"
            ],
            "text/html": [
              "<style>#sk-38750b0e-faca-4238-add8-0ec4a451c1cd {color: black;background-color: white;}#sk-38750b0e-faca-4238-add8-0ec4a451c1cd pre{padding: 0;}#sk-38750b0e-faca-4238-add8-0ec4a451c1cd div.sk-toggleable {background-color: white;}#sk-38750b0e-faca-4238-add8-0ec4a451c1cd label.sk-toggleable__label {cursor: pointer;display: block;width: 100%;margin-bottom: 0;padding: 0.3em;box-sizing: border-box;text-align: center;}#sk-38750b0e-faca-4238-add8-0ec4a451c1cd label.sk-toggleable__label-arrow:before {content: \"▸\";float: left;margin-right: 0.25em;color: #696969;}#sk-38750b0e-faca-4238-add8-0ec4a451c1cd label.sk-toggleable__label-arrow:hover:before {color: black;}#sk-38750b0e-faca-4238-add8-0ec4a451c1cd div.sk-estimator:hover label.sk-toggleable__label-arrow:before {color: black;}#sk-38750b0e-faca-4238-add8-0ec4a451c1cd div.sk-toggleable__content {max-height: 0;max-width: 0;overflow: hidden;text-align: left;background-color: #f0f8ff;}#sk-38750b0e-faca-4238-add8-0ec4a451c1cd div.sk-toggleable__content pre {margin: 0.2em;color: black;border-radius: 0.25em;background-color: #f0f8ff;}#sk-38750b0e-faca-4238-add8-0ec4a451c1cd input.sk-toggleable__control:checked~div.sk-toggleable__content {max-height: 200px;max-width: 100%;overflow: auto;}#sk-38750b0e-faca-4238-add8-0ec4a451c1cd input.sk-toggleable__control:checked~label.sk-toggleable__label-arrow:before {content: \"▾\";}#sk-38750b0e-faca-4238-add8-0ec4a451c1cd div.sk-estimator input.sk-toggleable__control:checked~label.sk-toggleable__label {background-color: #d4ebff;}#sk-38750b0e-faca-4238-add8-0ec4a451c1cd div.sk-label input.sk-toggleable__control:checked~label.sk-toggleable__label {background-color: #d4ebff;}#sk-38750b0e-faca-4238-add8-0ec4a451c1cd input.sk-hidden--visually {border: 0;clip: rect(1px 1px 1px 1px);clip: rect(1px, 1px, 1px, 1px);height: 1px;margin: -1px;overflow: hidden;padding: 0;position: absolute;width: 1px;}#sk-38750b0e-faca-4238-add8-0ec4a451c1cd div.sk-estimator {font-family: monospace;background-color: #f0f8ff;border: 1px dotted black;border-radius: 0.25em;box-sizing: border-box;margin-bottom: 0.5em;}#sk-38750b0e-faca-4238-add8-0ec4a451c1cd div.sk-estimator:hover {background-color: #d4ebff;}#sk-38750b0e-faca-4238-add8-0ec4a451c1cd div.sk-parallel-item::after {content: \"\";width: 100%;border-bottom: 1px solid gray;flex-grow: 1;}#sk-38750b0e-faca-4238-add8-0ec4a451c1cd div.sk-label:hover label.sk-toggleable__label {background-color: #d4ebff;}#sk-38750b0e-faca-4238-add8-0ec4a451c1cd div.sk-serial::before {content: \"\";position: absolute;border-left: 1px solid gray;box-sizing: border-box;top: 2em;bottom: 0;left: 50%;}#sk-38750b0e-faca-4238-add8-0ec4a451c1cd div.sk-serial {display: flex;flex-direction: column;align-items: center;background-color: white;padding-right: 0.2em;padding-left: 0.2em;}#sk-38750b0e-faca-4238-add8-0ec4a451c1cd div.sk-item {z-index: 1;}#sk-38750b0e-faca-4238-add8-0ec4a451c1cd div.sk-parallel {display: flex;align-items: stretch;justify-content: center;background-color: white;}#sk-38750b0e-faca-4238-add8-0ec4a451c1cd div.sk-parallel::before {content: \"\";position: absolute;border-left: 1px solid gray;box-sizing: border-box;top: 2em;bottom: 0;left: 50%;}#sk-38750b0e-faca-4238-add8-0ec4a451c1cd div.sk-parallel-item {display: flex;flex-direction: column;position: relative;background-color: white;}#sk-38750b0e-faca-4238-add8-0ec4a451c1cd div.sk-parallel-item:first-child::after {align-self: flex-end;width: 50%;}#sk-38750b0e-faca-4238-add8-0ec4a451c1cd div.sk-parallel-item:last-child::after {align-self: flex-start;width: 50%;}#sk-38750b0e-faca-4238-add8-0ec4a451c1cd div.sk-parallel-item:only-child::after {width: 0;}#sk-38750b0e-faca-4238-add8-0ec4a451c1cd div.sk-dashed-wrapped {border: 1px dashed gray;margin: 0 0.4em 0.5em 0.4em;box-sizing: border-box;padding-bottom: 0.4em;background-color: white;position: relative;}#sk-38750b0e-faca-4238-add8-0ec4a451c1cd div.sk-label label {font-family: monospace;font-weight: bold;background-color: white;display: inline-block;line-height: 1.2em;}#sk-38750b0e-faca-4238-add8-0ec4a451c1cd div.sk-label-container {position: relative;z-index: 2;text-align: center;}#sk-38750b0e-faca-4238-add8-0ec4a451c1cd div.sk-container {/* jupyter's `normalize.less` sets `[hidden] { display: none; }` but bootstrap.min.css set `[hidden] { display: none !important; }` so we also need the `!important` here to be able to override the default hidden behavior on the sphinx rendered scikit-learn.org. See: https://github.com/scikit-learn/scikit-learn/issues/21755 */display: inline-block !important;position: relative;}#sk-38750b0e-faca-4238-add8-0ec4a451c1cd div.sk-text-repr-fallback {display: none;}</style><div id=\"sk-38750b0e-faca-4238-add8-0ec4a451c1cd\" class=\"sk-top-container\"><div class=\"sk-text-repr-fallback\"><pre>Pipeline(steps=[(&#x27;columntransformer&#x27;,\n",
              "                 ColumnTransformer(transformers=[(&#x27;pipeline-1&#x27;,\n",
              "                                                  Pipeline(steps=[(&#x27;tfidfvectorizer&#x27;,\n",
              "                                                                   TfidfVectorizer(analyzer=&#x27;char&#x27;,\n",
              "                                                                                   max_features=3200,\n",
              "                                                                                   ngram_range=(2,\n",
              "                                                                                                3))),\n",
              "                                                                  (&#x27;maxabsscaler&#x27;,\n",
              "                                                                   MaxAbsScaler())]),\n",
              "                                                  &#x27;no_punct&#x27;),\n",
              "                                                 (&#x27;pipeline-2&#x27;,\n",
              "                                                  Pipeline(steps=[(&#x27;tfidfvectorizer&#x27;,\n",
              "                                                                   TfidfVectorizer(max_features=8,\n",
              "                                                                                   tokenizer=&lt;function word_tokenize at 0x7f10a44bd290&gt;)),\n",
              "                                                                  (&#x27;maxabsscaler&#x27;,\n",
              "                                                                   MaxAbsScaler())]),\n",
              "                                                  &#x27;pos_universal&#x27;),\n",
              "                                                 (&#x27;minmaxscaler-1&#x27;,\n",
              "                                                  MinMaxScaler(),\n",
              "                                                  [&#x27;afinn_score&#x27;]),\n",
              "                                                 (&#x27;minmaxscaler-2&#x27;,\n",
              "                                                  MinMaxScaler(),\n",
              "                                                  [&#x27;compound&#x27;]),\n",
              "                                                 (&#x27;minmaxscaler-3&#x27;,\n",
              "                                                  MinMaxScaler(), [&#x27;pos&#x27;])])),\n",
              "                (&#x27;svc&#x27;,\n",
              "                 SVC(C=0.1, class_weight=&#x27;balanced&#x27;, kernel=&#x27;linear&#x27;,\n",
              "                     probability=True, random_state=42, verbose=2))])</pre><b>Please rerun this cell to show the HTML repr or trust the notebook.</b></div><div class=\"sk-container\" hidden><div class=\"sk-item sk-dashed-wrapped\"><div class=\"sk-label-container\"><div class=\"sk-label sk-toggleable\"><input class=\"sk-toggleable__control sk-hidden--visually\" id=\"bb529705-1ac6-4e28-82c0-7c3b0173ef3a\" type=\"checkbox\" ><label for=\"bb529705-1ac6-4e28-82c0-7c3b0173ef3a\" class=\"sk-toggleable__label sk-toggleable__label-arrow\">Pipeline</label><div class=\"sk-toggleable__content\"><pre>Pipeline(steps=[(&#x27;columntransformer&#x27;,\n",
              "                 ColumnTransformer(transformers=[(&#x27;pipeline-1&#x27;,\n",
              "                                                  Pipeline(steps=[(&#x27;tfidfvectorizer&#x27;,\n",
              "                                                                   TfidfVectorizer(analyzer=&#x27;char&#x27;,\n",
              "                                                                                   max_features=3200,\n",
              "                                                                                   ngram_range=(2,\n",
              "                                                                                                3))),\n",
              "                                                                  (&#x27;maxabsscaler&#x27;,\n",
              "                                                                   MaxAbsScaler())]),\n",
              "                                                  &#x27;no_punct&#x27;),\n",
              "                                                 (&#x27;pipeline-2&#x27;,\n",
              "                                                  Pipeline(steps=[(&#x27;tfidfvectorizer&#x27;,\n",
              "                                                                   TfidfVectorizer(max_features=8,\n",
              "                                                                                   tokenizer=&lt;function word_tokenize at 0x7f10a44bd290&gt;)),\n",
              "                                                                  (&#x27;maxabsscaler&#x27;,\n",
              "                                                                   MaxAbsScaler())]),\n",
              "                                                  &#x27;pos_universal&#x27;),\n",
              "                                                 (&#x27;minmaxscaler-1&#x27;,\n",
              "                                                  MinMaxScaler(),\n",
              "                                                  [&#x27;afinn_score&#x27;]),\n",
              "                                                 (&#x27;minmaxscaler-2&#x27;,\n",
              "                                                  MinMaxScaler(),\n",
              "                                                  [&#x27;compound&#x27;]),\n",
              "                                                 (&#x27;minmaxscaler-3&#x27;,\n",
              "                                                  MinMaxScaler(), [&#x27;pos&#x27;])])),\n",
              "                (&#x27;svc&#x27;,\n",
              "                 SVC(C=0.1, class_weight=&#x27;balanced&#x27;, kernel=&#x27;linear&#x27;,\n",
              "                     probability=True, random_state=42, verbose=2))])</pre></div></div></div><div class=\"sk-serial\"><div class=\"sk-item sk-dashed-wrapped\"><div class=\"sk-label-container\"><div class=\"sk-label sk-toggleable\"><input class=\"sk-toggleable__control sk-hidden--visually\" id=\"50223b23-ef6d-48e8-b8c9-5fcbf1e519bc\" type=\"checkbox\" ><label for=\"50223b23-ef6d-48e8-b8c9-5fcbf1e519bc\" class=\"sk-toggleable__label sk-toggleable__label-arrow\">columntransformer: ColumnTransformer</label><div class=\"sk-toggleable__content\"><pre>ColumnTransformer(transformers=[(&#x27;pipeline-1&#x27;,\n",
              "                                 Pipeline(steps=[(&#x27;tfidfvectorizer&#x27;,\n",
              "                                                  TfidfVectorizer(analyzer=&#x27;char&#x27;,\n",
              "                                                                  max_features=3200,\n",
              "                                                                  ngram_range=(2,\n",
              "                                                                               3))),\n",
              "                                                 (&#x27;maxabsscaler&#x27;,\n",
              "                                                  MaxAbsScaler())]),\n",
              "                                 &#x27;no_punct&#x27;),\n",
              "                                (&#x27;pipeline-2&#x27;,\n",
              "                                 Pipeline(steps=[(&#x27;tfidfvectorizer&#x27;,\n",
              "                                                  TfidfVectorizer(max_features=8,\n",
              "                                                                  tokenizer=&lt;function word_tokenize at 0x7f10a44bd290&gt;)),\n",
              "                                                 (&#x27;maxabsscaler&#x27;,\n",
              "                                                  MaxAbsScaler())]),\n",
              "                                 &#x27;pos_universal&#x27;),\n",
              "                                (&#x27;minmaxscaler-1&#x27;, MinMaxScaler(),\n",
              "                                 [&#x27;afinn_score&#x27;]),\n",
              "                                (&#x27;minmaxscaler-2&#x27;, MinMaxScaler(),\n",
              "                                 [&#x27;compound&#x27;]),\n",
              "                                (&#x27;minmaxscaler-3&#x27;, MinMaxScaler(), [&#x27;pos&#x27;])])</pre></div></div></div><div class=\"sk-parallel\"><div class=\"sk-parallel-item\"><div class=\"sk-item\"><div class=\"sk-label-container\"><div class=\"sk-label sk-toggleable\"><input class=\"sk-toggleable__control sk-hidden--visually\" id=\"381b0de7-e538-407f-b447-e0c545cfd041\" type=\"checkbox\" ><label for=\"381b0de7-e538-407f-b447-e0c545cfd041\" class=\"sk-toggleable__label sk-toggleable__label-arrow\">pipeline-1</label><div class=\"sk-toggleable__content\"><pre>no_punct</pre></div></div></div><div class=\"sk-serial\"><div class=\"sk-item\"><div class=\"sk-serial\"><div class=\"sk-item\"><div class=\"sk-estimator sk-toggleable\"><input class=\"sk-toggleable__control sk-hidden--visually\" id=\"8691cbd2-724b-4ff3-8881-86f3bc961fa2\" type=\"checkbox\" ><label for=\"8691cbd2-724b-4ff3-8881-86f3bc961fa2\" class=\"sk-toggleable__label sk-toggleable__label-arrow\">TfidfVectorizer</label><div class=\"sk-toggleable__content\"><pre>TfidfVectorizer(analyzer=&#x27;char&#x27;, max_features=3200, ngram_range=(2, 3))</pre></div></div></div><div class=\"sk-item\"><div class=\"sk-estimator sk-toggleable\"><input class=\"sk-toggleable__control sk-hidden--visually\" id=\"054fada8-73c9-4b3a-a1f6-5b6ac783ba2f\" type=\"checkbox\" ><label for=\"054fada8-73c9-4b3a-a1f6-5b6ac783ba2f\" class=\"sk-toggleable__label sk-toggleable__label-arrow\">MaxAbsScaler</label><div class=\"sk-toggleable__content\"><pre>MaxAbsScaler()</pre></div></div></div></div></div></div></div></div><div class=\"sk-parallel-item\"><div class=\"sk-item\"><div class=\"sk-label-container\"><div class=\"sk-label sk-toggleable\"><input class=\"sk-toggleable__control sk-hidden--visually\" id=\"642da35c-8b90-4f3d-98e2-f54371430216\" type=\"checkbox\" ><label for=\"642da35c-8b90-4f3d-98e2-f54371430216\" class=\"sk-toggleable__label sk-toggleable__label-arrow\">pipeline-2</label><div class=\"sk-toggleable__content\"><pre>pos_universal</pre></div></div></div><div class=\"sk-serial\"><div class=\"sk-item\"><div class=\"sk-serial\"><div class=\"sk-item\"><div class=\"sk-estimator sk-toggleable\"><input class=\"sk-toggleable__control sk-hidden--visually\" id=\"87457443-bf6b-4e33-8b8e-1358bf9d695a\" type=\"checkbox\" ><label for=\"87457443-bf6b-4e33-8b8e-1358bf9d695a\" class=\"sk-toggleable__label sk-toggleable__label-arrow\">TfidfVectorizer</label><div class=\"sk-toggleable__content\"><pre>TfidfVectorizer(max_features=8,\n",
              "                tokenizer=&lt;function word_tokenize at 0x7f10a44bd290&gt;)</pre></div></div></div><div class=\"sk-item\"><div class=\"sk-estimator sk-toggleable\"><input class=\"sk-toggleable__control sk-hidden--visually\" id=\"17a47be4-a8ea-4823-bcab-c031eca63ad4\" type=\"checkbox\" ><label for=\"17a47be4-a8ea-4823-bcab-c031eca63ad4\" class=\"sk-toggleable__label sk-toggleable__label-arrow\">MaxAbsScaler</label><div class=\"sk-toggleable__content\"><pre>MaxAbsScaler()</pre></div></div></div></div></div></div></div></div><div class=\"sk-parallel-item\"><div class=\"sk-item\"><div class=\"sk-label-container\"><div class=\"sk-label sk-toggleable\"><input class=\"sk-toggleable__control sk-hidden--visually\" id=\"335bba3a-d98a-4375-a3b6-2985d2830ff0\" type=\"checkbox\" ><label for=\"335bba3a-d98a-4375-a3b6-2985d2830ff0\" class=\"sk-toggleable__label sk-toggleable__label-arrow\">minmaxscaler-1</label><div class=\"sk-toggleable__content\"><pre>[&#x27;afinn_score&#x27;]</pre></div></div></div><div class=\"sk-serial\"><div class=\"sk-item\"><div class=\"sk-estimator sk-toggleable\"><input class=\"sk-toggleable__control sk-hidden--visually\" id=\"98746620-abed-487d-9042-4920eb98b29a\" type=\"checkbox\" ><label for=\"98746620-abed-487d-9042-4920eb98b29a\" class=\"sk-toggleable__label sk-toggleable__label-arrow\">MinMaxScaler</label><div class=\"sk-toggleable__content\"><pre>MinMaxScaler()</pre></div></div></div></div></div></div><div class=\"sk-parallel-item\"><div class=\"sk-item\"><div class=\"sk-label-container\"><div class=\"sk-label sk-toggleable\"><input class=\"sk-toggleable__control sk-hidden--visually\" id=\"dd60ee4c-e45c-45b3-a0fd-0c9a5efe0a08\" type=\"checkbox\" ><label for=\"dd60ee4c-e45c-45b3-a0fd-0c9a5efe0a08\" class=\"sk-toggleable__label sk-toggleable__label-arrow\">minmaxscaler-2</label><div class=\"sk-toggleable__content\"><pre>[&#x27;compound&#x27;]</pre></div></div></div><div class=\"sk-serial\"><div class=\"sk-item\"><div class=\"sk-estimator sk-toggleable\"><input class=\"sk-toggleable__control sk-hidden--visually\" id=\"3a152daa-7648-4c92-99c4-a1e3707dad09\" type=\"checkbox\" ><label for=\"3a152daa-7648-4c92-99c4-a1e3707dad09\" class=\"sk-toggleable__label sk-toggleable__label-arrow\">MinMaxScaler</label><div class=\"sk-toggleable__content\"><pre>MinMaxScaler()</pre></div></div></div></div></div></div><div class=\"sk-parallel-item\"><div class=\"sk-item\"><div class=\"sk-label-container\"><div class=\"sk-label sk-toggleable\"><input class=\"sk-toggleable__control sk-hidden--visually\" id=\"b5e891eb-2845-4bf8-8b8d-6fc366d3b3f0\" type=\"checkbox\" ><label for=\"b5e891eb-2845-4bf8-8b8d-6fc366d3b3f0\" class=\"sk-toggleable__label sk-toggleable__label-arrow\">minmaxscaler-3</label><div class=\"sk-toggleable__content\"><pre>[&#x27;pos&#x27;]</pre></div></div></div><div class=\"sk-serial\"><div class=\"sk-item\"><div class=\"sk-estimator sk-toggleable\"><input class=\"sk-toggleable__control sk-hidden--visually\" id=\"91bae7d9-da4e-4180-a2c3-ab9688e7a127\" type=\"checkbox\" ><label for=\"91bae7d9-da4e-4180-a2c3-ab9688e7a127\" class=\"sk-toggleable__label sk-toggleable__label-arrow\">MinMaxScaler</label><div class=\"sk-toggleable__content\"><pre>MinMaxScaler()</pre></div></div></div></div></div></div></div></div><div class=\"sk-item\"><div class=\"sk-estimator sk-toggleable\"><input class=\"sk-toggleable__control sk-hidden--visually\" id=\"a6beb4e6-fc2c-4d75-997c-30f61a17e495\" type=\"checkbox\" ><label for=\"a6beb4e6-fc2c-4d75-997c-30f61a17e495\" class=\"sk-toggleable__label sk-toggleable__label-arrow\">SVC</label><div class=\"sk-toggleable__content\"><pre>SVC(C=0.1, class_weight=&#x27;balanced&#x27;, kernel=&#x27;linear&#x27;, probability=True,\n",
              "    random_state=42, verbose=2)</pre></div></div></div></div></div></div></div>"
            ]
          },
          "metadata": {},
          "execution_count": 154
        }
      ],
      "source": [
        "svm_model.fit(X_train, y_train)"
      ],
      "id": "iE7KhKR4rDOV"
    },
    {
      "cell_type": "code",
      "execution_count": null,
      "metadata": {
        "colab": {
          "base_uri": "https://localhost:8080/",
          "height": 244
        },
        "id": "MwnlIUuCCjBR",
        "outputId": "3bb96c3f-da8d-49b9-b96f-46534c32e16d"
      },
      "outputs": [
        {
          "name": "stdout",
          "output_type": "stream",
          "text": [
            "[LibSVM]"
          ]
        },
        {
          "data": {
            "text/html": [
              "<style>#sk-5e55b38b-0ff6-4eb3-935b-02859272621b {color: black;background-color: white;}#sk-5e55b38b-0ff6-4eb3-935b-02859272621b pre{padding: 0;}#sk-5e55b38b-0ff6-4eb3-935b-02859272621b div.sk-toggleable {background-color: white;}#sk-5e55b38b-0ff6-4eb3-935b-02859272621b label.sk-toggleable__label {cursor: pointer;display: block;width: 100%;margin-bottom: 0;padding: 0.3em;box-sizing: border-box;text-align: center;}#sk-5e55b38b-0ff6-4eb3-935b-02859272621b label.sk-toggleable__label-arrow:before {content: \"▸\";float: left;margin-right: 0.25em;color: #696969;}#sk-5e55b38b-0ff6-4eb3-935b-02859272621b label.sk-toggleable__label-arrow:hover:before {color: black;}#sk-5e55b38b-0ff6-4eb3-935b-02859272621b div.sk-estimator:hover label.sk-toggleable__label-arrow:before {color: black;}#sk-5e55b38b-0ff6-4eb3-935b-02859272621b div.sk-toggleable__content {max-height: 0;max-width: 0;overflow: hidden;text-align: left;background-color: #f0f8ff;}#sk-5e55b38b-0ff6-4eb3-935b-02859272621b div.sk-toggleable__content pre {margin: 0.2em;color: black;border-radius: 0.25em;background-color: #f0f8ff;}#sk-5e55b38b-0ff6-4eb3-935b-02859272621b input.sk-toggleable__control:checked~div.sk-toggleable__content {max-height: 200px;max-width: 100%;overflow: auto;}#sk-5e55b38b-0ff6-4eb3-935b-02859272621b input.sk-toggleable__control:checked~label.sk-toggleable__label-arrow:before {content: \"▾\";}#sk-5e55b38b-0ff6-4eb3-935b-02859272621b div.sk-estimator input.sk-toggleable__control:checked~label.sk-toggleable__label {background-color: #d4ebff;}#sk-5e55b38b-0ff6-4eb3-935b-02859272621b div.sk-label input.sk-toggleable__control:checked~label.sk-toggleable__label {background-color: #d4ebff;}#sk-5e55b38b-0ff6-4eb3-935b-02859272621b input.sk-hidden--visually {border: 0;clip: rect(1px 1px 1px 1px);clip: rect(1px, 1px, 1px, 1px);height: 1px;margin: -1px;overflow: hidden;padding: 0;position: absolute;width: 1px;}#sk-5e55b38b-0ff6-4eb3-935b-02859272621b div.sk-estimator {font-family: monospace;background-color: #f0f8ff;border: 1px dotted black;border-radius: 0.25em;box-sizing: border-box;margin-bottom: 0.5em;}#sk-5e55b38b-0ff6-4eb3-935b-02859272621b div.sk-estimator:hover {background-color: #d4ebff;}#sk-5e55b38b-0ff6-4eb3-935b-02859272621b div.sk-parallel-item::after {content: \"\";width: 100%;border-bottom: 1px solid gray;flex-grow: 1;}#sk-5e55b38b-0ff6-4eb3-935b-02859272621b div.sk-label:hover label.sk-toggleable__label {background-color: #d4ebff;}#sk-5e55b38b-0ff6-4eb3-935b-02859272621b div.sk-serial::before {content: \"\";position: absolute;border-left: 1px solid gray;box-sizing: border-box;top: 2em;bottom: 0;left: 50%;}#sk-5e55b38b-0ff6-4eb3-935b-02859272621b div.sk-serial {display: flex;flex-direction: column;align-items: center;background-color: white;padding-right: 0.2em;padding-left: 0.2em;}#sk-5e55b38b-0ff6-4eb3-935b-02859272621b div.sk-item {z-index: 1;}#sk-5e55b38b-0ff6-4eb3-935b-02859272621b div.sk-parallel {display: flex;align-items: stretch;justify-content: center;background-color: white;}#sk-5e55b38b-0ff6-4eb3-935b-02859272621b div.sk-parallel::before {content: \"\";position: absolute;border-left: 1px solid gray;box-sizing: border-box;top: 2em;bottom: 0;left: 50%;}#sk-5e55b38b-0ff6-4eb3-935b-02859272621b div.sk-parallel-item {display: flex;flex-direction: column;position: relative;background-color: white;}#sk-5e55b38b-0ff6-4eb3-935b-02859272621b div.sk-parallel-item:first-child::after {align-self: flex-end;width: 50%;}#sk-5e55b38b-0ff6-4eb3-935b-02859272621b div.sk-parallel-item:last-child::after {align-self: flex-start;width: 50%;}#sk-5e55b38b-0ff6-4eb3-935b-02859272621b div.sk-parallel-item:only-child::after {width: 0;}#sk-5e55b38b-0ff6-4eb3-935b-02859272621b div.sk-dashed-wrapped {border: 1px dashed gray;margin: 0 0.4em 0.5em 0.4em;box-sizing: border-box;padding-bottom: 0.4em;background-color: white;position: relative;}#sk-5e55b38b-0ff6-4eb3-935b-02859272621b div.sk-label label {font-family: monospace;font-weight: bold;background-color: white;display: inline-block;line-height: 1.2em;}#sk-5e55b38b-0ff6-4eb3-935b-02859272621b div.sk-label-container {position: relative;z-index: 2;text-align: center;}#sk-5e55b38b-0ff6-4eb3-935b-02859272621b div.sk-container {/* jupyter's `normalize.less` sets `[hidden] { display: none; }` but bootstrap.min.css set `[hidden] { display: none !important; }` so we also need the `!important` here to be able to override the default hidden behavior on the sphinx rendered scikit-learn.org. See: https://github.com/scikit-learn/scikit-learn/issues/21755 */display: inline-block !important;position: relative;}#sk-5e55b38b-0ff6-4eb3-935b-02859272621b div.sk-text-repr-fallback {display: none;}</style><div id=\"sk-5e55b38b-0ff6-4eb3-935b-02859272621b\" class=\"sk-top-container\"><div class=\"sk-text-repr-fallback\"><pre>Pipeline(steps=[(&#x27;columntransformer&#x27;,\n",
              "                 ColumnTransformer(transformers=[(&#x27;pipeline-1&#x27;,\n",
              "                                                  Pipeline(steps=[(&#x27;tfidfvectorizer&#x27;,\n",
              "                                                                   TfidfVectorizer(analyzer=&#x27;char&#x27;,\n",
              "                                                                                   max_features=3200,\n",
              "                                                                                   ngram_range=(2,\n",
              "                                                                                                3))),\n",
              "                                                                  (&#x27;maxabsscaler&#x27;,\n",
              "                                                                   MaxAbsScaler())]),\n",
              "                                                  &#x27;no_punct&#x27;),\n",
              "                                                 (&#x27;pipeline-2&#x27;,\n",
              "                                                  Pipeline(steps=[(&#x27;tfidfvectorizer&#x27;,\n",
              "                                                                   TfidfVectorizer(max_features=8,\n",
              "                                                                                   tokenizer=&lt;function word_tokenize at 0x7fb444033e60&gt;)),\n",
              "                                                                  (&#x27;maxabsscaler&#x27;,\n",
              "                                                                   MaxAbsScaler())]),\n",
              "                                                  &#x27;pos_universal&#x27;),\n",
              "                                                 (&#x27;minmaxscaler-1&#x27;,\n",
              "                                                  MinMaxScaler(),\n",
              "                                                  [&#x27;afinn_score&#x27;]),\n",
              "                                                 (&#x27;minmaxscaler-2&#x27;,\n",
              "                                                  MinMaxScaler(),\n",
              "                                                  [&#x27;compound&#x27;]),\n",
              "                                                 (&#x27;minmaxscaler-3&#x27;,\n",
              "                                                  MinMaxScaler(), [&#x27;pos&#x27;])])),\n",
              "                (&#x27;svc&#x27;,\n",
              "                 SVC(C=0.1, class_weight=&#x27;balanced&#x27;, kernel=&#x27;linear&#x27;,\n",
              "                     probability=True, random_state=42, verbose=2))])</pre><b>Please rerun this cell to show the HTML repr or trust the notebook.</b></div><div class=\"sk-container\" hidden><div class=\"sk-item sk-dashed-wrapped\"><div class=\"sk-label-container\"><div class=\"sk-label sk-toggleable\"><input class=\"sk-toggleable__control sk-hidden--visually\" id=\"4e7adab2-712b-4e0d-8185-2593d67844ad\" type=\"checkbox\" ><label for=\"4e7adab2-712b-4e0d-8185-2593d67844ad\" class=\"sk-toggleable__label sk-toggleable__label-arrow\">Pipeline</label><div class=\"sk-toggleable__content\"><pre>Pipeline(steps=[(&#x27;columntransformer&#x27;,\n",
              "                 ColumnTransformer(transformers=[(&#x27;pipeline-1&#x27;,\n",
              "                                                  Pipeline(steps=[(&#x27;tfidfvectorizer&#x27;,\n",
              "                                                                   TfidfVectorizer(analyzer=&#x27;char&#x27;,\n",
              "                                                                                   max_features=3200,\n",
              "                                                                                   ngram_range=(2,\n",
              "                                                                                                3))),\n",
              "                                                                  (&#x27;maxabsscaler&#x27;,\n",
              "                                                                   MaxAbsScaler())]),\n",
              "                                                  &#x27;no_punct&#x27;),\n",
              "                                                 (&#x27;pipeline-2&#x27;,\n",
              "                                                  Pipeline(steps=[(&#x27;tfidfvectorizer&#x27;,\n",
              "                                                                   TfidfVectorizer(max_features=8,\n",
              "                                                                                   tokenizer=&lt;function word_tokenize at 0x7fb444033e60&gt;)),\n",
              "                                                                  (&#x27;maxabsscaler&#x27;,\n",
              "                                                                   MaxAbsScaler())]),\n",
              "                                                  &#x27;pos_universal&#x27;),\n",
              "                                                 (&#x27;minmaxscaler-1&#x27;,\n",
              "                                                  MinMaxScaler(),\n",
              "                                                  [&#x27;afinn_score&#x27;]),\n",
              "                                                 (&#x27;minmaxscaler-2&#x27;,\n",
              "                                                  MinMaxScaler(),\n",
              "                                                  [&#x27;compound&#x27;]),\n",
              "                                                 (&#x27;minmaxscaler-3&#x27;,\n",
              "                                                  MinMaxScaler(), [&#x27;pos&#x27;])])),\n",
              "                (&#x27;svc&#x27;,\n",
              "                 SVC(C=0.1, class_weight=&#x27;balanced&#x27;, kernel=&#x27;linear&#x27;,\n",
              "                     probability=True, random_state=42, verbose=2))])</pre></div></div></div><div class=\"sk-serial\"><div class=\"sk-item sk-dashed-wrapped\"><div class=\"sk-label-container\"><div class=\"sk-label sk-toggleable\"><input class=\"sk-toggleable__control sk-hidden--visually\" id=\"f7bd97af-6147-47de-90ef-2441c4635f86\" type=\"checkbox\" ><label for=\"f7bd97af-6147-47de-90ef-2441c4635f86\" class=\"sk-toggleable__label sk-toggleable__label-arrow\">columntransformer: ColumnTransformer</label><div class=\"sk-toggleable__content\"><pre>ColumnTransformer(transformers=[(&#x27;pipeline-1&#x27;,\n",
              "                                 Pipeline(steps=[(&#x27;tfidfvectorizer&#x27;,\n",
              "                                                  TfidfVectorizer(analyzer=&#x27;char&#x27;,\n",
              "                                                                  max_features=3200,\n",
              "                                                                  ngram_range=(2,\n",
              "                                                                               3))),\n",
              "                                                 (&#x27;maxabsscaler&#x27;,\n",
              "                                                  MaxAbsScaler())]),\n",
              "                                 &#x27;no_punct&#x27;),\n",
              "                                (&#x27;pipeline-2&#x27;,\n",
              "                                 Pipeline(steps=[(&#x27;tfidfvectorizer&#x27;,\n",
              "                                                  TfidfVectorizer(max_features=8,\n",
              "                                                                  tokenizer=&lt;function word_tokenize at 0x7fb444033e60&gt;)),\n",
              "                                                 (&#x27;maxabsscaler&#x27;,\n",
              "                                                  MaxAbsScaler())]),\n",
              "                                 &#x27;pos_universal&#x27;),\n",
              "                                (&#x27;minmaxscaler-1&#x27;, MinMaxScaler(),\n",
              "                                 [&#x27;afinn_score&#x27;]),\n",
              "                                (&#x27;minmaxscaler-2&#x27;, MinMaxScaler(),\n",
              "                                 [&#x27;compound&#x27;]),\n",
              "                                (&#x27;minmaxscaler-3&#x27;, MinMaxScaler(), [&#x27;pos&#x27;])])</pre></div></div></div><div class=\"sk-parallel\"><div class=\"sk-parallel-item\"><div class=\"sk-item\"><div class=\"sk-label-container\"><div class=\"sk-label sk-toggleable\"><input class=\"sk-toggleable__control sk-hidden--visually\" id=\"6ed6694e-3cf4-4dd7-bbb4-ebcff68e875a\" type=\"checkbox\" ><label for=\"6ed6694e-3cf4-4dd7-bbb4-ebcff68e875a\" class=\"sk-toggleable__label sk-toggleable__label-arrow\">pipeline-1</label><div class=\"sk-toggleable__content\"><pre>no_punct</pre></div></div></div><div class=\"sk-serial\"><div class=\"sk-item\"><div class=\"sk-serial\"><div class=\"sk-item\"><div class=\"sk-estimator sk-toggleable\"><input class=\"sk-toggleable__control sk-hidden--visually\" id=\"ad9bca2e-e5be-4dde-a296-770f6b69d526\" type=\"checkbox\" ><label for=\"ad9bca2e-e5be-4dde-a296-770f6b69d526\" class=\"sk-toggleable__label sk-toggleable__label-arrow\">TfidfVectorizer</label><div class=\"sk-toggleable__content\"><pre>TfidfVectorizer(analyzer=&#x27;char&#x27;, max_features=3200, ngram_range=(2, 3))</pre></div></div></div><div class=\"sk-item\"><div class=\"sk-estimator sk-toggleable\"><input class=\"sk-toggleable__control sk-hidden--visually\" id=\"32197c12-dc78-48e8-98cd-0b64bab9dcfd\" type=\"checkbox\" ><label for=\"32197c12-dc78-48e8-98cd-0b64bab9dcfd\" class=\"sk-toggleable__label sk-toggleable__label-arrow\">MaxAbsScaler</label><div class=\"sk-toggleable__content\"><pre>MaxAbsScaler()</pre></div></div></div></div></div></div></div></div><div class=\"sk-parallel-item\"><div class=\"sk-item\"><div class=\"sk-label-container\"><div class=\"sk-label sk-toggleable\"><input class=\"sk-toggleable__control sk-hidden--visually\" id=\"14dbbc91-1fed-4f2b-8a47-01cae764dd83\" type=\"checkbox\" ><label for=\"14dbbc91-1fed-4f2b-8a47-01cae764dd83\" class=\"sk-toggleable__label sk-toggleable__label-arrow\">pipeline-2</label><div class=\"sk-toggleable__content\"><pre>pos_universal</pre></div></div></div><div class=\"sk-serial\"><div class=\"sk-item\"><div class=\"sk-serial\"><div class=\"sk-item\"><div class=\"sk-estimator sk-toggleable\"><input class=\"sk-toggleable__control sk-hidden--visually\" id=\"cd2e5e2d-09b2-4184-8596-70256d0ca3f4\" type=\"checkbox\" ><label for=\"cd2e5e2d-09b2-4184-8596-70256d0ca3f4\" class=\"sk-toggleable__label sk-toggleable__label-arrow\">TfidfVectorizer</label><div class=\"sk-toggleable__content\"><pre>TfidfVectorizer(max_features=8,\n",
              "                tokenizer=&lt;function word_tokenize at 0x7fb444033e60&gt;)</pre></div></div></div><div class=\"sk-item\"><div class=\"sk-estimator sk-toggleable\"><input class=\"sk-toggleable__control sk-hidden--visually\" id=\"caa6282f-e3bc-4505-86a9-2a1da0ee68dd\" type=\"checkbox\" ><label for=\"caa6282f-e3bc-4505-86a9-2a1da0ee68dd\" class=\"sk-toggleable__label sk-toggleable__label-arrow\">MaxAbsScaler</label><div class=\"sk-toggleable__content\"><pre>MaxAbsScaler()</pre></div></div></div></div></div></div></div></div><div class=\"sk-parallel-item\"><div class=\"sk-item\"><div class=\"sk-label-container\"><div class=\"sk-label sk-toggleable\"><input class=\"sk-toggleable__control sk-hidden--visually\" id=\"66237dc8-ae7f-45c2-a1d8-b8b8a4ea5183\" type=\"checkbox\" ><label for=\"66237dc8-ae7f-45c2-a1d8-b8b8a4ea5183\" class=\"sk-toggleable__label sk-toggleable__label-arrow\">minmaxscaler-1</label><div class=\"sk-toggleable__content\"><pre>[&#x27;afinn_score&#x27;]</pre></div></div></div><div class=\"sk-serial\"><div class=\"sk-item\"><div class=\"sk-estimator sk-toggleable\"><input class=\"sk-toggleable__control sk-hidden--visually\" id=\"73f50151-a93c-4515-a304-f8aa219288ae\" type=\"checkbox\" ><label for=\"73f50151-a93c-4515-a304-f8aa219288ae\" class=\"sk-toggleable__label sk-toggleable__label-arrow\">MinMaxScaler</label><div class=\"sk-toggleable__content\"><pre>MinMaxScaler()</pre></div></div></div></div></div></div><div class=\"sk-parallel-item\"><div class=\"sk-item\"><div class=\"sk-label-container\"><div class=\"sk-label sk-toggleable\"><input class=\"sk-toggleable__control sk-hidden--visually\" id=\"57ed79dc-2ef5-455e-8633-812adad2a94f\" type=\"checkbox\" ><label for=\"57ed79dc-2ef5-455e-8633-812adad2a94f\" class=\"sk-toggleable__label sk-toggleable__label-arrow\">minmaxscaler-2</label><div class=\"sk-toggleable__content\"><pre>[&#x27;compound&#x27;]</pre></div></div></div><div class=\"sk-serial\"><div class=\"sk-item\"><div class=\"sk-estimator sk-toggleable\"><input class=\"sk-toggleable__control sk-hidden--visually\" id=\"f4f4cf36-2f98-4def-96b4-64f4b1f4a5c2\" type=\"checkbox\" ><label for=\"f4f4cf36-2f98-4def-96b4-64f4b1f4a5c2\" class=\"sk-toggleable__label sk-toggleable__label-arrow\">MinMaxScaler</label><div class=\"sk-toggleable__content\"><pre>MinMaxScaler()</pre></div></div></div></div></div></div><div class=\"sk-parallel-item\"><div class=\"sk-item\"><div class=\"sk-label-container\"><div class=\"sk-label sk-toggleable\"><input class=\"sk-toggleable__control sk-hidden--visually\" id=\"11001cb0-cbea-40b9-82ce-6226558d6d79\" type=\"checkbox\" ><label for=\"11001cb0-cbea-40b9-82ce-6226558d6d79\" class=\"sk-toggleable__label sk-toggleable__label-arrow\">minmaxscaler-3</label><div class=\"sk-toggleable__content\"><pre>[&#x27;pos&#x27;]</pre></div></div></div><div class=\"sk-serial\"><div class=\"sk-item\"><div class=\"sk-estimator sk-toggleable\"><input class=\"sk-toggleable__control sk-hidden--visually\" id=\"2585a016-00ac-4f7f-9eeb-01ec9dcf87bd\" type=\"checkbox\" ><label for=\"2585a016-00ac-4f7f-9eeb-01ec9dcf87bd\" class=\"sk-toggleable__label sk-toggleable__label-arrow\">MinMaxScaler</label><div class=\"sk-toggleable__content\"><pre>MinMaxScaler()</pre></div></div></div></div></div></div></div></div><div class=\"sk-item\"><div class=\"sk-estimator sk-toggleable\"><input class=\"sk-toggleable__control sk-hidden--visually\" id=\"09f6b267-c819-4a66-b2f6-e5a68a609899\" type=\"checkbox\" ><label for=\"09f6b267-c819-4a66-b2f6-e5a68a609899\" class=\"sk-toggleable__label sk-toggleable__label-arrow\">SVC</label><div class=\"sk-toggleable__content\"><pre>SVC(C=0.1, class_weight=&#x27;balanced&#x27;, kernel=&#x27;linear&#x27;, probability=True,\n",
              "    random_state=42, verbose=2)</pre></div></div></div></div></div></div></div>"
            ],
            "text/plain": [
              "Pipeline(steps=[('columntransformer',\n",
              "                 ColumnTransformer(transformers=[('pipeline-1',\n",
              "                                                  Pipeline(steps=[('tfidfvectorizer',\n",
              "                                                                   TfidfVectorizer(analyzer='char',\n",
              "                                                                                   max_features=3200,\n",
              "                                                                                   ngram_range=(2,\n",
              "                                                                                                3))),\n",
              "                                                                  ('maxabsscaler',\n",
              "                                                                   MaxAbsScaler())]),\n",
              "                                                  'no_punct'),\n",
              "                                                 ('pipeline-2',\n",
              "                                                  Pipeline(steps=[('tfidfvectorizer',\n",
              "                                                                   TfidfVectorizer(max_features=8,\n",
              "                                                                                   tokenizer=<function word_tokenize at 0x7fb444033e60>)),\n",
              "                                                                  ('maxabsscaler',\n",
              "                                                                   MaxAbsScaler())]),\n",
              "                                                  'pos_universal'),\n",
              "                                                 ('minmaxscaler-1',\n",
              "                                                  MinMaxScaler(),\n",
              "                                                  ['afinn_score']),\n",
              "                                                 ('minmaxscaler-2',\n",
              "                                                  MinMaxScaler(),\n",
              "                                                  ['compound']),\n",
              "                                                 ('minmaxscaler-3',\n",
              "                                                  MinMaxScaler(), ['pos'])])),\n",
              "                ('svc',\n",
              "                 SVC(C=0.1, class_weight='balanced', kernel='linear',\n",
              "                     probability=True, random_state=42, verbose=2))])"
            ]
          },
          "execution_count": 92,
          "metadata": {},
          "output_type": "execute_result"
        }
      ],
      "source": [
        "#svm_model.fit(X_train0, y_train0)"
      ],
      "id": "MwnlIUuCCjBR"
    },
    {
      "cell_type": "code",
      "execution_count": null,
      "metadata": {
        "colab": {
          "base_uri": "https://localhost:8080/"
        },
        "id": "BNFGpXVwkH-6",
        "outputId": "60e58132-1cbc-46b2-bdd1-f2ba4f0f88b9"
      },
      "outputs": [
        {
          "name": "stdout",
          "output_type": "stream",
          "text": [
            "              precision    recall  f1-score   support\n",
            "\n",
            "           0       0.83      0.77      0.80      1768\n",
            "           1       0.59      0.68      0.63       880\n",
            "\n",
            "    accuracy                           0.74      2648\n",
            "   macro avg       0.71      0.72      0.72      2648\n",
            "weighted avg       0.75      0.74      0.74      2648\n",
            "\n"
          ]
        }
      ],
      "source": [
        "#y_test_pred = svm_model.predict(X_test0)\n",
        "\n",
        "#print(classification_report(y_test0, y_test_pred))"
      ],
      "id": "BNFGpXVwkH-6"
    },
    {
      "cell_type": "markdown",
      "metadata": {
        "id": "kqbp1-SA5uWy"
      },
      "source": [
        "##### nu_svm_pipe"
      ],
      "id": "kqbp1-SA5uWy"
    },
    {
      "cell_type": "code",
      "execution_count": 155,
      "metadata": {
        "id": "jC5Tv1P_WoZU"
      },
      "outputs": [],
      "source": [
        "scaler = MaxAbsScaler() #used when making pipeline\n",
        "scaler2 = MinMaxScaler() #used in column transformer\n",
        "\n",
        "#NuSVM classifier with a set random state\n",
        "  #balanced class weight since one output class is more present than the other\n",
        "  #probability=True, needed for the model to be added to the ensemble later\n",
        "  #other paramaters chosen based on GridSearches which returned them as the best\n",
        "svm_clf = NuSVC(nu=0.5, kernel='rbf', degree=3, gamma='scale', coef0=0.0, \n",
        "      shrinking=True, probability=True, tol=0.001, cache_size=200, \n",
        "      class_weight='balanced', verbose=2, \n",
        "      max_iter=- 1, decision_function_shape='ovr',  \n",
        "      break_ties=False, random_state=42)\n",
        "\n",
        "#TfidfVectorizer\n",
        "  #lowercase = True, to help the tokenizer recognize the same words\n",
        "  #other paramaters chosen based on GridSearches which returned them as the best \n",
        "vect1 = TfidfVectorizer(max_features=3500, \n",
        "                        lowercase=True, \n",
        "                        analyzer='char', \n",
        "                        ngram_range=(2,3))\n",
        "\n",
        "#TfidfVectorizer\n",
        "  #lowercase = True, not needed for POS-tags but yielded better results\n",
        "  #other paramaters chosen based on GridSearches which returned them as the best \n",
        "vect1_POS = TfidfVectorizer(max_features=100, \n",
        "                            lowercase=True,\n",
        "                            analyzer='char', \n",
        "                            ngram_range=(2,3))\n",
        "\n",
        "#Making Pipelines out of text data columns\n",
        "pre_text1 = make_pipeline(vect1, scaler)\n",
        "pre_text1_POS = make_pipeline(vect1_POS, scaler)\n",
        "\n",
        "#Applying a column transformer to all data\n",
        "#used in a Pipeline to selectively prepare the columns of your dataset \n",
        "  #before fitting a model on the transformed data.\n",
        "#column combination with best results was chosen\n",
        "ct1 = make_column_transformer(\n",
        "    (pre_text1, 'hashtag_gone'),\n",
        "    (pre_text1_POS, 'pos_universal'),\n",
        "    (scaler2, ['afinn_score']),\n",
        "    (scaler2, ['compound']),\n",
        "    (scaler2, ['pos']),\n",
        "    remainder= 'drop'\n",
        ")\n",
        "\n",
        "nu_svm_pipe = make_pipeline(ct1, svm_clf)"
      ],
      "id": "jC5Tv1P_WoZU"
    },
    {
      "cell_type": "code",
      "execution_count": 156,
      "metadata": {
        "id": "FYCnaYLcXwPl",
        "colab": {
          "base_uri": "https://localhost:8080/",
          "height": 244
        },
        "outputId": "046551ad-7b2d-4abf-9d3e-5f7866280528"
      },
      "outputs": [
        {
          "output_type": "stream",
          "name": "stdout",
          "text": [
            "[LibSVM]"
          ]
        },
        {
          "output_type": "execute_result",
          "data": {
            "text/plain": [
              "Pipeline(steps=[('columntransformer',\n",
              "                 ColumnTransformer(transformers=[('pipeline-1',\n",
              "                                                  Pipeline(steps=[('tfidfvectorizer',\n",
              "                                                                   TfidfVectorizer(analyzer='char',\n",
              "                                                                                   max_features=3500,\n",
              "                                                                                   ngram_range=(2,\n",
              "                                                                                                3))),\n",
              "                                                                  ('maxabsscaler',\n",
              "                                                                   MaxAbsScaler())]),\n",
              "                                                  'hashtag_gone'),\n",
              "                                                 ('pipeline-2',\n",
              "                                                  Pipeline(steps=[('tfidfvectorizer',\n",
              "                                                                   TfidfVectorizer(analyzer='char',\n",
              "                                                                                   max_features=100,\n",
              "                                                                                   ngram_range=(2,\n",
              "                                                                                                3))),\n",
              "                                                                  ('maxabsscaler',\n",
              "                                                                   MaxAbsScaler())]),\n",
              "                                                  'pos_universal'),\n",
              "                                                 ('minmaxscaler-1',\n",
              "                                                  MinMaxScaler(),\n",
              "                                                  ['afinn_score']),\n",
              "                                                 ('minmaxscaler-2',\n",
              "                                                  MinMaxScaler(),\n",
              "                                                  ['compound']),\n",
              "                                                 ('minmaxscaler-3',\n",
              "                                                  MinMaxScaler(), ['pos'])])),\n",
              "                ('nusvc',\n",
              "                 NuSVC(class_weight='balanced', probability=True,\n",
              "                       random_state=42, verbose=2))])"
            ],
            "text/html": [
              "<style>#sk-3f450572-e066-45fd-ad10-60631c10bfb4 {color: black;background-color: white;}#sk-3f450572-e066-45fd-ad10-60631c10bfb4 pre{padding: 0;}#sk-3f450572-e066-45fd-ad10-60631c10bfb4 div.sk-toggleable {background-color: white;}#sk-3f450572-e066-45fd-ad10-60631c10bfb4 label.sk-toggleable__label {cursor: pointer;display: block;width: 100%;margin-bottom: 0;padding: 0.3em;box-sizing: border-box;text-align: center;}#sk-3f450572-e066-45fd-ad10-60631c10bfb4 label.sk-toggleable__label-arrow:before {content: \"▸\";float: left;margin-right: 0.25em;color: #696969;}#sk-3f450572-e066-45fd-ad10-60631c10bfb4 label.sk-toggleable__label-arrow:hover:before {color: black;}#sk-3f450572-e066-45fd-ad10-60631c10bfb4 div.sk-estimator:hover label.sk-toggleable__label-arrow:before {color: black;}#sk-3f450572-e066-45fd-ad10-60631c10bfb4 div.sk-toggleable__content {max-height: 0;max-width: 0;overflow: hidden;text-align: left;background-color: #f0f8ff;}#sk-3f450572-e066-45fd-ad10-60631c10bfb4 div.sk-toggleable__content pre {margin: 0.2em;color: black;border-radius: 0.25em;background-color: #f0f8ff;}#sk-3f450572-e066-45fd-ad10-60631c10bfb4 input.sk-toggleable__control:checked~div.sk-toggleable__content {max-height: 200px;max-width: 100%;overflow: auto;}#sk-3f450572-e066-45fd-ad10-60631c10bfb4 input.sk-toggleable__control:checked~label.sk-toggleable__label-arrow:before {content: \"▾\";}#sk-3f450572-e066-45fd-ad10-60631c10bfb4 div.sk-estimator input.sk-toggleable__control:checked~label.sk-toggleable__label {background-color: #d4ebff;}#sk-3f450572-e066-45fd-ad10-60631c10bfb4 div.sk-label input.sk-toggleable__control:checked~label.sk-toggleable__label {background-color: #d4ebff;}#sk-3f450572-e066-45fd-ad10-60631c10bfb4 input.sk-hidden--visually {border: 0;clip: rect(1px 1px 1px 1px);clip: rect(1px, 1px, 1px, 1px);height: 1px;margin: -1px;overflow: hidden;padding: 0;position: absolute;width: 1px;}#sk-3f450572-e066-45fd-ad10-60631c10bfb4 div.sk-estimator {font-family: monospace;background-color: #f0f8ff;border: 1px dotted black;border-radius: 0.25em;box-sizing: border-box;margin-bottom: 0.5em;}#sk-3f450572-e066-45fd-ad10-60631c10bfb4 div.sk-estimator:hover {background-color: #d4ebff;}#sk-3f450572-e066-45fd-ad10-60631c10bfb4 div.sk-parallel-item::after {content: \"\";width: 100%;border-bottom: 1px solid gray;flex-grow: 1;}#sk-3f450572-e066-45fd-ad10-60631c10bfb4 div.sk-label:hover label.sk-toggleable__label {background-color: #d4ebff;}#sk-3f450572-e066-45fd-ad10-60631c10bfb4 div.sk-serial::before {content: \"\";position: absolute;border-left: 1px solid gray;box-sizing: border-box;top: 2em;bottom: 0;left: 50%;}#sk-3f450572-e066-45fd-ad10-60631c10bfb4 div.sk-serial {display: flex;flex-direction: column;align-items: center;background-color: white;padding-right: 0.2em;padding-left: 0.2em;}#sk-3f450572-e066-45fd-ad10-60631c10bfb4 div.sk-item {z-index: 1;}#sk-3f450572-e066-45fd-ad10-60631c10bfb4 div.sk-parallel {display: flex;align-items: stretch;justify-content: center;background-color: white;}#sk-3f450572-e066-45fd-ad10-60631c10bfb4 div.sk-parallel::before {content: \"\";position: absolute;border-left: 1px solid gray;box-sizing: border-box;top: 2em;bottom: 0;left: 50%;}#sk-3f450572-e066-45fd-ad10-60631c10bfb4 div.sk-parallel-item {display: flex;flex-direction: column;position: relative;background-color: white;}#sk-3f450572-e066-45fd-ad10-60631c10bfb4 div.sk-parallel-item:first-child::after {align-self: flex-end;width: 50%;}#sk-3f450572-e066-45fd-ad10-60631c10bfb4 div.sk-parallel-item:last-child::after {align-self: flex-start;width: 50%;}#sk-3f450572-e066-45fd-ad10-60631c10bfb4 div.sk-parallel-item:only-child::after {width: 0;}#sk-3f450572-e066-45fd-ad10-60631c10bfb4 div.sk-dashed-wrapped {border: 1px dashed gray;margin: 0 0.4em 0.5em 0.4em;box-sizing: border-box;padding-bottom: 0.4em;background-color: white;position: relative;}#sk-3f450572-e066-45fd-ad10-60631c10bfb4 div.sk-label label {font-family: monospace;font-weight: bold;background-color: white;display: inline-block;line-height: 1.2em;}#sk-3f450572-e066-45fd-ad10-60631c10bfb4 div.sk-label-container {position: relative;z-index: 2;text-align: center;}#sk-3f450572-e066-45fd-ad10-60631c10bfb4 div.sk-container {/* jupyter's `normalize.less` sets `[hidden] { display: none; }` but bootstrap.min.css set `[hidden] { display: none !important; }` so we also need the `!important` here to be able to override the default hidden behavior on the sphinx rendered scikit-learn.org. See: https://github.com/scikit-learn/scikit-learn/issues/21755 */display: inline-block !important;position: relative;}#sk-3f450572-e066-45fd-ad10-60631c10bfb4 div.sk-text-repr-fallback {display: none;}</style><div id=\"sk-3f450572-e066-45fd-ad10-60631c10bfb4\" class=\"sk-top-container\"><div class=\"sk-text-repr-fallback\"><pre>Pipeline(steps=[(&#x27;columntransformer&#x27;,\n",
              "                 ColumnTransformer(transformers=[(&#x27;pipeline-1&#x27;,\n",
              "                                                  Pipeline(steps=[(&#x27;tfidfvectorizer&#x27;,\n",
              "                                                                   TfidfVectorizer(analyzer=&#x27;char&#x27;,\n",
              "                                                                                   max_features=3500,\n",
              "                                                                                   ngram_range=(2,\n",
              "                                                                                                3))),\n",
              "                                                                  (&#x27;maxabsscaler&#x27;,\n",
              "                                                                   MaxAbsScaler())]),\n",
              "                                                  &#x27;hashtag_gone&#x27;),\n",
              "                                                 (&#x27;pipeline-2&#x27;,\n",
              "                                                  Pipeline(steps=[(&#x27;tfidfvectorizer&#x27;,\n",
              "                                                                   TfidfVectorizer(analyzer=&#x27;char&#x27;,\n",
              "                                                                                   max_features=100,\n",
              "                                                                                   ngram_range=(2,\n",
              "                                                                                                3))),\n",
              "                                                                  (&#x27;maxabsscaler&#x27;,\n",
              "                                                                   MaxAbsScaler())]),\n",
              "                                                  &#x27;pos_universal&#x27;),\n",
              "                                                 (&#x27;minmaxscaler-1&#x27;,\n",
              "                                                  MinMaxScaler(),\n",
              "                                                  [&#x27;afinn_score&#x27;]),\n",
              "                                                 (&#x27;minmaxscaler-2&#x27;,\n",
              "                                                  MinMaxScaler(),\n",
              "                                                  [&#x27;compound&#x27;]),\n",
              "                                                 (&#x27;minmaxscaler-3&#x27;,\n",
              "                                                  MinMaxScaler(), [&#x27;pos&#x27;])])),\n",
              "                (&#x27;nusvc&#x27;,\n",
              "                 NuSVC(class_weight=&#x27;balanced&#x27;, probability=True,\n",
              "                       random_state=42, verbose=2))])</pre><b>Please rerun this cell to show the HTML repr or trust the notebook.</b></div><div class=\"sk-container\" hidden><div class=\"sk-item sk-dashed-wrapped\"><div class=\"sk-label-container\"><div class=\"sk-label sk-toggleable\"><input class=\"sk-toggleable__control sk-hidden--visually\" id=\"c6907ad8-eb10-45c1-bb62-5dba11c23e13\" type=\"checkbox\" ><label for=\"c6907ad8-eb10-45c1-bb62-5dba11c23e13\" class=\"sk-toggleable__label sk-toggleable__label-arrow\">Pipeline</label><div class=\"sk-toggleable__content\"><pre>Pipeline(steps=[(&#x27;columntransformer&#x27;,\n",
              "                 ColumnTransformer(transformers=[(&#x27;pipeline-1&#x27;,\n",
              "                                                  Pipeline(steps=[(&#x27;tfidfvectorizer&#x27;,\n",
              "                                                                   TfidfVectorizer(analyzer=&#x27;char&#x27;,\n",
              "                                                                                   max_features=3500,\n",
              "                                                                                   ngram_range=(2,\n",
              "                                                                                                3))),\n",
              "                                                                  (&#x27;maxabsscaler&#x27;,\n",
              "                                                                   MaxAbsScaler())]),\n",
              "                                                  &#x27;hashtag_gone&#x27;),\n",
              "                                                 (&#x27;pipeline-2&#x27;,\n",
              "                                                  Pipeline(steps=[(&#x27;tfidfvectorizer&#x27;,\n",
              "                                                                   TfidfVectorizer(analyzer=&#x27;char&#x27;,\n",
              "                                                                                   max_features=100,\n",
              "                                                                                   ngram_range=(2,\n",
              "                                                                                                3))),\n",
              "                                                                  (&#x27;maxabsscaler&#x27;,\n",
              "                                                                   MaxAbsScaler())]),\n",
              "                                                  &#x27;pos_universal&#x27;),\n",
              "                                                 (&#x27;minmaxscaler-1&#x27;,\n",
              "                                                  MinMaxScaler(),\n",
              "                                                  [&#x27;afinn_score&#x27;]),\n",
              "                                                 (&#x27;minmaxscaler-2&#x27;,\n",
              "                                                  MinMaxScaler(),\n",
              "                                                  [&#x27;compound&#x27;]),\n",
              "                                                 (&#x27;minmaxscaler-3&#x27;,\n",
              "                                                  MinMaxScaler(), [&#x27;pos&#x27;])])),\n",
              "                (&#x27;nusvc&#x27;,\n",
              "                 NuSVC(class_weight=&#x27;balanced&#x27;, probability=True,\n",
              "                       random_state=42, verbose=2))])</pre></div></div></div><div class=\"sk-serial\"><div class=\"sk-item sk-dashed-wrapped\"><div class=\"sk-label-container\"><div class=\"sk-label sk-toggleable\"><input class=\"sk-toggleable__control sk-hidden--visually\" id=\"943a0469-4530-4c4f-95d8-6a7ae969e947\" type=\"checkbox\" ><label for=\"943a0469-4530-4c4f-95d8-6a7ae969e947\" class=\"sk-toggleable__label sk-toggleable__label-arrow\">columntransformer: ColumnTransformer</label><div class=\"sk-toggleable__content\"><pre>ColumnTransformer(transformers=[(&#x27;pipeline-1&#x27;,\n",
              "                                 Pipeline(steps=[(&#x27;tfidfvectorizer&#x27;,\n",
              "                                                  TfidfVectorizer(analyzer=&#x27;char&#x27;,\n",
              "                                                                  max_features=3500,\n",
              "                                                                  ngram_range=(2,\n",
              "                                                                               3))),\n",
              "                                                 (&#x27;maxabsscaler&#x27;,\n",
              "                                                  MaxAbsScaler())]),\n",
              "                                 &#x27;hashtag_gone&#x27;),\n",
              "                                (&#x27;pipeline-2&#x27;,\n",
              "                                 Pipeline(steps=[(&#x27;tfidfvectorizer&#x27;,\n",
              "                                                  TfidfVectorizer(analyzer=&#x27;char&#x27;,\n",
              "                                                                  max_features=100,\n",
              "                                                                  ngram_range=(2,\n",
              "                                                                               3))),\n",
              "                                                 (&#x27;maxabsscaler&#x27;,\n",
              "                                                  MaxAbsScaler())]),\n",
              "                                 &#x27;pos_universal&#x27;),\n",
              "                                (&#x27;minmaxscaler-1&#x27;, MinMaxScaler(),\n",
              "                                 [&#x27;afinn_score&#x27;]),\n",
              "                                (&#x27;minmaxscaler-2&#x27;, MinMaxScaler(),\n",
              "                                 [&#x27;compound&#x27;]),\n",
              "                                (&#x27;minmaxscaler-3&#x27;, MinMaxScaler(), [&#x27;pos&#x27;])])</pre></div></div></div><div class=\"sk-parallel\"><div class=\"sk-parallel-item\"><div class=\"sk-item\"><div class=\"sk-label-container\"><div class=\"sk-label sk-toggleable\"><input class=\"sk-toggleable__control sk-hidden--visually\" id=\"8379b531-3d6e-4db5-ae8e-735948036c61\" type=\"checkbox\" ><label for=\"8379b531-3d6e-4db5-ae8e-735948036c61\" class=\"sk-toggleable__label sk-toggleable__label-arrow\">pipeline-1</label><div class=\"sk-toggleable__content\"><pre>hashtag_gone</pre></div></div></div><div class=\"sk-serial\"><div class=\"sk-item\"><div class=\"sk-serial\"><div class=\"sk-item\"><div class=\"sk-estimator sk-toggleable\"><input class=\"sk-toggleable__control sk-hidden--visually\" id=\"1266bfcf-15c9-45ef-8779-ef991d420be3\" type=\"checkbox\" ><label for=\"1266bfcf-15c9-45ef-8779-ef991d420be3\" class=\"sk-toggleable__label sk-toggleable__label-arrow\">TfidfVectorizer</label><div class=\"sk-toggleable__content\"><pre>TfidfVectorizer(analyzer=&#x27;char&#x27;, max_features=3500, ngram_range=(2, 3))</pre></div></div></div><div class=\"sk-item\"><div class=\"sk-estimator sk-toggleable\"><input class=\"sk-toggleable__control sk-hidden--visually\" id=\"61c98746-eb73-4338-ad35-45feff78b31b\" type=\"checkbox\" ><label for=\"61c98746-eb73-4338-ad35-45feff78b31b\" class=\"sk-toggleable__label sk-toggleable__label-arrow\">MaxAbsScaler</label><div class=\"sk-toggleable__content\"><pre>MaxAbsScaler()</pre></div></div></div></div></div></div></div></div><div class=\"sk-parallel-item\"><div class=\"sk-item\"><div class=\"sk-label-container\"><div class=\"sk-label sk-toggleable\"><input class=\"sk-toggleable__control sk-hidden--visually\" id=\"6e2af609-25e5-42d1-94ef-cc483ece6807\" type=\"checkbox\" ><label for=\"6e2af609-25e5-42d1-94ef-cc483ece6807\" class=\"sk-toggleable__label sk-toggleable__label-arrow\">pipeline-2</label><div class=\"sk-toggleable__content\"><pre>pos_universal</pre></div></div></div><div class=\"sk-serial\"><div class=\"sk-item\"><div class=\"sk-serial\"><div class=\"sk-item\"><div class=\"sk-estimator sk-toggleable\"><input class=\"sk-toggleable__control sk-hidden--visually\" id=\"8777452f-5391-4d36-a726-9caae72cbf9e\" type=\"checkbox\" ><label for=\"8777452f-5391-4d36-a726-9caae72cbf9e\" class=\"sk-toggleable__label sk-toggleable__label-arrow\">TfidfVectorizer</label><div class=\"sk-toggleable__content\"><pre>TfidfVectorizer(analyzer=&#x27;char&#x27;, max_features=100, ngram_range=(2, 3))</pre></div></div></div><div class=\"sk-item\"><div class=\"sk-estimator sk-toggleable\"><input class=\"sk-toggleable__control sk-hidden--visually\" id=\"499790ba-4423-4f58-9cfe-e53e0d729ca1\" type=\"checkbox\" ><label for=\"499790ba-4423-4f58-9cfe-e53e0d729ca1\" class=\"sk-toggleable__label sk-toggleable__label-arrow\">MaxAbsScaler</label><div class=\"sk-toggleable__content\"><pre>MaxAbsScaler()</pre></div></div></div></div></div></div></div></div><div class=\"sk-parallel-item\"><div class=\"sk-item\"><div class=\"sk-label-container\"><div class=\"sk-label sk-toggleable\"><input class=\"sk-toggleable__control sk-hidden--visually\" id=\"4c99382c-13c9-413c-8e95-1750fcf9ced2\" type=\"checkbox\" ><label for=\"4c99382c-13c9-413c-8e95-1750fcf9ced2\" class=\"sk-toggleable__label sk-toggleable__label-arrow\">minmaxscaler-1</label><div class=\"sk-toggleable__content\"><pre>[&#x27;afinn_score&#x27;]</pre></div></div></div><div class=\"sk-serial\"><div class=\"sk-item\"><div class=\"sk-estimator sk-toggleable\"><input class=\"sk-toggleable__control sk-hidden--visually\" id=\"89307a5f-f98e-4338-843a-5de5977bd9ab\" type=\"checkbox\" ><label for=\"89307a5f-f98e-4338-843a-5de5977bd9ab\" class=\"sk-toggleable__label sk-toggleable__label-arrow\">MinMaxScaler</label><div class=\"sk-toggleable__content\"><pre>MinMaxScaler()</pre></div></div></div></div></div></div><div class=\"sk-parallel-item\"><div class=\"sk-item\"><div class=\"sk-label-container\"><div class=\"sk-label sk-toggleable\"><input class=\"sk-toggleable__control sk-hidden--visually\" id=\"4e9e8047-a2fc-4f90-a037-7141a4b03def\" type=\"checkbox\" ><label for=\"4e9e8047-a2fc-4f90-a037-7141a4b03def\" class=\"sk-toggleable__label sk-toggleable__label-arrow\">minmaxscaler-2</label><div class=\"sk-toggleable__content\"><pre>[&#x27;compound&#x27;]</pre></div></div></div><div class=\"sk-serial\"><div class=\"sk-item\"><div class=\"sk-estimator sk-toggleable\"><input class=\"sk-toggleable__control sk-hidden--visually\" id=\"3eed5e25-23ef-4d1c-8ce0-cfb0a1f600b2\" type=\"checkbox\" ><label for=\"3eed5e25-23ef-4d1c-8ce0-cfb0a1f600b2\" class=\"sk-toggleable__label sk-toggleable__label-arrow\">MinMaxScaler</label><div class=\"sk-toggleable__content\"><pre>MinMaxScaler()</pre></div></div></div></div></div></div><div class=\"sk-parallel-item\"><div class=\"sk-item\"><div class=\"sk-label-container\"><div class=\"sk-label sk-toggleable\"><input class=\"sk-toggleable__control sk-hidden--visually\" id=\"d4fc8797-b593-4f4b-8916-3acdcefddcdb\" type=\"checkbox\" ><label for=\"d4fc8797-b593-4f4b-8916-3acdcefddcdb\" class=\"sk-toggleable__label sk-toggleable__label-arrow\">minmaxscaler-3</label><div class=\"sk-toggleable__content\"><pre>[&#x27;pos&#x27;]</pre></div></div></div><div class=\"sk-serial\"><div class=\"sk-item\"><div class=\"sk-estimator sk-toggleable\"><input class=\"sk-toggleable__control sk-hidden--visually\" id=\"5bda4788-8442-4d32-891c-5415999b72b6\" type=\"checkbox\" ><label for=\"5bda4788-8442-4d32-891c-5415999b72b6\" class=\"sk-toggleable__label sk-toggleable__label-arrow\">MinMaxScaler</label><div class=\"sk-toggleable__content\"><pre>MinMaxScaler()</pre></div></div></div></div></div></div></div></div><div class=\"sk-item\"><div class=\"sk-estimator sk-toggleable\"><input class=\"sk-toggleable__control sk-hidden--visually\" id=\"11c4c700-4254-4354-8c4d-4f4a3aea677e\" type=\"checkbox\" ><label for=\"11c4c700-4254-4354-8c4d-4f4a3aea677e\" class=\"sk-toggleable__label sk-toggleable__label-arrow\">NuSVC</label><div class=\"sk-toggleable__content\"><pre>NuSVC(class_weight=&#x27;balanced&#x27;, probability=True, random_state=42, verbose=2)</pre></div></div></div></div></div></div></div>"
            ]
          },
          "metadata": {},
          "execution_count": 156
        }
      ],
      "source": [
        "nu_svm_pipe.fit(X_train, y_train)"
      ],
      "id": "FYCnaYLcXwPl"
    },
    {
      "cell_type": "code",
      "execution_count": 157,
      "metadata": {
        "id": "SO-Eo9ZbDOJc"
      },
      "outputs": [],
      "source": [
        "#nu_svm_pipe.fit(X_train0, y_train0)"
      ],
      "id": "SO-Eo9ZbDOJc"
    },
    {
      "cell_type": "code",
      "execution_count": null,
      "metadata": {
        "colab": {
          "base_uri": "https://localhost:8080/"
        },
        "id": "qNZp2y7WXwhe",
        "outputId": "2be73964-a073-49fc-8434-1699aa616d7c"
      },
      "outputs": [
        {
          "name": "stdout",
          "output_type": "stream",
          "text": [
            "              precision    recall  f1-score   support\n",
            "\n",
            "           0       0.79      0.90      0.84      1768\n",
            "           1       0.71      0.52      0.60       880\n",
            "\n",
            "    accuracy                           0.77      2648\n",
            "   macro avg       0.75      0.71      0.72      2648\n",
            "weighted avg       0.76      0.77      0.76      2648\n",
            "\n"
          ]
        }
      ],
      "source": [
        "#y_test_pred = nu_svm_pipe.predict(X_test0)\n",
        "\n",
        "#print(classification_report(y_test0, y_test_pred))"
      ],
      "id": "qNZp2y7WXwhe"
    },
    {
      "cell_type": "markdown",
      "metadata": {
        "id": "4Px9j9Zm-dZB"
      },
      "source": [
        "#### Ensemble met VotingClassifier"
      ],
      "id": "4Px9j9Zm-dZB"
    },
    {
      "cell_type": "code",
      "execution_count": 158,
      "metadata": {
        "colab": {
          "base_uri": "https://localhost:8080/",
          "height": 404
        },
        "id": "Z2o91NpIiwd6",
        "outputId": "1ee27c54-0dff-44fa-f1b2-5e67dc5fbbe1"
      },
      "outputs": [
        {
          "output_type": "stream",
          "name": "stdout",
          "text": [
            "[Voting] ..................... (1 of 4) Processing sgd2, total=   8.8s\n"
          ]
        },
        {
          "output_type": "stream",
          "name": "stderr",
          "text": [
            "[Parallel(n_jobs=-1)]: Using backend LokyBackend with 2 concurrent workers.\n",
            "[Parallel(n_jobs=-1)]: Done   2 out of   2 | elapsed:  1.2min finished\n"
          ]
        },
        {
          "output_type": "stream",
          "name": "stdout",
          "text": [
            "convergence after 47 epochs took 2 seconds\n",
            "[Voting] ..................... (2 of 4) Processing log1, total= 1.3min\n",
            "[LibSVM][Voting] ..................... (3 of 4) Processing svm1, total=18.2min\n",
            "[LibSVM][Voting] ..................... (4 of 4) Processing svm2, total=40.6min\n"
          ]
        },
        {
          "output_type": "execute_result",
          "data": {
            "text/plain": [
              "VotingClassifier(estimators=[('sgd2',\n",
              "                              Pipeline(steps=[('columntransformer',\n",
              "                                               ColumnTransformer(transformers=[('pipeline-1',\n",
              "                                                                                Pipeline(steps=[('countvectorizer',\n",
              "                                                                                                 CountVectorizer(analyzer='char',\n",
              "                                                                                                                 max_features=3500,\n",
              "                                                                                                                 ngram_range=(2,\n",
              "                                                                                                                              3))),\n",
              "                                                                                                ('maxabsscaler',\n",
              "                                                                                                 MaxAbsScaler())]),\n",
              "                                                                                'tweet_demojize'),\n",
              "                                                                               ('minmaxscaler-1',\n",
              "                                                                                MinMaxScaler(),\n",
              "                                                                                ['afinn_score']),\n",
              "                                                                               ('minmaxscaler-2',\n",
              "                                                                                MinMa...\n",
              "                                                                                                                 max_features=100,\n",
              "                                                                                                                 ngram_range=(2,\n",
              "                                                                                                                              3))),\n",
              "                                                                                                ('maxabsscaler',\n",
              "                                                                                                 MaxAbsScaler())]),\n",
              "                                                                                'pos_universal'),\n",
              "                                                                               ('minmaxscaler-1',\n",
              "                                                                                MinMaxScaler(),\n",
              "                                                                                ['afinn_score']),\n",
              "                                                                               ('minmaxscaler-2',\n",
              "                                                                                MinMaxScaler(),\n",
              "                                                                                ['compound']),\n",
              "                                                                               ('minmaxscaler-3',\n",
              "                                                                                MinMaxScaler(),\n",
              "                                                                                ['pos'])])),\n",
              "                                              ('nusvc',\n",
              "                                               NuSVC(class_weight='balanced',\n",
              "                                                     probability=True,\n",
              "                                                     random_state=42,\n",
              "                                                     verbose=2))]))],\n",
              "                 verbose=10, voting='soft', weights=[3, 3, 2, 3])"
            ],
            "text/html": [
              "<style>#sk-7e4d1e88-14ac-47a6-b67e-80bb098f2432 {color: black;background-color: white;}#sk-7e4d1e88-14ac-47a6-b67e-80bb098f2432 pre{padding: 0;}#sk-7e4d1e88-14ac-47a6-b67e-80bb098f2432 div.sk-toggleable {background-color: white;}#sk-7e4d1e88-14ac-47a6-b67e-80bb098f2432 label.sk-toggleable__label {cursor: pointer;display: block;width: 100%;margin-bottom: 0;padding: 0.3em;box-sizing: border-box;text-align: center;}#sk-7e4d1e88-14ac-47a6-b67e-80bb098f2432 label.sk-toggleable__label-arrow:before {content: \"▸\";float: left;margin-right: 0.25em;color: #696969;}#sk-7e4d1e88-14ac-47a6-b67e-80bb098f2432 label.sk-toggleable__label-arrow:hover:before {color: black;}#sk-7e4d1e88-14ac-47a6-b67e-80bb098f2432 div.sk-estimator:hover label.sk-toggleable__label-arrow:before {color: black;}#sk-7e4d1e88-14ac-47a6-b67e-80bb098f2432 div.sk-toggleable__content {max-height: 0;max-width: 0;overflow: hidden;text-align: left;background-color: #f0f8ff;}#sk-7e4d1e88-14ac-47a6-b67e-80bb098f2432 div.sk-toggleable__content pre {margin: 0.2em;color: black;border-radius: 0.25em;background-color: #f0f8ff;}#sk-7e4d1e88-14ac-47a6-b67e-80bb098f2432 input.sk-toggleable__control:checked~div.sk-toggleable__content {max-height: 200px;max-width: 100%;overflow: auto;}#sk-7e4d1e88-14ac-47a6-b67e-80bb098f2432 input.sk-toggleable__control:checked~label.sk-toggleable__label-arrow:before {content: \"▾\";}#sk-7e4d1e88-14ac-47a6-b67e-80bb098f2432 div.sk-estimator input.sk-toggleable__control:checked~label.sk-toggleable__label {background-color: #d4ebff;}#sk-7e4d1e88-14ac-47a6-b67e-80bb098f2432 div.sk-label input.sk-toggleable__control:checked~label.sk-toggleable__label {background-color: #d4ebff;}#sk-7e4d1e88-14ac-47a6-b67e-80bb098f2432 input.sk-hidden--visually {border: 0;clip: rect(1px 1px 1px 1px);clip: rect(1px, 1px, 1px, 1px);height: 1px;margin: -1px;overflow: hidden;padding: 0;position: absolute;width: 1px;}#sk-7e4d1e88-14ac-47a6-b67e-80bb098f2432 div.sk-estimator {font-family: monospace;background-color: #f0f8ff;border: 1px dotted black;border-radius: 0.25em;box-sizing: border-box;margin-bottom: 0.5em;}#sk-7e4d1e88-14ac-47a6-b67e-80bb098f2432 div.sk-estimator:hover {background-color: #d4ebff;}#sk-7e4d1e88-14ac-47a6-b67e-80bb098f2432 div.sk-parallel-item::after {content: \"\";width: 100%;border-bottom: 1px solid gray;flex-grow: 1;}#sk-7e4d1e88-14ac-47a6-b67e-80bb098f2432 div.sk-label:hover label.sk-toggleable__label {background-color: #d4ebff;}#sk-7e4d1e88-14ac-47a6-b67e-80bb098f2432 div.sk-serial::before {content: \"\";position: absolute;border-left: 1px solid gray;box-sizing: border-box;top: 2em;bottom: 0;left: 50%;}#sk-7e4d1e88-14ac-47a6-b67e-80bb098f2432 div.sk-serial {display: flex;flex-direction: column;align-items: center;background-color: white;padding-right: 0.2em;padding-left: 0.2em;}#sk-7e4d1e88-14ac-47a6-b67e-80bb098f2432 div.sk-item {z-index: 1;}#sk-7e4d1e88-14ac-47a6-b67e-80bb098f2432 div.sk-parallel {display: flex;align-items: stretch;justify-content: center;background-color: white;}#sk-7e4d1e88-14ac-47a6-b67e-80bb098f2432 div.sk-parallel::before {content: \"\";position: absolute;border-left: 1px solid gray;box-sizing: border-box;top: 2em;bottom: 0;left: 50%;}#sk-7e4d1e88-14ac-47a6-b67e-80bb098f2432 div.sk-parallel-item {display: flex;flex-direction: column;position: relative;background-color: white;}#sk-7e4d1e88-14ac-47a6-b67e-80bb098f2432 div.sk-parallel-item:first-child::after {align-self: flex-end;width: 50%;}#sk-7e4d1e88-14ac-47a6-b67e-80bb098f2432 div.sk-parallel-item:last-child::after {align-self: flex-start;width: 50%;}#sk-7e4d1e88-14ac-47a6-b67e-80bb098f2432 div.sk-parallel-item:only-child::after {width: 0;}#sk-7e4d1e88-14ac-47a6-b67e-80bb098f2432 div.sk-dashed-wrapped {border: 1px dashed gray;margin: 0 0.4em 0.5em 0.4em;box-sizing: border-box;padding-bottom: 0.4em;background-color: white;position: relative;}#sk-7e4d1e88-14ac-47a6-b67e-80bb098f2432 div.sk-label label {font-family: monospace;font-weight: bold;background-color: white;display: inline-block;line-height: 1.2em;}#sk-7e4d1e88-14ac-47a6-b67e-80bb098f2432 div.sk-label-container {position: relative;z-index: 2;text-align: center;}#sk-7e4d1e88-14ac-47a6-b67e-80bb098f2432 div.sk-container {/* jupyter's `normalize.less` sets `[hidden] { display: none; }` but bootstrap.min.css set `[hidden] { display: none !important; }` so we also need the `!important` here to be able to override the default hidden behavior on the sphinx rendered scikit-learn.org. See: https://github.com/scikit-learn/scikit-learn/issues/21755 */display: inline-block !important;position: relative;}#sk-7e4d1e88-14ac-47a6-b67e-80bb098f2432 div.sk-text-repr-fallback {display: none;}</style><div id=\"sk-7e4d1e88-14ac-47a6-b67e-80bb098f2432\" class=\"sk-top-container\"><div class=\"sk-text-repr-fallback\"><pre>VotingClassifier(estimators=[(&#x27;sgd2&#x27;,\n",
              "                              Pipeline(steps=[(&#x27;columntransformer&#x27;,\n",
              "                                               ColumnTransformer(transformers=[(&#x27;pipeline-1&#x27;,\n",
              "                                                                                Pipeline(steps=[(&#x27;countvectorizer&#x27;,\n",
              "                                                                                                 CountVectorizer(analyzer=&#x27;char&#x27;,\n",
              "                                                                                                                 max_features=3500,\n",
              "                                                                                                                 ngram_range=(2,\n",
              "                                                                                                                              3))),\n",
              "                                                                                                (&#x27;maxabsscaler&#x27;,\n",
              "                                                                                                 MaxAbsScaler())]),\n",
              "                                                                                &#x27;tweet_demojize&#x27;),\n",
              "                                                                               (&#x27;minmaxscaler-1&#x27;,\n",
              "                                                                                MinMaxScaler(),\n",
              "                                                                                [&#x27;afinn_score&#x27;]),\n",
              "                                                                               (&#x27;minmaxscaler-2&#x27;,\n",
              "                                                                                MinMa...\n",
              "                                                                                                                 max_features=100,\n",
              "                                                                                                                 ngram_range=(2,\n",
              "                                                                                                                              3))),\n",
              "                                                                                                (&#x27;maxabsscaler&#x27;,\n",
              "                                                                                                 MaxAbsScaler())]),\n",
              "                                                                                &#x27;pos_universal&#x27;),\n",
              "                                                                               (&#x27;minmaxscaler-1&#x27;,\n",
              "                                                                                MinMaxScaler(),\n",
              "                                                                                [&#x27;afinn_score&#x27;]),\n",
              "                                                                               (&#x27;minmaxscaler-2&#x27;,\n",
              "                                                                                MinMaxScaler(),\n",
              "                                                                                [&#x27;compound&#x27;]),\n",
              "                                                                               (&#x27;minmaxscaler-3&#x27;,\n",
              "                                                                                MinMaxScaler(),\n",
              "                                                                                [&#x27;pos&#x27;])])),\n",
              "                                              (&#x27;nusvc&#x27;,\n",
              "                                               NuSVC(class_weight=&#x27;balanced&#x27;,\n",
              "                                                     probability=True,\n",
              "                                                     random_state=42,\n",
              "                                                     verbose=2))]))],\n",
              "                 verbose=10, voting=&#x27;soft&#x27;, weights=[3, 3, 2, 3])</pre><b>Please rerun this cell to show the HTML repr or trust the notebook.</b></div><div class=\"sk-container\" hidden><div class=\"sk-item sk-dashed-wrapped\"><div class=\"sk-label-container\"><div class=\"sk-label sk-toggleable\"><input class=\"sk-toggleable__control sk-hidden--visually\" id=\"8b7dd667-a01e-4240-b951-5e52230abcb5\" type=\"checkbox\" ><label for=\"8b7dd667-a01e-4240-b951-5e52230abcb5\" class=\"sk-toggleable__label sk-toggleable__label-arrow\">VotingClassifier</label><div class=\"sk-toggleable__content\"><pre>VotingClassifier(estimators=[(&#x27;sgd2&#x27;,\n",
              "                              Pipeline(steps=[(&#x27;columntransformer&#x27;,\n",
              "                                               ColumnTransformer(transformers=[(&#x27;pipeline-1&#x27;,\n",
              "                                                                                Pipeline(steps=[(&#x27;countvectorizer&#x27;,\n",
              "                                                                                                 CountVectorizer(analyzer=&#x27;char&#x27;,\n",
              "                                                                                                                 max_features=3500,\n",
              "                                                                                                                 ngram_range=(2,\n",
              "                                                                                                                              3))),\n",
              "                                                                                                (&#x27;maxabsscaler&#x27;,\n",
              "                                                                                                 MaxAbsScaler())]),\n",
              "                                                                                &#x27;tweet_demojize&#x27;),\n",
              "                                                                               (&#x27;minmaxscaler-1&#x27;,\n",
              "                                                                                MinMaxScaler(),\n",
              "                                                                                [&#x27;afinn_score&#x27;]),\n",
              "                                                                               (&#x27;minmaxscaler-2&#x27;,\n",
              "                                                                                MinMa...\n",
              "                                                                                                                 max_features=100,\n",
              "                                                                                                                 ngram_range=(2,\n",
              "                                                                                                                              3))),\n",
              "                                                                                                (&#x27;maxabsscaler&#x27;,\n",
              "                                                                                                 MaxAbsScaler())]),\n",
              "                                                                                &#x27;pos_universal&#x27;),\n",
              "                                                                               (&#x27;minmaxscaler-1&#x27;,\n",
              "                                                                                MinMaxScaler(),\n",
              "                                                                                [&#x27;afinn_score&#x27;]),\n",
              "                                                                               (&#x27;minmaxscaler-2&#x27;,\n",
              "                                                                                MinMaxScaler(),\n",
              "                                                                                [&#x27;compound&#x27;]),\n",
              "                                                                               (&#x27;minmaxscaler-3&#x27;,\n",
              "                                                                                MinMaxScaler(),\n",
              "                                                                                [&#x27;pos&#x27;])])),\n",
              "                                              (&#x27;nusvc&#x27;,\n",
              "                                               NuSVC(class_weight=&#x27;balanced&#x27;,\n",
              "                                                     probability=True,\n",
              "                                                     random_state=42,\n",
              "                                                     verbose=2))]))],\n",
              "                 verbose=10, voting=&#x27;soft&#x27;, weights=[3, 3, 2, 3])</pre></div></div></div><div class=\"sk-parallel\"><div class=\"sk-parallel-item\"><div class=\"sk-item\"><div class=\"sk-label-container\"><div class=\"sk-label sk-toggleable\"><label>sgd2</label></div></div><div class=\"sk-serial\"><div class=\"sk-item\"><div class=\"sk-serial\"><div class=\"sk-item sk-dashed-wrapped\"><div class=\"sk-label-container\"><div class=\"sk-label sk-toggleable\"><input class=\"sk-toggleable__control sk-hidden--visually\" id=\"0ab08769-d4c7-4c56-b3c6-5ca053b484bd\" type=\"checkbox\" ><label for=\"0ab08769-d4c7-4c56-b3c6-5ca053b484bd\" class=\"sk-toggleable__label sk-toggleable__label-arrow\">columntransformer: ColumnTransformer</label><div class=\"sk-toggleable__content\"><pre>ColumnTransformer(transformers=[(&#x27;pipeline-1&#x27;,\n",
              "                                 Pipeline(steps=[(&#x27;countvectorizer&#x27;,\n",
              "                                                  CountVectorizer(analyzer=&#x27;char&#x27;,\n",
              "                                                                  max_features=3500,\n",
              "                                                                  ngram_range=(2,\n",
              "                                                                               3))),\n",
              "                                                 (&#x27;maxabsscaler&#x27;,\n",
              "                                                  MaxAbsScaler())]),\n",
              "                                 &#x27;tweet_demojize&#x27;),\n",
              "                                (&#x27;minmaxscaler-1&#x27;, MinMaxScaler(),\n",
              "                                 [&#x27;afinn_score&#x27;]),\n",
              "                                (&#x27;minmaxscaler-2&#x27;, MinMaxScaler(), [&#x27;pos&#x27;]),\n",
              "                                (&#x27;minmaxscaler-3&#x27;, MinMaxScaler(), [&#x27;neg&#x27;]),\n",
              "                                (&#x27;minmaxscale...\n",
              "                                 Pipeline(steps=[(&#x27;tfidfvectorizer&#x27;,\n",
              "                                                  TfidfVectorizer(lowercase=False,\n",
              "                                                                  max_features=8,\n",
              "                                                                  tokenizer=&lt;function word_tokenize at 0x7f10a44bd290&gt;)),\n",
              "                                                 (&#x27;maxabsscaler&#x27;,\n",
              "                                                  MaxAbsScaler())]),\n",
              "                                 &#x27;pos_universal_tweet_demojize&#x27;),\n",
              "                                (&#x27;pipeline-3&#x27;,\n",
              "                                 Pipeline(steps=[(&#x27;countvectorizer&#x27;,\n",
              "                                                  CountVectorizer(analyzer=&#x27;char&#x27;,\n",
              "                                                                  max_features=3500,\n",
              "                                                                  ngram_range=(2,\n",
              "                                                                               3))),\n",
              "                                                 (&#x27;maxabsscaler&#x27;,\n",
              "                                                  MaxAbsScaler())]),\n",
              "                                 &#x27;lemma&#x27;)])</pre></div></div></div><div class=\"sk-parallel\"><div class=\"sk-parallel-item\"><div class=\"sk-item\"><div class=\"sk-label-container\"><div class=\"sk-label sk-toggleable\"><input class=\"sk-toggleable__control sk-hidden--visually\" id=\"c2dbff60-cdb2-4476-880d-8605d4ca4553\" type=\"checkbox\" ><label for=\"c2dbff60-cdb2-4476-880d-8605d4ca4553\" class=\"sk-toggleable__label sk-toggleable__label-arrow\">pipeline-1</label><div class=\"sk-toggleable__content\"><pre>tweet_demojize</pre></div></div></div><div class=\"sk-serial\"><div class=\"sk-item\"><div class=\"sk-serial\"><div class=\"sk-item\"><div class=\"sk-estimator sk-toggleable\"><input class=\"sk-toggleable__control sk-hidden--visually\" id=\"08b3d4ef-3028-4bb1-b1fa-001fc09f47ee\" type=\"checkbox\" ><label for=\"08b3d4ef-3028-4bb1-b1fa-001fc09f47ee\" class=\"sk-toggleable__label sk-toggleable__label-arrow\">CountVectorizer</label><div class=\"sk-toggleable__content\"><pre>CountVectorizer(analyzer=&#x27;char&#x27;, max_features=3500, ngram_range=(2, 3))</pre></div></div></div><div class=\"sk-item\"><div class=\"sk-estimator sk-toggleable\"><input class=\"sk-toggleable__control sk-hidden--visually\" id=\"e4c377f3-d114-4476-aa5e-a38b8b10543a\" type=\"checkbox\" ><label for=\"e4c377f3-d114-4476-aa5e-a38b8b10543a\" class=\"sk-toggleable__label sk-toggleable__label-arrow\">MaxAbsScaler</label><div class=\"sk-toggleable__content\"><pre>MaxAbsScaler()</pre></div></div></div></div></div></div></div></div><div class=\"sk-parallel-item\"><div class=\"sk-item\"><div class=\"sk-label-container\"><div class=\"sk-label sk-toggleable\"><input class=\"sk-toggleable__control sk-hidden--visually\" id=\"2f3867a1-4805-45b7-a45b-cf216df14a82\" type=\"checkbox\" ><label for=\"2f3867a1-4805-45b7-a45b-cf216df14a82\" class=\"sk-toggleable__label sk-toggleable__label-arrow\">minmaxscaler-1</label><div class=\"sk-toggleable__content\"><pre>[&#x27;afinn_score&#x27;]</pre></div></div></div><div class=\"sk-serial\"><div class=\"sk-item\"><div class=\"sk-estimator sk-toggleable\"><input class=\"sk-toggleable__control sk-hidden--visually\" id=\"e90339f9-4b23-4ce7-9af0-b55a310e427a\" type=\"checkbox\" ><label for=\"e90339f9-4b23-4ce7-9af0-b55a310e427a\" class=\"sk-toggleable__label sk-toggleable__label-arrow\">MinMaxScaler</label><div class=\"sk-toggleable__content\"><pre>MinMaxScaler()</pre></div></div></div></div></div></div><div class=\"sk-parallel-item\"><div class=\"sk-item\"><div class=\"sk-label-container\"><div class=\"sk-label sk-toggleable\"><input class=\"sk-toggleable__control sk-hidden--visually\" id=\"c2a8432c-771e-4aba-80a3-5173a5174a77\" type=\"checkbox\" ><label for=\"c2a8432c-771e-4aba-80a3-5173a5174a77\" class=\"sk-toggleable__label sk-toggleable__label-arrow\">minmaxscaler-2</label><div class=\"sk-toggleable__content\"><pre>[&#x27;pos&#x27;]</pre></div></div></div><div class=\"sk-serial\"><div class=\"sk-item\"><div class=\"sk-estimator sk-toggleable\"><input class=\"sk-toggleable__control sk-hidden--visually\" id=\"d5ced19e-bf02-47c1-9668-51961d79f556\" type=\"checkbox\" ><label for=\"d5ced19e-bf02-47c1-9668-51961d79f556\" class=\"sk-toggleable__label sk-toggleable__label-arrow\">MinMaxScaler</label><div class=\"sk-toggleable__content\"><pre>MinMaxScaler()</pre></div></div></div></div></div></div><div class=\"sk-parallel-item\"><div class=\"sk-item\"><div class=\"sk-label-container\"><div class=\"sk-label sk-toggleable\"><input class=\"sk-toggleable__control sk-hidden--visually\" id=\"d9a1bd83-5cde-423a-97ca-d1edb7c60ef6\" type=\"checkbox\" ><label for=\"d9a1bd83-5cde-423a-97ca-d1edb7c60ef6\" class=\"sk-toggleable__label sk-toggleable__label-arrow\">minmaxscaler-3</label><div class=\"sk-toggleable__content\"><pre>[&#x27;neg&#x27;]</pre></div></div></div><div class=\"sk-serial\"><div class=\"sk-item\"><div class=\"sk-estimator sk-toggleable\"><input class=\"sk-toggleable__control sk-hidden--visually\" id=\"94ebcdd5-382a-46ac-aaf2-f68270ca67d6\" type=\"checkbox\" ><label for=\"94ebcdd5-382a-46ac-aaf2-f68270ca67d6\" class=\"sk-toggleable__label sk-toggleable__label-arrow\">MinMaxScaler</label><div class=\"sk-toggleable__content\"><pre>MinMaxScaler()</pre></div></div></div></div></div></div><div class=\"sk-parallel-item\"><div class=\"sk-item\"><div class=\"sk-label-container\"><div class=\"sk-label sk-toggleable\"><input class=\"sk-toggleable__control sk-hidden--visually\" id=\"5c1b1fd3-f003-4829-a84e-875ac2d4c006\" type=\"checkbox\" ><label for=\"5c1b1fd3-f003-4829-a84e-875ac2d4c006\" class=\"sk-toggleable__label sk-toggleable__label-arrow\">minmaxscaler-4</label><div class=\"sk-toggleable__content\"><pre>[&#x27;compound&#x27;]</pre></div></div></div><div class=\"sk-serial\"><div class=\"sk-item\"><div class=\"sk-estimator sk-toggleable\"><input class=\"sk-toggleable__control sk-hidden--visually\" id=\"17426e10-7fa0-44bf-a042-ce857f5c5240\" type=\"checkbox\" ><label for=\"17426e10-7fa0-44bf-a042-ce857f5c5240\" class=\"sk-toggleable__label sk-toggleable__label-arrow\">MinMaxScaler</label><div class=\"sk-toggleable__content\"><pre>MinMaxScaler()</pre></div></div></div></div></div></div><div class=\"sk-parallel-item\"><div class=\"sk-item\"><div class=\"sk-label-container\"><div class=\"sk-label sk-toggleable\"><input class=\"sk-toggleable__control sk-hidden--visually\" id=\"5124272e-abe3-428c-86f9-8cd37deae922\" type=\"checkbox\" ><label for=\"5124272e-abe3-428c-86f9-8cd37deae922\" class=\"sk-toggleable__label sk-toggleable__label-arrow\">pipeline-2</label><div class=\"sk-toggleable__content\"><pre>pos_universal_tweet_demojize</pre></div></div></div><div class=\"sk-serial\"><div class=\"sk-item\"><div class=\"sk-serial\"><div class=\"sk-item\"><div class=\"sk-estimator sk-toggleable\"><input class=\"sk-toggleable__control sk-hidden--visually\" id=\"665935bb-204b-4fd2-837d-3bf057fd44f4\" type=\"checkbox\" ><label for=\"665935bb-204b-4fd2-837d-3bf057fd44f4\" class=\"sk-toggleable__label sk-toggleable__label-arrow\">TfidfVectorizer</label><div class=\"sk-toggleable__content\"><pre>TfidfVectorizer(lowercase=False, max_features=8,\n",
              "                tokenizer=&lt;function word_tokenize at 0x7f10a44bd290&gt;)</pre></div></div></div><div class=\"sk-item\"><div class=\"sk-estimator sk-toggleable\"><input class=\"sk-toggleable__control sk-hidden--visually\" id=\"5aa22796-0247-49e4-bb85-9ae7d62861d6\" type=\"checkbox\" ><label for=\"5aa22796-0247-49e4-bb85-9ae7d62861d6\" class=\"sk-toggleable__label sk-toggleable__label-arrow\">MaxAbsScaler</label><div class=\"sk-toggleable__content\"><pre>MaxAbsScaler()</pre></div></div></div></div></div></div></div></div><div class=\"sk-parallel-item\"><div class=\"sk-item\"><div class=\"sk-label-container\"><div class=\"sk-label sk-toggleable\"><input class=\"sk-toggleable__control sk-hidden--visually\" id=\"1e396eb4-8a3c-4c73-b005-f1921b8ebc13\" type=\"checkbox\" ><label for=\"1e396eb4-8a3c-4c73-b005-f1921b8ebc13\" class=\"sk-toggleable__label sk-toggleable__label-arrow\">pipeline-3</label><div class=\"sk-toggleable__content\"><pre>lemma</pre></div></div></div><div class=\"sk-serial\"><div class=\"sk-item\"><div class=\"sk-serial\"><div class=\"sk-item\"><div class=\"sk-estimator sk-toggleable\"><input class=\"sk-toggleable__control sk-hidden--visually\" id=\"61102394-ce3d-466c-9dd1-c315973e339e\" type=\"checkbox\" ><label for=\"61102394-ce3d-466c-9dd1-c315973e339e\" class=\"sk-toggleable__label sk-toggleable__label-arrow\">CountVectorizer</label><div class=\"sk-toggleable__content\"><pre>CountVectorizer(analyzer=&#x27;char&#x27;, max_features=3500, ngram_range=(2, 3))</pre></div></div></div><div class=\"sk-item\"><div class=\"sk-estimator sk-toggleable\"><input class=\"sk-toggleable__control sk-hidden--visually\" id=\"e985b9ef-f545-42ea-9af6-b022cd7ee12f\" type=\"checkbox\" ><label for=\"e985b9ef-f545-42ea-9af6-b022cd7ee12f\" class=\"sk-toggleable__label sk-toggleable__label-arrow\">MaxAbsScaler</label><div class=\"sk-toggleable__content\"><pre>MaxAbsScaler()</pre></div></div></div></div></div></div></div></div></div></div><div class=\"sk-item\"><div class=\"sk-estimator sk-toggleable\"><input class=\"sk-toggleable__control sk-hidden--visually\" id=\"ed1d4727-5b5e-4fcd-9d2b-3a92a2e8bac3\" type=\"checkbox\" ><label for=\"ed1d4727-5b5e-4fcd-9d2b-3a92a2e8bac3\" class=\"sk-toggleable__label sk-toggleable__label-arrow\">SGDClassifier</label><div class=\"sk-toggleable__content\"><pre>SGDClassifier(alpha=0.001, class_weight=&#x27;balanced&#x27;, early_stopping=True,\n",
              "              loss=&#x27;log&#x27;, n_iter_no_change=3, penalty=&#x27;elasticnet&#x27;,\n",
              "              random_state=42)</pre></div></div></div></div></div></div></div></div><div class=\"sk-parallel-item\"><div class=\"sk-item\"><div class=\"sk-label-container\"><div class=\"sk-label sk-toggleable\"><label>log1</label></div></div><div class=\"sk-serial\"><div class=\"sk-item\"><div class=\"sk-serial\"><div class=\"sk-item sk-dashed-wrapped\"><div class=\"sk-label-container\"><div class=\"sk-label sk-toggleable\"><input class=\"sk-toggleable__control sk-hidden--visually\" id=\"48f7c97e-9788-4d4f-b88d-7b7e58f8d117\" type=\"checkbox\" ><label for=\"48f7c97e-9788-4d4f-b88d-7b7e58f8d117\" class=\"sk-toggleable__label sk-toggleable__label-arrow\">columntransformer: ColumnTransformer</label><div class=\"sk-toggleable__content\"><pre>ColumnTransformer(transformers=[(&#x27;pipeline-1&#x27;,\n",
              "                                 Pipeline(steps=[(&#x27;tfidfvectorizer&#x27;,\n",
              "                                                  TfidfVectorizer(lowercase=False,\n",
              "                                                                  max_features=3500,\n",
              "                                                                  ngram_range=(1,\n",
              "                                                                               2),\n",
              "                                                                  tokenizer=&lt;function word_tokenize at 0x7f10a44bd290&gt;)),\n",
              "                                                 (&#x27;maxabsscaler&#x27;,\n",
              "                                                  MaxAbsScaler())]),\n",
              "                                 &#x27;hashtag_gone&#x27;),\n",
              "                                (&#x27;minmaxscaler&#x27;, MinMaxScaler(),\n",
              "                                 [&#x27;afinn_score&#x27;, &#x27;neg&#x27;]),\n",
              "                                (&#x27;pipeline-2&#x27;,\n",
              "                                 Pipeline(steps=[(&#x27;countvectorizer&#x27;,\n",
              "                                                  CountVectorizer(lowercase=False,\n",
              "                                                                  max_features=100,\n",
              "                                                                  tokenizer=&lt;function word_tokenize at 0x7f10a44bd290&gt;)),\n",
              "                                                 (&#x27;maxabsscaler&#x27;,\n",
              "                                                  MaxAbsScaler())]),\n",
              "                                 &#x27;POS_clean&#x27;)])</pre></div></div></div><div class=\"sk-parallel\"><div class=\"sk-parallel-item\"><div class=\"sk-item\"><div class=\"sk-label-container\"><div class=\"sk-label sk-toggleable\"><input class=\"sk-toggleable__control sk-hidden--visually\" id=\"f091c443-a1e1-4481-8b99-cbe6c2c983cc\" type=\"checkbox\" ><label for=\"f091c443-a1e1-4481-8b99-cbe6c2c983cc\" class=\"sk-toggleable__label sk-toggleable__label-arrow\">pipeline-1</label><div class=\"sk-toggleable__content\"><pre>hashtag_gone</pre></div></div></div><div class=\"sk-serial\"><div class=\"sk-item\"><div class=\"sk-serial\"><div class=\"sk-item\"><div class=\"sk-estimator sk-toggleable\"><input class=\"sk-toggleable__control sk-hidden--visually\" id=\"589fa287-0028-4189-b451-2b3576fa6098\" type=\"checkbox\" ><label for=\"589fa287-0028-4189-b451-2b3576fa6098\" class=\"sk-toggleable__label sk-toggleable__label-arrow\">TfidfVectorizer</label><div class=\"sk-toggleable__content\"><pre>TfidfVectorizer(lowercase=False, max_features=3500, ngram_range=(1, 2),\n",
              "                tokenizer=&lt;function word_tokenize at 0x7f10a44bd290&gt;)</pre></div></div></div><div class=\"sk-item\"><div class=\"sk-estimator sk-toggleable\"><input class=\"sk-toggleable__control sk-hidden--visually\" id=\"5ae0787e-cc9a-46e8-8faf-323b7719f7c3\" type=\"checkbox\" ><label for=\"5ae0787e-cc9a-46e8-8faf-323b7719f7c3\" class=\"sk-toggleable__label sk-toggleable__label-arrow\">MaxAbsScaler</label><div class=\"sk-toggleable__content\"><pre>MaxAbsScaler()</pre></div></div></div></div></div></div></div></div><div class=\"sk-parallel-item\"><div class=\"sk-item\"><div class=\"sk-label-container\"><div class=\"sk-label sk-toggleable\"><input class=\"sk-toggleable__control sk-hidden--visually\" id=\"56dafa60-37c5-4b1b-b25a-bb284e7a0ab7\" type=\"checkbox\" ><label for=\"56dafa60-37c5-4b1b-b25a-bb284e7a0ab7\" class=\"sk-toggleable__label sk-toggleable__label-arrow\">minmaxscaler</label><div class=\"sk-toggleable__content\"><pre>[&#x27;afinn_score&#x27;, &#x27;neg&#x27;]</pre></div></div></div><div class=\"sk-serial\"><div class=\"sk-item\"><div class=\"sk-estimator sk-toggleable\"><input class=\"sk-toggleable__control sk-hidden--visually\" id=\"e9053622-ff23-4ef6-a265-ef9de889c3a0\" type=\"checkbox\" ><label for=\"e9053622-ff23-4ef6-a265-ef9de889c3a0\" class=\"sk-toggleable__label sk-toggleable__label-arrow\">MinMaxScaler</label><div class=\"sk-toggleable__content\"><pre>MinMaxScaler()</pre></div></div></div></div></div></div><div class=\"sk-parallel-item\"><div class=\"sk-item\"><div class=\"sk-label-container\"><div class=\"sk-label sk-toggleable\"><input class=\"sk-toggleable__control sk-hidden--visually\" id=\"d68cf41f-f7b3-4d30-aacb-2cc573d9cd65\" type=\"checkbox\" ><label for=\"d68cf41f-f7b3-4d30-aacb-2cc573d9cd65\" class=\"sk-toggleable__label sk-toggleable__label-arrow\">pipeline-2</label><div class=\"sk-toggleable__content\"><pre>POS_clean</pre></div></div></div><div class=\"sk-serial\"><div class=\"sk-item\"><div class=\"sk-serial\"><div class=\"sk-item\"><div class=\"sk-estimator sk-toggleable\"><input class=\"sk-toggleable__control sk-hidden--visually\" id=\"b96c3fab-6ed0-4738-b1ee-0eb373d374d0\" type=\"checkbox\" ><label for=\"b96c3fab-6ed0-4738-b1ee-0eb373d374d0\" class=\"sk-toggleable__label sk-toggleable__label-arrow\">CountVectorizer</label><div class=\"sk-toggleable__content\"><pre>CountVectorizer(lowercase=False, max_features=100,\n",
              "                tokenizer=&lt;function word_tokenize at 0x7f10a44bd290&gt;)</pre></div></div></div><div class=\"sk-item\"><div class=\"sk-estimator sk-toggleable\"><input class=\"sk-toggleable__control sk-hidden--visually\" id=\"42724cec-5f83-4d5b-a5f3-00a5abdc9b97\" type=\"checkbox\" ><label for=\"42724cec-5f83-4d5b-a5f3-00a5abdc9b97\" class=\"sk-toggleable__label sk-toggleable__label-arrow\">MaxAbsScaler</label><div class=\"sk-toggleable__content\"><pre>MaxAbsScaler()</pre></div></div></div></div></div></div></div></div></div></div><div class=\"sk-item\"><div class=\"sk-estimator sk-toggleable\"><input class=\"sk-toggleable__control sk-hidden--visually\" id=\"b0adfc67-34ba-4a8a-93c7-62e9229622ec\" type=\"checkbox\" ><label for=\"b0adfc67-34ba-4a8a-93c7-62e9229622ec\" class=\"sk-toggleable__label sk-toggleable__label-arrow\">LogisticRegressionCV</label><div class=\"sk-toggleable__content\"><pre>LogisticRegressionCV(class_weight=&#x27;balanced&#x27;, cv=2, multi_class=&#x27;ovr&#x27;,\n",
              "                     n_jobs=-1, penalty=&#x27;l1&#x27;, random_state=42,\n",
              "                     scoring=&#x27;f1_macro&#x27;, solver=&#x27;saga&#x27;, verbose=2)</pre></div></div></div></div></div></div></div></div><div class=\"sk-parallel-item\"><div class=\"sk-item\"><div class=\"sk-label-container\"><div class=\"sk-label sk-toggleable\"><label>svm1</label></div></div><div class=\"sk-serial\"><div class=\"sk-item\"><div class=\"sk-serial\"><div class=\"sk-item sk-dashed-wrapped\"><div class=\"sk-label-container\"><div class=\"sk-label sk-toggleable\"><input class=\"sk-toggleable__control sk-hidden--visually\" id=\"0497bcef-8f2b-4bd0-9993-4a3709bcfd84\" type=\"checkbox\" ><label for=\"0497bcef-8f2b-4bd0-9993-4a3709bcfd84\" class=\"sk-toggleable__label sk-toggleable__label-arrow\">columntransformer: ColumnTransformer</label><div class=\"sk-toggleable__content\"><pre>ColumnTransformer(transformers=[(&#x27;pipeline-1&#x27;,\n",
              "                                 Pipeline(steps=[(&#x27;tfidfvectorizer&#x27;,\n",
              "                                                  TfidfVectorizer(analyzer=&#x27;char&#x27;,\n",
              "                                                                  max_features=3200,\n",
              "                                                                  ngram_range=(2,\n",
              "                                                                               3))),\n",
              "                                                 (&#x27;maxabsscaler&#x27;,\n",
              "                                                  MaxAbsScaler())]),\n",
              "                                 &#x27;no_punct&#x27;),\n",
              "                                (&#x27;pipeline-2&#x27;,\n",
              "                                 Pipeline(steps=[(&#x27;tfidfvectorizer&#x27;,\n",
              "                                                  TfidfVectorizer(max_features=8,\n",
              "                                                                  tokenizer=&lt;function word_tokenize at 0x7f10a44bd290&gt;)),\n",
              "                                                 (&#x27;maxabsscaler&#x27;,\n",
              "                                                  MaxAbsScaler())]),\n",
              "                                 &#x27;pos_universal&#x27;),\n",
              "                                (&#x27;minmaxscaler-1&#x27;, MinMaxScaler(),\n",
              "                                 [&#x27;afinn_score&#x27;]),\n",
              "                                (&#x27;minmaxscaler-2&#x27;, MinMaxScaler(),\n",
              "                                 [&#x27;compound&#x27;]),\n",
              "                                (&#x27;minmaxscaler-3&#x27;, MinMaxScaler(), [&#x27;pos&#x27;])])</pre></div></div></div><div class=\"sk-parallel\"><div class=\"sk-parallel-item\"><div class=\"sk-item\"><div class=\"sk-label-container\"><div class=\"sk-label sk-toggleable\"><input class=\"sk-toggleable__control sk-hidden--visually\" id=\"44ab65d6-1adc-4c81-b4fe-e316febd865f\" type=\"checkbox\" ><label for=\"44ab65d6-1adc-4c81-b4fe-e316febd865f\" class=\"sk-toggleable__label sk-toggleable__label-arrow\">pipeline-1</label><div class=\"sk-toggleable__content\"><pre>no_punct</pre></div></div></div><div class=\"sk-serial\"><div class=\"sk-item\"><div class=\"sk-serial\"><div class=\"sk-item\"><div class=\"sk-estimator sk-toggleable\"><input class=\"sk-toggleable__control sk-hidden--visually\" id=\"505cb6bf-c4af-46ce-abd7-3e72b2d0d5cc\" type=\"checkbox\" ><label for=\"505cb6bf-c4af-46ce-abd7-3e72b2d0d5cc\" class=\"sk-toggleable__label sk-toggleable__label-arrow\">TfidfVectorizer</label><div class=\"sk-toggleable__content\"><pre>TfidfVectorizer(analyzer=&#x27;char&#x27;, max_features=3200, ngram_range=(2, 3))</pre></div></div></div><div class=\"sk-item\"><div class=\"sk-estimator sk-toggleable\"><input class=\"sk-toggleable__control sk-hidden--visually\" id=\"19430a6d-9048-4828-901a-b6ac8962b27a\" type=\"checkbox\" ><label for=\"19430a6d-9048-4828-901a-b6ac8962b27a\" class=\"sk-toggleable__label sk-toggleable__label-arrow\">MaxAbsScaler</label><div class=\"sk-toggleable__content\"><pre>MaxAbsScaler()</pre></div></div></div></div></div></div></div></div><div class=\"sk-parallel-item\"><div class=\"sk-item\"><div class=\"sk-label-container\"><div class=\"sk-label sk-toggleable\"><input class=\"sk-toggleable__control sk-hidden--visually\" id=\"f323d4b4-7852-48a5-9533-a5e635d83219\" type=\"checkbox\" ><label for=\"f323d4b4-7852-48a5-9533-a5e635d83219\" class=\"sk-toggleable__label sk-toggleable__label-arrow\">pipeline-2</label><div class=\"sk-toggleable__content\"><pre>pos_universal</pre></div></div></div><div class=\"sk-serial\"><div class=\"sk-item\"><div class=\"sk-serial\"><div class=\"sk-item\"><div class=\"sk-estimator sk-toggleable\"><input class=\"sk-toggleable__control sk-hidden--visually\" id=\"11b3b0d1-153b-4ec7-a0e8-fc82842c9570\" type=\"checkbox\" ><label for=\"11b3b0d1-153b-4ec7-a0e8-fc82842c9570\" class=\"sk-toggleable__label sk-toggleable__label-arrow\">TfidfVectorizer</label><div class=\"sk-toggleable__content\"><pre>TfidfVectorizer(max_features=8,\n",
              "                tokenizer=&lt;function word_tokenize at 0x7f10a44bd290&gt;)</pre></div></div></div><div class=\"sk-item\"><div class=\"sk-estimator sk-toggleable\"><input class=\"sk-toggleable__control sk-hidden--visually\" id=\"841a6a19-9e92-43fa-abed-80b5d80ea3ba\" type=\"checkbox\" ><label for=\"841a6a19-9e92-43fa-abed-80b5d80ea3ba\" class=\"sk-toggleable__label sk-toggleable__label-arrow\">MaxAbsScaler</label><div class=\"sk-toggleable__content\"><pre>MaxAbsScaler()</pre></div></div></div></div></div></div></div></div><div class=\"sk-parallel-item\"><div class=\"sk-item\"><div class=\"sk-label-container\"><div class=\"sk-label sk-toggleable\"><input class=\"sk-toggleable__control sk-hidden--visually\" id=\"6018e7ec-b487-46ed-9c70-2a75c1f99b54\" type=\"checkbox\" ><label for=\"6018e7ec-b487-46ed-9c70-2a75c1f99b54\" class=\"sk-toggleable__label sk-toggleable__label-arrow\">minmaxscaler-1</label><div class=\"sk-toggleable__content\"><pre>[&#x27;afinn_score&#x27;]</pre></div></div></div><div class=\"sk-serial\"><div class=\"sk-item\"><div class=\"sk-estimator sk-toggleable\"><input class=\"sk-toggleable__control sk-hidden--visually\" id=\"dfd4a4bb-ba2b-46ae-8800-affcf4451a24\" type=\"checkbox\" ><label for=\"dfd4a4bb-ba2b-46ae-8800-affcf4451a24\" class=\"sk-toggleable__label sk-toggleable__label-arrow\">MinMaxScaler</label><div class=\"sk-toggleable__content\"><pre>MinMaxScaler()</pre></div></div></div></div></div></div><div class=\"sk-parallel-item\"><div class=\"sk-item\"><div class=\"sk-label-container\"><div class=\"sk-label sk-toggleable\"><input class=\"sk-toggleable__control sk-hidden--visually\" id=\"9ed919da-4d2b-4079-9ff2-2dc6a6ace77c\" type=\"checkbox\" ><label for=\"9ed919da-4d2b-4079-9ff2-2dc6a6ace77c\" class=\"sk-toggleable__label sk-toggleable__label-arrow\">minmaxscaler-2</label><div class=\"sk-toggleable__content\"><pre>[&#x27;compound&#x27;]</pre></div></div></div><div class=\"sk-serial\"><div class=\"sk-item\"><div class=\"sk-estimator sk-toggleable\"><input class=\"sk-toggleable__control sk-hidden--visually\" id=\"dc922a02-a15e-4e91-8628-59eb38a377d4\" type=\"checkbox\" ><label for=\"dc922a02-a15e-4e91-8628-59eb38a377d4\" class=\"sk-toggleable__label sk-toggleable__label-arrow\">MinMaxScaler</label><div class=\"sk-toggleable__content\"><pre>MinMaxScaler()</pre></div></div></div></div></div></div><div class=\"sk-parallel-item\"><div class=\"sk-item\"><div class=\"sk-label-container\"><div class=\"sk-label sk-toggleable\"><input class=\"sk-toggleable__control sk-hidden--visually\" id=\"157a55c7-59f0-40e7-8d64-c7146d144a8c\" type=\"checkbox\" ><label for=\"157a55c7-59f0-40e7-8d64-c7146d144a8c\" class=\"sk-toggleable__label sk-toggleable__label-arrow\">minmaxscaler-3</label><div class=\"sk-toggleable__content\"><pre>[&#x27;pos&#x27;]</pre></div></div></div><div class=\"sk-serial\"><div class=\"sk-item\"><div class=\"sk-estimator sk-toggleable\"><input class=\"sk-toggleable__control sk-hidden--visually\" id=\"6dad010f-e3de-48ee-969d-08ede3a7dec2\" type=\"checkbox\" ><label for=\"6dad010f-e3de-48ee-969d-08ede3a7dec2\" class=\"sk-toggleable__label sk-toggleable__label-arrow\">MinMaxScaler</label><div class=\"sk-toggleable__content\"><pre>MinMaxScaler()</pre></div></div></div></div></div></div></div></div><div class=\"sk-item\"><div class=\"sk-estimator sk-toggleable\"><input class=\"sk-toggleable__control sk-hidden--visually\" id=\"b279d35d-98aa-42f8-a496-29968b01d62a\" type=\"checkbox\" ><label for=\"b279d35d-98aa-42f8-a496-29968b01d62a\" class=\"sk-toggleable__label sk-toggleable__label-arrow\">SVC</label><div class=\"sk-toggleable__content\"><pre>SVC(C=0.1, class_weight=&#x27;balanced&#x27;, kernel=&#x27;linear&#x27;, probability=True,\n",
              "    random_state=42, verbose=2)</pre></div></div></div></div></div></div></div></div><div class=\"sk-parallel-item\"><div class=\"sk-item\"><div class=\"sk-label-container\"><div class=\"sk-label sk-toggleable\"><label>svm2</label></div></div><div class=\"sk-serial\"><div class=\"sk-item\"><div class=\"sk-serial\"><div class=\"sk-item sk-dashed-wrapped\"><div class=\"sk-label-container\"><div class=\"sk-label sk-toggleable\"><input class=\"sk-toggleable__control sk-hidden--visually\" id=\"60df0177-0c0b-4621-8f26-7fdc270b4edd\" type=\"checkbox\" ><label for=\"60df0177-0c0b-4621-8f26-7fdc270b4edd\" class=\"sk-toggleable__label sk-toggleable__label-arrow\">columntransformer: ColumnTransformer</label><div class=\"sk-toggleable__content\"><pre>ColumnTransformer(transformers=[(&#x27;pipeline-1&#x27;,\n",
              "                                 Pipeline(steps=[(&#x27;tfidfvectorizer&#x27;,\n",
              "                                                  TfidfVectorizer(analyzer=&#x27;char&#x27;,\n",
              "                                                                  max_features=3500,\n",
              "                                                                  ngram_range=(2,\n",
              "                                                                               3))),\n",
              "                                                 (&#x27;maxabsscaler&#x27;,\n",
              "                                                  MaxAbsScaler())]),\n",
              "                                 &#x27;hashtag_gone&#x27;),\n",
              "                                (&#x27;pipeline-2&#x27;,\n",
              "                                 Pipeline(steps=[(&#x27;tfidfvectorizer&#x27;,\n",
              "                                                  TfidfVectorizer(analyzer=&#x27;char&#x27;,\n",
              "                                                                  max_features=100,\n",
              "                                                                  ngram_range=(2,\n",
              "                                                                               3))),\n",
              "                                                 (&#x27;maxabsscaler&#x27;,\n",
              "                                                  MaxAbsScaler())]),\n",
              "                                 &#x27;pos_universal&#x27;),\n",
              "                                (&#x27;minmaxscaler-1&#x27;, MinMaxScaler(),\n",
              "                                 [&#x27;afinn_score&#x27;]),\n",
              "                                (&#x27;minmaxscaler-2&#x27;, MinMaxScaler(),\n",
              "                                 [&#x27;compound&#x27;]),\n",
              "                                (&#x27;minmaxscaler-3&#x27;, MinMaxScaler(), [&#x27;pos&#x27;])])</pre></div></div></div><div class=\"sk-parallel\"><div class=\"sk-parallel-item\"><div class=\"sk-item\"><div class=\"sk-label-container\"><div class=\"sk-label sk-toggleable\"><input class=\"sk-toggleable__control sk-hidden--visually\" id=\"ce0e37f4-4246-42b3-81b0-90a419af3e8b\" type=\"checkbox\" ><label for=\"ce0e37f4-4246-42b3-81b0-90a419af3e8b\" class=\"sk-toggleable__label sk-toggleable__label-arrow\">pipeline-1</label><div class=\"sk-toggleable__content\"><pre>hashtag_gone</pre></div></div></div><div class=\"sk-serial\"><div class=\"sk-item\"><div class=\"sk-serial\"><div class=\"sk-item\"><div class=\"sk-estimator sk-toggleable\"><input class=\"sk-toggleable__control sk-hidden--visually\" id=\"70c36989-8f84-4782-9b15-2301e30bcdbc\" type=\"checkbox\" ><label for=\"70c36989-8f84-4782-9b15-2301e30bcdbc\" class=\"sk-toggleable__label sk-toggleable__label-arrow\">TfidfVectorizer</label><div class=\"sk-toggleable__content\"><pre>TfidfVectorizer(analyzer=&#x27;char&#x27;, max_features=3500, ngram_range=(2, 3))</pre></div></div></div><div class=\"sk-item\"><div class=\"sk-estimator sk-toggleable\"><input class=\"sk-toggleable__control sk-hidden--visually\" id=\"b549a321-bced-453d-88a3-a01cce942dc7\" type=\"checkbox\" ><label for=\"b549a321-bced-453d-88a3-a01cce942dc7\" class=\"sk-toggleable__label sk-toggleable__label-arrow\">MaxAbsScaler</label><div class=\"sk-toggleable__content\"><pre>MaxAbsScaler()</pre></div></div></div></div></div></div></div></div><div class=\"sk-parallel-item\"><div class=\"sk-item\"><div class=\"sk-label-container\"><div class=\"sk-label sk-toggleable\"><input class=\"sk-toggleable__control sk-hidden--visually\" id=\"7a4d09aa-0ab0-40f8-b2de-dd82cee88a3e\" type=\"checkbox\" ><label for=\"7a4d09aa-0ab0-40f8-b2de-dd82cee88a3e\" class=\"sk-toggleable__label sk-toggleable__label-arrow\">pipeline-2</label><div class=\"sk-toggleable__content\"><pre>pos_universal</pre></div></div></div><div class=\"sk-serial\"><div class=\"sk-item\"><div class=\"sk-serial\"><div class=\"sk-item\"><div class=\"sk-estimator sk-toggleable\"><input class=\"sk-toggleable__control sk-hidden--visually\" id=\"8dd2b268-26df-4140-bb1e-7469220f4f26\" type=\"checkbox\" ><label for=\"8dd2b268-26df-4140-bb1e-7469220f4f26\" class=\"sk-toggleable__label sk-toggleable__label-arrow\">TfidfVectorizer</label><div class=\"sk-toggleable__content\"><pre>TfidfVectorizer(analyzer=&#x27;char&#x27;, max_features=100, ngram_range=(2, 3))</pre></div></div></div><div class=\"sk-item\"><div class=\"sk-estimator sk-toggleable\"><input class=\"sk-toggleable__control sk-hidden--visually\" id=\"57fdb234-996e-485e-97d4-1d301def50d3\" type=\"checkbox\" ><label for=\"57fdb234-996e-485e-97d4-1d301def50d3\" class=\"sk-toggleable__label sk-toggleable__label-arrow\">MaxAbsScaler</label><div class=\"sk-toggleable__content\"><pre>MaxAbsScaler()</pre></div></div></div></div></div></div></div></div><div class=\"sk-parallel-item\"><div class=\"sk-item\"><div class=\"sk-label-container\"><div class=\"sk-label sk-toggleable\"><input class=\"sk-toggleable__control sk-hidden--visually\" id=\"91d0c2bf-1943-4443-b02e-df5d641bb2ba\" type=\"checkbox\" ><label for=\"91d0c2bf-1943-4443-b02e-df5d641bb2ba\" class=\"sk-toggleable__label sk-toggleable__label-arrow\">minmaxscaler-1</label><div class=\"sk-toggleable__content\"><pre>[&#x27;afinn_score&#x27;]</pre></div></div></div><div class=\"sk-serial\"><div class=\"sk-item\"><div class=\"sk-estimator sk-toggleable\"><input class=\"sk-toggleable__control sk-hidden--visually\" id=\"e46733d0-46ca-4d2a-8d71-3550b85529ab\" type=\"checkbox\" ><label for=\"e46733d0-46ca-4d2a-8d71-3550b85529ab\" class=\"sk-toggleable__label sk-toggleable__label-arrow\">MinMaxScaler</label><div class=\"sk-toggleable__content\"><pre>MinMaxScaler()</pre></div></div></div></div></div></div><div class=\"sk-parallel-item\"><div class=\"sk-item\"><div class=\"sk-label-container\"><div class=\"sk-label sk-toggleable\"><input class=\"sk-toggleable__control sk-hidden--visually\" id=\"5b43bb1e-4f70-4f8b-aa49-ad5d65206c76\" type=\"checkbox\" ><label for=\"5b43bb1e-4f70-4f8b-aa49-ad5d65206c76\" class=\"sk-toggleable__label sk-toggleable__label-arrow\">minmaxscaler-2</label><div class=\"sk-toggleable__content\"><pre>[&#x27;compound&#x27;]</pre></div></div></div><div class=\"sk-serial\"><div class=\"sk-item\"><div class=\"sk-estimator sk-toggleable\"><input class=\"sk-toggleable__control sk-hidden--visually\" id=\"957a0a38-204e-40f5-9798-9f90906bfdf4\" type=\"checkbox\" ><label for=\"957a0a38-204e-40f5-9798-9f90906bfdf4\" class=\"sk-toggleable__label sk-toggleable__label-arrow\">MinMaxScaler</label><div class=\"sk-toggleable__content\"><pre>MinMaxScaler()</pre></div></div></div></div></div></div><div class=\"sk-parallel-item\"><div class=\"sk-item\"><div class=\"sk-label-container\"><div class=\"sk-label sk-toggleable\"><input class=\"sk-toggleable__control sk-hidden--visually\" id=\"40162633-6357-4bbb-9815-554af561094e\" type=\"checkbox\" ><label for=\"40162633-6357-4bbb-9815-554af561094e\" class=\"sk-toggleable__label sk-toggleable__label-arrow\">minmaxscaler-3</label><div class=\"sk-toggleable__content\"><pre>[&#x27;pos&#x27;]</pre></div></div></div><div class=\"sk-serial\"><div class=\"sk-item\"><div class=\"sk-estimator sk-toggleable\"><input class=\"sk-toggleable__control sk-hidden--visually\" id=\"62d5e41f-aa18-4698-b17c-d0c3cd559241\" type=\"checkbox\" ><label for=\"62d5e41f-aa18-4698-b17c-d0c3cd559241\" class=\"sk-toggleable__label sk-toggleable__label-arrow\">MinMaxScaler</label><div class=\"sk-toggleable__content\"><pre>MinMaxScaler()</pre></div></div></div></div></div></div></div></div><div class=\"sk-item\"><div class=\"sk-estimator sk-toggleable\"><input class=\"sk-toggleable__control sk-hidden--visually\" id=\"03cc65c0-0cf1-4cdc-87a7-c0ba8fbcbb83\" type=\"checkbox\" ><label for=\"03cc65c0-0cf1-4cdc-87a7-c0ba8fbcbb83\" class=\"sk-toggleable__label sk-toggleable__label-arrow\">NuSVC</label><div class=\"sk-toggleable__content\"><pre>NuSVC(class_weight=&#x27;balanced&#x27;, probability=True, random_state=42, verbose=2)</pre></div></div></div></div></div></div></div></div></div></div></div></div>"
            ]
          },
          "metadata": {},
          "execution_count": 158
        }
      ],
      "source": [
        "#https://scikit-learn.org/stable/modules/generated/sklearn.ensemble.VotingClassifier.html\n",
        "#Importing a VotingClassiefier to make an ensemble and gain \n",
        "  #the best results possible from the above defined models\n",
        "from sklearn.ensemble import VotingClassifier\n",
        " \n",
        "sgd_pipe2 = sgd_pipe2 #('sgd2', sgd_pipe2),\n",
        "\n",
        "log_pipe1 = log_pipe1 #('log1', log_pipe1),\n",
        "\n",
        "svm_pipe = svm_model #('svm1', svm_model),\n",
        "nu_svm_pipe = nu_svm_pipe #('svm2', nu_svm_pipe)],\n",
        "\n",
        "#VotingClassifier\n",
        "  #Soft voting yielded the best results\n",
        "  #Weights and models chosen after trial and error, best macro-f1 was chosen\n",
        "eclf = VotingClassifier(\n",
        "     estimators=[('sgd2', sgd_pipe2),\n",
        "                ('log1', log_pipe1),\n",
        "                ('svm1', svm_pipe), ('svm2', nu_svm_pipe)], \n",
        "                 verbose= 10,\n",
        "                 voting='soft',\n",
        "                 weights=[3, 3, 2, 3]\n",
        ")\n",
        "\n",
        "#sgd_pipe2.fit(X_train, y_train)\n",
        "\n",
        "#log_pipe1.fit(X_train, y_train)\n",
        "\n",
        "#svm_model.fit(X_train, y_train)\n",
        "#nu_svm_pipe.fit(X_train, y_train)\n",
        "\n",
        "eclf.fit(X_train, y_train)"
      ],
      "id": "Z2o91NpIiwd6"
    },
    {
      "cell_type": "code",
      "execution_count": null,
      "metadata": {
        "colab": {
          "base_uri": "https://localhost:8080/"
        },
        "id": "8-NkU_p6HQxl",
        "outputId": "4e30c3f2-279f-499e-dc76-a3d7acedca37"
      },
      "outputs": [
        {
          "name": "stdout",
          "output_type": "stream",
          "text": [
            "              precision    recall  f1-score   support\n",
            "\n",
            "           0       0.82      0.84      0.83       884\n",
            "           1       0.66      0.63      0.64       440\n",
            "\n",
            "    accuracy                           0.77      1324\n",
            "   macro avg       0.74      0.73      0.74      1324\n",
            "weighted avg       0.77      0.77      0.77      1324\n",
            "\n"
          ]
        }
      ],
      "source": [
        "#(01/05/2022) #sgd2, log1, svm, nu_svm #[3, 3, 2, 3] #NUMBER 1\n",
        "\n",
        "#y_test_pred = eclf.predict(X_test) \n",
        "\n",
        "#print(classification_report(y_test, y_test_pred))"
      ],
      "id": "8-NkU_p6HQxl"
    },
    {
      "cell_type": "code",
      "execution_count": null,
      "metadata": {
        "colab": {
          "base_uri": "https://localhost:8080/"
        },
        "id": "h0a0qHBPNRtZ",
        "outputId": "cd1d946a-5f0e-4429-e5e1-46064e260488"
      },
      "outputs": [
        {
          "name": "stdout",
          "output_type": "stream",
          "text": [
            "              precision    recall  f1-score   support\n",
            "\n",
            "           0       0.82      0.85      0.83       884\n",
            "           1       0.67      0.62      0.64       440\n",
            "\n",
            "    accuracy                           0.77      1324\n",
            "   macro avg       0.74      0.73      0.74      1324\n",
            "weighted avg       0.77      0.77      0.77      1324\n",
            "\n"
          ]
        }
      ],
      "source": [
        "#(01/05/2022) #sgd2, log1, svm, nu_svm #[2, 3, 2, 3] #NUMBER 2\n",
        "\n",
        "#y_test_pred = eclf.predict(X_test) \n",
        "\n",
        "#print(classification_report(y_test, y_test_pred))"
      ],
      "id": "h0a0qHBPNRtZ"
    },
    {
      "cell_type": "markdown",
      "metadata": {
        "id": "lZ-9LvdkwrO6"
      },
      "source": [
        "#### To CSV"
      ],
      "id": "lZ-9LvdkwrO6"
    },
    {
      "cell_type": "markdown",
      "metadata": {
        "id": "IwmBxNMGw_ZK"
      },
      "source": [
        "##### Test_IN"
      ],
      "id": "IwmBxNMGw_ZK"
    },
    {
      "cell_type": "code",
      "execution_count": null,
      "metadata": {
        "id": "xRFoeL5kx0Oy"
      },
      "outputs": [],
      "source": [
        "#Making predictions by use of the trained ensemble model\n",
        "df1_pred = eclf.predict(X_test1)"
      ],
      "id": "xRFoeL5kx0Oy"
    },
    {
      "cell_type": "code",
      "execution_count": null,
      "metadata": {
        "colab": {
          "base_uri": "https://localhost:8080/",
          "height": 423
        },
        "id": "ZinyZHv8yGMa",
        "outputId": "08a8c829-7828-40a7-ee9c-942a70e1ade3"
      },
      "outputs": [
        {
          "data": {
            "text/html": [
              "\n",
              "  <div id=\"df-da36765d-1b6c-4e20-ad4f-f877147f75b5\">\n",
              "    <div class=\"colab-df-container\">\n",
              "      <div>\n",
              "<style scoped>\n",
              "    .dataframe tbody tr th:only-of-type {\n",
              "        vertical-align: middle;\n",
              "    }\n",
              "\n",
              "    .dataframe tbody tr th {\n",
              "        vertical-align: top;\n",
              "    }\n",
              "\n",
              "    .dataframe thead th {\n",
              "        text-align: right;\n",
              "    }\n",
              "</style>\n",
              "<table border=\"1\" class=\"dataframe\">\n",
              "  <thead>\n",
              "    <tr style=\"text-align: right;\">\n",
              "      <th></th>\n",
              "      <th>id</th>\n",
              "      <th>label</th>\n",
              "    </tr>\n",
              "  </thead>\n",
              "  <tbody>\n",
              "    <tr>\n",
              "      <th>0</th>\n",
              "      <td>15923</td>\n",
              "      <td>OFF</td>\n",
              "    </tr>\n",
              "    <tr>\n",
              "      <th>1</th>\n",
              "      <td>27014</td>\n",
              "      <td>NOT</td>\n",
              "    </tr>\n",
              "    <tr>\n",
              "      <th>2</th>\n",
              "      <td>30530</td>\n",
              "      <td>NOT</td>\n",
              "    </tr>\n",
              "    <tr>\n",
              "      <th>3</th>\n",
              "      <td>13876</td>\n",
              "      <td>NOT</td>\n",
              "    </tr>\n",
              "    <tr>\n",
              "      <th>4</th>\n",
              "      <td>60133</td>\n",
              "      <td>NOT</td>\n",
              "    </tr>\n",
              "    <tr>\n",
              "      <th>...</th>\n",
              "      <td>...</td>\n",
              "      <td>...</td>\n",
              "    </tr>\n",
              "    <tr>\n",
              "      <th>855</th>\n",
              "      <td>73439</td>\n",
              "      <td>NOT</td>\n",
              "    </tr>\n",
              "    <tr>\n",
              "      <th>856</th>\n",
              "      <td>25657</td>\n",
              "      <td>NOT</td>\n",
              "    </tr>\n",
              "    <tr>\n",
              "      <th>857</th>\n",
              "      <td>67018</td>\n",
              "      <td>OFF</td>\n",
              "    </tr>\n",
              "    <tr>\n",
              "      <th>858</th>\n",
              "      <td>50665</td>\n",
              "      <td>OFF</td>\n",
              "    </tr>\n",
              "    <tr>\n",
              "      <th>859</th>\n",
              "      <td>24583</td>\n",
              "      <td>NOT</td>\n",
              "    </tr>\n",
              "  </tbody>\n",
              "</table>\n",
              "<p>860 rows × 2 columns</p>\n",
              "</div>\n",
              "      <button class=\"colab-df-convert\" onclick=\"convertToInteractive('df-da36765d-1b6c-4e20-ad4f-f877147f75b5')\"\n",
              "              title=\"Convert this dataframe to an interactive table.\"\n",
              "              style=\"display:none;\">\n",
              "        \n",
              "  <svg xmlns=\"http://www.w3.org/2000/svg\" height=\"24px\"viewBox=\"0 0 24 24\"\n",
              "       width=\"24px\">\n",
              "    <path d=\"M0 0h24v24H0V0z\" fill=\"none\"/>\n",
              "    <path d=\"M18.56 5.44l.94 2.06.94-2.06 2.06-.94-2.06-.94-.94-2.06-.94 2.06-2.06.94zm-11 1L8.5 8.5l.94-2.06 2.06-.94-2.06-.94L8.5 2.5l-.94 2.06-2.06.94zm10 10l.94 2.06.94-2.06 2.06-.94-2.06-.94-.94-2.06-.94 2.06-2.06.94z\"/><path d=\"M17.41 7.96l-1.37-1.37c-.4-.4-.92-.59-1.43-.59-.52 0-1.04.2-1.43.59L10.3 9.45l-7.72 7.72c-.78.78-.78 2.05 0 2.83L4 21.41c.39.39.9.59 1.41.59.51 0 1.02-.2 1.41-.59l7.78-7.78 2.81-2.81c.8-.78.8-2.07 0-2.86zM5.41 20L4 18.59l7.72-7.72 1.47 1.35L5.41 20z\"/>\n",
              "  </svg>\n",
              "      </button>\n",
              "      \n",
              "  <style>\n",
              "    .colab-df-container {\n",
              "      display:flex;\n",
              "      flex-wrap:wrap;\n",
              "      gap: 12px;\n",
              "    }\n",
              "\n",
              "    .colab-df-convert {\n",
              "      background-color: #E8F0FE;\n",
              "      border: none;\n",
              "      border-radius: 50%;\n",
              "      cursor: pointer;\n",
              "      display: none;\n",
              "      fill: #1967D2;\n",
              "      height: 32px;\n",
              "      padding: 0 0 0 0;\n",
              "      width: 32px;\n",
              "    }\n",
              "\n",
              "    .colab-df-convert:hover {\n",
              "      background-color: #E2EBFA;\n",
              "      box-shadow: 0px 1px 2px rgba(60, 64, 67, 0.3), 0px 1px 3px 1px rgba(60, 64, 67, 0.15);\n",
              "      fill: #174EA6;\n",
              "    }\n",
              "\n",
              "    [theme=dark] .colab-df-convert {\n",
              "      background-color: #3B4455;\n",
              "      fill: #D2E3FC;\n",
              "    }\n",
              "\n",
              "    [theme=dark] .colab-df-convert:hover {\n",
              "      background-color: #434B5C;\n",
              "      box-shadow: 0px 1px 3px 1px rgba(0, 0, 0, 0.15);\n",
              "      filter: drop-shadow(0px 1px 2px rgba(0, 0, 0, 0.3));\n",
              "      fill: #FFFFFF;\n",
              "    }\n",
              "  </style>\n",
              "\n",
              "      <script>\n",
              "        const buttonEl =\n",
              "          document.querySelector('#df-da36765d-1b6c-4e20-ad4f-f877147f75b5 button.colab-df-convert');\n",
              "        buttonEl.style.display =\n",
              "          google.colab.kernel.accessAllowed ? 'block' : 'none';\n",
              "\n",
              "        async function convertToInteractive(key) {\n",
              "          const element = document.querySelector('#df-da36765d-1b6c-4e20-ad4f-f877147f75b5');\n",
              "          const dataTable =\n",
              "            await google.colab.kernel.invokeFunction('convertToInteractive',\n",
              "                                                     [key], {});\n",
              "          if (!dataTable) return;\n",
              "\n",
              "          const docLinkHtml = 'Like what you see? Visit the ' +\n",
              "            '<a target=\"_blank\" href=https://colab.research.google.com/notebooks/data_table.ipynb>data table notebook</a>'\n",
              "            + ' to learn more about interactive tables.';\n",
              "          element.innerHTML = '';\n",
              "          dataTable['output_type'] = 'display_data';\n",
              "          await google.colab.output.renderOutput(dataTable, element);\n",
              "          const docLink = document.createElement('div');\n",
              "          docLink.innerHTML = docLinkHtml;\n",
              "          element.appendChild(docLink);\n",
              "        }\n",
              "      </script>\n",
              "    </div>\n",
              "  </div>\n",
              "  "
            ],
            "text/plain": [
              "        id label\n",
              "0    15923   OFF\n",
              "1    27014   NOT\n",
              "2    30530   NOT\n",
              "3    13876   NOT\n",
              "4    60133   NOT\n",
              "..     ...   ...\n",
              "855  73439   NOT\n",
              "856  25657   NOT\n",
              "857  67018   OFF\n",
              "858  50665   OFF\n",
              "859  24583   NOT\n",
              "\n",
              "[860 rows x 2 columns]"
            ]
          },
          "execution_count": 266,
          "metadata": {},
          "output_type": "execute_result"
        }
      ],
      "source": [
        "#Making a csv file with the results pasted in a dataframe \n",
        "  #with textual output and correct id's\n",
        "id = pd.DataFrame(data=df1['id'])\n",
        "predictions = pd.DataFrame(data=df1_pred)\n",
        "test_IN_traditional = pd.concat([id, predictions], axis=1)\n",
        "test_IN_traditional = test_IN_traditional.rename(columns={0:'label'})\n",
        "test_IN_traditional.label.replace({0: 'NOT', 1: 'OFF'}, inplace=True)\n",
        "test_IN_traditional"
      ],
      "id": "ZinyZHv8yGMa"
    },
    {
      "cell_type": "code",
      "execution_count": null,
      "metadata": {
        "id": "9-MW21soBeTx"
      },
      "outputs": [],
      "source": [
        "test_IN_traditional.to_csv(r'drive/MyDrive/NLP2022/NLP_Project/test_IN_traditional_StillProcessing.csv', index = False)"
      ],
      "id": "9-MW21soBeTx"
    },
    {
      "cell_type": "markdown",
      "metadata": {
        "id": "sJzquSBqxQ6y"
      },
      "source": [
        "##### Test_OUT1"
      ],
      "id": "sJzquSBqxQ6y"
    },
    {
      "cell_type": "code",
      "execution_count": null,
      "metadata": {
        "id": "Q37SijTzx0la"
      },
      "outputs": [],
      "source": [
        "#Making predictions by use of the trained ensemble model\n",
        "df2_pred = eclf.predict(X_test2)"
      ],
      "id": "Q37SijTzx0la"
    },
    {
      "cell_type": "code",
      "execution_count": null,
      "metadata": {
        "colab": {
          "base_uri": "https://localhost:8080/",
          "height": 423
        },
        "id": "thPUp1V9yFmC",
        "outputId": "966441c1-590a-4ccc-8d70-f0915e5b8317"
      },
      "outputs": [
        {
          "data": {
            "text/html": [
              "\n",
              "  <div id=\"df-65d5a8c5-d54f-461e-becb-6d9c4fad1193\">\n",
              "    <div class=\"colab-df-container\">\n",
              "      <div>\n",
              "<style scoped>\n",
              "    .dataframe tbody tr th:only-of-type {\n",
              "        vertical-align: middle;\n",
              "    }\n",
              "\n",
              "    .dataframe tbody tr th {\n",
              "        vertical-align: top;\n",
              "    }\n",
              "\n",
              "    .dataframe thead th {\n",
              "        text-align: right;\n",
              "    }\n",
              "</style>\n",
              "<table border=\"1\" class=\"dataframe\">\n",
              "  <thead>\n",
              "    <tr style=\"text-align: right;\">\n",
              "      <th></th>\n",
              "      <th>id</th>\n",
              "      <th>label</th>\n",
              "    </tr>\n",
              "  </thead>\n",
              "  <tbody>\n",
              "    <tr>\n",
              "      <th>0</th>\n",
              "      <td>37</td>\n",
              "      <td>NOT</td>\n",
              "    </tr>\n",
              "    <tr>\n",
              "      <th>1</th>\n",
              "      <td>127</td>\n",
              "      <td>OFF</td>\n",
              "    </tr>\n",
              "    <tr>\n",
              "      <th>2</th>\n",
              "      <td>143</td>\n",
              "      <td>OFF</td>\n",
              "    </tr>\n",
              "    <tr>\n",
              "      <th>3</th>\n",
              "      <td>146</td>\n",
              "      <td>OFF</td>\n",
              "    </tr>\n",
              "    <tr>\n",
              "      <th>4</th>\n",
              "      <td>186</td>\n",
              "      <td>OFF</td>\n",
              "    </tr>\n",
              "    <tr>\n",
              "      <th>...</th>\n",
              "      <td>...</td>\n",
              "      <td>...</td>\n",
              "    </tr>\n",
              "    <tr>\n",
              "      <th>1202</th>\n",
              "      <td>5970</td>\n",
              "      <td>NOT</td>\n",
              "    </tr>\n",
              "    <tr>\n",
              "      <th>1203</th>\n",
              "      <td>5979</td>\n",
              "      <td>OFF</td>\n",
              "    </tr>\n",
              "    <tr>\n",
              "      <th>1204</th>\n",
              "      <td>5984</td>\n",
              "      <td>NOT</td>\n",
              "    </tr>\n",
              "    <tr>\n",
              "      <th>1205</th>\n",
              "      <td>5992</td>\n",
              "      <td>NOT</td>\n",
              "    </tr>\n",
              "    <tr>\n",
              "      <th>1206</th>\n",
              "      <td>5996</td>\n",
              "      <td>OFF</td>\n",
              "    </tr>\n",
              "  </tbody>\n",
              "</table>\n",
              "<p>1207 rows × 2 columns</p>\n",
              "</div>\n",
              "      <button class=\"colab-df-convert\" onclick=\"convertToInteractive('df-65d5a8c5-d54f-461e-becb-6d9c4fad1193')\"\n",
              "              title=\"Convert this dataframe to an interactive table.\"\n",
              "              style=\"display:none;\">\n",
              "        \n",
              "  <svg xmlns=\"http://www.w3.org/2000/svg\" height=\"24px\"viewBox=\"0 0 24 24\"\n",
              "       width=\"24px\">\n",
              "    <path d=\"M0 0h24v24H0V0z\" fill=\"none\"/>\n",
              "    <path d=\"M18.56 5.44l.94 2.06.94-2.06 2.06-.94-2.06-.94-.94-2.06-.94 2.06-2.06.94zm-11 1L8.5 8.5l.94-2.06 2.06-.94-2.06-.94L8.5 2.5l-.94 2.06-2.06.94zm10 10l.94 2.06.94-2.06 2.06-.94-2.06-.94-.94-2.06-.94 2.06-2.06.94z\"/><path d=\"M17.41 7.96l-1.37-1.37c-.4-.4-.92-.59-1.43-.59-.52 0-1.04.2-1.43.59L10.3 9.45l-7.72 7.72c-.78.78-.78 2.05 0 2.83L4 21.41c.39.39.9.59 1.41.59.51 0 1.02-.2 1.41-.59l7.78-7.78 2.81-2.81c.8-.78.8-2.07 0-2.86zM5.41 20L4 18.59l7.72-7.72 1.47 1.35L5.41 20z\"/>\n",
              "  </svg>\n",
              "      </button>\n",
              "      \n",
              "  <style>\n",
              "    .colab-df-container {\n",
              "      display:flex;\n",
              "      flex-wrap:wrap;\n",
              "      gap: 12px;\n",
              "    }\n",
              "\n",
              "    .colab-df-convert {\n",
              "      background-color: #E8F0FE;\n",
              "      border: none;\n",
              "      border-radius: 50%;\n",
              "      cursor: pointer;\n",
              "      display: none;\n",
              "      fill: #1967D2;\n",
              "      height: 32px;\n",
              "      padding: 0 0 0 0;\n",
              "      width: 32px;\n",
              "    }\n",
              "\n",
              "    .colab-df-convert:hover {\n",
              "      background-color: #E2EBFA;\n",
              "      box-shadow: 0px 1px 2px rgba(60, 64, 67, 0.3), 0px 1px 3px 1px rgba(60, 64, 67, 0.15);\n",
              "      fill: #174EA6;\n",
              "    }\n",
              "\n",
              "    [theme=dark] .colab-df-convert {\n",
              "      background-color: #3B4455;\n",
              "      fill: #D2E3FC;\n",
              "    }\n",
              "\n",
              "    [theme=dark] .colab-df-convert:hover {\n",
              "      background-color: #434B5C;\n",
              "      box-shadow: 0px 1px 3px 1px rgba(0, 0, 0, 0.15);\n",
              "      filter: drop-shadow(0px 1px 2px rgba(0, 0, 0, 0.3));\n",
              "      fill: #FFFFFF;\n",
              "    }\n",
              "  </style>\n",
              "\n",
              "      <script>\n",
              "        const buttonEl =\n",
              "          document.querySelector('#df-65d5a8c5-d54f-461e-becb-6d9c4fad1193 button.colab-df-convert');\n",
              "        buttonEl.style.display =\n",
              "          google.colab.kernel.accessAllowed ? 'block' : 'none';\n",
              "\n",
              "        async function convertToInteractive(key) {\n",
              "          const element = document.querySelector('#df-65d5a8c5-d54f-461e-becb-6d9c4fad1193');\n",
              "          const dataTable =\n",
              "            await google.colab.kernel.invokeFunction('convertToInteractive',\n",
              "                                                     [key], {});\n",
              "          if (!dataTable) return;\n",
              "\n",
              "          const docLinkHtml = 'Like what you see? Visit the ' +\n",
              "            '<a target=\"_blank\" href=https://colab.research.google.com/notebooks/data_table.ipynb>data table notebook</a>'\n",
              "            + ' to learn more about interactive tables.';\n",
              "          element.innerHTML = '';\n",
              "          dataTable['output_type'] = 'display_data';\n",
              "          await google.colab.output.renderOutput(dataTable, element);\n",
              "          const docLink = document.createElement('div');\n",
              "          docLink.innerHTML = docLinkHtml;\n",
              "          element.appendChild(docLink);\n",
              "        }\n",
              "      </script>\n",
              "    </div>\n",
              "  </div>\n",
              "  "
            ],
            "text/plain": [
              "        id label\n",
              "0       37   NOT\n",
              "1      127   OFF\n",
              "2      143   OFF\n",
              "3      146   OFF\n",
              "4      186   OFF\n",
              "...    ...   ...\n",
              "1202  5970   NOT\n",
              "1203  5979   OFF\n",
              "1204  5984   NOT\n",
              "1205  5992   NOT\n",
              "1206  5996   OFF\n",
              "\n",
              "[1207 rows x 2 columns]"
            ]
          },
          "execution_count": 267,
          "metadata": {},
          "output_type": "execute_result"
        }
      ],
      "source": [
        "#Making a csv file with the results pasted in a dataframe \n",
        "  #with textual output and correct id's\n",
        "id = pd.DataFrame(data=df2['id'])\n",
        "predictions = pd.DataFrame(data=df2_pred)\n",
        "test_OUT1_traditional = pd.concat([id, predictions], axis=1)\n",
        "test_OUT1_traditional = test_OUT1_traditional.rename(columns={0:'label'})\n",
        "test_OUT1_traditional.label.replace({0: 'NOT', 1: 'OFF'}, inplace=True)\n",
        "test_OUT1_traditional"
      ],
      "id": "thPUp1V9yFmC"
    },
    {
      "cell_type": "code",
      "execution_count": null,
      "metadata": {
        "id": "4pq_8R5dBM-q"
      },
      "outputs": [],
      "source": [
        "test_OUT1_traditional.to_csv(r'drive/MyDrive/NLP2022/NLP_Project/test_OUT1_traditional_StillProcessing.csv', index = False)"
      ],
      "id": "4pq_8R5dBM-q"
    },
    {
      "cell_type": "markdown",
      "metadata": {
        "id": "RTxDw060xayi"
      },
      "source": [
        "##### Test_OUT2"
      ],
      "id": "RTxDw060xayi"
    },
    {
      "cell_type": "code",
      "execution_count": null,
      "metadata": {
        "id": "Jc6M-1F9x01y"
      },
      "outputs": [],
      "source": [
        "#Making predictions by use of the trained ensemble model\n",
        "df3_pred = eclf.predict(X_test3)"
      ],
      "id": "Jc6M-1F9x01y"
    },
    {
      "cell_type": "code",
      "execution_count": null,
      "metadata": {
        "colab": {
          "base_uri": "https://localhost:8080/",
          "height": 423
        },
        "id": "7TbSJbzlyFCb",
        "outputId": "640a5f9a-5d02-437a-b4eb-ad98e82d99f5"
      },
      "outputs": [
        {
          "data": {
            "text/html": [
              "\n",
              "  <div id=\"df-a196b55b-5546-43b7-8cd7-3053761d112f\">\n",
              "    <div class=\"colab-df-container\">\n",
              "      <div>\n",
              "<style scoped>\n",
              "    .dataframe tbody tr th:only-of-type {\n",
              "        vertical-align: middle;\n",
              "    }\n",
              "\n",
              "    .dataframe tbody tr th {\n",
              "        vertical-align: top;\n",
              "    }\n",
              "\n",
              "    .dataframe thead th {\n",
              "        text-align: right;\n",
              "    }\n",
              "</style>\n",
              "<table border=\"1\" class=\"dataframe\">\n",
              "  <thead>\n",
              "    <tr style=\"text-align: right;\">\n",
              "      <th></th>\n",
              "      <th>id</th>\n",
              "      <th>label</th>\n",
              "    </tr>\n",
              "  </thead>\n",
              "  <tbody>\n",
              "    <tr>\n",
              "      <th>0</th>\n",
              "      <td>0072b9c3697ab8cc</td>\n",
              "      <td>OFF</td>\n",
              "    </tr>\n",
              "    <tr>\n",
              "      <th>1</th>\n",
              "      <td>0081b14d79f54b31</td>\n",
              "      <td>OFF</td>\n",
              "    </tr>\n",
              "    <tr>\n",
              "      <th>2</th>\n",
              "      <td>008eb47c4684d190</td>\n",
              "      <td>OFF</td>\n",
              "    </tr>\n",
              "    <tr>\n",
              "      <th>3</th>\n",
              "      <td>010c2a979fab2e3f</td>\n",
              "      <td>OFF</td>\n",
              "    </tr>\n",
              "    <tr>\n",
              "      <th>4</th>\n",
              "      <td>01680b05bde74236</td>\n",
              "      <td>NOT</td>\n",
              "    </tr>\n",
              "    <tr>\n",
              "      <th>...</th>\n",
              "      <td>...</td>\n",
              "      <td>...</td>\n",
              "    </tr>\n",
              "    <tr>\n",
              "      <th>1195</th>\n",
              "      <td>fe8526d5cbf136f6</td>\n",
              "      <td>NOT</td>\n",
              "    </tr>\n",
              "    <tr>\n",
              "      <th>1196</th>\n",
              "      <td>fe8681eebde369dd</td>\n",
              "      <td>OFF</td>\n",
              "    </tr>\n",
              "    <tr>\n",
              "      <th>1197</th>\n",
              "      <td>fe93a5366ca20f0d</td>\n",
              "      <td>OFF</td>\n",
              "    </tr>\n",
              "    <tr>\n",
              "      <th>1198</th>\n",
              "      <td>feb077f9e6ae0700</td>\n",
              "      <td>NOT</td>\n",
              "    </tr>\n",
              "    <tr>\n",
              "      <th>1199</th>\n",
              "      <td>fedeb5e8bca43d5b</td>\n",
              "      <td>NOT</td>\n",
              "    </tr>\n",
              "  </tbody>\n",
              "</table>\n",
              "<p>1200 rows × 2 columns</p>\n",
              "</div>\n",
              "      <button class=\"colab-df-convert\" onclick=\"convertToInteractive('df-a196b55b-5546-43b7-8cd7-3053761d112f')\"\n",
              "              title=\"Convert this dataframe to an interactive table.\"\n",
              "              style=\"display:none;\">\n",
              "        \n",
              "  <svg xmlns=\"http://www.w3.org/2000/svg\" height=\"24px\"viewBox=\"0 0 24 24\"\n",
              "       width=\"24px\">\n",
              "    <path d=\"M0 0h24v24H0V0z\" fill=\"none\"/>\n",
              "    <path d=\"M18.56 5.44l.94 2.06.94-2.06 2.06-.94-2.06-.94-.94-2.06-.94 2.06-2.06.94zm-11 1L8.5 8.5l.94-2.06 2.06-.94-2.06-.94L8.5 2.5l-.94 2.06-2.06.94zm10 10l.94 2.06.94-2.06 2.06-.94-2.06-.94-.94-2.06-.94 2.06-2.06.94z\"/><path d=\"M17.41 7.96l-1.37-1.37c-.4-.4-.92-.59-1.43-.59-.52 0-1.04.2-1.43.59L10.3 9.45l-7.72 7.72c-.78.78-.78 2.05 0 2.83L4 21.41c.39.39.9.59 1.41.59.51 0 1.02-.2 1.41-.59l7.78-7.78 2.81-2.81c.8-.78.8-2.07 0-2.86zM5.41 20L4 18.59l7.72-7.72 1.47 1.35L5.41 20z\"/>\n",
              "  </svg>\n",
              "      </button>\n",
              "      \n",
              "  <style>\n",
              "    .colab-df-container {\n",
              "      display:flex;\n",
              "      flex-wrap:wrap;\n",
              "      gap: 12px;\n",
              "    }\n",
              "\n",
              "    .colab-df-convert {\n",
              "      background-color: #E8F0FE;\n",
              "      border: none;\n",
              "      border-radius: 50%;\n",
              "      cursor: pointer;\n",
              "      display: none;\n",
              "      fill: #1967D2;\n",
              "      height: 32px;\n",
              "      padding: 0 0 0 0;\n",
              "      width: 32px;\n",
              "    }\n",
              "\n",
              "    .colab-df-convert:hover {\n",
              "      background-color: #E2EBFA;\n",
              "      box-shadow: 0px 1px 2px rgba(60, 64, 67, 0.3), 0px 1px 3px 1px rgba(60, 64, 67, 0.15);\n",
              "      fill: #174EA6;\n",
              "    }\n",
              "\n",
              "    [theme=dark] .colab-df-convert {\n",
              "      background-color: #3B4455;\n",
              "      fill: #D2E3FC;\n",
              "    }\n",
              "\n",
              "    [theme=dark] .colab-df-convert:hover {\n",
              "      background-color: #434B5C;\n",
              "      box-shadow: 0px 1px 3px 1px rgba(0, 0, 0, 0.15);\n",
              "      filter: drop-shadow(0px 1px 2px rgba(0, 0, 0, 0.3));\n",
              "      fill: #FFFFFF;\n",
              "    }\n",
              "  </style>\n",
              "\n",
              "      <script>\n",
              "        const buttonEl =\n",
              "          document.querySelector('#df-a196b55b-5546-43b7-8cd7-3053761d112f button.colab-df-convert');\n",
              "        buttonEl.style.display =\n",
              "          google.colab.kernel.accessAllowed ? 'block' : 'none';\n",
              "\n",
              "        async function convertToInteractive(key) {\n",
              "          const element = document.querySelector('#df-a196b55b-5546-43b7-8cd7-3053761d112f');\n",
              "          const dataTable =\n",
              "            await google.colab.kernel.invokeFunction('convertToInteractive',\n",
              "                                                     [key], {});\n",
              "          if (!dataTable) return;\n",
              "\n",
              "          const docLinkHtml = 'Like what you see? Visit the ' +\n",
              "            '<a target=\"_blank\" href=https://colab.research.google.com/notebooks/data_table.ipynb>data table notebook</a>'\n",
              "            + ' to learn more about interactive tables.';\n",
              "          element.innerHTML = '';\n",
              "          dataTable['output_type'] = 'display_data';\n",
              "          await google.colab.output.renderOutput(dataTable, element);\n",
              "          const docLink = document.createElement('div');\n",
              "          docLink.innerHTML = docLinkHtml;\n",
              "          element.appendChild(docLink);\n",
              "        }\n",
              "      </script>\n",
              "    </div>\n",
              "  </div>\n",
              "  "
            ],
            "text/plain": [
              "                    id label\n",
              "0     0072b9c3697ab8cc   OFF\n",
              "1     0081b14d79f54b31   OFF\n",
              "2     008eb47c4684d190   OFF\n",
              "3     010c2a979fab2e3f   OFF\n",
              "4     01680b05bde74236   NOT\n",
              "...                ...   ...\n",
              "1195  fe8526d5cbf136f6   NOT\n",
              "1196  fe8681eebde369dd   OFF\n",
              "1197  fe93a5366ca20f0d   OFF\n",
              "1198  feb077f9e6ae0700   NOT\n",
              "1199  fedeb5e8bca43d5b   NOT\n",
              "\n",
              "[1200 rows x 2 columns]"
            ]
          },
          "execution_count": 268,
          "metadata": {},
          "output_type": "execute_result"
        }
      ],
      "source": [
        "#Making a csv file with the results pasted in a dataframe \n",
        "  #with textual output and correct id's\n",
        "id = pd.DataFrame(data=df3['id'])\n",
        "predictions = pd.DataFrame(data=df3_pred)\n",
        "test_OUT2_traditional = pd.concat([id, predictions], axis=1)\n",
        "test_OUT2_traditional = test_OUT2_traditional.rename(columns={0:'label'})\n",
        "test_OUT2_traditional.label.replace({0: 'NOT', 1: 'OFF'}, inplace=True)\n",
        "test_OUT2_traditional"
      ],
      "id": "7TbSJbzlyFCb"
    },
    {
      "cell_type": "code",
      "execution_count": null,
      "metadata": {
        "id": "-Xjvk4bdA6Ve"
      },
      "outputs": [],
      "source": [
        "test_OUT2_traditional.to_csv(r'drive/MyDrive/NLP2022/NLP_Project/test_OUT2_traditional_StillProcessing.csv', index = False)"
      ],
      "id": "-Xjvk4bdA6Ve"
    },
    {
      "cell_type": "markdown",
      "metadata": {
        "id": "8YV3CqtzxRTp"
      },
      "source": [
        "##### Test_TEXTGAIN"
      ],
      "id": "8YV3CqtzxRTp"
    },
    {
      "cell_type": "code",
      "execution_count": null,
      "metadata": {
        "id": "1i9FVr3SwwCx"
      },
      "outputs": [],
      "source": [
        "#Making predictions by use of the trained ensemble model\n",
        "df4_pred = eclf.predict(X_test4)"
      ],
      "id": "1i9FVr3SwwCx"
    },
    {
      "cell_type": "code",
      "execution_count": null,
      "metadata": {
        "colab": {
          "base_uri": "https://localhost:8080/",
          "height": 423
        },
        "id": "qGVrr2wnwvA6",
        "outputId": "cb944a2a-a814-4052-b77c-14d022a6e1b2"
      },
      "outputs": [
        {
          "data": {
            "text/html": [
              "\n",
              "  <div id=\"df-4f491a15-5dff-47db-a2fd-d2de33a2952f\">\n",
              "    <div class=\"colab-df-container\">\n",
              "      <div>\n",
              "<style scoped>\n",
              "    .dataframe tbody tr th:only-of-type {\n",
              "        vertical-align: middle;\n",
              "    }\n",
              "\n",
              "    .dataframe tbody tr th {\n",
              "        vertical-align: top;\n",
              "    }\n",
              "\n",
              "    .dataframe thead th {\n",
              "        text-align: right;\n",
              "    }\n",
              "</style>\n",
              "<table border=\"1\" class=\"dataframe\">\n",
              "  <thead>\n",
              "    <tr style=\"text-align: right;\">\n",
              "      <th></th>\n",
              "      <th>id</th>\n",
              "      <th>label</th>\n",
              "    </tr>\n",
              "  </thead>\n",
              "  <tbody>\n",
              "    <tr>\n",
              "      <th>0</th>\n",
              "      <td>0</td>\n",
              "      <td>NOT</td>\n",
              "    </tr>\n",
              "    <tr>\n",
              "      <th>1</th>\n",
              "      <td>1</td>\n",
              "      <td>OFF</td>\n",
              "    </tr>\n",
              "    <tr>\n",
              "      <th>2</th>\n",
              "      <td>2</td>\n",
              "      <td>OFF</td>\n",
              "    </tr>\n",
              "    <tr>\n",
              "      <th>3</th>\n",
              "      <td>3</td>\n",
              "      <td>NOT</td>\n",
              "    </tr>\n",
              "    <tr>\n",
              "      <th>4</th>\n",
              "      <td>4</td>\n",
              "      <td>NOT</td>\n",
              "    </tr>\n",
              "    <tr>\n",
              "      <th>...</th>\n",
              "      <td>...</td>\n",
              "      <td>...</td>\n",
              "    </tr>\n",
              "    <tr>\n",
              "      <th>1271</th>\n",
              "      <td>1271</td>\n",
              "      <td>NOT</td>\n",
              "    </tr>\n",
              "    <tr>\n",
              "      <th>1272</th>\n",
              "      <td>1272</td>\n",
              "      <td>NOT</td>\n",
              "    </tr>\n",
              "    <tr>\n",
              "      <th>1273</th>\n",
              "      <td>1273</td>\n",
              "      <td>NOT</td>\n",
              "    </tr>\n",
              "    <tr>\n",
              "      <th>1274</th>\n",
              "      <td>1274</td>\n",
              "      <td>NOT</td>\n",
              "    </tr>\n",
              "    <tr>\n",
              "      <th>1275</th>\n",
              "      <td>1275</td>\n",
              "      <td>NOT</td>\n",
              "    </tr>\n",
              "  </tbody>\n",
              "</table>\n",
              "<p>1276 rows × 2 columns</p>\n",
              "</div>\n",
              "      <button class=\"colab-df-convert\" onclick=\"convertToInteractive('df-4f491a15-5dff-47db-a2fd-d2de33a2952f')\"\n",
              "              title=\"Convert this dataframe to an interactive table.\"\n",
              "              style=\"display:none;\">\n",
              "        \n",
              "  <svg xmlns=\"http://www.w3.org/2000/svg\" height=\"24px\"viewBox=\"0 0 24 24\"\n",
              "       width=\"24px\">\n",
              "    <path d=\"M0 0h24v24H0V0z\" fill=\"none\"/>\n",
              "    <path d=\"M18.56 5.44l.94 2.06.94-2.06 2.06-.94-2.06-.94-.94-2.06-.94 2.06-2.06.94zm-11 1L8.5 8.5l.94-2.06 2.06-.94-2.06-.94L8.5 2.5l-.94 2.06-2.06.94zm10 10l.94 2.06.94-2.06 2.06-.94-2.06-.94-.94-2.06-.94 2.06-2.06.94z\"/><path d=\"M17.41 7.96l-1.37-1.37c-.4-.4-.92-.59-1.43-.59-.52 0-1.04.2-1.43.59L10.3 9.45l-7.72 7.72c-.78.78-.78 2.05 0 2.83L4 21.41c.39.39.9.59 1.41.59.51 0 1.02-.2 1.41-.59l7.78-7.78 2.81-2.81c.8-.78.8-2.07 0-2.86zM5.41 20L4 18.59l7.72-7.72 1.47 1.35L5.41 20z\"/>\n",
              "  </svg>\n",
              "      </button>\n",
              "      \n",
              "  <style>\n",
              "    .colab-df-container {\n",
              "      display:flex;\n",
              "      flex-wrap:wrap;\n",
              "      gap: 12px;\n",
              "    }\n",
              "\n",
              "    .colab-df-convert {\n",
              "      background-color: #E8F0FE;\n",
              "      border: none;\n",
              "      border-radius: 50%;\n",
              "      cursor: pointer;\n",
              "      display: none;\n",
              "      fill: #1967D2;\n",
              "      height: 32px;\n",
              "      padding: 0 0 0 0;\n",
              "      width: 32px;\n",
              "    }\n",
              "\n",
              "    .colab-df-convert:hover {\n",
              "      background-color: #E2EBFA;\n",
              "      box-shadow: 0px 1px 2px rgba(60, 64, 67, 0.3), 0px 1px 3px 1px rgba(60, 64, 67, 0.15);\n",
              "      fill: #174EA6;\n",
              "    }\n",
              "\n",
              "    [theme=dark] .colab-df-convert {\n",
              "      background-color: #3B4455;\n",
              "      fill: #D2E3FC;\n",
              "    }\n",
              "\n",
              "    [theme=dark] .colab-df-convert:hover {\n",
              "      background-color: #434B5C;\n",
              "      box-shadow: 0px 1px 3px 1px rgba(0, 0, 0, 0.15);\n",
              "      filter: drop-shadow(0px 1px 2px rgba(0, 0, 0, 0.3));\n",
              "      fill: #FFFFFF;\n",
              "    }\n",
              "  </style>\n",
              "\n",
              "      <script>\n",
              "        const buttonEl =\n",
              "          document.querySelector('#df-4f491a15-5dff-47db-a2fd-d2de33a2952f button.colab-df-convert');\n",
              "        buttonEl.style.display =\n",
              "          google.colab.kernel.accessAllowed ? 'block' : 'none';\n",
              "\n",
              "        async function convertToInteractive(key) {\n",
              "          const element = document.querySelector('#df-4f491a15-5dff-47db-a2fd-d2de33a2952f');\n",
              "          const dataTable =\n",
              "            await google.colab.kernel.invokeFunction('convertToInteractive',\n",
              "                                                     [key], {});\n",
              "          if (!dataTable) return;\n",
              "\n",
              "          const docLinkHtml = 'Like what you see? Visit the ' +\n",
              "            '<a target=\"_blank\" href=https://colab.research.google.com/notebooks/data_table.ipynb>data table notebook</a>'\n",
              "            + ' to learn more about interactive tables.';\n",
              "          element.innerHTML = '';\n",
              "          dataTable['output_type'] = 'display_data';\n",
              "          await google.colab.output.renderOutput(dataTable, element);\n",
              "          const docLink = document.createElement('div');\n",
              "          docLink.innerHTML = docLinkHtml;\n",
              "          element.appendChild(docLink);\n",
              "        }\n",
              "      </script>\n",
              "    </div>\n",
              "  </div>\n",
              "  "
            ],
            "text/plain": [
              "        id label\n",
              "0        0   NOT\n",
              "1        1   OFF\n",
              "2        2   OFF\n",
              "3        3   NOT\n",
              "4        4   NOT\n",
              "...    ...   ...\n",
              "1271  1271   NOT\n",
              "1272  1272   NOT\n",
              "1273  1273   NOT\n",
              "1274  1274   NOT\n",
              "1275  1275   NOT\n",
              "\n",
              "[1276 rows x 2 columns]"
            ]
          },
          "execution_count": 270,
          "metadata": {},
          "output_type": "execute_result"
        }
      ],
      "source": [
        "#Making a csv file with the results pasted in a dataframe \n",
        "  #with textual output and correct id's\n",
        "id = pd.DataFrame(data=df4['id'])\n",
        "predictions = pd.DataFrame(data=df4_pred)\n",
        "test_TEXTGAIN_traditional = pd.concat([id, predictions], axis=1)\n",
        "test_TEXTGAIN_traditional = test_TEXTGAIN_traditional.rename(columns={0:'label'})\n",
        "test_TEXTGAIN_traditional.label.replace({0: 'NOT', 1: 'OFF'}, inplace=True)\n",
        "test_TEXTGAIN_traditional"
      ],
      "id": "qGVrr2wnwvA6"
    },
    {
      "cell_type": "code",
      "execution_count": null,
      "metadata": {
        "id": "oEZNnEoz_S_n"
      },
      "outputs": [],
      "source": [
        "test_TEXTGAIN_traditional.to_csv(r'drive/MyDrive/NLP2022/NLP_Project/test_TEXTGAIN_traditional_StillProcessing.csv', index = False)"
      ],
      "id": "oEZNnEoz_S_n"
    },
    {
      "cell_type": "markdown",
      "metadata": {
        "id": "dOwDyvbNwYvV"
      },
      "source": [
        "## Deep Learning Pipeline"
      ],
      "id": "dOwDyvbNwYvV"
    },
    {
      "cell_type": "markdown",
      "metadata": {
        "id": "cl6lSkebRMlc"
      },
      "source": [
        "### 5 RoBERTa Models"
      ],
      "id": "cl6lSkebRMlc"
    },
    {
      "cell_type": "markdown",
      "metadata": {
        "id": "lJfWY4qjPL8G"
      },
      "source": [
        "#### RoBERTa - Tweet"
      ],
      "id": "lJfWY4qjPL8G"
    },
    {
      "cell_type": "code",
      "execution_count": null,
      "metadata": {
        "id": "NQmfuPlrPL8H"
      },
      "outputs": [],
      "source": [
        "!pip install simpletransformers"
      ],
      "id": "NQmfuPlrPL8H"
    },
    {
      "cell_type": "code",
      "execution_count": null,
      "metadata": {
        "colab": {
          "base_uri": "https://localhost:8080/"
        },
        "id": "VfUa7Ty3PL8I",
        "outputId": "71e050e8-eb41-4171-a97b-12538059c435"
      },
      "outputs": [
        {
          "name": "stdout",
          "output_type": "stream",
          "text": [
            "(10592, 2) (1324, 2) (1324, 2)\n"
          ]
        }
      ],
      "source": [
        "from sklearn.model_selection import train_test_split\n",
        "\n",
        "bert_train = df[['tweet', 'subtask_a']]\n",
        "\n",
        "bert_train, bert_val = train_test_split(bert_train, shuffle=True, random_state=42, test_size=.2)\n",
        "\n",
        "print(bert_train.shape, bert_val.shape)"
      ],
      "id": "VfUa7Ty3PL8I"
    },
    {
      "cell_type": "code",
      "execution_count": null,
      "metadata": {
        "id": "udJoACqcPL8J"
      },
      "outputs": [],
      "source": [
        "from simpletransformers.classification import ClassificationModel, ClassificationArgs\n",
        "\n",
        "model_args = ClassificationArgs()\n",
        "\n",
        "model_args.overwrite_output_dir=True # overwrite existing saved models in the same directory\n",
        "model_args.labels_list=[0, 1] \n",
        "model_args.evaluate_during_training=True\n",
        "\n",
        "model_args.num_train_epochs=6\n",
        "model_args.train_batch_size=64\n",
        "model_args.learning_rate=1e-5\n",
        "model_args.max_seq_length=128\n",
        "\n",
        "model_args.use_early_stopping=True\n",
        "model_args.early_stopping_delta=0.01 # \"The improvement over best_eval_loss necessary to count as a better checkpoint\"\n",
        "model_args.early_stopping_metric='eval_loss'\n",
        "model_args.early_stopping_metric_minimize=True \n",
        "model_args.early_stopping_patience=3 \n",
        "model_args.evaluate_during_training_steps= 83 # Because each epoch will have 166 steps (83 * 2)\n",
        "\n",
        "model_args.evaluate_during_training_silent=False\n",
        "model_args.evaluate_each_epoch=False"
      ],
      "id": "udJoACqcPL8J"
    },
    {
      "cell_type": "code",
      "execution_count": null,
      "metadata": {
        "colab": {
          "base_uri": "https://localhost:8080/"
        },
        "id": "ag14CTtWPL8J",
        "outputId": "28f27dac-2625-413d-bc0b-3748cc012e29"
      },
      "outputs": [
        {
          "name": "stdout",
          "output_type": "stream",
          "text": [
            "Each epoch will have 166 steps.\n"
          ]
        }
      ],
      "source": [
        "import numpy as np\n",
        "\n",
        "steps_per_epoch = int(np.ceil(len(bert_train) / float(model_args.train_batch_size)))\n",
        "print('Each epoch will have {:,} steps.'.format(steps_per_epoch))"
      ],
      "id": "ag14CTtWPL8J"
    },
    {
      "cell_type": "code",
      "execution_count": null,
      "metadata": {
        "id": "W6HQmY4kPL8K"
      },
      "outputs": [],
      "source": [
        "model = ClassificationModel('roberta', 'roberta-base', num_labels=2, args=model_args, use_cuda=True)"
      ],
      "id": "W6HQmY4kPL8K"
    },
    {
      "cell_type": "code",
      "execution_count": null,
      "metadata": {
        "id": "HIGgb5X9PL8L"
      },
      "outputs": [],
      "source": [
        "_, history = model.train_model(bert_train, eval_df=bert_val)"
      ],
      "id": "HIGgb5X9PL8L"
    },
    {
      "cell_type": "code",
      "execution_count": null,
      "metadata": {
        "id": "XiAHBqYBPL8L"
      },
      "outputs": [],
      "source": [
        "train_loss = history['train_loss']\n",
        "eval_loss = history['eval_loss']\n",
        "plt.plot(train_loss, label='Training loss')\n",
        "plt.plot(eval_loss, label='Evaluation loss')\n",
        "plt.title('Training and evaluation loss curves')\n",
        "plt.legend()\n",
        "plt.show()"
      ],
      "id": "XiAHBqYBPL8L"
    },
    {
      "cell_type": "code",
      "execution_count": null,
      "metadata": {
        "id": "3cWCq7uYPL8M"
      },
      "outputs": [],
      "source": [
        "import pickle\n",
        "\n",
        "pickle.dump(model, open('drive/MyDrive/NLP2022/NLP_Project/models/roberta_tweet.pickle', 'wb'))"
      ],
      "id": "3cWCq7uYPL8M"
    },
    {
      "cell_type": "markdown",
      "metadata": {
        "id": "Tf2MEp8wPiJF"
      },
      "source": [
        "#### RoBERTa - Tokens Tweet"
      ],
      "id": "Tf2MEp8wPiJF"
    },
    {
      "cell_type": "code",
      "execution_count": null,
      "metadata": {
        "id": "2YYGJOMnPiJH"
      },
      "outputs": [],
      "source": [
        "!pip install simpletransformers"
      ],
      "id": "2YYGJOMnPiJH"
    },
    {
      "cell_type": "code",
      "execution_count": null,
      "metadata": {
        "colab": {
          "base_uri": "https://localhost:8080/"
        },
        "id": "DBSs9wB6PiJI",
        "outputId": "71e050e8-eb41-4171-a97b-12538059c435"
      },
      "outputs": [
        {
          "name": "stdout",
          "output_type": "stream",
          "text": [
            "(10592, 2) (1324, 2) (1324, 2)\n"
          ]
        }
      ],
      "source": [
        "from sklearn.model_selection import train_test_split\n",
        "\n",
        "bert_train = df[['tokens_twt', 'subtask_a']]\n",
        "\n",
        "bert_train, bert_val = train_test_split(bert_train, shuffle=True, random_state=42, test_size=.2)\n",
        "\n",
        "print(bert_train.shape, bert_val.shape)"
      ],
      "id": "DBSs9wB6PiJI"
    },
    {
      "cell_type": "code",
      "execution_count": null,
      "metadata": {
        "id": "LWl6ohDlPiJI"
      },
      "outputs": [],
      "source": [
        "from simpletransformers.classification import ClassificationModel, ClassificationArgs\n",
        "\n",
        "model_args = ClassificationArgs()\n",
        "\n",
        "model_args.overwrite_output_dir=True # overwrite existing saved models in the same directory\n",
        "model_args.labels_list=[0, 1] \n",
        "model_args.evaluate_during_training=True\n",
        "\n",
        "model_args.num_train_epochs=6\n",
        "model_args.train_batch_size=64\n",
        "model_args.learning_rate=1e-5\n",
        "model_args.max_seq_length=128\n",
        "\n",
        "model_args.use_early_stopping=True\n",
        "model_args.early_stopping_delta=0.01 # \"The improvement over best_eval_loss necessary to count as a better checkpoint\"\n",
        "model_args.early_stopping_metric='eval_loss'\n",
        "model_args.early_stopping_metric_minimize=True \n",
        "model_args.early_stopping_patience=3 \n",
        "model_args.evaluate_during_training_steps= 83 # Because each epoch will have 166 steps (83 * 2)\n",
        "\n",
        "model_args.evaluate_during_training_silent=False\n",
        "model_args.evaluate_each_epoch=False"
      ],
      "id": "LWl6ohDlPiJI"
    },
    {
      "cell_type": "code",
      "execution_count": null,
      "metadata": {
        "colab": {
          "base_uri": "https://localhost:8080/"
        },
        "id": "pgPYuvKkPiJJ",
        "outputId": "28f27dac-2625-413d-bc0b-3748cc012e29"
      },
      "outputs": [
        {
          "name": "stdout",
          "output_type": "stream",
          "text": [
            "Each epoch will have 166 steps.\n"
          ]
        }
      ],
      "source": [
        "import numpy as np\n",
        "\n",
        "steps_per_epoch = int(np.ceil(len(bert_train) / float(model_args.train_batch_size)))\n",
        "print('Each epoch will have {:,} steps.'.format(steps_per_epoch))"
      ],
      "id": "pgPYuvKkPiJJ"
    },
    {
      "cell_type": "code",
      "execution_count": null,
      "metadata": {
        "id": "2LowvtKaPiJK"
      },
      "outputs": [],
      "source": [
        "model = ClassificationModel('roberta', 'roberta-base', num_labels=2, args=model_args, use_cuda=True)"
      ],
      "id": "2LowvtKaPiJK"
    },
    {
      "cell_type": "code",
      "execution_count": null,
      "metadata": {
        "id": "MifjKNvSPiJK"
      },
      "outputs": [],
      "source": [
        "_, history = model.train_model(bert_train, eval_df=bert_val)"
      ],
      "id": "MifjKNvSPiJK"
    },
    {
      "cell_type": "code",
      "execution_count": null,
      "metadata": {
        "id": "MvOi-A10PiJL"
      },
      "outputs": [],
      "source": [
        "train_loss = history['train_loss']\n",
        "eval_loss = history['eval_loss']\n",
        "plt.plot(train_loss, label='Training loss')\n",
        "plt.plot(eval_loss, label='Evaluation loss')\n",
        "plt.title('Training and evaluation loss curves')\n",
        "plt.legend()\n",
        "plt.show()"
      ],
      "id": "MvOi-A10PiJL"
    },
    {
      "cell_type": "code",
      "execution_count": null,
      "metadata": {
        "id": "LpJ828XxPiJL"
      },
      "outputs": [],
      "source": [
        "import pickle\n",
        "\n",
        "pickle.dump(model, open('drive/MyDrive/NLP2022/NLP_Project/models/roberta_tokens_tweet.pickle', 'wb'))"
      ],
      "id": "LpJ828XxPiJL"
    },
    {
      "cell_type": "markdown",
      "metadata": {
        "id": "hxNrCm790VBY"
      },
      "source": [
        "#### RoBERTa - Tokens Demojize"
      ],
      "id": "hxNrCm790VBY"
    },
    {
      "cell_type": "code",
      "execution_count": null,
      "metadata": {
        "id": "w7P4TeDE0VBd"
      },
      "outputs": [],
      "source": [
        "!pip install simpletransformers"
      ],
      "id": "w7P4TeDE0VBd"
    },
    {
      "cell_type": "code",
      "execution_count": null,
      "metadata": {
        "colab": {
          "base_uri": "https://localhost:8080/"
        },
        "id": "oESinLzj0VBh",
        "outputId": "71e050e8-eb41-4171-a97b-12538059c435"
      },
      "outputs": [
        {
          "name": "stdout",
          "output_type": "stream",
          "text": [
            "(10592, 2) (1324, 2) (1324, 2)\n"
          ]
        }
      ],
      "source": [
        "from sklearn.model_selection import train_test_split\n",
        "\n",
        "bert_train = df[['tokens', 'subtask_a']]\n",
        "\n",
        "bert_train, bert_val = train_test_split(bert_train, shuffle=True, random_state=42, test_size=.2)\n",
        "\n",
        "print(bert_train.shape, bert_val.shape)"
      ],
      "id": "oESinLzj0VBh"
    },
    {
      "cell_type": "code",
      "execution_count": null,
      "metadata": {
        "id": "zOBOm0410VBm"
      },
      "outputs": [],
      "source": [
        "from simpletransformers.classification import ClassificationModel, ClassificationArgs\n",
        "\n",
        "model_args = ClassificationArgs()\n",
        "\n",
        "model_args.overwrite_output_dir=True # overwrite existing saved models in the same directory\n",
        "model_args.labels_list=[0, 1] \n",
        "model_args.evaluate_during_training=True\n",
        "\n",
        "model_args.num_train_epochs=6\n",
        "model_args.train_batch_size=64\n",
        "model_args.learning_rate=1e-5\n",
        "model_args.max_seq_length=128\n",
        "\n",
        "model_args.use_early_stopping=True\n",
        "model_args.early_stopping_delta=0.01 # \"The improvement over best_eval_loss necessary to count as a better checkpoint\"\n",
        "model_args.early_stopping_metric='eval_loss'\n",
        "model_args.early_stopping_metric_minimize=True \n",
        "model_args.early_stopping_patience=3 \n",
        "model_args.evaluate_during_training_steps= 83 # Because each epoch will have 166 steps (83 * 2)\n",
        "\n",
        "model_args.evaluate_during_training_silent=False\n",
        "model_args.evaluate_each_epoch=False"
      ],
      "id": "zOBOm0410VBm"
    },
    {
      "cell_type": "code",
      "execution_count": null,
      "metadata": {
        "colab": {
          "base_uri": "https://localhost:8080/"
        },
        "id": "u43L5zrr0VBq",
        "outputId": "28f27dac-2625-413d-bc0b-3748cc012e29"
      },
      "outputs": [
        {
          "name": "stdout",
          "output_type": "stream",
          "text": [
            "Each epoch will have 166 steps.\n"
          ]
        }
      ],
      "source": [
        "import numpy as np\n",
        "\n",
        "steps_per_epoch = int(np.ceil(len(bert_train) / float(model_args.train_batch_size)))\n",
        "print('Each epoch will have {:,} steps.'.format(steps_per_epoch))"
      ],
      "id": "u43L5zrr0VBq"
    },
    {
      "cell_type": "code",
      "execution_count": null,
      "metadata": {
        "id": "e82C97S_0VBt"
      },
      "outputs": [],
      "source": [
        "model = ClassificationModel('roberta', 'roberta-base', num_labels=2, args=model_args, use_cuda=True)"
      ],
      "id": "e82C97S_0VBt"
    },
    {
      "cell_type": "code",
      "execution_count": null,
      "metadata": {
        "id": "eUovfC_70VBw"
      },
      "outputs": [],
      "source": [
        "_, history = model.train_model(bert_train, eval_df=bert_val)"
      ],
      "id": "eUovfC_70VBw"
    },
    {
      "cell_type": "code",
      "execution_count": null,
      "metadata": {
        "id": "_5pQMQhM0VBz"
      },
      "outputs": [],
      "source": [
        "train_loss = history['train_loss']\n",
        "eval_loss = history['eval_loss']\n",
        "plt.plot(train_loss, label='Training loss')\n",
        "plt.plot(eval_loss, label='Evaluation loss')\n",
        "plt.title('Training and evaluation loss curves')\n",
        "plt.legend()\n",
        "plt.show()"
      ],
      "id": "_5pQMQhM0VBz"
    },
    {
      "cell_type": "code",
      "execution_count": null,
      "metadata": {
        "id": "T_jVRcFH0VB2"
      },
      "outputs": [],
      "source": [
        "import pickle\n",
        "\n",
        "pickle.dump(model, open('drive/MyDrive/NLP2022/NLP_Project/models/roberta_tokens_demojize.pickle', 'wb'))"
      ],
      "id": "T_jVRcFH0VB2"
    },
    {
      "cell_type": "markdown",
      "metadata": {
        "id": "8BQUllSdQGPJ"
      },
      "source": [
        "#### RoBERTa - Lemma"
      ],
      "id": "8BQUllSdQGPJ"
    },
    {
      "cell_type": "code",
      "execution_count": null,
      "metadata": {
        "id": "WbhodLddQGPK"
      },
      "outputs": [],
      "source": [
        "!pip install simpletransformers"
      ],
      "id": "WbhodLddQGPK"
    },
    {
      "cell_type": "code",
      "execution_count": null,
      "metadata": {
        "colab": {
          "base_uri": "https://localhost:8080/"
        },
        "id": "akOHI0j-QGPL",
        "outputId": "71e050e8-eb41-4171-a97b-12538059c435"
      },
      "outputs": [
        {
          "name": "stdout",
          "output_type": "stream",
          "text": [
            "(10592, 2) (1324, 2) (1324, 2)\n"
          ]
        }
      ],
      "source": [
        "from sklearn.model_selection import train_test_split\n",
        "\n",
        "bert_train = df[['lemma_twt', 'subtask_a']]\n",
        "\n",
        "bert_train, bert_val = train_test_split(bert_train, shuffle=True, random_state=42, test_size=.2)\n",
        "\n",
        "print(bert_train.shape, bert_val.shape)"
      ],
      "id": "akOHI0j-QGPL"
    },
    {
      "cell_type": "code",
      "execution_count": null,
      "metadata": {
        "id": "Bau8hQSXQGPM"
      },
      "outputs": [],
      "source": [
        "from simpletransformers.classification import ClassificationModel, ClassificationArgs\n",
        "\n",
        "model_args = ClassificationArgs()\n",
        "\n",
        "model_args.overwrite_output_dir=True # overwrite existing saved models in the same directory\n",
        "model_args.labels_list=[0, 1] \n",
        "model_args.evaluate_during_training=True\n",
        "\n",
        "model_args.num_train_epochs=6\n",
        "model_args.train_batch_size=64\n",
        "model_args.learning_rate=1e-5\n",
        "model_args.max_seq_length=128\n",
        "\n",
        "model_args.use_early_stopping=True\n",
        "model_args.early_stopping_delta=0.01 # \"The improvement over best_eval_loss necessary to count as a better checkpoint\"\n",
        "model_args.early_stopping_metric='eval_loss'\n",
        "model_args.early_stopping_metric_minimize=True \n",
        "model_args.early_stopping_patience=3 \n",
        "model_args.evaluate_during_training_steps= 83 # Because each epoch will have 166 steps (83 * 2)\n",
        "\n",
        "model_args.evaluate_during_training_silent=False\n",
        "model_args.evaluate_each_epoch=False"
      ],
      "id": "Bau8hQSXQGPM"
    },
    {
      "cell_type": "code",
      "execution_count": null,
      "metadata": {
        "colab": {
          "base_uri": "https://localhost:8080/"
        },
        "id": "bociCOUxQGPM",
        "outputId": "28f27dac-2625-413d-bc0b-3748cc012e29"
      },
      "outputs": [
        {
          "name": "stdout",
          "output_type": "stream",
          "text": [
            "Each epoch will have 166 steps.\n"
          ]
        }
      ],
      "source": [
        "import numpy as np\n",
        "\n",
        "steps_per_epoch = int(np.ceil(len(bert_train) / float(model_args.train_batch_size)))\n",
        "print('Each epoch will have {:,} steps.'.format(steps_per_epoch))"
      ],
      "id": "bociCOUxQGPM"
    },
    {
      "cell_type": "code",
      "execution_count": null,
      "metadata": {
        "id": "Vn9ZAwW7QGPN"
      },
      "outputs": [],
      "source": [
        "model = ClassificationModel('roberta', 'roberta-base', num_labels=2, args=model_args, use_cuda=True)"
      ],
      "id": "Vn9ZAwW7QGPN"
    },
    {
      "cell_type": "code",
      "execution_count": null,
      "metadata": {
        "id": "IC7W6lk5QGPN"
      },
      "outputs": [],
      "source": [
        "_, history = model.train_model(bert_train, eval_df=bert_val)"
      ],
      "id": "IC7W6lk5QGPN"
    },
    {
      "cell_type": "code",
      "execution_count": null,
      "metadata": {
        "id": "CVjYaI0NQGPO"
      },
      "outputs": [],
      "source": [
        "train_loss = history['train_loss']\n",
        "eval_loss = history['eval_loss']\n",
        "plt.plot(train_loss, label='Training loss')\n",
        "plt.plot(eval_loss, label='Evaluation loss')\n",
        "plt.title('Training and evaluation loss curves')\n",
        "plt.legend()\n",
        "plt.show()"
      ],
      "id": "CVjYaI0NQGPO"
    },
    {
      "cell_type": "code",
      "execution_count": null,
      "metadata": {
        "id": "4imSPOa3QGPO"
      },
      "outputs": [],
      "source": [
        "import pickle\n",
        "\n",
        "pickle.dump(model, open('drive/MyDrive/NLP2022/NLP_Project/models/roberta_lemma.pickle', 'wb'))"
      ],
      "id": "4imSPOa3QGPO"
    },
    {
      "cell_type": "markdown",
      "metadata": {
        "id": "9RGQKCzRQd2r"
      },
      "source": [
        "#### RoBERTa - No Hashtags Tweet"
      ],
      "id": "9RGQKCzRQd2r"
    },
    {
      "cell_type": "code",
      "execution_count": null,
      "metadata": {
        "id": "jhekZygkQd2s"
      },
      "outputs": [],
      "source": [
        "!pip install simpletransformers"
      ],
      "id": "jhekZygkQd2s"
    },
    {
      "cell_type": "code",
      "execution_count": null,
      "metadata": {
        "colab": {
          "base_uri": "https://localhost:8080/"
        },
        "id": "gcReYAsmQd2t",
        "outputId": "71e050e8-eb41-4171-a97b-12538059c435"
      },
      "outputs": [
        {
          "name": "stdout",
          "output_type": "stream",
          "text": [
            "(10592, 2) (1324, 2) (1324, 2)\n"
          ]
        }
      ],
      "source": [
        "from sklearn.model_selection import train_test_split\n",
        "\n",
        "bert_train = df[['hashtag_gone2_twt', 'subtask_a']]\n",
        "\n",
        "bert_train, bert_val = train_test_split(bert_train, shuffle=True, random_state=42, test_size=.2)\n",
        "\n",
        "print(bert_train.shape, bert_val.shape)"
      ],
      "id": "gcReYAsmQd2t"
    },
    {
      "cell_type": "code",
      "execution_count": null,
      "metadata": {
        "id": "1FLa4rvDQd2u"
      },
      "outputs": [],
      "source": [
        "from simpletransformers.classification import ClassificationModel, ClassificationArgs\n",
        "\n",
        "model_args = ClassificationArgs()\n",
        "\n",
        "model_args.overwrite_output_dir=True # overwrite existing saved models in the same directory\n",
        "model_args.labels_list=[0, 1] \n",
        "model_args.evaluate_during_training=True\n",
        "\n",
        "model_args.num_train_epochs=6\n",
        "model_args.train_batch_size=64\n",
        "model_args.learning_rate=1e-5\n",
        "model_args.max_seq_length=128\n",
        "\n",
        "model_args.use_early_stopping=True\n",
        "model_args.early_stopping_delta=0.01 # \"The improvement over best_eval_loss necessary to count as a better checkpoint\"\n",
        "model_args.early_stopping_metric='eval_loss'\n",
        "model_args.early_stopping_metric_minimize=True \n",
        "model_args.early_stopping_patience=3 \n",
        "model_args.evaluate_during_training_steps= 83 # Because each epoch will have 166 steps (83 * 2)\n",
        "\n",
        "model_args.evaluate_during_training_silent=False\n",
        "model_args.evaluate_each_epoch=False"
      ],
      "id": "1FLa4rvDQd2u"
    },
    {
      "cell_type": "code",
      "execution_count": null,
      "metadata": {
        "colab": {
          "base_uri": "https://localhost:8080/"
        },
        "id": "e8nTL5VGQd2v",
        "outputId": "28f27dac-2625-413d-bc0b-3748cc012e29"
      },
      "outputs": [
        {
          "name": "stdout",
          "output_type": "stream",
          "text": [
            "Each epoch will have 166 steps.\n"
          ]
        }
      ],
      "source": [
        "import numpy as np\n",
        "\n",
        "steps_per_epoch = int(np.ceil(len(bert_train) / float(model_args.train_batch_size)))\n",
        "print('Each epoch will have {:,} steps.'.format(steps_per_epoch))"
      ],
      "id": "e8nTL5VGQd2v"
    },
    {
      "cell_type": "code",
      "execution_count": null,
      "metadata": {
        "id": "CCSxJJTWQd2v"
      },
      "outputs": [],
      "source": [
        "model = ClassificationModel('roberta', 'roberta-base', num_labels=2, args=model_args, use_cuda=True)"
      ],
      "id": "CCSxJJTWQd2v"
    },
    {
      "cell_type": "code",
      "execution_count": null,
      "metadata": {
        "id": "wjXnmnmdQd2v"
      },
      "outputs": [],
      "source": [
        "_, history = model.train_model(bert_train, eval_df=bert_val)"
      ],
      "id": "wjXnmnmdQd2v"
    },
    {
      "cell_type": "code",
      "execution_count": null,
      "metadata": {
        "id": "YpLrlCknQd2v"
      },
      "outputs": [],
      "source": [
        "train_loss = history['train_loss']\n",
        "eval_loss = history['eval_loss']\n",
        "plt.plot(train_loss, label='Training loss')\n",
        "plt.plot(eval_loss, label='Evaluation loss')\n",
        "plt.title('Training and evaluation loss curves')\n",
        "plt.legend()\n",
        "plt.show()"
      ],
      "id": "YpLrlCknQd2v"
    },
    {
      "cell_type": "code",
      "execution_count": null,
      "metadata": {
        "id": "gZEqkKvpQd2w"
      },
      "outputs": [],
      "source": [
        "import pickle\n",
        "\n",
        "pickle.dump(model, open('drive/MyDrive/NLP2022/NLP_Project/models/roberta_hashtag_tweet.pickle', 'wb'))"
      ],
      "id": "gZEqkKvpQd2w"
    },
    {
      "cell_type": "markdown",
      "metadata": {
        "id": "rcWXmXyVTTh6"
      },
      "source": [
        "### Majority Vote"
      ],
      "id": "rcWXmXyVTTh6"
    },
    {
      "cell_type": "markdown",
      "metadata": {
        "id": "08A2JPMcT6zG"
      },
      "source": [
        "#### Load Models"
      ],
      "id": "08A2JPMcT6zG"
    },
    {
      "cell_type": "code",
      "execution_count": null,
      "metadata": {
        "id": "4VPT4h67Takt"
      },
      "outputs": [],
      "source": [
        "!pip install simpletransformers"
      ],
      "id": "4VPT4h67Takt"
    },
    {
      "cell_type": "code",
      "execution_count": null,
      "metadata": {
        "id": "QwNq9iynUCY2"
      },
      "outputs": [],
      "source": [
        "import pickle\n",
        "\n",
        "from simpletransformers.classification import ClassificationModel, ClassificationArgs\n",
        "from sklearn.model_selection import train_test_split"
      ],
      "id": "QwNq9iynUCY2"
    },
    {
      "cell_type": "code",
      "execution_count": null,
      "metadata": {
        "id": "Dw8EvvXPUENK"
      },
      "outputs": [],
      "source": [
        "model1 = pickle.load(open('drive/MyDrive/NLP2022/NLP_Project/models/roberta_tweet.pickle', 'rb'))\n",
        "model2 = pickle.load(open('drive/MyDrive/NLP2022/NLP_Project/models/roberta_tokens_tweet.pickle', 'rb'))\n",
        "model3 = pickle.load(open('drive/MyDrive/NLP2022/NLP_Project/models/roberta_tokens_demojize.pickle', 'rb'))\n",
        "model4 = pickle.load(open('drive/MyDrive/NLP2022/NLP_Project/models/roberta_lemma.pickle', 'rb'))\n",
        "model5 = pickle.load(open('drive/MyDrive/NLP2022/NLP_Project/models/roberta_hashtag_tweet.pickle', 'rb'))"
      ],
      "id": "Dw8EvvXPUENK"
    },
    {
      "cell_type": "markdown",
      "metadata": {
        "id": "JIlki0xEe1zx"
      },
      "source": [
        "#### - test_IN -"
      ],
      "id": "JIlki0xEe1zx"
    },
    {
      "cell_type": "code",
      "execution_count": null,
      "metadata": {
        "id": "2qW9VLeNe1z1"
      },
      "outputs": [],
      "source": [
        "bert_test = df1\n",
        "\n",
        "predicted1, probabilities = model1.predict(bert_test['tweet'].to_list())\n",
        "bert_test['predicted1'] = predicted1\n",
        "mv_tweet = bert_test[['id', 'predicted1']]\n",
        "\n",
        "predicted2, probabilities = model2.predict((bert_test['tokens_twt'].apply(str)).to_list())\n",
        "bert_test['predicted2'] = predicted2\n",
        "mv_tokens = bert_test[['id', 'predicted2']]\n",
        "\n",
        "predicted3, probabilities = model3.predict((bert_test['tokens'].apply(str)).to_list())\n",
        "bert_test['predicted3'] = predicted3\n",
        "mv_tokens_demojize = bert_test[['id', 'predicted3']]\n",
        "\n",
        "predicted4, probabilities = model4.predict(bert_test['lemma_twt'].to_list())\n",
        "bert_test['predicted4'] = predicted4\n",
        "mv_lemma = bert_test[['id', 'predicted4']]\n",
        "\n",
        "predicted5, probabilities = model5.predict(bert_test['hashtag_gone2_twt'].to_list())\n",
        "bert_test['predicted5'] = predicted5\n",
        "mv_hashtag = bert_test[['id', 'predicted5']]"
      ],
      "id": "2qW9VLeNe1z1"
    },
    {
      "cell_type": "code",
      "execution_count": null,
      "metadata": {
        "id": "GnMdMAo1e1z7"
      },
      "outputs": [],
      "source": [
        "mv_data = []\n",
        "mv_df = pd.DataFrame(data=mv_data)"
      ],
      "id": "GnMdMAo1e1z7"
    },
    {
      "cell_type": "code",
      "execution_count": null,
      "metadata": {
        "id": "OWuHeyI9e1z-"
      },
      "outputs": [],
      "source": [
        "mv_df['twt'] = mv_tweet['predicted1'].tolist()\n",
        "mv_df['tok_tw'] = mv_tokens['predicted2'].tolist()\n",
        "mv_df['tok_d'] = mv_tokens_demojize['predicted3'].tolist()\n",
        "mv_df['lem'] = mv_lemma['predicted4'].tolist()\n",
        "mv_df['hsh'] = mv_hashtag['predicted5'].tolist()"
      ],
      "id": "OWuHeyI9e1z-"
    },
    {
      "cell_type": "code",
      "execution_count": null,
      "metadata": {
        "id": "62IeGjq4e10C"
      },
      "outputs": [],
      "source": [
        "#Sum all 1s and 0s together for each row (integers ranging between 0 and 5)\n",
        "\n",
        "mv_df['sum'] = mv_df['twt'] + mv_df['tok_tw'] + mv_df['tok_d'] + mv_df['lem'] + mv_df['hsh']"
      ],
      "id": "62IeGjq4e10C"
    },
    {
      "cell_type": "code",
      "execution_count": null,
      "metadata": {
        "id": "PMXcike6e10E"
      },
      "outputs": [],
      "source": [
        "#MAJORITY VOTE\n",
        "\n",
        "mv_df['mv'] = ''\n",
        "\n",
        "for index, row in mv_df.iterrows():\n",
        "    if row['sum'] <= 2:\n",
        "        mv_df.at[index, 'mv'] = 0     #If only two or fewer models label the input as offensive, the input is labeled as non-offensive\n",
        "    elif row['sum'] >= 3:\n",
        "        mv_df.at[index, 'mv'] = 1     #If three or more models label the input as offensive, the input is labeled as offensive"
      ],
      "id": "PMXcike6e10E"
    },
    {
      "cell_type": "code",
      "execution_count": null,
      "metadata": {
        "id": "j-rdMgLce10L"
      },
      "outputs": [],
      "source": [
        "mv_df.mv.replace({0 :'NOT', 1 : 'OFF'}, inplace=True)\n",
        "id = pd.DataFrame(data=df1['id'])\n",
        "test_output1 = pd.concat([id, mv_df['mv']], axis=1)\n",
        "test_output1.rename(columns={\"id\" : \"id\", \"mv\" : \"label\"}, inplace=True)\n",
        "test_output1"
      ],
      "id": "j-rdMgLce10L"
    },
    {
      "cell_type": "code",
      "execution_count": null,
      "metadata": {
        "id": "dSlDGXyme10P"
      },
      "outputs": [],
      "source": [
        "test_output1.to_csv(r'drive/MyDrive/NLP2022/NLP_Project/test_IN_neural.csv', index = False)"
      ],
      "id": "dSlDGXyme10P"
    },
    {
      "cell_type": "markdown",
      "metadata": {
        "id": "M5lh0KWVe4F4"
      },
      "source": [
        "#### - test_OUT1 -"
      ],
      "id": "M5lh0KWVe4F4"
    },
    {
      "cell_type": "code",
      "execution_count": null,
      "metadata": {
        "id": "3UMrWDHSe4F7"
      },
      "outputs": [],
      "source": [
        "bert_test2 = df2\n",
        "\n",
        "predicted1, probabilities = model1.predict(bert_test2['tweet'].to_list())\n",
        "bert_test2['predicted1'] = predicted1\n",
        "mv_tweet = bert_test2[['id', 'predicted1']]\n",
        "\n",
        "predicted2, probabilities = model2.predict((bert_test2['tokens_twt'].apply(str)).to_list())\n",
        "bert_test2['predicted2'] = predicted2\n",
        "mv_tokens = bert_test2[['id', 'predicted2']]\n",
        "\n",
        "predicted3, probabilities = model3.predict((bert_test2['tokens'].apply(str)).to_list())\n",
        "bert_test2['predicted3'] = predicted3\n",
        "mv_tokens_demojize = bert_test2[['id', 'predicted3']]\n",
        "\n",
        "predicted4, probabilities = model4.predict(bert_test2['lemma_twt'].to_list())\n",
        "bert_test2['predicted4'] = predicted4\n",
        "mv_lemma = bert_test2[['id', 'predicted4']]\n",
        "\n",
        "predicted5, probabilities = model5.predict(bert_test2['hashtag_gone2_twt'].to_list())\n",
        "bert_test2['predicted5'] = predicted5\n",
        "mv_hashtag = bert_test2[['id', 'predicted5']]"
      ],
      "id": "3UMrWDHSe4F7"
    },
    {
      "cell_type": "code",
      "execution_count": null,
      "metadata": {
        "id": "nY9Wm3owe4F-"
      },
      "outputs": [],
      "source": [
        "mv_data = []\n",
        "mv_df = pd.DataFrame(data=mv_data)"
      ],
      "id": "nY9Wm3owe4F-"
    },
    {
      "cell_type": "code",
      "execution_count": null,
      "metadata": {
        "id": "C4rGoE27e4F_"
      },
      "outputs": [],
      "source": [
        "mv_df['twt'] = mv_tweet['predicted1'].tolist()\n",
        "mv_df['tok_tw'] = mv_tokens['predicted2'].tolist()\n",
        "mv_df['tok_d'] = mv_tokens_demojize['predicted3'].tolist()\n",
        "mv_df['lem'] = mv_lemma['predicted4'].tolist()\n",
        "mv_df['hsh'] = mv_hashtag['predicted5'].tolist()"
      ],
      "id": "C4rGoE27e4F_"
    },
    {
      "cell_type": "code",
      "execution_count": null,
      "metadata": {
        "id": "oeFjoehle4GB"
      },
      "outputs": [],
      "source": [
        "#Sum all 1s and 0s together for each row (integers ranging between 0 and 5)\n",
        "\n",
        "mv_df['sum'] = mv_df['twt'] + mv_df['tok_tw'] + mv_df['tok_d'] + mv_df['lem'] + mv_df['hsh']"
      ],
      "id": "oeFjoehle4GB"
    },
    {
      "cell_type": "code",
      "execution_count": null,
      "metadata": {
        "id": "qIOL_ufFe4GC"
      },
      "outputs": [],
      "source": [
        "#MAJORITY VOTE\n",
        "\n",
        "mv_df['mv'] = ''\n",
        "\n",
        "for index, row in mv_df.iterrows():\n",
        "    if row['sum'] <= 2:\n",
        "        mv_df.at[index, 'mv'] = 0     #If only two or fewer models label the input as offensive, the input is labeled as non-offensive\n",
        "    elif row['sum'] >= 3:\n",
        "        mv_df.at[index, 'mv'] = 1     #If three or more models label the input as offensive, the input is labeled as offensive"
      ],
      "id": "qIOL_ufFe4GC"
    },
    {
      "cell_type": "code",
      "execution_count": null,
      "metadata": {
        "id": "4ZjcxILae4GF"
      },
      "outputs": [],
      "source": [
        "mv_df.mv.replace({0 :'NOT', 1 : 'OFF'}, inplace=True)\n",
        "id = pd.DataFrame(data=df2['id'])\n",
        "test_output1 = pd.concat([id, mv_df['mv']], axis=1)\n",
        "test_output1.rename(columns={\"id\" : \"id\", \"mv\" : \"label\"}, inplace=True)\n",
        "test_output1"
      ],
      "id": "4ZjcxILae4GF"
    },
    {
      "cell_type": "code",
      "execution_count": null,
      "metadata": {
        "id": "n7SH85bbe4GI"
      },
      "outputs": [],
      "source": [
        "test_output1.to_csv(r'drive/MyDrive/NLP2022/NLP_Project/test_OUT1_neural.csv', index = False)"
      ],
      "id": "n7SH85bbe4GI"
    },
    {
      "cell_type": "markdown",
      "metadata": {
        "id": "9H4e1LwUe4vP"
      },
      "source": [
        "#### - test_OUT2 -"
      ],
      "id": "9H4e1LwUe4vP"
    },
    {
      "cell_type": "code",
      "execution_count": null,
      "metadata": {
        "id": "jIHkqBVSe4vR"
      },
      "outputs": [],
      "source": [
        "bert_test3 = df3\n",
        "\n",
        "predicted1, probabilities = model1.predict(bert_test3['tweet'].to_list())\n",
        "bert_test3['predicted1'] = predicted1\n",
        "mv_tweet = bert_test3[['id', 'predicted1']]\n",
        "\n",
        "predicted2, probabilities = model2.predict((bert_test3['tokens_twt'].apply(str)).to_list())\n",
        "bert_test3['predicted2'] = predicted2\n",
        "mv_tokens = bert_test3[['id', 'predicted2']]\n",
        "\n",
        "predicted3, probabilities = model3.predict((bert_test3['tokens'].apply(str)).to_list())\n",
        "bert_test3['predicted3'] = predicted3\n",
        "mv_tokens_demojize = bert_test3[['id', 'predicted3']]\n",
        "\n",
        "predicted4, probabilities = model4.predict(bert_test3['lemma_twt'].to_list())\n",
        "bert_test3['predicted4'] = predicted4\n",
        "mv_lemma = bert_test3[['id', 'predicted4']]\n",
        "\n",
        "predicted5, probabilities = model5.predict(bert_test3['hashtag_gone2_twt'].to_list())\n",
        "bert_test3['predicted5'] = predicted5\n",
        "mv_hashtag = bert_test3[['id', 'predicted5']]"
      ],
      "id": "jIHkqBVSe4vR"
    },
    {
      "cell_type": "code",
      "execution_count": null,
      "metadata": {
        "id": "DBv-fDvqe4vT"
      },
      "outputs": [],
      "source": [
        "mv_data = []\n",
        "mv_df = pd.DataFrame(data=mv_data)"
      ],
      "id": "DBv-fDvqe4vT"
    },
    {
      "cell_type": "code",
      "execution_count": null,
      "metadata": {
        "id": "9oIbOaeOe4vU"
      },
      "outputs": [],
      "source": [
        "mv_df['twt'] = mv_tweet['predicted'].tolist()\n",
        "mv_df['tok_tw'] = mv_tokens['predicted'].tolist()\n",
        "mv_df['tok_d'] = mv_tokens_demojize['predicted'].tolist()\n",
        "mv_df['lem'] = mv_lemma['predicted'].tolist()\n",
        "mv_df['hsh'] = mv_hashtag['predicted'].tolist()"
      ],
      "id": "9oIbOaeOe4vU"
    },
    {
      "cell_type": "code",
      "execution_count": null,
      "metadata": {
        "id": "R_m_BEide4vV"
      },
      "outputs": [],
      "source": [
        "#Sum all 1s and 0s together for each row (integers ranging between 0 and 5)\n",
        "\n",
        "mv_df['sum'] = mv_df['twt'] + mv_df['tok_tw'] + mv_df['tok_d'] + mv_df['lem'] + mv_df['hsh']"
      ],
      "id": "R_m_BEide4vV"
    },
    {
      "cell_type": "code",
      "execution_count": null,
      "metadata": {
        "id": "E58voDzwe4vW"
      },
      "outputs": [],
      "source": [
        "#MAJORITY VOTE\n",
        "\n",
        "mv_df['mv'] = ''\n",
        "\n",
        "for index, row in mv_df.iterrows():\n",
        "    if row['sum'] <= 2:\n",
        "        mv_df.at[index, 'mv'] = 0     #If only two or fewer models label the input as offensive, the input is labeled as non-offensive\n",
        "    elif row['sum'] >= 3:\n",
        "        mv_df.at[index, 'mv'] = 1     #If three or more models label the input as offensive, the input is labeled as offensive"
      ],
      "id": "E58voDzwe4vW"
    },
    {
      "cell_type": "code",
      "execution_count": null,
      "metadata": {
        "id": "4Re2OFLJe4vZ"
      },
      "outputs": [],
      "source": [
        "mv_df.mv.replace({0 :'NOT', 1 : 'OFF'}, inplace=True)\n",
        "id = pd.DataFrame(data=df3['id'])\n",
        "test_output1 = pd.concat([id, mv_df['mv']], axis=1)\n",
        "test_output1.rename(columns={\"id\" : \"id\", \"mv\" : \"label\"}, inplace=True)\n",
        "test_output1"
      ],
      "id": "4Re2OFLJe4vZ"
    },
    {
      "cell_type": "code",
      "execution_count": null,
      "metadata": {
        "id": "iLatrLgle4va"
      },
      "outputs": [],
      "source": [
        "test_output1.to_csv(r'drive/MyDrive/NLP2022/NLP_Project/test_OUT2_neural.csv', index = False)"
      ],
      "id": "iLatrLgle4va"
    },
    {
      "cell_type": "markdown",
      "metadata": {
        "id": "-jTQltkeUaQL"
      },
      "source": [
        "#### - test_TEXTGAIN -"
      ],
      "id": "-jTQltkeUaQL"
    },
    {
      "cell_type": "code",
      "execution_count": null,
      "metadata": {
        "id": "GxoDP9vtUuCz"
      },
      "outputs": [],
      "source": [
        "bert_test4 = df4\n",
        "\n",
        "predicted1, probabilities = model1.predict(bert_test4['tweet'].to_list())\n",
        "bert_test4['predicted1'] = predicted1\n",
        "mv_tweet = bert_test4[['id', 'predicted1']]\n",
        "\n",
        "predicted2, probabilities = model2.predict((bert_test4['tokens_twt'].apply(str)).to_list())\n",
        "bert_test4['predicted2'] = predicted2\n",
        "mv_tokens = bert_test4[['id', 'predicted2']]\n",
        "\n",
        "predicted3, probabilities = model3.predict((bert_test4['tokens'].apply(str)).to_list())\n",
        "bert_test4['predicted3'] = predicted3\n",
        "mv_tokens_demojize = bert_test4[['id', 'predicted3']]\n",
        "\n",
        "predicted4, probabilities = model4.predict(bert_test4['lemma_twt'].to_list())\n",
        "bert_test4['predicted4'] = predicted4\n",
        "mv_lemma = bert_test4[['id', 'predicted4']]\n",
        "\n",
        "predicted5, probabilities = model5.predict(bert_test4['hashtag_gone2_twt'].to_list())\n",
        "bert_test4['predicted5'] = predicted5\n",
        "mv_hashtag = bert_test4[['id', 'predicted5']]"
      ],
      "id": "GxoDP9vtUuCz"
    },
    {
      "cell_type": "code",
      "execution_count": null,
      "metadata": {
        "id": "4NzsHjU4dAEo"
      },
      "outputs": [],
      "source": [
        "mv_data = []\n",
        "mv_df = pd.DataFrame(data=mv_data)"
      ],
      "id": "4NzsHjU4dAEo"
    },
    {
      "cell_type": "code",
      "execution_count": null,
      "metadata": {
        "id": "1CvsZ1yGdBCx"
      },
      "outputs": [],
      "source": [
        "mv_df['twt'] = mv_tweet['predicted1'].tolist()\n",
        "mv_df['tok_tw'] = mv_tokens['predicted2'].tolist()\n",
        "mv_df['tok_d'] = mv_tokens_demojize['predicted3'].tolist()\n",
        "mv_df['lem'] = mv_lemma['predicted4'].tolist()\n",
        "mv_df['hsh'] = mv_hashtag['predicted5'].tolist()"
      ],
      "id": "1CvsZ1yGdBCx"
    },
    {
      "cell_type": "code",
      "execution_count": null,
      "metadata": {
        "id": "vX0AwO9ddC_G"
      },
      "outputs": [],
      "source": [
        "#Sum all 1s and 0s together for each row (integers ranging between 0 and 5)\n",
        "\n",
        "mv_df['sum'] = mv_df['twt'] + mv_df['tok_tw'] + mv_df['tok_d'] + mv_df['lem'] + mv_df['hsh']"
      ],
      "id": "vX0AwO9ddC_G"
    },
    {
      "cell_type": "code",
      "execution_count": null,
      "metadata": {
        "id": "Cqj2fqDXdFEe"
      },
      "outputs": [],
      "source": [
        "#MAJORITY VOTE\n",
        "\n",
        "mv_df['mv'] = ''\n",
        "\n",
        "for index, row in mv_df.iterrows():\n",
        "    if row['sum'] <= 2:\n",
        "        mv_df.at[index, 'mv'] = 0     #If only two or fewer models label the input as offensive, the input is labeled as non-offensive\n",
        "    elif row['sum'] >= 3:\n",
        "        mv_df.at[index, 'mv'] = 1     #If three or more models label the input as offensive, the input is labeled as offensive"
      ],
      "id": "Cqj2fqDXdFEe"
    },
    {
      "cell_type": "code",
      "execution_count": null,
      "metadata": {
        "colab": {
          "base_uri": "https://localhost:8080/",
          "height": 510
        },
        "id": "XeZY-U3utEyH",
        "outputId": "4bac2f9e-4d36-4c56-b53b-0c84c2e37f93"
      },
      "outputs": [
        {
          "name": "stderr",
          "output_type": "stream",
          "text": [
            "/usr/local/lib/python3.7/dist-packages/pandas/core/generic.py:6619: SettingWithCopyWarning: \n",
            "A value is trying to be set on a copy of a slice from a DataFrame\n",
            "\n",
            "See the caveats in the documentation: https://pandas.pydata.org/pandas-docs/stable/user_guide/indexing.html#returning-a-view-versus-a-copy\n",
            "  return self._update_inplace(result)\n"
          ]
        },
        {
          "data": {
            "text/html": [
              "\n",
              "  <div id=\"df-938c2f47-cf78-4c33-a27d-7ae906a78f7a\">\n",
              "    <div class=\"colab-df-container\">\n",
              "      <div>\n",
              "<style scoped>\n",
              "    .dataframe tbody tr th:only-of-type {\n",
              "        vertical-align: middle;\n",
              "    }\n",
              "\n",
              "    .dataframe tbody tr th {\n",
              "        vertical-align: top;\n",
              "    }\n",
              "\n",
              "    .dataframe thead th {\n",
              "        text-align: right;\n",
              "    }\n",
              "</style>\n",
              "<table border=\"1\" class=\"dataframe\">\n",
              "  <thead>\n",
              "    <tr style=\"text-align: right;\">\n",
              "      <th></th>\n",
              "      <th>id</th>\n",
              "      <th>label</th>\n",
              "    </tr>\n",
              "  </thead>\n",
              "  <tbody>\n",
              "    <tr>\n",
              "      <th>0</th>\n",
              "      <td>0</td>\n",
              "      <td>NOT</td>\n",
              "    </tr>\n",
              "    <tr>\n",
              "      <th>1</th>\n",
              "      <td>1</td>\n",
              "      <td>OFF</td>\n",
              "    </tr>\n",
              "    <tr>\n",
              "      <th>2</th>\n",
              "      <td>2</td>\n",
              "      <td>OFF</td>\n",
              "    </tr>\n",
              "    <tr>\n",
              "      <th>3</th>\n",
              "      <td>3</td>\n",
              "      <td>OFF</td>\n",
              "    </tr>\n",
              "    <tr>\n",
              "      <th>4</th>\n",
              "      <td>4</td>\n",
              "      <td>NOT</td>\n",
              "    </tr>\n",
              "    <tr>\n",
              "      <th>...</th>\n",
              "      <td>...</td>\n",
              "      <td>...</td>\n",
              "    </tr>\n",
              "    <tr>\n",
              "      <th>1271</th>\n",
              "      <td>1271</td>\n",
              "      <td>NOT</td>\n",
              "    </tr>\n",
              "    <tr>\n",
              "      <th>1272</th>\n",
              "      <td>1272</td>\n",
              "      <td>NOT</td>\n",
              "    </tr>\n",
              "    <tr>\n",
              "      <th>1273</th>\n",
              "      <td>1273</td>\n",
              "      <td>NOT</td>\n",
              "    </tr>\n",
              "    <tr>\n",
              "      <th>1274</th>\n",
              "      <td>1274</td>\n",
              "      <td>NOT</td>\n",
              "    </tr>\n",
              "    <tr>\n",
              "      <th>1275</th>\n",
              "      <td>1275</td>\n",
              "      <td>NOT</td>\n",
              "    </tr>\n",
              "  </tbody>\n",
              "</table>\n",
              "<p>1276 rows × 2 columns</p>\n",
              "</div>\n",
              "      <button class=\"colab-df-convert\" onclick=\"convertToInteractive('df-938c2f47-cf78-4c33-a27d-7ae906a78f7a')\"\n",
              "              title=\"Convert this dataframe to an interactive table.\"\n",
              "              style=\"display:none;\">\n",
              "        \n",
              "  <svg xmlns=\"http://www.w3.org/2000/svg\" height=\"24px\"viewBox=\"0 0 24 24\"\n",
              "       width=\"24px\">\n",
              "    <path d=\"M0 0h24v24H0V0z\" fill=\"none\"/>\n",
              "    <path d=\"M18.56 5.44l.94 2.06.94-2.06 2.06-.94-2.06-.94-.94-2.06-.94 2.06-2.06.94zm-11 1L8.5 8.5l.94-2.06 2.06-.94-2.06-.94L8.5 2.5l-.94 2.06-2.06.94zm10 10l.94 2.06.94-2.06 2.06-.94-2.06-.94-.94-2.06-.94 2.06-2.06.94z\"/><path d=\"M17.41 7.96l-1.37-1.37c-.4-.4-.92-.59-1.43-.59-.52 0-1.04.2-1.43.59L10.3 9.45l-7.72 7.72c-.78.78-.78 2.05 0 2.83L4 21.41c.39.39.9.59 1.41.59.51 0 1.02-.2 1.41-.59l7.78-7.78 2.81-2.81c.8-.78.8-2.07 0-2.86zM5.41 20L4 18.59l7.72-7.72 1.47 1.35L5.41 20z\"/>\n",
              "  </svg>\n",
              "      </button>\n",
              "      \n",
              "  <style>\n",
              "    .colab-df-container {\n",
              "      display:flex;\n",
              "      flex-wrap:wrap;\n",
              "      gap: 12px;\n",
              "    }\n",
              "\n",
              "    .colab-df-convert {\n",
              "      background-color: #E8F0FE;\n",
              "      border: none;\n",
              "      border-radius: 50%;\n",
              "      cursor: pointer;\n",
              "      display: none;\n",
              "      fill: #1967D2;\n",
              "      height: 32px;\n",
              "      padding: 0 0 0 0;\n",
              "      width: 32px;\n",
              "    }\n",
              "\n",
              "    .colab-df-convert:hover {\n",
              "      background-color: #E2EBFA;\n",
              "      box-shadow: 0px 1px 2px rgba(60, 64, 67, 0.3), 0px 1px 3px 1px rgba(60, 64, 67, 0.15);\n",
              "      fill: #174EA6;\n",
              "    }\n",
              "\n",
              "    [theme=dark] .colab-df-convert {\n",
              "      background-color: #3B4455;\n",
              "      fill: #D2E3FC;\n",
              "    }\n",
              "\n",
              "    [theme=dark] .colab-df-convert:hover {\n",
              "      background-color: #434B5C;\n",
              "      box-shadow: 0px 1px 3px 1px rgba(0, 0, 0, 0.15);\n",
              "      filter: drop-shadow(0px 1px 2px rgba(0, 0, 0, 0.3));\n",
              "      fill: #FFFFFF;\n",
              "    }\n",
              "  </style>\n",
              "\n",
              "      <script>\n",
              "        const buttonEl =\n",
              "          document.querySelector('#df-938c2f47-cf78-4c33-a27d-7ae906a78f7a button.colab-df-convert');\n",
              "        buttonEl.style.display =\n",
              "          google.colab.kernel.accessAllowed ? 'block' : 'none';\n",
              "\n",
              "        async function convertToInteractive(key) {\n",
              "          const element = document.querySelector('#df-938c2f47-cf78-4c33-a27d-7ae906a78f7a');\n",
              "          const dataTable =\n",
              "            await google.colab.kernel.invokeFunction('convertToInteractive',\n",
              "                                                     [key], {});\n",
              "          if (!dataTable) return;\n",
              "\n",
              "          const docLinkHtml = 'Like what you see? Visit the ' +\n",
              "            '<a target=\"_blank\" href=https://colab.research.google.com/notebooks/data_table.ipynb>data table notebook</a>'\n",
              "            + ' to learn more about interactive tables.';\n",
              "          element.innerHTML = '';\n",
              "          dataTable['output_type'] = 'display_data';\n",
              "          await google.colab.output.renderOutput(dataTable, element);\n",
              "          const docLink = document.createElement('div');\n",
              "          docLink.innerHTML = docLinkHtml;\n",
              "          element.appendChild(docLink);\n",
              "        }\n",
              "      </script>\n",
              "    </div>\n",
              "  </div>\n",
              "  "
            ],
            "text/plain": [
              "        id label\n",
              "0        0   NOT\n",
              "1        1   OFF\n",
              "2        2   OFF\n",
              "3        3   OFF\n",
              "4        4   NOT\n",
              "...    ...   ...\n",
              "1271  1271   NOT\n",
              "1272  1272   NOT\n",
              "1273  1273   NOT\n",
              "1274  1274   NOT\n",
              "1275  1275   NOT\n",
              "\n",
              "[1276 rows x 2 columns]"
            ]
          },
          "execution_count": 156,
          "metadata": {},
          "output_type": "execute_result"
        }
      ],
      "source": [
        "mv_df.mv.replace({0 :'NOT', 1 : 'OFF'}, inplace=True)\n",
        "id = pd.DataFrame(data=df4['id'])\n",
        "test_output1 = pd.concat([id, mv_df['mv']], axis=1)\n",
        "test_output1.rename(columns={\"id\" : \"id\", \"mv\" : \"label\"}, inplace=True)\n",
        "test_output1"
      ],
      "id": "XeZY-U3utEyH"
    },
    {
      "cell_type": "code",
      "execution_count": null,
      "metadata": {
        "id": "bxry61xkegNk"
      },
      "outputs": [],
      "source": [
        "test_output1.to_csv(r'drive/MyDrive/NLP2022/NLP_Project/test_TEXTGAIN_neural.csv', index = False)"
      ],
      "id": "bxry61xkegNk"
    }
  ],
  "metadata": {
    "colab": {
      "collapsed_sections": [
        "RFquY7CqYotC",
        "vQdkWcbgYyi5",
        "0kSQbGLDYywJ",
        "Lxbvzl6gYy35",
        "8tnyTaAWYzba",
        "qPe03j80YuHh",
        "zUUT-OaYOK7C",
        "dJfdKTF7ZOnx",
        "zACf-hcilzs0",
        "h7hteqoGpvNh",
        "IsXYf_5dqIGY",
        "wBhmPftEVSQi",
        "zYcKVVpoIy7x",
        "TFBRvsWmVeHg",
        "gxH5dzKQVeAa",
        "vk8thZlZaPt5",
        "riZQVa1fCQ0d",
        "c7TYYz68SFxf",
        "TRKuoSomSFxf",
        "RVtc0ARoSFxg",
        "JyiBfgjjSFxg",
        "d7-CoY2_SFxh",
        "ae4xlVRhSFxh",
        "3Vzd58GvSFxh",
        "d1VD84yjSFxi",
        "MSubFjN_SFxi",
        "60Qmqd0oSFxi",
        "KcPWlnilSFxj",
        "gnyGEhACRD8m",
        "3Lil4xLkRD8n",
        "zjcsLQ0FRD8n",
        "_XpA6X4vRD8n",
        "i_dw4LL8RD8o",
        "I_sMgHaiRD8o",
        "eTGDLcMqRD8o",
        "5VQl3ts3RD8p",
        "Jxuy6WowRD8p",
        "65fdHDxURD8q",
        "gAVo9pfPRD8q",
        "PXfUYNDlP5bN",
        "_pr4D16KP5bO",
        "fYeIxkmkP5bP",
        "p2yQfSZ9P5bP",
        "nNVzacRcP5bP",
        "GyVzyNimP5bQ",
        "jYcXKnqgP5bQ",
        "os6nvq_aP5bR",
        "P-RuWn5BP5bR",
        "iM9GVGcnP5bR",
        "EiebFUXdP5bS",
        "jQm1ypjXHocJ",
        "tvJZkAu3HocK",
        "TpRkt0lTHocK",
        "LR0OeJjaHocL",
        "ZbBNu1NTHocL",
        "wHcb1PIPHocM",
        "WrSWm_93HocM",
        "0VRL_u0AHocN",
        "wuQIiCU3HocN",
        "je4ybsKmHocN",
        "5pl6qZ8qHocO",
        "DO3CdXEiFWNf",
        "in8_F6r15Kjc",
        "N3sirE9d7wkN",
        "h17yM9Wu5qX6",
        "kqbp1-SA5uWy",
        "lZ-9LvdkwrO6",
        "IwmBxNMGw_ZK",
        "sJzquSBqxQ6y",
        "RTxDw060xayi",
        "8YV3CqtzxRTp",
        "cl6lSkebRMlc",
        "lJfWY4qjPL8G",
        "Tf2MEp8wPiJF",
        "hxNrCm790VBY",
        "8BQUllSdQGPJ",
        "9RGQKCzRQd2r",
        "08A2JPMcT6zG",
        "JIlki0xEe1zx",
        "M5lh0KWVe4F4",
        "9H4e1LwUe4vP",
        "-jTQltkeUaQL"
      ],
      "name": "__NLP_Project.ipynb",
      "provenance": []
    },
    "kernelspec": {
      "display_name": "Python 3 (ipykernel)",
      "language": "python",
      "name": "python3"
    },
    "language_info": {
      "codemirror_mode": {
        "name": "ipython",
        "version": 3
      },
      "file_extension": ".py",
      "mimetype": "text/x-python",
      "name": "python",
      "nbconvert_exporter": "python",
      "pygments_lexer": "ipython3",
      "version": "3.8.8"
    }
  },
  "nbformat": 4,
  "nbformat_minor": 5
}